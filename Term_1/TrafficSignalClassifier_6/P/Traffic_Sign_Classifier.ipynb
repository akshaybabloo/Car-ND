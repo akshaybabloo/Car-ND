{
 "cells": [
  {
   "cell_type": "markdown",
   "metadata": {},
   "source": [
    "# Self-Driving Car Engineer Nanodegree\n",
    "\n",
    "## Deep Learning\n",
    "\n"
   ]
  },
  {
   "cell_type": "markdown",
   "metadata": {},
   "source": [
    "---\n",
    "## Step 1: Import all the dependencies"
   ]
  },
  {
   "cell_type": "code",
   "execution_count": 1,
   "metadata": {
    "collapsed": true
   },
   "outputs": [],
   "source": [
    "import pickle\n",
    "import random\n",
    "\n",
    "import matplotlib.pyplot as plt\n",
    "import numpy as np\n",
    "import tensorflow as tf\n",
    "from sklearn.utils import shuffle\n",
    "from tensorflow.contrib.layers import flatten"
   ]
  },
  {
   "cell_type": "markdown",
   "metadata": {},
   "source": [
    "## Step 2: Load The Data"
   ]
  },
  {
   "cell_type": "code",
   "execution_count": 2,
   "metadata": {
    "collapsed": false
   },
   "outputs": [],
   "source": [
    "TRAINING_FILE = 'train.p'\n",
    "VALIDATION_FILE = 'valid.p'\n",
    "TESTING_FILE = 'test.p'\n",
    "\n",
    "with open(TRAINING_FILE, mode='rb') as f:\n",
    "    train = pickle.load(f)\n",
    "with open(VALIDATION_FILE, mode='rb') as f:\n",
    "    valid = pickle.load(f)\n",
    "with open(TESTING_FILE, mode='rb') as f:\n",
    "    test = pickle.load(f)\n",
    "\n",
    "X_train, y_train = train['features'], train['labels']\n",
    "X_validation, y_validation = valid['features'], valid['labels']\n",
    "X_test, y_test = test['features'], test['labels']"
   ]
  },
  {
   "cell_type": "markdown",
   "metadata": {},
   "source": [
    "---\n",
    "\n",
    "## Step 3: Dataset Summary & Exploration\n",
    "\n",
    "The pickled data is a dictionary with 4 key/value pairs:\n",
    "\n",
    "- `'features'` is a 4D array containing raw pixel data of the traffic sign images, (num examples, width, height, channels).\n",
    "- `'labels'` is a 1D array containing the label/class id of the traffic sign. The file `signnames.csv` contains id -> name mappings for each id.\n",
    "- `'sizes'` is a list containing tuples, (width, height) representing the original width and height the image.\n",
    "- `'coords'` is a list containing tuples, (x1, y1, x2, y2) representing coordinates of a bounding box around the sign in the image. **THESE COORDINATES ASSUME THE ORIGINAL IMAGE. THE PICKLED DATA CONTAINS RESIZED VERSIONS (32 by 32) OF THESE IMAGES**"
   ]
  },
  {
   "cell_type": "code",
   "execution_count": 5,
   "metadata": {
    "collapsed": true
   },
   "outputs": [],
   "source": [
    "def get_description():\n",
    "    \"\"\"\n",
    "    Prints the description of the dataset.\n",
    "    \"\"\"\n",
    "    n_train = len(X_train)\n",
    "    n_test = len(X_test)\n",
    "\n",
    "    index = random.randint(0, len(X_train))\n",
    "    image = X_train[index].squeeze()\n",
    "    image_shape = np.shape(image)\n",
    "\n",
    "    n_classes = len(y_train) + len(y_test)\n",
    "\n",
    "    print(\"Number of training examples =\", n_train)\n",
    "    print(\"Number of testing examples =\", n_test)\n",
    "    print(\"Image data shape =\", image_shape)\n",
    "    print(\"Number of classes =\", n_classes)"
   ]
  },
  {
   "cell_type": "code",
   "execution_count": 6,
   "metadata": {
    "collapsed": false
   },
   "outputs": [
    {
     "name": "stdout",
     "output_type": "stream",
     "text": [
      "Number of training examples = 34799\n",
      "Number of testing examples = 12630\n",
      "Image data shape = (32, 32, 3)\n",
      "Number of classes = 47429\n"
     ]
    }
   ],
   "source": [
    "get_description()"
   ]
  },
  {
   "cell_type": "markdown",
   "metadata": {},
   "source": [
    "### Step 3.1: Visualization of the dataset"
   ]
  },
  {
   "cell_type": "code",
   "execution_count": 28,
   "metadata": {
    "collapsed": true
   },
   "outputs": [],
   "source": [
    "def show_image(data):\n",
    "    \"\"\"\n",
    "    Displays a random images from the dataset with the class label.\n",
    "    \"\"\"\n",
    "    num = 1\n",
    "    index = random.sample(range(len(data)), 4)\n",
    "\n",
    "    fig = plt.figure()\n",
    "\n",
    "    for n in index:\n",
    "        fig.add_subplot(2, 2, num)\n",
    "        image = data[n].squeeze()\n",
    "        plt.imshow(image)\n",
    "        plt.title(\"Class Label {}\".format(n))\n",
    "        num += 1\n",
    "        \n",
    "    fig.tight_layout()\n",
    "    plt.show()\n",
    "    %matplotlib inline"
   ]
  },
  {
   "cell_type": "markdown",
   "metadata": {},
   "source": [
    "#### Step 3.1.1 Training dataset"
   ]
  },
  {
   "cell_type": "code",
   "execution_count": 29,
   "metadata": {
    "collapsed": false
   },
   "outputs": [
    {
     "data": {
      "image/png": "[encoded data removed]",
      "text/plain": [
       "<matplotlib.figure.Figure at 0x1b6bbfe4a90>"
      ]
     },
     "metadata": {},
     "output_type": "display_data"
    }
   ],
   "source": [
    "show_image(X_train)"
   ]
  },
  {
   "cell_type": "markdown",
   "metadata": {},
   "source": [
    "#### Step 3.1.2 Validation dataset"
   ]
  },
  {
   "cell_type": "code",
   "execution_count": 30,
   "metadata": {
    "collapsed": false
   },
   "outputs": [
    {
     "data": {
      "image/png": "[encoded data removed]",
      "text/plain": [
       "<matplotlib.figure.Figure at 0x1b6bc027e48>"
      ]
     },
     "metadata": {},
     "output_type": "display_data"
    }
   ],
   "source": [
    "show_image(X_validation)"
   ]
  },
  {
   "cell_type": "code",
   "execution_count": 31,
   "metadata": {
    "collapsed": false
   },
   "outputs": [
    {
     "data": {
      "image/png": "[encoded data removed]",
      "text/plain": [
       "<matplotlib.figure.Figure at 0x1b6bc06e240>"
      ]
     },
     "metadata": {},
     "output_type": "display_data"
    }
   ],
   "source": [
    "show_image(X_test)"
   ]
  },
  {
   "cell_type": "markdown",
   "metadata": {},
   "source": [
    "----\n",
    "\n",
    "## Step 4: Architecture\n",
    "\n",
    "Design and implement a deep learning model that learns to recognize traffic signs. Train and test your model on the [German Traffic Sign Dataset](http://benchmark.ini.rub.de/?section=gtsrb&subsection=dataset).\n",
    "\n",
    "The LeNet-5 implementation shown in the [classroom](https://classroom.udacity.com/nanodegrees/nd013/parts/fbf77062-5703-404e-b60c-95b78b2f3f9e/modules/6df7ae49-c61c-4bb2-a23e-6527e69209ec/lessons/601ae704-1035-4287-8b11-e2c2716217ad/concepts/d4aca031-508f-4e0b-b493-e7b706120f81) at the end of the CNN lesson is a solid starting point. You'll have to change the number of classes and possibly the preprocessing, but aside from that it's plug and play! \n",
    "\n",
    "With the LeNet-5 solution from the lecture, you should expect a validation set accuracy of about 0.89. To meet specifications, the validation set accuracy will need to be at least 0.93. It is possible to get an even higher accuracy, but 0.93 is the minimum for a successful project submission. \n",
    "\n",
    "There are various aspects to consider when thinking about this problem:\n",
    "\n",
    "- Neural network architecture (is the network over or underfitting?)\n",
    "- Play around preprocessing techniques (normalization, rgb to grayscale, etc)\n",
    "- Number of examples per label (some have more than others).\n",
    "- Generate fake data.\n",
    "\n",
    "Here is an example of a [published baseline model on this problem](http://yann.lecun.com/exdb/publis/pdf/sermanet-ijcnn-11.pdf). It's not required to be familiar with the approach used in the paper but, it's good practice to try to read papers like these."
   ]
  },
  {
   "cell_type": "markdown",
   "metadata": {},
   "source": [
    "### 4.1 Data preprocessor"
   ]
  },
  {
   "cell_type": "markdown",
   "metadata": {
    "collapsed": true
   },
   "source": [
    "#### 4.1.2 Normalise data\n",
    "\n",
    "Using the formula:\n",
    "\n",
    "\\begin{equation*}\n",
    "y_i=\\frac{x_i-\\mu(x)}{\\max(x)-\\min(x)}\n",
    "\\end{equation*}"
   ]
  },
  {
   "cell_type": "code",
   "execution_count": 35,
   "metadata": {
    "collapsed": true
   },
   "outputs": [],
   "source": [
    "X_train = (X_train - X_train.mean()) / (np.max(X_train) - np.min(X_train))\n",
    "X_validation = (X_validation - X_validation.mean()) / (np.max(X_validation) - np.min(X_validation))\n",
    "X_test = (X_test - X_test.mean()) / (np.max(X_test) - np.min(X_test))"
   ]
  },
  {
   "cell_type": "code",
   "execution_count": 39,
   "metadata": {
    "collapsed": false
   },
   "outputs": [
    {
     "data": {
      "image/png": "[encoded data removed]",
      "text/plain": [
       "<matplotlib.figure.Figure at 0x1b6bbf94080>"
      ]
     },
     "metadata": {},
     "output_type": "display_data"
    }
   ],
   "source": [
    "show_image(X_train)"
   ]
  },
  {
   "cell_type": "markdown",
   "metadata": {},
   "source": [
    "### 5 Model Architecture"
   ]
  },
  {
   "cell_type": "markdown",
   "metadata": {},
   "source": [
    "#### 5.1 Model"
   ]
  },
  {
   "cell_type": "code",
   "execution_count": 54,
   "metadata": {
    "collapsed": true
   },
   "outputs": [],
   "source": [
    "EPOCHS = 100\n",
    "BATCH_SIZE = 150\n",
    "RATE = 0.001\n",
    "MU = 0\n",
    "SIGMA = 0.1\n",
    "PADDING = 'VALID'"
   ]
  },
  {
   "cell_type": "code",
   "execution_count": 45,
   "metadata": {
    "collapsed": true
   },
   "outputs": [],
   "source": [
    "# Shuffle the data\n",
    "X_train, y_train = shuffle(X_train, y_train)"
   ]
  },
  {
   "cell_type": "code",
   "execution_count": 46,
   "metadata": {
    "collapsed": true
   },
   "outputs": [],
   "source": [
    "def LeNet(x_input):\n",
    "    \"\"\"\n",
    "    CNN for the dataset.\n",
    "    Parameters\n",
    "    ----------\n",
    "    x_input\n",
    "\n",
    "    Returns\n",
    "    -------\n",
    "    tensor\n",
    "    \"\"\"\n",
    "    # Arguments used for tf.truncated_normal, randomly defines variables for the weights and biases for each layer\n",
    "    MU = 0\n",
    "    SIGMA = 0.1\n",
    "    PADDING = 'VALID'\n",
    "\n",
    "    # Layer 1: Convolutional. Input = 32x32x1. Output = 28x28x6.\n",
    "    conv1_w = tf.Variable(tf.truncated_normal(shape=(5, 5, 3, 6), mean=MU, stddev=SIGMA))\n",
    "    conv1_b = tf.Variable(tf.zeros(6))\n",
    "    conv1 = tf.nn.conv2d(x_input, conv1_w, strides=[1, 1, 1, 1], padding=PADDING) + conv1_b\n",
    "\n",
    "    # Activation.\n",
    "    conv1 = tf.nn.relu(conv1)\n",
    "\n",
    "    # Pooling. Input = 28x28x6. Output = 14x14x6.\n",
    "    conv1 = tf.nn.max_pool(conv1, ksize=[1, 2, 2, 1], strides=[1, 2, 2, 1], padding=PADDING)\n",
    "\n",
    "    # Layer 2: Convolutional. Output = 10x10x16.\n",
    "    conv2_w = tf.Variable(tf.truncated_normal(shape=(5, 5, 6, 16), mean=MU, stddev=SIGMA))\n",
    "    conv2_b = tf.Variable(tf.zeros(16))\n",
    "    conv2 = tf.nn.conv2d(conv1, conv2_w, strides=[1, 1, 1, 1], padding=PADDING) + conv2_b\n",
    "\n",
    "    # Activation.\n",
    "    conv2 = tf.nn.relu(conv2)\n",
    "\n",
    "    # Pooling. Input = 10x10x16. Output = 5x5x16.\n",
    "    conv2 = tf.nn.max_pool(conv2, ksize=[1, 2, 2, 1], strides=[1, 2, 2, 1], padding='VALID')\n",
    "\n",
    "    # Flatten. Input = 5x5x16. Output = 400.\n",
    "    fc0 = flatten(conv2)\n",
    "\n",
    "    # Layer 3: Fully Connected. Input = 400. Output = 120.\n",
    "    fc1_w = tf.Variable(tf.truncated_normal(shape=(400, 120), mean=MU, stddev=SIGMA))\n",
    "    fc1_b = tf.Variable(tf.zeros(120))\n",
    "    fc1 = tf.matmul(fc0, fc1_w) + fc1_b\n",
    "\n",
    "    # Activation.\n",
    "    fc1 = tf.nn.relu(fc1)\n",
    "\n",
    "    # Layer 4: Fully Connected. Input = 120. Output = 84.\n",
    "    fc2_w = tf.Variable(tf.truncated_normal(shape=(120, 84), mean=MU, stddev=SIGMA))\n",
    "    fc2_b = tf.Variable(tf.zeros(84))\n",
    "    fc2 = tf.matmul(fc1, fc2_w) + fc2_b\n",
    "\n",
    "    # Activation.\n",
    "    fc2 = tf.nn.relu(fc2)\n",
    "\n",
    "    # Layer 5: Fully Connected. Input = 84. Output = 43.\n",
    "    fc3_w = tf.Variable(tf.truncated_normal(shape=(84, 43), mean=MU, stddev=SIGMA))\n",
    "    fc3_b = tf.Variable(tf.zeros(43))\n",
    "    _logits = tf.matmul(fc2, fc3_w) + fc3_b\n",
    "\n",
    "    return _logits"
   ]
  },
  {
   "cell_type": "code",
   "execution_count": 47,
   "metadata": {
    "collapsed": true
   },
   "outputs": [],
   "source": [
    "x = tf.placeholder(tf.float32, (None, 32, 32, 3))\n",
    "y = tf.placeholder(tf.int32, (None))\n",
    "one_hot_y = tf.one_hot(y, 43)"
   ]
  },
  {
   "cell_type": "code",
   "execution_count": 48,
   "metadata": {
    "collapsed": true
   },
   "outputs": [],
   "source": [
    "# Get the model\n",
    "logits = LeNet(x)\n",
    "\n",
    "# loss and optimizer\n",
    "cross_entropy = tf.nn.softmax_cross_entropy_with_logits(logits=logits, labels=one_hot_y)\n",
    "loss_operation = tf.reduce_mean(cross_entropy)\n",
    "optimizer = tf.train.AdamOptimizer(learning_rate=RATE)\n",
    "training_operation = optimizer.minimize(loss_operation)\n",
    "\n",
    "# Check if correctly predicted.\n",
    "correct_prediction = tf.equal(tf.argmax(logits, 1), tf.argmax(one_hot_y, 1))\n",
    "accuracy_operation = tf.reduce_mean(tf.cast(correct_prediction, tf.float32))\n",
    "saver = tf.train.Saver()"
   ]
  },
  {
   "cell_type": "code",
   "execution_count": 49,
   "metadata": {
    "collapsed": true
   },
   "outputs": [],
   "source": [
    "def evaluate(X_data, y_data):\n",
    "    \"\"\"\n",
    "    Evaluates the total accuracy for the given inputs.\n",
    "    Parameters\n",
    "    ----------\n",
    "    X_data\n",
    "    y_data\n",
    "\n",
    "    Returns\n",
    "    -------\n",
    "    numpy.float64\n",
    "\n",
    "    \"\"\"\n",
    "    num_examples = len(X_data)\n",
    "    total_accuracy = 0\n",
    "    sess = tf.get_default_session()\n",
    "    for offset in range(0, num_examples, BATCH_SIZE):\n",
    "        batch_x, batch_y = X_data[offset:offset + BATCH_SIZE], y_data[offset:offset + BATCH_SIZE]\n",
    "        accuracy = sess.run(accuracy_operation, feed_dict={x: batch_x, y: batch_y})\n",
    "        total_accuracy += (accuracy * len(batch_x))\n",
    "    return total_accuracy / num_examples"
   ]
  },
  {
   "cell_type": "code",
   "execution_count": 55,
   "metadata": {
    "collapsed": true
   },
   "outputs": [],
   "source": [
    "# Running the training\n",
    "def run_training():\n",
    "    \"\"\"\n",
    "    Run the training and print the accuracy.\n",
    "    \"\"\"\n",
    "    with tf.Session() as sess:\n",
    "        sess.run(tf.global_variables_initializer())\n",
    "        num_examples = len(X_train)\n",
    "        validation_accuracy = 0\n",
    "\n",
    "        print(\"Training...\")\n",
    "        print()\n",
    "        for i in range(EPOCHS):\n",
    "            if validation_accuracy >= 0.95:\n",
    "                break\n",
    "            _X_train, _y_train = shuffle(X_train, y_train)\n",
    "            for offset in range(0, num_examples, BATCH_SIZE):\n",
    "                end = offset + BATCH_SIZE\n",
    "                batch_x, batch_y = _X_train[offset:end], _y_train[offset:end]\n",
    "                sess.run(training_operation, feed_dict={x: batch_x, y: batch_y})\n",
    "\n",
    "            validation_accuracy = evaluate(X_validation, y_validation)\n",
    "            print(\"EPOCH {} ...\".format(i + 1))\n",
    "            print(\"Validation Accuracy = {:.3f}\".format(validation_accuracy))\n",
    "            #print()\n",
    "        saver.save(sess, './lenet')\n",
    "        print(\"Model saved\")\n",
    "        \n",
    "        print()\n",
    "        print()\n",
    "\n",
    "        print(\"Batch size: \", BATCH_SIZE)\n",
    "        print(\"Number of epochs: \", EPOCHS)\n",
    "        print(\"Learning rate: \", RATE)\n",
    "        print(\"Mean for Truncated Normal: \", MU)\n",
    "        print(\"Standard devation for Truncated Normal: \", SIGMA)\n",
    "        print(\"Convolution type: \", PADDING)"
   ]
  },
  {
   "cell_type": "code",
   "execution_count": 56,
   "metadata": {
    "collapsed": false
   },
   "outputs": [
    {
     "name": "stdout",
     "output_type": "stream",
     "text": [
      "Training...\n",
      "\n",
      "EPOCH 1 ...\n",
      "Validation Accuracy = 0.769\n",
      "EPOCH 2 ...\n",
      "Validation Accuracy = 0.842\n",
      "EPOCH 3 ...\n",
      "Validation Accuracy = 0.880\n",
      "EPOCH 4 ...\n",
      "Validation Accuracy = 0.884\n",
      "EPOCH 5 ...\n",
      "Validation Accuracy = 0.890\n",
      "EPOCH 6 ...\n",
      "Validation Accuracy = 0.903\n",
      "EPOCH 7 ...\n",
      "Validation Accuracy = 0.902\n",
      "EPOCH 8 ...\n",
      "Validation Accuracy = 0.914\n",
      "EPOCH 9 ...\n",
      "Validation Accuracy = 0.893\n",
      "EPOCH 10 ...\n",
      "Validation Accuracy = 0.909\n",
      "EPOCH 11 ...\n",
      "Validation Accuracy = 0.906\n",
      "EPOCH 12 ...\n",
      "Validation Accuracy = 0.908\n",
      "EPOCH 13 ...\n",
      "Validation Accuracy = 0.911\n",
      "EPOCH 14 ...\n",
      "Validation Accuracy = 0.921\n",
      "EPOCH 15 ...\n",
      "Validation Accuracy = 0.905\n",
      "EPOCH 16 ...\n",
      "Validation Accuracy = 0.932\n",
      "EPOCH 17 ...\n",
      "Validation Accuracy = 0.913\n",
      "EPOCH 18 ...\n",
      "Validation Accuracy = 0.920\n",
      "EPOCH 19 ...\n",
      "Validation Accuracy = 0.916\n",
      "EPOCH 20 ...\n",
      "Validation Accuracy = 0.910\n",
      "EPOCH 21 ...\n",
      "Validation Accuracy = 0.912\n",
      "EPOCH 22 ...\n",
      "Validation Accuracy = 0.924\n",
      "EPOCH 23 ...\n",
      "Validation Accuracy = 0.913\n",
      "EPOCH 24 ...\n",
      "Validation Accuracy = 0.910\n",
      "EPOCH 25 ...\n",
      "Validation Accuracy = 0.926\n",
      "EPOCH 26 ...\n",
      "Validation Accuracy = 0.929\n",
      "EPOCH 27 ...\n",
      "Validation Accuracy = 0.931\n",
      "EPOCH 28 ...\n",
      "Validation Accuracy = 0.932\n",
      "EPOCH 29 ...\n",
      "Validation Accuracy = 0.930\n",
      "EPOCH 30 ...\n",
      "Validation Accuracy = 0.930\n",
      "EPOCH 31 ...\n",
      "Validation Accuracy = 0.929\n",
      "EPOCH 32 ...\n",
      "Validation Accuracy = 0.924\n",
      "EPOCH 33 ...\n",
      "Validation Accuracy = 0.929\n",
      "EPOCH 34 ...\n",
      "Validation Accuracy = 0.931\n",
      "EPOCH 35 ...\n",
      "Validation Accuracy = 0.938\n",
      "EPOCH 36 ...\n",
      "Validation Accuracy = 0.922\n",
      "EPOCH 37 ...\n",
      "Validation Accuracy = 0.922\n",
      "EPOCH 38 ...\n",
      "Validation Accuracy = 0.932\n",
      "EPOCH 39 ...\n",
      "Validation Accuracy = 0.939\n",
      "EPOCH 40 ...\n",
      "Validation Accuracy = 0.935\n",
      "EPOCH 41 ...\n",
      "Validation Accuracy = 0.935\n",
      "EPOCH 42 ...\n",
      "Validation Accuracy = 0.934\n",
      "EPOCH 43 ...\n",
      "Validation Accuracy = 0.934\n",
      "EPOCH 44 ...\n",
      "Validation Accuracy = 0.934\n",
      "EPOCH 45 ...\n",
      "Validation Accuracy = 0.933\n",
      "EPOCH 46 ...\n",
      "Validation Accuracy = 0.916\n",
      "EPOCH 47 ...\n",
      "Validation Accuracy = 0.931\n",
      "EPOCH 48 ...\n",
      "Validation Accuracy = 0.931\n",
      "EPOCH 49 ...\n",
      "Validation Accuracy = 0.936\n",
      "EPOCH 50 ...\n",
      "Validation Accuracy = 0.929\n",
      "EPOCH 51 ...\n",
      "Validation Accuracy = 0.936\n",
      "EPOCH 52 ...\n",
      "Validation Accuracy = 0.935\n",
      "EPOCH 53 ...\n",
      "Validation Accuracy = 0.935\n",
      "EPOCH 54 ...\n",
      "Validation Accuracy = 0.937\n",
      "EPOCH 55 ...\n",
      "Validation Accuracy = 0.931\n",
      "EPOCH 56 ...\n",
      "Validation Accuracy = 0.937\n",
      "EPOCH 57 ...\n",
      "Validation Accuracy = 0.933\n",
      "EPOCH 58 ...\n",
      "Validation Accuracy = 0.939\n",
      "EPOCH 59 ...\n",
      "Validation Accuracy = 0.937\n",
      "EPOCH 60 ...\n",
      "Validation Accuracy = 0.937\n",
      "EPOCH 61 ...\n",
      "Validation Accuracy = 0.938\n",
      "EPOCH 62 ...\n",
      "Validation Accuracy = 0.938\n",
      "EPOCH 63 ...\n",
      "Validation Accuracy = 0.939\n",
      "EPOCH 64 ...\n",
      "Validation Accuracy = 0.939\n",
      "EPOCH 65 ...\n",
      "Validation Accuracy = 0.938\n",
      "EPOCH 66 ...\n",
      "Validation Accuracy = 0.938\n",
      "EPOCH 67 ...\n",
      "Validation Accuracy = 0.938\n",
      "EPOCH 68 ...\n",
      "Validation Accuracy = 0.939\n",
      "EPOCH 69 ...\n",
      "Validation Accuracy = 0.939\n",
      "EPOCH 70 ...\n",
      "Validation Accuracy = 0.939\n",
      "EPOCH 71 ...\n",
      "Validation Accuracy = 0.939\n",
      "EPOCH 72 ...\n",
      "Validation Accuracy = 0.938\n",
      "EPOCH 73 ...\n",
      "Validation Accuracy = 0.939\n",
      "EPOCH 74 ...\n",
      "Validation Accuracy = 0.938\n",
      "EPOCH 75 ...\n",
      "Validation Accuracy = 0.938\n",
      "EPOCH 76 ...\n",
      "Validation Accuracy = 0.939\n",
      "EPOCH 77 ...\n",
      "Validation Accuracy = 0.939\n",
      "EPOCH 78 ...\n",
      "Validation Accuracy = 0.937\n",
      "EPOCH 79 ...\n",
      "Validation Accuracy = 0.938\n",
      "EPOCH 80 ...\n",
      "Validation Accuracy = 0.939\n",
      "EPOCH 81 ...\n",
      "Validation Accuracy = 0.937\n",
      "EPOCH 82 ...\n",
      "Validation Accuracy = 0.938\n",
      "EPOCH 83 ...\n",
      "Validation Accuracy = 0.939\n",
      "EPOCH 84 ...\n",
      "Validation Accuracy = 0.938\n",
      "EPOCH 85 ...\n",
      "Validation Accuracy = 0.938\n",
      "EPOCH 86 ...\n",
      "Validation Accuracy = 0.938\n",
      "EPOCH 87 ...\n",
      "Validation Accuracy = 0.937\n",
      "EPOCH 88 ...\n",
      "Validation Accuracy = 0.938\n",
      "EPOCH 89 ...\n",
      "Validation Accuracy = 0.937\n",
      "EPOCH 90 ...\n",
      "Validation Accuracy = 0.924\n",
      "EPOCH 91 ...\n",
      "Validation Accuracy = 0.932\n",
      "EPOCH 92 ...\n",
      "Validation Accuracy = 0.931\n",
      "EPOCH 93 ...\n",
      "Validation Accuracy = 0.924\n",
      "EPOCH 94 ...\n",
      "Validation Accuracy = 0.937\n",
      "EPOCH 95 ...\n",
      "Validation Accuracy = 0.936\n",
      "EPOCH 96 ...\n",
      "Validation Accuracy = 0.937\n",
      "EPOCH 97 ...\n",
      "Validation Accuracy = 0.940\n",
      "EPOCH 98 ...\n",
      "Validation Accuracy = 0.938\n",
      "EPOCH 99 ...\n",
      "Validation Accuracy = 0.932\n",
      "EPOCH 100 ...\n",
      "Validation Accuracy = 0.935\n",
      "Model saved\n",
      "\n",
      "\n",
      "Batch size:  150\n",
      "Number of epochs:  100\n",
      "Learning rate:  0.001\n",
      "Mean for Truncated Normal:  0\n",
      "Standard devation for Truncated Normal:  0.1\n",
      "Convolution type:  VALID\n"
     ]
    }
   ],
   "source": [
    "run_training()"
   ]
  },
  {
   "cell_type": "markdown",
   "metadata": {},
   "source": [
    "### Train, Validate and Test the Model"
   ]
  },
  {
   "cell_type": "markdown",
   "metadata": {},
   "source": [
    "A validation set can be used to assess how well the model is performing. A low accuracy on the training and validation\n",
    "sets imply underfitting. A high accuracy on the training set but low accuracy on the validation set implies overfitting."
   ]
  },
  {
   "cell_type": "code",
   "execution_count": 1,
   "metadata": {
    "collapsed": true
   },
   "outputs": [],
   "source": [
    "### Train your model here.\n",
    "### Calculate and report the accuracy on the training and validation set.\n",
    "### Once a final model architecture is selected, \n",
    "### the accuracy on the test set should be calculated and reported as well.\n",
    "### Feel free to use as many code cells as needed."
   ]
  },
  {
   "cell_type": "markdown",
   "metadata": {},
   "source": [
    "---\n",
    "\n",
    "## Step 3: Test a Model on New Images\n",
    "\n",
    "To give yourself more insight into how your model is working, download at least five pictures of German traffic signs from the web and use your model to predict the traffic sign type.\n",
    "\n",
    "You may find `signnames.csv` useful as it contains mappings from the class id (integer) to the actual sign name."
   ]
  },
  {
   "cell_type": "markdown",
   "metadata": {},
   "source": [
    "### Load and Output the Images"
   ]
  },
  {
   "cell_type": "code",
   "execution_count": null,
   "metadata": {
    "collapsed": true
   },
   "outputs": [],
   "source": [
    "### Load the images and plot them here.\n",
    "### Feel free to use as many code cells as needed."
   ]
  },
  {
   "cell_type": "markdown",
   "metadata": {},
   "source": [
    "### Predict the Sign Type for Each Image"
   ]
  },
  {
   "cell_type": "code",
   "execution_count": 3,
   "metadata": {
    "collapsed": true
   },
   "outputs": [],
   "source": [
    "### Run the predictions here and use the model to output the prediction for each image.\n",
    "### Make sure to pre-process the images with the same pre-processing pipeline used earlier.\n",
    "### Feel free to use as many code cells as needed."
   ]
  },
  {
   "cell_type": "markdown",
   "metadata": {},
   "source": [
    "### Analyze Performance"
   ]
  },
  {
   "cell_type": "code",
   "execution_count": 4,
   "metadata": {
    "collapsed": true
   },
   "outputs": [],
   "source": [
    "### Calculate the accuracy for these 5 new images. \n",
    "### For example, if the model predicted 1 out of 5 signs correctly, it's 20% accurate on these new images."
   ]
  },
  {
   "cell_type": "markdown",
   "metadata": {},
   "source": [
    "### Output Top 5 Softmax Probabilities For Each Image Found on the Web"
   ]
  },
  {
   "cell_type": "markdown",
   "metadata": {},
   "source": [
    "For each of the new images, print out the model's softmax probabilities to show the **certainty** of the model's predictions (limit the output to the top 5 probabilities for each image). [`tf.nn.top_k`](https://www.tensorflow.org/versions/r0.12/api_docs/python/nn.html#top_k) could prove helpful here. \n",
    "\n",
    "The example below demonstrates how tf.nn.top_k can be used to find the top k predictions for each image.\n",
    "\n",
    "`tf.nn.top_k` will return the values and indices (class ids) of the top k predictions. So if k=3, for each sign, it'll return the 3 largest probabilities (out of a possible 43) and the correspoding class ids.\n",
    "\n",
    "Take this numpy array as an example. The values in the array represent predictions. The array contains softmax probabilities for five candidate images with six possible classes. `tk.nn.top_k` is used to choose the three classes with the highest probability:\n",
    "\n",
    "```\n",
    "# (5, 6) array\n",
    "a = np.array([[ 0.24879643,  0.07032244,  0.12641572,  0.34763842,  0.07893497,\n",
    "         0.12789202],\n",
    "       [ 0.28086119,  0.27569815,  0.08594638,  0.0178669 ,  0.18063401,\n",
    "         0.15899337],\n",
    "       [ 0.26076848,  0.23664738,  0.08020603,  0.07001922,  0.1134371 ,\n",
    "         0.23892179],\n",
    "       [ 0.11943333,  0.29198961,  0.02605103,  0.26234032,  0.1351348 ,\n",
    "         0.16505091],\n",
    "       [ 0.09561176,  0.34396535,  0.0643941 ,  0.16240774,  0.24206137,\n",
    "         0.09155967]])\n",
    "```\n",
    "\n",
    "Running it through `sess.run(tf.nn.top_k(tf.constant(a), k=3))` produces:\n",
    "\n",
    "```\n",
    "TopKV2(values=array([[ 0.34763842,  0.24879643,  0.12789202],\n",
    "       [ 0.28086119,  0.27569815,  0.18063401],\n",
    "       [ 0.26076848,  0.23892179,  0.23664738],\n",
    "       [ 0.29198961,  0.26234032,  0.16505091],\n",
    "       [ 0.34396535,  0.24206137,  0.16240774]]), indices=array([[3, 0, 5],\n",
    "       [0, 1, 4],\n",
    "       [0, 5, 1],\n",
    "       [1, 3, 5],\n",
    "       [1, 4, 3]], dtype=int32))\n",
    "```\n",
    "\n",
    "Looking just at the first row we get `[ 0.34763842,  0.24879643,  0.12789202]`, you can confirm these are the 3 largest probabilities in `a`. You'll also notice `[3, 0, 5]` are the corresponding indices."
   ]
  },
  {
   "cell_type": "code",
   "execution_count": 6,
   "metadata": {
    "collapsed": true
   },
   "outputs": [],
   "source": [
    "### Print out the top five softmax probabilities for the predictions on the German traffic sign images found on the web. \n",
    "### Feel free to use as many code cells as needed."
   ]
  },
  {
   "cell_type": "markdown",
   "metadata": {},
   "source": [
    "---\n",
    "\n",
    "## Step 4: Visualize the Neural Network's State with Test Images\n",
    "\n",
    " This Section is not required to complete but acts as an additional excersise for understaning the output of a neural network's weights. While neural networks can be a great learning device they are often referred to as a black box. We can understand what the weights of a neural network look like better by plotting their feature maps. After successfully training your neural network you can see what it's feature maps look like by plotting the output of the network's weight layers in response to a test stimuli image. From these plotted feature maps, it's possible to see what characteristics of an image the network finds interesting. For a sign, maybe the inner network feature maps react with high activation to the sign's boundary outline or to the contrast in the sign's painted symbol.\n",
    "\n",
    " Provided for you below is the function code that allows you to get the visualization output of any tensorflow weight layer you want. The inputs to the function should be a stimuli image, one used during training or a new one you provided, and then the tensorflow variable name that represents the layer's state during the training process, for instance if you wanted to see what the [LeNet lab's](https://classroom.udacity.com/nanodegrees/nd013/parts/fbf77062-5703-404e-b60c-95b78b2f3f9e/modules/6df7ae49-c61c-4bb2-a23e-6527e69209ec/lessons/601ae704-1035-4287-8b11-e2c2716217ad/concepts/d4aca031-508f-4e0b-b493-e7b706120f81) feature maps looked like for it's second convolutional layer you could enter conv2 as the tf_activation variable.\n",
    "\n",
    "For an example of what feature map outputs look like, check out NVIDIA's results in their paper [End-to-End Deep Learning for Self-Driving Cars](https://devblogs.nvidia.com/parallelforall/deep-learning-self-driving-cars/) in the section Visualization of internal CNN State. NVIDIA was able to show that their network's inner weights had high activations to road boundary lines by comparing feature maps from an image with a clear path to one without. Try experimenting with a similar test to show that your trained network's weights are looking for interesting features, whether it's looking at differences in feature maps from images with or without a sign, or even what feature maps look like in a trained network vs a completely untrained one on the same sign image.\n",
    "\n",
    "<figure>\n",
    " <img src=\"visualize_cnn.png\" width=\"380\" alt=\"Combined Image\" />\n",
    " <figcaption>\n",
    " <p></p> \n",
    " <p style=\"text-align: center;\"> Your output should look something like this (above)</p> \n",
    " </figcaption>\n",
    "</figure>\n",
    " <p></p> \n"
   ]
  },
  {
   "cell_type": "code",
   "execution_count": null,
   "metadata": {
    "collapsed": true
   },
   "outputs": [],
   "source": [
    "### Visualize your network's feature maps here.\n",
    "### Feel free to use as many code cells as needed.\n",
    "\n",
    "# image_input: the test image being fed into the network to produce the feature maps\n",
    "# tf_activation: should be a tf variable name used during your training procedure that represents the calculated state of a specific weight layer\n",
    "# activation_min/max: can be used to view the activation contrast in more detail, by default matplot sets min and max to the actual min and max values of the output\n",
    "# plt_num: used to plot out multiple different weight feature map sets on the same block, just extend the plt number for each new feature map entry\n",
    "\n",
    "def outputFeatureMap(image_input, tf_activation, activation_min=-1, activation_max=-1 ,plt_num=1):\n",
    "    # Here make sure to preprocess your image_input in a way your network expects\n",
    "    # with size, normalization, ect if needed\n",
    "    # image_input =\n",
    "    # Note: x should be the same name as your network's tensorflow data placeholder variable\n",
    "    # If you get an error tf_activation is not defined it maybe having trouble accessing the variable from inside a function\n",
    "    activation = tf_activation.eval(session=sess,feed_dict={x : image_input})\n",
    "    featuremaps = activation.shape[3]\n",
    "    plt.figure(plt_num, figsize=(15,15))\n",
    "    for featuremap in range(featuremaps):\n",
    "        plt.subplot(6,8, featuremap+1) # sets the number of feature maps to show on each row and column\n",
    "        plt.title('FeatureMap ' + str(featuremap)) # displays the feature map number\n",
    "        if activation_min != -1 & activation_max != -1:\n",
    "            plt.imshow(activation[0,:,:, featuremap], interpolation=\"nearest\", vmin =activation_min, vmax=activation_max, cmap=\"gray\")\n",
    "        elif activation_max != -1:\n",
    "            plt.imshow(activation[0,:,:, featuremap], interpolation=\"nearest\", vmax=activation_max, cmap=\"gray\")\n",
    "        elif activation_min !=-1:\n",
    "            plt.imshow(activation[0,:,:, featuremap], interpolation=\"nearest\", vmin=activation_min, cmap=\"gray\")\n",
    "        else:\n",
    "            plt.imshow(activation[0,:,:, featuremap], interpolation=\"nearest\", cmap=\"gray\")"
   ]
  },
  {
   "cell_type": "markdown",
   "metadata": {},
   "source": [
    "### Question 9\n",
    "\n",
    "Discuss how you used the visual output of your trained network's feature maps to show that it had learned to look for interesting characteristics in traffic sign images\n"
   ]
  },
  {
   "cell_type": "markdown",
   "metadata": {},
   "source": [
    "**Answer:**"
   ]
  },
  {
   "cell_type": "markdown",
   "metadata": {},
   "source": [
    "> **Note**: Once you have completed all of the code implementations and successfully answered each question above, you may finalize your work by exporting the iPython Notebook as an HTML document. You can do this by using the menu above and navigating to  \\n\",\n",
    "    \"**File -> Download as -> HTML (.html)**. Include the finished document along with this notebook as your submission."
   ]
  },
  {
   "cell_type": "markdown",
   "metadata": {},
   "source": [
    "### Project Writeup\n",
    "\n",
    "Once you have completed the code implementation, document your results in a project writeup using this [template](https://github.com/udacity/CarND-Traffic-Sign-Classifier-Project/blob/master/writeup_template.md) as a guide. The writeup can be in a markdown or pdf file. "
   ]
  }
 ],
 "metadata": {
  "anaconda-cloud": {},
  "kernelspec": {
   "display_name": "Python [conda env:carnd-term1]",
   "language": "python",
   "name": "conda-env-carnd-term1-py"
  },
  "language_info": {
   "codemirror_mode": {
    "name": "ipython",
    "version": 3
   },
   "file_extension": ".py",
   "mimetype": "text/x-python",
   "name": "python",
   "nbconvert_exporter": "python",
   "pygments_lexer": "ipython3",
   "version": "3.5.2"
  }
 },
 "nbformat": 4,
 "nbformat_minor": 1
}
