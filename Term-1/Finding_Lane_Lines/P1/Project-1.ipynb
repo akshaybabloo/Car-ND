{
 "cells": [
  {
   "cell_type": "markdown",
   "metadata": {},
   "source": [
    "# Project-1\n",
    "## Helper Code and Imports"
   ]
  },
  {
   "cell_type": "markdown",
   "metadata": {},
   "source": [
    "### Index\n",
    "\n",
    "* [Main Code](#Main-Code)\n",
    "    * [Processinf Video](#Processing-Video)\n",
    "    * [Processing Video w/o Slope](#Processing-Image-w/o-Slopes)\n",
    "* [Challenge](#Challenge) - Incomplete\n",
    "* [Reflection](#Reflection)"
   ]
  },
  {
   "cell_type": "code",
   "execution_count": 1,
   "metadata": {
    "collapsed": true
   },
   "outputs": [],
   "source": [
    "# Importing all necessary packages\n",
    "import matplotlib.pyplot as plt\n",
    "import matplotlib.image as mpimg\n",
    "import numpy as np\n",
    "import cv2\n",
    "from moviepy.editor import VideoFileClip\n",
    "from IPython.display import HTML\n",
    "import math\n",
    "import statistics as s\n",
    "%matplotlib inline"
   ]
  },
  {
   "cell_type": "code",
   "execution_count": 2,
   "metadata": {
    "collapsed": false
   },
   "outputs": [],
   "source": [
    "def grayscale(img):\n",
    "    \"\"\"Applies the Grayscale transform\n",
    "    This will return an image with only one color channel\n",
    "    but NOTE: to see the returned image as grayscale\n",
    "    (assuming your grayscaled image is called 'gray')\n",
    "    you should call plt.imshow(gray, cmap='gray')\"\"\"\n",
    "    return cv2.cvtColor(img, cv2.COLOR_RGB2GRAY)\n",
    "    # Or use BGR2GRAY if you read an image with cv2.imread()\n",
    "    # return cv2.cvtColor(img, cv2.COLOR_BGR2GRAY)\n",
    "    \n",
    "def canny(img, low_threshold, high_threshold):\n",
    "    \"\"\"Applies the Canny transform\"\"\"\n",
    "    return cv2.Canny(img, low_threshold, high_threshold)\n",
    "\n",
    "def gaussian_blur(img, kernel_size):\n",
    "    \"\"\"Applies a Gaussian Noise kernel\"\"\"\n",
    "    return cv2.GaussianBlur(img, (kernel_size, kernel_size), 0)\n",
    "\n",
    "def region_of_interest(img, vertices):\n",
    "    \"\"\"\n",
    "    Applies an image mask.\n",
    "    \n",
    "    Only keeps the region of the image defined by the polygon\n",
    "    formed from `vertices`. The rest of the image is set to black.\n",
    "    \"\"\"\n",
    "    #defining a blank mask to start with\n",
    "    mask = np.zeros_like(img)   \n",
    "    \n",
    "    #defining a 3 channel or 1 channel color to fill the mask with depending on the input image\n",
    "    if len(img.shape) > 2:\n",
    "        channel_count = img.shape[2]  # i.e. 3 or 4 depending on your image\n",
    "        ignore_mask_color = (255,) * channel_count\n",
    "    else:\n",
    "        ignore_mask_color = 255\n",
    "        \n",
    "    #filling pixels inside the polygon defined by \"vertices\" with the fill color    \n",
    "    cv2.fillPoly(mask, vertices, ignore_mask_color)\n",
    "    \n",
    "    #returning the image only where mask pixels are nonzero\n",
    "    masked_image = cv2.bitwise_and(img, mask)\n",
    "    return masked_image\n",
    "\n",
    "\n",
    "def draw_lines(img, lines, color=[255, 0, 0], thickness=2):\n",
    "    \"\"\"\n",
    "    NOTE: this is the function you might want to use as a starting point once you want to \n",
    "    average/extrapolate the line segments you detect to map out the full\n",
    "    extent of the lane (going from the result shown in raw-lines-example.mp4\n",
    "    to that shown in P1_example.mp4).  \n",
    "    \n",
    "    Think about things like separating line segments by their \n",
    "    slope ((y2-y1)/(x2-x1)) to decide which segments are part of the left\n",
    "    line vs. the right line.  Then, you can average the position of each of \n",
    "    the lines and extrapolate to the top and bottom of the lane.\n",
    "    \n",
    "    This function draws `lines` with `color` and `thickness`.    \n",
    "    Lines are drawn on the image inplace (mutates the image).\n",
    "    If you want to make the lines semi-transparent, think about combining\n",
    "    this function with the weighted_img() function below\n",
    "    \"\"\"\n",
    "    for line in lines:\n",
    "        for x1,y1,x2,y2 in line:\n",
    "            cv2.line(img, (x1, y1), (x2, y2), color, thickness)\n",
    "\n",
    "def hough_lines(img, rho, theta, threshold, min_line_len, max_line_gap):\n",
    "    \"\"\"\n",
    "    `img` should be the output of a Canny transform.\n",
    "        \n",
    "    Returns an image with hough lines drawn.\n",
    "    \"\"\"\n",
    "    lines = cv2.HoughLinesP(img, rho, theta, threshold, np.array([]), minLineLength=min_line_len, maxLineGap=max_line_gap)\n",
    "    line_img = np.zeros((img.shape[0], img.shape[1], 3), dtype=np.uint8)\n",
    "    draw_lines_custom(line_img, lines)\n",
    "    return line_img\n",
    "\n",
    "# Python 3 has support for cool math symbols.\n",
    "\n",
    "def weighted_img(img, initial_img, α=0.8, β=1., λ=0.):\n",
    "    \"\"\"\n",
    "    `img` is the output of the hough_lines(), An image with lines drawn on it.\n",
    "    Should be a blank image (all black) with lines drawn on it.\n",
    "    \n",
    "    `initial_img` should be the image before any processing.\n",
    "    \n",
    "    The result image is computed as follows:\n",
    "    \n",
    "    initial_img * α + img * β + λ\n",
    "    NOTE: initial_img and img must be the same shape!\n",
    "    \"\"\"\n",
    "    return cv2.addWeighted(initial_img, α, img, β, λ)\n",
    "\n",
    "\n",
    "# def draw_lines_custom(img, lines, color=(255, 0, 0), thickness=7):\n",
    "#     left_slope = []\n",
    "#     left_lines = []\n",
    "#     right_slope = []\n",
    "#     right_lines = []\n",
    "    \n",
    "#     for line in lines:\n",
    "#         for x1, y1, x2, y2 in line:\n",
    "#             m = ((y1-y2)/(x1-x2)) # http://www.mathwarehouse.com/algebra/linear_equation/slope-of-a-line.php\n",
    "#             if m <= -0.2:\n",
    "#                 left_slope.append(m)\n",
    "#                 left_lines.append((x1,y1))\n",
    "#             elif m >= 0.2 and m <= 0.88:\n",
    "#                 right_slope.append(m)\n",
    "#                 right_lines.append((x2,y2))\n",
    "                \n",
    "# #     print(list(zip(*left_lines)))\n",
    "    \n",
    "#     # average left and right slopes\n",
    "# #     right_slope = sorted(right_slope)[int(len(right_slope)/2)]\n",
    "#     right_slope = np.mean(right_slope)\n",
    "# # #     right_slope.astype(int)\n",
    "# #     left_slope = sorted(left_slope)[int(len(left_slope)/2)]\n",
    "#     left_slope = np.mean(left_slope)\n",
    "# #     left_slope.astype(int)\n",
    "# #     print(left_slope)\n",
    "    \n",
    "#     start_left_y = sorted([line[1] for line in left_lines])[int(len(left_lines)/2)]\n",
    "#     start_left_x = [line[0] for line in left_lines if line[1] == start_left_y][0]\n",
    "\n",
    "#     start_right_y = sorted([line[1] for line in right_lines])[int(len(right_lines)/2)]\n",
    "#     start_right_x = [line[0] for line in right_lines if line[1] == start_right_y][0]\n",
    "    \n",
    "#     # Point of view extension\n",
    "#     end_left_x = int((img.shape[1]-start_left_y)/left_slope) + start_left_x\n",
    "#     end_right_x = int((img.shape[1]-start_right_y)/right_slope) + start_right_x\n",
    "    \n",
    "#     cv2.line(img, (start_left_x, start_left_y), (end_left_x, -img.shape[1]), color, thickness)\n",
    "#     cv2.line(img, (start_right_x, start_right_y), (end_right_x, img.shape[1]), color, thickness)"
   ]
  },
  {
   "cell_type": "code",
   "execution_count": 3,
   "metadata": {
    "collapsed": true
   },
   "outputs": [],
   "source": [
    "def draw_lines_custom(img, lines, color=[255, 0, 0], thickness=7):\n",
    "    \"\"\"\n",
    "    NOTE: this is the function you might want to use as a starting point once you want to\n",
    "    average/extrapolate the line segments you detect to map out the full\n",
    "    extent of the lane (going from the result shown in raw-lines-example.mp4\n",
    "    to that shown in P1_example.mp4).\n",
    "\n",
    "    Think about things like separating line segments by their\n",
    "    slope ((y2-y1)/(x2-x1)) to decide which segments are part of the left\n",
    "    line vs. the right line.  Then, you can average the position of each of\n",
    "    the lines and extrapolate to the top and bottom of the lane.\n",
    "\n",
    "    This function draws `lines` with `color` and `thickness`.\n",
    "    Lines are drawn on the image inplace (mutates the image).\n",
    "    If you want to make the lines semi-transparent, think about combining\n",
    "    this function with the weighted_img() function below\n",
    "    \"\"\"\n",
    "\n",
    "    # Initialise arrays\n",
    "    positive_slope_points = []\n",
    "    negative_slope_points = []\n",
    "    positive_slope_intercept = []\n",
    "    negative_slope_intercept = []\n",
    "\n",
    "    for line in lines:\n",
    "        for x1, y1, x2, y2 in line:\n",
    "            slope = (y1 - y2) / (x1 - x2)\n",
    "            # print(\"Points: \", [x1, y1, x2, y2])\n",
    "            length = math.sqrt((x1 - x2) ** 2 + (y1 - y2) ** 2)\n",
    "            # print(\"Length: \", length)\n",
    "            if not math.isnan(slope):\n",
    "                if length > 50:\n",
    "                    if slope > 0:\n",
    "                        positive_slope_points.append([x1, y1])\n",
    "                        positive_slope_points.append([x2, y2])\n",
    "                        positive_slope_intercept.append([slope, y1 - slope * x1])\n",
    "                    elif slope < 0:\n",
    "                        negative_slope_points.append([x1, y1])\n",
    "                        negative_slope_points.append([x2, y2])\n",
    "                        negative_slope_intercept.append([slope, y1 - slope * x1])\n",
    "\n",
    "    # Get intercept and coefficient of fitted lines\n",
    "    pos_coef, pos_intercept = find_line_fit(positive_slope_intercept)\n",
    "    neg_coef, neg_intercept = find_line_fit(negative_slope_intercept)\n",
    "\n",
    "    # Get intersection point\n",
    "    intersection_x_coord = intersection_x(pos_coef, pos_intercept, neg_coef, neg_intercept)\n",
    "\n",
    "    # Plot lines\n",
    "    draw_sep_lines(pos_coef, pos_intercept, intersection_x_coord, img, color, thickness)\n",
    "    draw_sep_lines(neg_coef, neg_intercept, intersection_x_coord, img, color, thickness)\n",
    "\n",
    "\n",
    "def intersection_x(coef1, intercept1, coef2, intercept2):\n",
    "    \"\"\"Returns x-coordinate of intersection of two lines.\"\"\"\n",
    "    x = (intercept2 - intercept1) / (coef1 - coef2)\n",
    "    return x\n",
    "\n",
    "\n",
    "def draw_sep_lines(coef, intercept, intersection_x, img, color, thickness):\n",
    "    \"\"\"\n",
    "    Draws lane.\n",
    "    \"\"\"\n",
    "\n",
    "    imshape = img.shape\n",
    "    # TODO: Remove the error for np.nan\n",
    "    point_one = (int(intersection_x), int(intersection_x * coef + intercept))\n",
    "    point_two = 0\n",
    "    if coef > 0:\n",
    "        point_two = (imshape[1]-1, int(imshape[1] * coef + intercept))\n",
    "    elif coef < 0:\n",
    "        point_two = (0, int(0 * coef + intercept))\n",
    "    print(\"Point one: \", point_one, \"Point two: \", point_two)\n",
    "\n",
    "    test = new_coordinates(point_one, point_two)\n",
    "    # test2 = (482,508)\n",
    "    # test2 = new_coordinates((400,400), (600,200))\n",
    "\n",
    "    # Draw line using cv2.line\n",
    "    cv2.line(img, test, point_two, color, thickness)\n",
    "    # cv2.line(img, (400,400), (600,200), [0,255,0], thickness)\n",
    "    # cv2.line(img, (400,400), test2, [204,255,204], thickness)\n",
    "    # cv2.line(img, point_one, point_two, color, thickness)\n",
    "    print(\"--------------------------------------------------------------------------------------------------------\")\n",
    "\n",
    "\n",
    "# def new_coordinates(point_one, point_two):\n",
    "#     print((\"x1\", point_one[0], \"y1\", point_one[1]), (\"x2\", point_two[0], \"y2\", point_two[1]))\n",
    "#     distance = math.sqrt((point_two[0] - point_one[0]) ** 2 + (point_two[1] - point_one[1]) ** 2)\n",
    "#     print(\"distance between point one and two\", distance)\n",
    "#\n",
    "#     slope = (point_two[1] - point_one[1]) / (point_two[0] - point_one[0])\n",
    "#     print(\"Slope\", slope)\n",
    "#\n",
    "#     angle = math.atan(slope)\n",
    "#     print(\"angle\", angle)\n",
    "#\n",
    "#     a = math.sin(angle) * (distance/30)\n",
    "#     print(\"a\", a)\n",
    "#     b = math.cos(angle) * (distance/30)\n",
    "#     print(\"b\", b)\n",
    "#\n",
    "#     x_a = point_one[0] + a\n",
    "#     y_b = point_one[1] + b\n",
    "#\n",
    "#     print(\"New points\", (int(x_a), int(y_b)))\n",
    "#     new_distance = math.sqrt((int(x_a) - point_two[0]) ** 2 + (int(y_b) - point_two[1]) ** 2)\n",
    "#     print(\"new distance\", new_distance)\n",
    "#     return int(x_a), int(y_b)\n",
    "\n",
    "def new_coordinates(point_one, point_two):\n",
    "    \"\"\"\n",
    "    Based on \"The intercept theorem\", also known as \"Thales' theorem\"\n",
    "    https://en.wikipedia.org/wiki/Intercept_theorem\n",
    "\n",
    "    \"\"\"\n",
    "\n",
    "    dx = (point_two[0] - point_one[0])\n",
    "    dy = (point_two[1] - point_one[1])\n",
    "\n",
    "    x_a = point_one[0] + dx/20\n",
    "    y_b = point_one[1] + dy/20\n",
    "\n",
    "    print(\"New points\", (int(x_a), int(y_b)))\n",
    "\n",
    "    return int(x_a), int(y_b)\n",
    "\n",
    "def find_line_fit(slope_intercept):\n",
    "    \"\"\"slope_intercept is an array [[slope, intercept], [slope, intercept]...].\n",
    "    Finds the best fit using slope and intercept.\n",
    "    \"\"\"\n",
    "\n",
    "    # Initialise arrays\n",
    "    kept_slopes = []\n",
    "    kept_intercepts = []\n",
    "    # print(\"Slope & intercept: \", slope_intercept)\n",
    "    if len(slope_intercept) == 1:\n",
    "        return slope_intercept[0][0], slope_intercept[0][1]\n",
    "\n",
    "    # Remove points with slope not within 1.5 standard deviations of the mean\n",
    "    slopes = [pair[0] for pair in slope_intercept]\n",
    "    mean_slope = np.mean(slopes)\n",
    "    slope_std = np.std(slopes)\n",
    "    for pair in slope_intercept:\n",
    "        slope = pair[0]\n",
    "        # print(slope - mean_slope, 1.5 * slope_std)\n",
    "        if slope - mean_slope < 1.5 * slope_std:\n",
    "            kept_slopes.append(slope)\n",
    "            kept_intercepts.append(pair[1])\n",
    "    if not kept_slopes:\n",
    "        kept_slopes = slopes\n",
    "        kept_intercepts = [pair[1] for pair in slope_intercept]\n",
    "    # Take estimate of slope, intercept to be the mean of remaining values\n",
    "    slope = np.mean(kept_slopes)\n",
    "    intercept = np.mean(kept_intercepts)\n",
    "    # print(\"Slope: \", slope, \"Intercept: \", intercept)\n",
    "    return slope, intercept"
   ]
  },
  {
   "cell_type": "markdown",
   "metadata": {},
   "source": [
    "## Main Code\n",
    "\n",
    "### Static Image"
   ]
  },
  {
   "cell_type": "code",
   "execution_count": 4,
   "metadata": {
    "collapsed": false
   },
   "outputs": [],
   "source": [
    "# Getting the image\n",
    "try:\n",
    "    image = mpimg.imread('test_images/solidWhiteRight.jpg')\n",
    "except FileNotFoundError as e:\n",
    "    print(e)\n",
    "# plt.imshow(image)"
   ]
  },
  {
   "cell_type": "code",
   "execution_count": 5,
   "metadata": {
    "collapsed": false
   },
   "outputs": [],
   "source": [
    "# Converting the image into gray scale\n",
    "gray_image = grayscale(image)\n",
    "# plt.imshow(gray_image, cmap='gray')"
   ]
  },
  {
   "cell_type": "code",
   "execution_count": 6,
   "metadata": {
    "collapsed": false
   },
   "outputs": [],
   "source": [
    "# Applying Gaussian blur to the gray scaled image\n",
    "kernel_size = 5\n",
    "gaussian_blur_image = gaussian_blur(gray_image, kernel_size)\n",
    "# plt.imshow(gaussian_blur_image, cmap='gray')"
   ]
  },
  {
   "cell_type": "code",
   "execution_count": 7,
   "metadata": {
    "collapsed": false
   },
   "outputs": [],
   "source": [
    "# Applying Canny transform to the image\n",
    "low_threshold = 50\n",
    "high_threshold = 150\n",
    "edges_image = canny(gaussian_blur_image, low_threshold, high_threshold)\n",
    "# plt.imshow(edges_image, cmap='gray')"
   ]
  },
  {
   "cell_type": "code",
   "execution_count": 11,
   "metadata": {
    "collapsed": false
   },
   "outputs": [
    {
     "name": "stdout",
     "output_type": "stream",
     "text": [
      "Point one:  (482, 308) Point two:  (959, 612)\n",
      "New points (505, 323)\n",
      "--------------------------------------------------------------------------------------------------------\n",
      "Point one:  (482, 308) Point two:  (0, 636)\n",
      "New points (457, 324)\n",
      "--------------------------------------------------------------------------------------------------------\n"
     ]
    },
    {
     "data": {
      "image/png": "[encoded data removed]",
      "text/plain": [
       "<matplotlib.figure.Figure at 0x146ace28630>"
      ]
     },
     "metadata": {},
     "output_type": "display_data"
    },
    {
     "data": {
      "image/png": "[encoded data removed]",
      "text/plain": [
       "<matplotlib.figure.Figure at 0x146aa012278>"
      ]
     },
     "metadata": {},
     "output_type": "display_data"
    },
    {
     "data": {
      "image/png": "[encoded data removed]",
      "text/plain": [
       "<matplotlib.figure.Figure at 0x146aa05f080>"
      ]
     },
     "metadata": {},
     "output_type": "display_data"
    }
   ],
   "source": [
    "# Masking the image\n",
    "imshape = image.shape\n",
    "vertices = np.array([[(50, imshape[0]), (400, 340), (560, 340), (imshape[1], imshape[0])]], dtype=np.int32)\n",
    "masked_edges = region_of_interest(edges_image, vertices)\n",
    "\n",
    "# Applying Hough transform to masked image\n",
    "rho = 2\n",
    "theta = np.pi/180\n",
    "threshold = 45\n",
    "min_line_length = 40\n",
    "max_line_gap = 100\n",
    "hough_lines_image = hough_lines(masked_edges, rho, theta, threshold, min_line_len=min_line_length, max_line_gap=max_line_gap)\n",
    "combo_image = weighted_img(hough_lines_image, image)\n",
    "# Display images\n",
    "images = [hough_lines_image, masked_edges, combo_image]\n",
    "for ima in images:\n",
    "    plt.figure()\n",
    "    plt.imshow(ima)"
   ]
  },
  {
   "cell_type": "markdown",
   "metadata": {
    "collapsed": true
   },
   "source": [
    "## Processing Video"
   ]
  },
  {
   "cell_type": "code",
   "execution_count": 12,
   "metadata": {
    "collapsed": false
   },
   "outputs": [],
   "source": [
    "def process_image(image):\n",
    "    \"\"\"\n",
    "    Returns processed image.\n",
    "\n",
    "    Applies the following filter/transforms\n",
    "    ---------------------------------------\n",
    "\n",
    "    * Gray Scale\n",
    "    * Gaussian Blur\n",
    "    * Canny Transform\n",
    "    * Masking the image\n",
    "    * Hough Transform\n",
    "\n",
    "    The output of this function is the combition of Hough lines and original image.\n",
    "\n",
    "    Example\n",
    "    -------\n",
    "\n",
    "    For image\n",
    "\n",
    "    >>> try:\n",
    "    >>>    image = mpimg.imread('test_images/solidWhiteRight.jpg')\n",
    "    >>> except FileNotFoundError as e:\n",
    "    >>>    print(e)\n",
    "    >>> result = process_image(image)\n",
    "    >>> plt.imshow(result)\n",
    "    \"\"\"\n",
    "\n",
    "    # Converting the image into gray scale\n",
    "    gray_image = grayscale(image)\n",
    "\n",
    "    # Applying Gaussian blur to the gray scaled image\n",
    "    kernel_size = 5\n",
    "    gaussian_blur_image = gaussian_blur(gray_image, kernel_size)\n",
    "\n",
    "    # Applying Canny transform to the image\n",
    "    low_threshold = 50\n",
    "    high_threshold = 150\n",
    "    edges_image = canny(gaussian_blur_image, low_threshold, high_threshold)\n",
    "\n",
    "    # Masking the image\n",
    "    imshape = image.shape\n",
    "    vertices = np.array([[(50, imshape[0]), (400, 340), (560, 340), (imshape[1], imshape[0])]], dtype=np.int32)\n",
    "    masked_edges = region_of_interest(edges_image, vertices)\n",
    "\n",
    "    # Applying Hough transform to masked image\n",
    "    rho = 2\n",
    "    theta = np.pi/180\n",
    "    threshold = 45\n",
    "    min_line_length = 40\n",
    "    max_line_gap = 100\n",
    "    hough_lines_image = hough_lines(masked_edges, rho, theta, threshold, min_line_len=min_line_length,\n",
    "                                    max_line_gap=max_line_gap)\n",
    "    result = weighted_img(hough_lines_image, image)\n",
    "\n",
    "    return result"
   ]
  },
  {
   "cell_type": "code",
   "execution_count": 13,
   "metadata": {
    "collapsed": false
   },
   "outputs": [
    {
     "name": "stdout",
     "output_type": "stream",
     "text": [
      "Point one:  (480, 305) Point two:  (959, 596)\n",
      "New points (503, 319)\n",
      "--------------------------------------------------------------------------------------------------------\n",
      "Point one:  (480, 305) Point two:  (0, 653)\n",
      "New points (456, 322)\n",
      "--------------------------------------------------------------------------------------------------------\n",
      "[MoviePy] >>>> Building video white.mp4\n",
      "[MoviePy] Writing video white.mp4\n"
     ]
    },
    {
     "name": "stderr",
     "output_type": "stream",
     "text": [
      "\n",
      "  0%|                                                                                                                                                                                        | 0/222 [00:00<?, ?it/s]"
     ]
    },
    {
     "name": "stdout",
     "output_type": "stream",
     "text": [
      "Point one:  (480, 305) Point two:  (959, 596)\n",
      "New points (503, 319)\n",
      "--------------------------------------------------------------------------------------------------------\n",
      "Point one:  (480, 305) Point two:  (0, 653)\n",
      "New points (456, 322)\n",
      "--------------------------------------------------------------------------------------------------------\n",
      "Point one:  (478, 307) Point two:  (959, 596)\n",
      "New points (502, 321)\n",
      "--------------------------------------------------------------------------------------------------------\n",
      "Point one:  (478, 307) Point two:  (0, 649)\n",
      "New points (454, 324)\n",
      "--------------------------------------------------------------------------------------------------------\n"
     ]
    },
    {
     "name": "stderr",
     "output_type": "stream",
     "text": [
      "\n",
      "  1%|█▌                                                                                                                                                                              | 2/222 [00:00<00:16, 13.66it/s]"
     ]
    },
    {
     "name": "stdout",
     "output_type": "stream",
     "text": [
      "Point one:  (476, 302) Point two:  (959, 601)\n",
      "New points (500, 316)\n",
      "--------------------------------------------------------------------------------------------------------\n",
      "Point one:  (476, 302) Point two:  (0, 665)\n",
      "New points (452, 320)\n",
      "--------------------------------------------------------------------------------------------------------\n",
      "Point one:  (479, 305) Point two:  (959, 603)\n",
      "New points (503, 319)\n",
      "--------------------------------------------------------------------------------------------------------\n",
      "Point one:  (479, 305) Point two:  (0, 650)\n",
      "New points (455, 322)\n",
      "--------------------------------------------------------------------------------------------------------\n",
      "Point one:  (479, 306) Point two:  (959, 604)\n",
      "New points (503, 320)\n",
      "--------------------------------------------------------------------------------------------------------\n",
      "Point one:  (479, 306) Point two:  (0, 645)\n",
      "New points (455, 322)\n",
      "--------------------------------------------------------------------------------------------------------\n",
      "Point one:  (479, 305) Point two:  (959, 600)\n",
      "New points (503, 319)\n",
      "--------------------------------------------------------------------------------------------------------\n",
      "Point one:  (479, 305) Point two:  (0, 647)\n",
      "New points (455, 322)\n",
      "--------------------------------------------------------------------------------------------------------\n"
     ]
    },
    {
     "name": "stderr",
     "output_type": "stream",
     "text": [
      "\n",
      "  3%|████▊                                                                                                                                                                           | 6/222 [00:00<00:13, 16.38it/s]"
     ]
    },
    {
     "name": "stdout",
     "output_type": "stream",
     "text": [
      "Point one:  (478, 305) Point two:  (959, 599)\n",
      "New points (502, 319)\n",
      "--------------------------------------------------------------------------------------------------------\n",
      "Point one:  (478, 305) Point two:  (0, 644)\n",
      "New points (454, 321)\n",
      "--------------------------------------------------------------------------------------------------------\n",
      "Point one:  (479, 301) Point two:  (959, 599)\n",
      "New points (503, 315)\n",
      "--------------------------------------------------------------------------------------------------------\n",
      "Point one:  (479, 301) Point two:  (0, 657)\n",
      "New points (455, 318)\n",
      "--------------------------------------------------------------------------------------------------------\n",
      "Point one:  (479, 305) Point two:  (959, 599)\n",
      "New points (503, 319)\n",
      "--------------------------------------------------------------------------------------------------------\n",
      "Point one:  (479, 305) Point two:  (0, 644)\n",
      "New points (455, 321)\n",
      "--------------------------------------------------------------------------------------------------------\n"
     ]
    },
    {
     "name": "stderr",
     "output_type": "stream",
     "text": [
      "\n",
      "  4%|███████▏                                                                                                                                                                        | 9/222 [00:00<00:11, 18.57it/s]"
     ]
    },
    {
     "name": "stdout",
     "output_type": "stream",
     "text": [
      "Point one:  (478, 307) Point two:  (959, 599)\n",
      "New points (502, 321)\n",
      "--------------------------------------------------------------------------------------------------------\n",
      "Point one:  (478, 307) Point two:  (0, 646)\n",
      "New points (454, 323)\n",
      "--------------------------------------------------------------------------------------------------------\n",
      "Point one:  (476, 308) Point two:  (959, 606)\n",
      "New points (500, 322)\n",
      "--------------------------------------------------------------------------------------------------------\n",
      "Point one:  (476, 308) Point two:  (0, 658)\n",
      "New points (452, 325)\n",
      "--------------------------------------------------------------------------------------------------------\n",
      "Point one:  (473, 308) Point two:  (959, 609)\n",
      "New points (497, 323)\n",
      "--------------------------------------------------------------------------------------------------------\n",
      "Point one:  (473, 308) Point two:  (0, 655)\n",
      "New points (449, 325)\n",
      "--------------------------------------------------------------------------------------------------------\n",
      "Point one:  (478, 306) Point two:  (959, 614)\n",
      "New points (502, 321)\n",
      "--------------------------------------------------------------------------------------------------------\n",
      "Point one:  (478, 306) Point two:  (0, 657)\n",
      "New points (454, 323)\n",
      "--------------------------------------------------------------------------------------------------------\n"
     ]
    },
    {
     "name": "stderr",
     "output_type": "stream",
     "text": [
      "\n",
      "  6%|██████████▏                                                                                                                                                                    | 13/222 [00:00<00:09, 21.03it/s]"
     ]
    },
    {
     "name": "stdout",
     "output_type": "stream",
     "text": [
      "Point one:  (476, 305) Point two:  (959, 610)\n",
      "New points (500, 320)\n",
      "--------------------------------------------------------------------------------------------------------\n",
      "Point one:  (476, 305) Point two:  (0, 659)\n",
      "New points (452, 322)\n",
      "--------------------------------------------------------------------------------------------------------\n",
      "Point one:  (477, 307) Point two:  (959, 613)\n",
      "New points (501, 322)\n",
      "--------------------------------------------------------------------------------------------------------\n",
      "Point one:  (477, 307) Point two:  (0, 645)\n",
      "New points (453, 323)\n",
      "--------------------------------------------------------------------------------------------------------\n",
      "Point one:  (479, 302) Point two:  (959, 616)\n",
      "New points (503, 317)\n",
      "--------------------------------------------------------------------------------------------------------\n",
      "Point one:  (479, 302) Point two:  (0, 643)\n",
      "New points (455, 319)\n",
      "--------------------------------------------------------------------------------------------------------\n"
     ]
    },
    {
     "name": "stderr",
     "output_type": "stream",
     "text": [
      "\n",
      "  7%|████████████▌                                                                                                                                                                  | 16/222 [00:00<00:09, 22.69it/s]"
     ]
    },
    {
     "name": "stdout",
     "output_type": "stream",
     "text": [
      "Point one:  (480, 302) Point two:  (959, 609)\n",
      "New points (503, 317)\n",
      "--------------------------------------------------------------------------------------------------------\n",
      "Point one:  (480, 302) Point two:  (0, 638)\n",
      "New points (456, 318)\n",
      "--------------------------------------------------------------------------------------------------------\n",
      "Point one:  (479, 304) Point two:  (959, 608)\n",
      "New points (503, 319)\n",
      "--------------------------------------------------------------------------------------------------------\n",
      "Point one:  (479, 304) Point two:  (0, 634)\n",
      "New points (455, 320)\n",
      "--------------------------------------------------------------------------------------------------------\n",
      "Point one:  (478, 307) Point two:  (959, 614)\n",
      "New points (502, 322)\n",
      "--------------------------------------------------------------------------------------------------------\n",
      "Point one:  (478, 307) Point two:  (0, 634)\n",
      "New points (454, 323)\n",
      "--------------------------------------------------------------------------------------------------------\n",
      "Point one:  (478, 306) Point two:  (959, 614)\n",
      "New points (502, 321)\n",
      "--------------------------------------------------------------------------------------------------------\n",
      "Point one:  (478, 306) Point two:  (0, 649)\n",
      "New points (454, 323)\n",
      "--------------------------------------------------------------------------------------------------------\n"
     ]
    },
    {
     "name": "stderr",
     "output_type": "stream",
     "text": [
      "\n",
      "  9%|███████████████▊                                                                                                                                                               | 20/222 [00:00<00:08, 22.96it/s]"
     ]
    },
    {
     "name": "stdout",
     "output_type": "stream",
     "text": [
      "Point one:  (480, 307) Point two:  (959, 613)\n",
      "New points (503, 322)\n",
      "--------------------------------------------------------------------------------------------------------\n",
      "Point one:  (480, 307) Point two:  (0, 640)\n",
      "New points (456, 323)\n",
      "--------------------------------------------------------------------------------------------------------\n",
      "Point one:  (480, 308) Point two:  (959, 614)\n",
      "New points (503, 323)\n",
      "--------------------------------------------------------------------------------------------------------\n",
      "Point one:  (480, 308) Point two:  (0, 648)\n",
      "New points (456, 325)\n",
      "--------------------------------------------------------------------------------------------------------\n",
      "Point one:  (481, 308) Point two:  (959, 611)\n",
      "New points (504, 323)\n",
      "--------------------------------------------------------------------------------------------------------\n",
      "Point one:  (481, 308) Point two:  (0, 637)\n",
      "New points (456, 324)\n",
      "--------------------------------------------------------------------------------------------------------\n"
     ]
    },
    {
     "name": "stderr",
     "output_type": "stream",
     "text": [
      "\n",
      " 10%|██████████████████▏                                                                                                                                                            | 23/222 [00:00<00:08, 24.26it/s]"
     ]
    },
    {
     "name": "stdout",
     "output_type": "stream",
     "text": [
      "Point one:  (478, 306) Point two:  (959, 615)\n",
      "New points (502, 321)\n",
      "--------------------------------------------------------------------------------------------------------\n",
      "Point one:  (478, 306) Point two:  (0, 647)\n",
      "New points (454, 323)\n",
      "--------------------------------------------------------------------------------------------------------\n",
      "Point one:  (480, 306) Point two:  (959, 610)\n",
      "New points (503, 321)\n",
      "--------------------------------------------------------------------------------------------------------\n",
      "Point one:  (480, 306) Point two:  (0, 646)\n",
      "New points (456, 323)\n",
      "--------------------------------------------------------------------------------------------------------\n",
      "Point one:  (478, 305) Point two:  (959, 612)\n",
      "New points (502, 320)\n",
      "--------------------------------------------------------------------------------------------------------\n",
      "Point one:  (478, 305) Point two:  (0, 647)\n",
      "New points (454, 322)\n",
      "--------------------------------------------------------------------------------------------------------\n"
     ]
    },
    {
     "name": "stderr",
     "output_type": "stream",
     "text": [
      "\n",
      " 12%|████████████████████▍                                                                                                                                                          | 26/222 [00:01<00:07, 24.76it/s]"
     ]
    },
    {
     "name": "stdout",
     "output_type": "stream",
     "text": [
      "Point one:  (481, 306) Point two:  (959, 611)\n",
      "New points (504, 321)\n",
      "--------------------------------------------------------------------------------------------------------\n",
      "Point one:  (481, 306) Point two:  (0, 640)\n",
      "New points (456, 322)\n",
      "--------------------------------------------------------------------------------------------------------\n",
      "Point one:  (485, 307) Point two:  (959, 611)\n",
      "New points (508, 322)\n",
      "--------------------------------------------------------------------------------------------------------\n",
      "Point one:  (485, 307) Point two:  (0, 640)\n",
      "New points (460, 323)\n",
      "--------------------------------------------------------------------------------------------------------\n",
      "Point one:  (478, 305) Point two:  (959, 613)\n",
      "New points (502, 320)\n",
      "--------------------------------------------------------------------------------------------------------\n",
      "Point one:  (478, 305) Point two:  (0, 658)\n",
      "New points (454, 322)\n",
      "--------------------------------------------------------------------------------------------------------\n"
     ]
    },
    {
     "name": "stderr",
     "output_type": "stream",
     "text": [
      "\n",
      " 13%|██████████████████████▊                                                                                                                                                        | 29/222 [00:01<00:07, 24.60it/s]"
     ]
    },
    {
     "name": "stdout",
     "output_type": "stream",
     "text": [
      "Point one:  (478, 305) Point two:  (959, 612)\n",
      "New points (502, 320)\n",
      "--------------------------------------------------------------------------------------------------------\n",
      "Point one:  (478, 305) Point two:  (0, 652)\n",
      "New points (454, 322)\n",
      "--------------------------------------------------------------------------------------------------------\n",
      "Point one:  (480, 304) Point two:  (959, 610)\n",
      "New points (503, 319)\n",
      "--------------------------------------------------------------------------------------------------------\n",
      "Point one:  (480, 304) Point two:  (0, 653)\n",
      "New points (456, 321)\n",
      "--------------------------------------------------------------------------------------------------------\n",
      "Point one:  (479, 305) Point two:  (959, 612)\n",
      "New points (503, 320)\n",
      "--------------------------------------------------------------------------------------------------------\n",
      "Point one:  (479, 305) Point two:  (0, 647)\n",
      "New points (455, 322)\n",
      "--------------------------------------------------------------------------------------------------------\n"
     ]
    },
    {
     "name": "stderr",
     "output_type": "stream",
     "text": [
      "\n",
      " 14%|█████████████████████████▏                                                                                                                                                     | 32/222 [00:01<00:07, 24.67it/s]"
     ]
    },
    {
     "name": "stdout",
     "output_type": "stream",
     "text": [
      "Point one:  (480, 304) Point two:  (959, 610)\n",
      "New points (503, 319)\n",
      "--------------------------------------------------------------------------------------------------------\n",
      "Point one:  (480, 304) Point two:  (0, 646)\n",
      "New points (456, 321)\n",
      "--------------------------------------------------------------------------------------------------------\n",
      "Point one:  (480, 304) Point two:  (959, 608)\n",
      "New points (503, 319)\n",
      "--------------------------------------------------------------------------------------------------------\n",
      "Point one:  (480, 304) Point two:  (0, 647)\n",
      "New points (456, 321)\n",
      "--------------------------------------------------------------------------------------------------------\n",
      "Point one:  (480, 305) Point two:  (959, 606)\n",
      "New points (503, 320)\n",
      "--------------------------------------------------------------------------------------------------------\n",
      "Point one:  (480, 305) Point two:  (0, 653)\n",
      "New points (456, 322)\n",
      "--------------------------------------------------------------------------------------------------------\n"
     ]
    },
    {
     "name": "stderr",
     "output_type": "stream",
     "text": [
      "\n",
      " 16%|███████████████████████████▌                                                                                                                                                   | 35/222 [00:01<00:07, 25.80it/s]"
     ]
    },
    {
     "name": "stdout",
     "output_type": "stream",
     "text": [
      "Point one:  (481, 307) Point two:  (959, 613)\n",
      "New points (504, 322)\n",
      "--------------------------------------------------------------------------------------------------------\n",
      "Point one:  (481, 307) Point two:  (0, 644)\n",
      "New points (456, 323)\n",
      "--------------------------------------------------------------------------------------------------------\n",
      "Point one:  (481, 308) Point two:  (959, 611)\n",
      "New points (504, 323)\n",
      "--------------------------------------------------------------------------------------------------------\n",
      "Point one:  (481, 308) Point two:  (0, 646)\n",
      "New points (456, 324)\n",
      "--------------------------------------------------------------------------------------------------------\n",
      "Point one:  (480, 307) Point two:  (959, 611)\n",
      "New points (503, 322)\n",
      "--------------------------------------------------------------------------------------------------------\n",
      "Point one:  (480, 307) Point two:  (0, 655)\n",
      "New points (456, 324)\n",
      "--------------------------------------------------------------------------------------------------------\n"
     ]
    },
    {
     "name": "stderr",
     "output_type": "stream",
     "text": [
      "\n",
      " 17%|█████████████████████████████▉                                                                                                                                                 | 38/222 [00:01<00:07, 26.00it/s]"
     ]
    },
    {
     "name": "stdout",
     "output_type": "stream",
     "text": [
      "Point one:  (478, 304) Point two:  (959, 618)\n",
      "New points (502, 319)\n",
      "--------------------------------------------------------------------------------------------------------\n",
      "Point one:  (478, 304) Point two:  (0, 656)\n",
      "New points (454, 321)\n",
      "--------------------------------------------------------------------------------------------------------\n",
      "Point one:  (481, 306) Point two:  (959, 612)\n",
      "New points (504, 321)\n",
      "--------------------------------------------------------------------------------------------------------\n",
      "Point one:  (481, 306) Point two:  (0, 646)\n",
      "New points (456, 323)\n",
      "--------------------------------------------------------------------------------------------------------\n",
      "Point one:  (483, 303) Point two:  (959, 622)\n",
      "New points (506, 318)\n",
      "--------------------------------------------------------------------------------------------------------\n",
      "Point one:  (483, 303) Point two:  (0, 641)\n",
      "New points (458, 319)\n",
      "--------------------------------------------------------------------------------------------------------\n"
     ]
    },
    {
     "name": "stderr",
     "output_type": "stream",
     "text": [
      "\n",
      " 18%|████████████████████████████████▎                                                                                                                                              | 41/222 [00:01<00:07, 25.84it/s]"
     ]
    },
    {
     "name": "stdout",
     "output_type": "stream",
     "text": [
      "Point one:  (475, 302) Point two:  (959, 610)\n",
      "New points (499, 317)\n",
      "--------------------------------------------------------------------------------------------------------\n",
      "Point one:  (475, 302) Point two:  (0, 665)\n",
      "New points (451, 320)\n",
      "--------------------------------------------------------------------------------------------------------\n",
      "Point one:  (477, 301) Point two:  (959, 617)\n",
      "New points (501, 316)\n",
      "--------------------------------------------------------------------------------------------------------\n",
      "Point one:  (477, 301) Point two:  (0, 655)\n",
      "New points (453, 318)\n",
      "--------------------------------------------------------------------------------------------------------\n",
      "Point one:  (477, 301) Point two:  (959, 616)\n",
      "New points (501, 316)\n",
      "--------------------------------------------------------------------------------------------------------\n",
      "Point one:  (477, 301) Point two:  (0, 654)\n",
      "New points (453, 318)\n",
      "--------------------------------------------------------------------------------------------------------\n",
      "Point one:  (479, 301) Point two:  (959, 614)\n",
      "New points (503, 316)\n",
      "--------------------------------------------------------------------------------------------------------\n",
      "Point one:  (479, 301) Point two:  (0, 647)\n",
      "New points (455, 318)\n",
      "--------------------------------------------------------------------------------------------------------\n"
     ]
    },
    {
     "name": "stderr",
     "output_type": "stream",
     "text": [
      "\n",
      " 20%|███████████████████████████████████▍                                                                                                                                           | 45/222 [00:01<00:06, 26.80it/s]"
     ]
    },
    {
     "name": "stdout",
     "output_type": "stream",
     "text": [
      "Point one:  (482, 300) Point two:  (959, 619)\n",
      "New points (505, 315)\n",
      "--------------------------------------------------------------------------------------------------------\n",
      "Point one:  (482, 300) Point two:  (0, 643)\n",
      "New points (457, 317)\n",
      "--------------------------------------------------------------------------------------------------------\n",
      "Point one:  (477, 300) Point two:  (959, 616)\n",
      "New points (501, 315)\n",
      "--------------------------------------------------------------------------------------------------------\n",
      "Point one:  (477, 300) Point two:  (0, 659)\n",
      "New points (453, 317)\n",
      "--------------------------------------------------------------------------------------------------------\n",
      "Point one:  (476, 300) Point two:  (959, 615)\n",
      "New points (500, 315)\n",
      "--------------------------------------------------------------------------------------------------------\n",
      "Point one:  (476, 300) Point two:  (0, 653)\n",
      "New points (452, 317)\n",
      "--------------------------------------------------------------------------------------------------------\n"
     ]
    },
    {
     "name": "stderr",
     "output_type": "stream",
     "text": [
      "\n",
      " 22%|█████████████████████████████████████▊                                                                                                                                         | 48/222 [00:01<00:08, 19.52it/s]"
     ]
    },
    {
     "name": "stdout",
     "output_type": "stream",
     "text": [
      "Point one:  (475, 300) Point two:  (959, 615)\n",
      "New points (499, 315)\n",
      "--------------------------------------------------------------------------------------------------------\n",
      "Point one:  (475, 300) Point two:  (0, 658)\n",
      "New points (451, 317)\n",
      "--------------------------------------------------------------------------------------------------------\n",
      "Point one:  (477, 301) Point two:  (959, 613)\n",
      "New points (501, 316)\n",
      "--------------------------------------------------------------------------------------------------------\n",
      "Point one:  (477, 301) Point two:  (0, 648)\n",
      "New points (453, 318)\n",
      "--------------------------------------------------------------------------------------------------------\n",
      "Point one:  (479, 302) Point two:  (959, 614)\n",
      "New points (503, 317)\n",
      "--------------------------------------------------------------------------------------------------------\n",
      "Point one:  (479, 302) Point two:  (0, 645)\n",
      "New points (455, 319)\n",
      "--------------------------------------------------------------------------------------------------------\n",
      "Point one:  (479, 301) Point two:  (959, 605)\n",
      "New points (503, 316)\n",
      "--------------------------------------------------------------------------------------------------------\n",
      "Point one:  (479, 301) Point two:  (0, 639)\n",
      "New points (455, 317)\n",
      "--------------------------------------------------------------------------------------------------------\n"
     ]
    },
    {
     "name": "stderr",
     "output_type": "stream",
     "text": [
      "\n",
      " 23%|████████████████████████████████████████▉                                                                                                                                      | 52/222 [00:02<00:09, 17.30it/s]"
     ]
    },
    {
     "name": "stdout",
     "output_type": "stream",
     "text": [
      "Point one:  (478, 301) Point two:  (959, 618)\n",
      "New points (502, 316)\n",
      "--------------------------------------------------------------------------------------------------------\n",
      "Point one:  (478, 301) Point two:  (0, 639)\n",
      "New points (454, 317)\n",
      "--------------------------------------------------------------------------------------------------------\n",
      "Point one:  (475, 303) Point two:  (959, 606)\n",
      "New points (499, 318)\n",
      "--------------------------------------------------------------------------------------------------------\n",
      "Point one:  (475, 303) Point two:  (0, 641)\n",
      "New points (451, 319)\n",
      "--------------------------------------------------------------------------------------------------------\n"
     ]
    },
    {
     "name": "stderr",
     "output_type": "stream",
     "text": [
      "\n",
      " 24%|██████████████████████████████████████████▌                                                                                                                                    | 54/222 [00:02<00:11, 14.76it/s]"
     ]
    },
    {
     "name": "stdout",
     "output_type": "stream",
     "text": [
      "Point one:  (475, 303) Point two:  (959, 610)\n",
      "New points (499, 318)\n",
      "--------------------------------------------------------------------------------------------------------\n",
      "Point one:  (475, 303) Point two:  (0, 641)\n",
      "New points (451, 319)\n",
      "--------------------------------------------------------------------------------------------------------\n",
      "Point one:  (479, 302) Point two:  (959, 617)\n",
      "New points (503, 317)\n",
      "--------------------------------------------------------------------------------------------------------\n",
      "Point one:  (479, 302) Point two:  (0, 634)\n",
      "New points (455, 318)\n",
      "--------------------------------------------------------------------------------------------------------\n"
     ]
    },
    {
     "name": "stderr",
     "output_type": "stream",
     "text": [
      "\n",
      " 25%|████████████████████████████████████████████▏                                                                                                                                  | 56/222 [00:02<00:12, 13.03it/s]"
     ]
    },
    {
     "name": "stdout",
     "output_type": "stream",
     "text": [
      "Point one:  (476, 307) Point two:  (959, 612)\n",
      "New points (500, 322)\n",
      "--------------------------------------------------------------------------------------------------------\n",
      "Point one:  (476, 307) Point two:  (0, 633)\n",
      "New points (452, 323)\n",
      "--------------------------------------------------------------------------------------------------------\n",
      "Point one:  (475, 306) Point two:  (959, 609)\n",
      "New points (499, 321)\n",
      "--------------------------------------------------------------------------------------------------------\n",
      "Point one:  (475, 306) Point two:  (0, 637)\n",
      "New points (451, 322)\n",
      "--------------------------------------------------------------------------------------------------------\n",
      "Point one:  (475, 306) Point two:  (959, 612)\n",
      "New points (499, 321)\n",
      "--------------------------------------------------------------------------------------------------------\n",
      "Point one:  (475, 306) Point two:  (0, 642)\n",
      "New points (451, 322)\n",
      "--------------------------------------------------------------------------------------------------------\n"
     ]
    },
    {
     "name": "stderr",
     "output_type": "stream",
     "text": [
      "\n",
      " 27%|██████████████████████████████████████████████▌                                                                                                                                | 59/222 [00:02<00:11, 13.88it/s]"
     ]
    },
    {
     "name": "stdout",
     "output_type": "stream",
     "text": [
      "Point one:  (478, 303) Point two:  (959, 618)\n",
      "New points (502, 318)\n",
      "--------------------------------------------------------------------------------------------------------\n",
      "Point one:  (478, 303) Point two:  (0, 637)\n",
      "New points (454, 319)\n",
      "--------------------------------------------------------------------------------------------------------\n",
      "Point one:  (480, 305) Point two:  (959, 618)\n",
      "New points (503, 320)\n",
      "--------------------------------------------------------------------------------------------------------\n",
      "Point one:  (480, 305) Point two:  (0, 634)\n",
      "New points (456, 321)\n",
      "--------------------------------------------------------------------------------------------------------\n"
     ]
    },
    {
     "name": "stderr",
     "output_type": "stream",
     "text": [
      "\n",
      " 27%|████████████████████████████████████████████████                                                                                                                               | 61/222 [00:03<00:16, 10.03it/s]"
     ]
    },
    {
     "name": "stdout",
     "output_type": "stream",
     "text": [
      "Point one:  (479, 304) Point two:  (959, 620)\n",
      "New points (503, 319)\n",
      "--------------------------------------------------------------------------------------------------------\n",
      "Point one:  (479, 304) Point two:  (0, 634)\n",
      "New points (455, 320)\n",
      "--------------------------------------------------------------------------------------------------------\n",
      "Point one:  (478, 305) Point two:  (959, 617)\n",
      "New points (502, 320)\n",
      "--------------------------------------------------------------------------------------------------------\n",
      "Point one:  (478, 305) Point two:  (0, 645)\n",
      "New points (454, 322)\n",
      "--------------------------------------------------------------------------------------------------------\n"
     ]
    },
    {
     "name": "stderr",
     "output_type": "stream",
     "text": [
      "\n",
      " 28%|█████████████████████████████████████████████████▋                                                                                                                             | 63/222 [00:03<00:14, 10.67it/s]"
     ]
    },
    {
     "name": "stdout",
     "output_type": "stream",
     "text": [
      "Point one:  (481, 305) Point two:  (959, 626)\n",
      "New points (504, 321)\n",
      "--------------------------------------------------------------------------------------------------------\n",
      "Point one:  (481, 305) Point two:  (0, 627)\n",
      "New points (456, 321)\n",
      "--------------------------------------------------------------------------------------------------------\n",
      "Point one:  (478, 305) Point two:  (959, 621)\n",
      "New points (502, 320)\n",
      "--------------------------------------------------------------------------------------------------------\n",
      "Point one:  (478, 305) Point two:  (0, 633)\n",
      "New points (454, 321)\n",
      "--------------------------------------------------------------------------------------------------------\n",
      "Point one:  (481, 306) Point two:  (959, 620)\n",
      "New points (504, 321)\n",
      "--------------------------------------------------------------------------------------------------------\n",
      "Point one:  (481, 306) Point two:  (0, 624)\n",
      "New points (456, 321)\n",
      "--------------------------------------------------------------------------------------------------------\n"
     ]
    },
    {
     "name": "stderr",
     "output_type": "stream",
     "text": [
      "\n",
      " 30%|████████████████████████████████████████████████████                                                                                                                           | 66/222 [00:03<00:12, 12.76it/s]"
     ]
    },
    {
     "name": "stdout",
     "output_type": "stream",
     "text": [
      "Point one:  (480, 302) Point two:  (959, 622)\n",
      "New points (503, 318)\n",
      "--------------------------------------------------------------------------------------------------------\n",
      "Point one:  (480, 302) Point two:  (0, 626)\n",
      "New points (456, 318)\n",
      "--------------------------------------------------------------------------------------------------------\n",
      "Point one:  (478, 306) Point two:  (959, 617)\n",
      "New points (502, 321)\n",
      "--------------------------------------------------------------------------------------------------------\n",
      "Point one:  (478, 306) Point two:  (0, 621)\n",
      "New points (454, 321)\n",
      "--------------------------------------------------------------------------------------------------------\n"
     ]
    },
    {
     "name": "stderr",
     "output_type": "stream",
     "text": [
      "\n",
      " 31%|█████████████████████████████████████████████████████▌                                                                                                                         | 68/222 [00:03<00:14, 10.68it/s]"
     ]
    },
    {
     "name": "stdout",
     "output_type": "stream",
     "text": [
      "Point one:  (477, 304) Point two:  (959, 621)\n",
      "New points (501, 319)\n",
      "--------------------------------------------------------------------------------------------------------\n",
      "Point one:  (477, 304) Point two:  (0, 630)\n",
      "New points (453, 320)\n",
      "--------------------------------------------------------------------------------------------------------\n",
      "Point one:  (476, 303) Point two:  (959, 621)\n",
      "New points (500, 318)\n",
      "--------------------------------------------------------------------------------------------------------\n",
      "Point one:  (476, 303) Point two:  (0, 640)\n",
      "New points (452, 319)\n",
      "--------------------------------------------------------------------------------------------------------\n"
     ]
    },
    {
     "name": "stderr",
     "output_type": "stream",
     "text": [
      "\n",
      " 32%|███████████████████████████████████████████████████████▏                                                                                                                       | 70/222 [00:03<00:13, 11.04it/s]"
     ]
    },
    {
     "name": "stdout",
     "output_type": "stream",
     "text": [
      "Point one:  (477, 303) Point two:  (959, 622)\n",
      "New points (501, 318)\n",
      "--------------------------------------------------------------------------------------------------------\n",
      "Point one:  (477, 303) Point two:  (0, 633)\n",
      "New points (453, 319)\n",
      "--------------------------------------------------------------------------------------------------------\n",
      "Point one:  (478, 303) Point two:  (959, 624)\n",
      "New points (502, 319)\n",
      "--------------------------------------------------------------------------------------------------------\n",
      "Point one:  (478, 303) Point two:  (0, 629)\n",
      "New points (454, 319)\n",
      "--------------------------------------------------------------------------------------------------------\n"
     ]
    },
    {
     "name": "stderr",
     "output_type": "stream",
     "text": [
      "\n",
      " 32%|████████████████████████████████████████████████████████▊                                                                                                                      | 72/222 [00:04<00:14, 10.06it/s]"
     ]
    },
    {
     "name": "stdout",
     "output_type": "stream",
     "text": [
      "Point one:  (477, 304) Point two:  (959, 621)\n",
      "New points (501, 319)\n",
      "--------------------------------------------------------------------------------------------------------\n",
      "Point one:  (477, 304) Point two:  (0, 633)\n",
      "New points (453, 320)\n",
      "--------------------------------------------------------------------------------------------------------\n",
      "Point one:  (479, 304) Point two:  (959, 622)\n",
      "New points (503, 319)\n",
      "--------------------------------------------------------------------------------------------------------\n",
      "Point one:  (479, 304) Point two:  (0, 632)\n",
      "New points (455, 320)\n",
      "--------------------------------------------------------------------------------------------------------\n"
     ]
    },
    {
     "name": "stderr",
     "output_type": "stream",
     "text": [
      "\n",
      " 33%|██████████████████████████████████████████████████████████▎                                                                                                                    | 74/222 [00:04<00:14, 10.25it/s]"
     ]
    },
    {
     "name": "stdout",
     "output_type": "stream",
     "text": [
      "Point one:  (478, 305) Point two:  (959, 621)\n",
      "New points (502, 320)\n",
      "--------------------------------------------------------------------------------------------------------\n",
      "Point one:  (478, 305) Point two:  (0, 627)\n",
      "New points (454, 321)\n",
      "--------------------------------------------------------------------------------------------------------\n",
      "Point one:  (477, 302) Point two:  (959, 620)\n",
      "New points (501, 317)\n",
      "--------------------------------------------------------------------------------------------------------\n",
      "Point one:  (477, 302) Point two:  (0, 627)\n",
      "New points (453, 318)\n",
      "--------------------------------------------------------------------------------------------------------\n"
     ]
    },
    {
     "name": "stderr",
     "output_type": "stream",
     "text": [
      "\n",
      " 34%|███████████████████████████████████████████████████████████▉                                                                                                                   | 76/222 [00:04<00:13, 10.60it/s]"
     ]
    },
    {
     "name": "stdout",
     "output_type": "stream",
     "text": [
      "Point one:  (476, 306) Point two:  (959, 623)\n",
      "New points (500, 321)\n",
      "--------------------------------------------------------------------------------------------------------\n",
      "Point one:  (476, 306) Point two:  (0, 619)\n",
      "New points (452, 321)\n",
      "--------------------------------------------------------------------------------------------------------\n",
      "Point one:  (473, 303) Point two:  (959, 626)\n",
      "New points (497, 319)\n",
      "--------------------------------------------------------------------------------------------------------\n",
      "Point one:  (473, 303) Point two:  (0, 634)\n",
      "New points (449, 319)\n",
      "--------------------------------------------------------------------------------------------------------\n",
      "Point one:  (480, 306) Point two:  (959, 632)\n",
      "New points (503, 322)\n",
      "--------------------------------------------------------------------------------------------------------\n",
      "Point one:  (480, 306) Point two:  (0, 619)\n",
      "New points (456, 321)\n",
      "--------------------------------------------------------------------------------------------------------\n"
     ]
    },
    {
     "name": "stderr",
     "output_type": "stream",
     "text": [
      "\n",
      " 36%|██████████████████████████████████████████████████████████████▎                                                                                                                | 79/222 [00:04<00:12, 11.66it/s]"
     ]
    },
    {
     "name": "stdout",
     "output_type": "stream",
     "text": [
      "Point one:  (476, 307) Point two:  (959, 635)\n",
      "New points (500, 323)\n",
      "--------------------------------------------------------------------------------------------------------\n",
      "Point one:  (476, 307) Point two:  (0, 614)\n",
      "New points (452, 322)\n",
      "--------------------------------------------------------------------------------------------------------\n",
      "Point one:  (478, 305) Point two:  (959, 631)\n",
      "New points (502, 321)\n",
      "--------------------------------------------------------------------------------------------------------\n",
      "Point one:  (478, 305) Point two:  (0, 620)\n",
      "New points (454, 320)\n",
      "--------------------------------------------------------------------------------------------------------\n"
     ]
    },
    {
     "name": "stderr",
     "output_type": "stream",
     "text": [
      "\n",
      " 36%|███████████████████████████████████████████████████████████████▊                                                                                                               | 81/222 [00:04<00:10, 13.18it/s]"
     ]
    },
    {
     "name": "stdout",
     "output_type": "stream",
     "text": [
      "Point one:  (477, 305) Point two:  (959, 620)\n",
      "New points (501, 320)\n",
      "--------------------------------------------------------------------------------------------------------\n",
      "Point one:  (477, 305) Point two:  (0, 620)\n",
      "New points (453, 320)\n",
      "--------------------------------------------------------------------------------------------------------\n",
      "Point one:  (477, 305) Point two:  (959, 627)\n",
      "New points (501, 321)\n",
      "--------------------------------------------------------------------------------------------------------\n",
      "Point one:  (477, 305) Point two:  (0, 617)\n",
      "New points (453, 320)\n",
      "--------------------------------------------------------------------------------------------------------\n"
     ]
    },
    {
     "name": "stderr",
     "output_type": "stream",
     "text": [
      "\n",
      " 37%|█████████████████████████████████████████████████████████████████▍                                                                                                             | 83/222 [00:05<00:14,  9.92it/s]"
     ]
    },
    {
     "name": "stdout",
     "output_type": "stream",
     "text": [
      "Point one:  (478, 305) Point two:  (959, 621)\n",
      "New points (502, 320)\n",
      "--------------------------------------------------------------------------------------------------------\n",
      "Point one:  (478, 305) Point two:  (0, 618)\n",
      "New points (454, 320)\n",
      "--------------------------------------------------------------------------------------------------------\n",
      "Point one:  (484, 304) Point two:  (959, 628)\n",
      "New points (507, 320)\n",
      "--------------------------------------------------------------------------------------------------------\n",
      "Point one:  (484, 304) Point two:  (0, 612)\n",
      "New points (459, 319)\n",
      "--------------------------------------------------------------------------------------------------------\n"
     ]
    },
    {
     "name": "stderr",
     "output_type": "stream",
     "text": [
      "\n",
      " 38%|███████████████████████████████████████████████████████████████████                                                                                                            | 85/222 [00:05<00:12, 10.98it/s]"
     ]
    },
    {
     "name": "stdout",
     "output_type": "stream",
     "text": [
      "Point one:  (481, 307) Point two:  (959, 629)\n",
      "New points (504, 323)\n",
      "--------------------------------------------------------------------------------------------------------\n",
      "Point one:  (481, 307) Point two:  (0, 615)\n",
      "New points (456, 322)\n",
      "--------------------------------------------------------------------------------------------------------\n",
      "Point one:  (481, 303) Point two:  (959, 632)\n",
      "New points (504, 319)\n",
      "--------------------------------------------------------------------------------------------------------\n",
      "Point one:  (481, 303) Point two:  (0, 619)\n",
      "New points (456, 318)\n",
      "--------------------------------------------------------------------------------------------------------\n"
     ]
    },
    {
     "name": "stderr",
     "output_type": "stream",
     "text": [
      "\n",
      " 39%|████████████████████████████████████████████████████████████████████▌                                                                                                          | 87/222 [00:05<00:10, 12.52it/s]"
     ]
    },
    {
     "name": "stdout",
     "output_type": "stream",
     "text": [
      "Point one:  (478, 306) Point two:  (959, 630)\n",
      "New points (502, 322)\n",
      "--------------------------------------------------------------------------------------------------------\n",
      "Point one:  (478, 306) Point two:  (0, 626)\n",
      "New points (454, 322)\n",
      "--------------------------------------------------------------------------------------------------------\n",
      "Point one:  (481, 306) Point two:  (959, 635)\n",
      "New points (504, 322)\n",
      "--------------------------------------------------------------------------------------------------------\n",
      "Point one:  (481, 306) Point two:  (0, 615)\n",
      "New points (456, 321)\n",
      "--------------------------------------------------------------------------------------------------------\n"
     ]
    },
    {
     "name": "stderr",
     "output_type": "stream",
     "text": [
      "\n",
      " 40%|██████████████████████████████████████████████████████████████████████▏                                                                                                        | 89/222 [00:05<00:11, 12.07it/s]"
     ]
    },
    {
     "name": "stdout",
     "output_type": "stream",
     "text": [
      "Point one:  (480, 305) Point two:  (959, 635)\n",
      "New points (503, 321)\n",
      "--------------------------------------------------------------------------------------------------------\n",
      "Point one:  (480, 305) Point two:  (0, 622)\n",
      "New points (456, 320)\n",
      "--------------------------------------------------------------------------------------------------------\n",
      "Point one:  (484, 306) Point two:  (959, 635)\n",
      "New points (507, 322)\n",
      "--------------------------------------------------------------------------------------------------------\n",
      "Point one:  (484, 306) Point two:  (0, 611)\n",
      "New points (459, 321)\n",
      "--------------------------------------------------------------------------------------------------------\n",
      "Point one:  (479, 307) Point two:  (959, 630)\n",
      "New points (503, 323)\n",
      "--------------------------------------------------------------------------------------------------------\n",
      "Point one:  (479, 307) Point two:  (0, 624)\n",
      "New points (455, 322)\n",
      "--------------------------------------------------------------------------------------------------------\n"
     ]
    },
    {
     "name": "stderr",
     "output_type": "stream",
     "text": [
      "\n",
      " 41%|████████████████████████████████████████████████████████████████████████▌                                                                                                      | 92/222 [00:05<00:09, 13.51it/s]"
     ]
    },
    {
     "name": "stdout",
     "output_type": "stream",
     "text": [
      "Point one:  (483, 304) Point two:  (959, 643)\n",
      "New points (506, 320)\n",
      "--------------------------------------------------------------------------------------------------------\n",
      "Point one:  (483, 304) Point two:  (0, 623)\n",
      "New points (458, 319)\n",
      "--------------------------------------------------------------------------------------------------------\n",
      "Point one:  (482, 306) Point two:  (959, 638)\n",
      "New points (505, 322)\n",
      "--------------------------------------------------------------------------------------------------------\n",
      "Point one:  (482, 306) Point two:  (0, 618)\n",
      "New points (457, 321)\n",
      "--------------------------------------------------------------------------------------------------------\n"
     ]
    },
    {
     "name": "stderr",
     "output_type": "stream",
     "text": [
      "\n",
      " 42%|██████████████████████████████████████████████████████████████████████████                                                                                                     | 94/222 [00:05<00:09, 12.91it/s]"
     ]
    },
    {
     "name": "stdout",
     "output_type": "stream",
     "text": [
      "Point one:  (482, 305) Point two:  (959, 629)\n",
      "New points (505, 321)\n",
      "--------------------------------------------------------------------------------------------------------\n",
      "Point one:  (482, 305) Point two:  (0, 623)\n",
      "New points (457, 320)\n",
      "--------------------------------------------------------------------------------------------------------\n",
      "Point one:  (481, 307) Point two:  (959, 627)\n",
      "New points (504, 323)\n",
      "--------------------------------------------------------------------------------------------------------\n",
      "Point one:  (481, 307) Point two:  (0, 618)\n",
      "New points (456, 322)\n",
      "--------------------------------------------------------------------------------------------------------\n"
     ]
    },
    {
     "name": "stderr",
     "output_type": "stream",
     "text": [
      "\n",
      " 43%|███████████████████████████████████████████████████████████████████████████▋                                                                                                   | 96/222 [00:06<00:12,  9.95it/s]"
     ]
    },
    {
     "name": "stdout",
     "output_type": "stream",
     "text": [
      "Point one:  (483, 302) Point two:  (959, 634)\n",
      "New points (506, 318)\n",
      "--------------------------------------------------------------------------------------------------------\n",
      "Point one:  (483, 302) Point two:  (0, 624)\n",
      "New points (458, 318)\n",
      "--------------------------------------------------------------------------------------------------------\n",
      "Point one:  (480, 303) Point two:  (959, 633)\n",
      "New points (503, 319)\n",
      "--------------------------------------------------------------------------------------------------------\n",
      "Point one:  (480, 303) Point two:  (0, 627)\n",
      "New points (456, 319)\n",
      "--------------------------------------------------------------------------------------------------------\n",
      "Point one:  (484, 302) Point two:  (959, 632)\n",
      "New points (507, 318)\n",
      "--------------------------------------------------------------------------------------------------------\n",
      "Point one:  (484, 302) Point two:  (0, 622)\n",
      "New points (459, 318)\n",
      "--------------------------------------------------------------------------------------------------------\n",
      "Point one:  (487, 303) Point two:  (959, 634)\n",
      "New points (510, 319)\n",
      "--------------------------------------------------------------------------------------------------------\n",
      "Point one:  (487, 303) Point two:  (0, 616)\n",
      "New points (462, 318)\n",
      "--------------------------------------------------------------------------------------------------------\n"
     ]
    },
    {
     "name": "stderr",
     "output_type": "stream",
     "text": [
      "\n",
      " 45%|██████████████████████████████████████████████████████████████████████████████▍                                                                                               | 100/222 [00:06<00:10, 11.64it/s]"
     ]
    },
    {
     "name": "stdout",
     "output_type": "stream",
     "text": [
      "Point one:  (481, 300) Point two:  (959, 634)\n",
      "New points (504, 316)\n",
      "--------------------------------------------------------------------------------------------------------\n",
      "Point one:  (481, 300) Point two:  (0, 625)\n",
      "New points (456, 316)\n",
      "--------------------------------------------------------------------------------------------------------\n",
      "Point one:  (483, 302) Point two:  (959, 639)\n",
      "New points (506, 318)\n",
      "--------------------------------------------------------------------------------------------------------\n",
      "Point one:  (483, 302) Point two:  (0, 635)\n",
      "New points (458, 318)\n",
      "--------------------------------------------------------------------------------------------------------\n"
     ]
    },
    {
     "name": "stderr",
     "output_type": "stream",
     "text": [
      "\n",
      " 46%|███████████████████████████████████████████████████████████████████████████████▉                                                                                              | 102/222 [00:06<00:10, 11.25it/s]"
     ]
    },
    {
     "name": "stdout",
     "output_type": "stream",
     "text": [
      "Point one:  (484, 309) Point two:  (959, 635)\n",
      "New points (507, 325)\n",
      "--------------------------------------------------------------------------------------------------------\n",
      "Point one:  (484, 309) Point two:  (0, 617)\n",
      "New points (459, 324)\n",
      "--------------------------------------------------------------------------------------------------------\n",
      "Point one:  (481, 305) Point two:  (959, 625)\n",
      "New points (504, 321)\n",
      "--------------------------------------------------------------------------------------------------------\n",
      "Point one:  (481, 305) Point two:  (0, 636)\n",
      "New points (456, 321)\n",
      "--------------------------------------------------------------------------------------------------------\n"
     ]
    },
    {
     "name": "stderr",
     "output_type": "stream",
     "text": [
      "\n",
      " 47%|█████████████████████████████████████████████████████████████████████████████████▌                                                                                            | 104/222 [00:06<00:09, 12.77it/s]"
     ]
    },
    {
     "name": "stdout",
     "output_type": "stream",
     "text": [
      "Point one:  (483, 303) Point two:  (959, 631)\n",
      "New points (506, 319)\n",
      "--------------------------------------------------------------------------------------------------------\n",
      "Point one:  (483, 303) Point two:  (0, 641)\n",
      "New points (458, 319)\n",
      "--------------------------------------------------------------------------------------------------------\n",
      "Point one:  (484, 305) Point two:  (959, 622)\n",
      "New points (507, 320)\n",
      "--------------------------------------------------------------------------------------------------------\n",
      "Point one:  (484, 305) Point two:  (0, 628)\n",
      "New points (459, 321)\n",
      "--------------------------------------------------------------------------------------------------------\n",
      "Point one:  (482, 303) Point two:  (959, 616)\n",
      "New points (505, 318)\n",
      "--------------------------------------------------------------------------------------------------------\n",
      "Point one:  (482, 303) Point two:  (0, 635)\n",
      "New points (457, 319)\n",
      "--------------------------------------------------------------------------------------------------------\n"
     ]
    },
    {
     "name": "stderr",
     "output_type": "stream",
     "text": [
      "\n",
      " 48%|███████████████████████████████████████████████████████████████████████████████████▊                                                                                          | 107/222 [00:06<00:10, 11.50it/s]"
     ]
    },
    {
     "name": "stdout",
     "output_type": "stream",
     "text": [
      "Point one:  (483, 302) Point two:  (959, 629)\n",
      "New points (506, 318)\n",
      "--------------------------------------------------------------------------------------------------------\n",
      "Point one:  (483, 302) Point two:  (0, 634)\n",
      "New points (458, 318)\n",
      "--------------------------------------------------------------------------------------------------------\n",
      "Point one:  (486, 304) Point two:  (959, 630)\n",
      "New points (509, 320)\n",
      "--------------------------------------------------------------------------------------------------------\n",
      "Point one:  (486, 304) Point two:  (0, 631)\n",
      "New points (461, 320)\n",
      "--------------------------------------------------------------------------------------------------------\n"
     ]
    },
    {
     "name": "stderr",
     "output_type": "stream",
     "text": [
      "\n",
      " 49%|█████████████████████████████████████████████████████████████████████████████████████▍                                                                                        | 109/222 [00:07<00:10, 11.18it/s]"
     ]
    },
    {
     "name": "stdout",
     "output_type": "stream",
     "text": [
      "Point one:  (483, 303) Point two:  (959, 625)\n",
      "New points (506, 319)\n",
      "--------------------------------------------------------------------------------------------------------\n",
      "Point one:  (483, 303) Point two:  (0, 635)\n",
      "New points (458, 319)\n",
      "--------------------------------------------------------------------------------------------------------\n",
      "Point one:  (485, 304) Point two:  (959, 629)\n",
      "New points (508, 320)\n",
      "--------------------------------------------------------------------------------------------------------\n",
      "Point one:  (485, 304) Point two:  (0, 634)\n",
      "New points (460, 320)\n",
      "--------------------------------------------------------------------------------------------------------\n",
      "Point one:  (482, 300) Point two:  (959, 628)\n",
      "New points (505, 316)\n",
      "--------------------------------------------------------------------------------------------------------\n",
      "Point one:  (482, 300) Point two:  (0, 650)\n",
      "New points (457, 317)\n",
      "--------------------------------------------------------------------------------------------------------\n"
     ]
    },
    {
     "name": "stderr",
     "output_type": "stream",
     "text": [
      "\n",
      " 50%|███████████████████████████████████████████████████████████████████████████████████████▊                                                                                      | 112/222 [00:07<00:09, 11.62it/s]"
     ]
    },
    {
     "name": "stdout",
     "output_type": "stream",
     "text": [
      "Point one:  (482, 299) Point two:  (959, 627)\n",
      "New points (505, 315)\n",
      "--------------------------------------------------------------------------------------------------------\n",
      "Point one:  (482, 299) Point two:  (0, 645)\n",
      "New points (457, 316)\n",
      "--------------------------------------------------------------------------------------------------------\n",
      "Point one:  (482, 301) Point two:  (959, 619)\n",
      "New points (505, 316)\n",
      "--------------------------------------------------------------------------------------------------------\n",
      "Point one:  (482, 301) Point two:  (0, 644)\n",
      "New points (457, 318)\n",
      "--------------------------------------------------------------------------------------------------------\n"
     ]
    },
    {
     "name": "stderr",
     "output_type": "stream",
     "text": [
      "\n",
      " 51%|█████████████████████████████████████████████████████████████████████████████████████████▎                                                                                    | 114/222 [00:07<00:09, 11.72it/s]"
     ]
    },
    {
     "name": "stdout",
     "output_type": "stream",
     "text": [
      "Point one:  (486, 300) Point two:  (959, 624)\n",
      "New points (509, 316)\n",
      "--------------------------------------------------------------------------------------------------------\n",
      "Point one:  (486, 300) Point two:  (0, 633)\n",
      "New points (461, 316)\n",
      "--------------------------------------------------------------------------------------------------------\n",
      "Point one:  (483, 303) Point two:  (959, 619)\n",
      "New points (506, 318)\n",
      "--------------------------------------------------------------------------------------------------------\n",
      "Point one:  (483, 303) Point two:  (0, 625)\n",
      "New points (458, 319)\n",
      "--------------------------------------------------------------------------------------------------------\n",
      "Point one:  (485, 301) Point two:  (959, 620)\n",
      "New points (508, 316)\n",
      "--------------------------------------------------------------------------------------------------------\n",
      "Point one:  (485, 301) Point two:  (0, 627)\n",
      "New points (460, 317)\n",
      "--------------------------------------------------------------------------------------------------------\n"
     ]
    },
    {
     "name": "stderr",
     "output_type": "stream",
     "text": [
      "\n",
      " 53%|███████████████████████████████████████████████████████████████████████████████████████████▋                                                                                  | 117/222 [00:07<00:07, 14.20it/s]"
     ]
    },
    {
     "name": "stdout",
     "output_type": "stream",
     "text": [
      "Point one:  (481, 300) Point two:  (959, 620)\n",
      "New points (504, 316)\n",
      "--------------------------------------------------------------------------------------------------------\n",
      "Point one:  (481, 300) Point two:  (0, 642)\n",
      "New points (456, 317)\n",
      "--------------------------------------------------------------------------------------------------------\n",
      "Point one:  (486, 304) Point two:  (959, 621)\n",
      "New points (509, 319)\n",
      "--------------------------------------------------------------------------------------------------------\n",
      "Point one:  (486, 304) Point two:  (0, 621)\n",
      "New points (461, 319)\n",
      "--------------------------------------------------------------------------------------------------------\n"
     ]
    },
    {
     "name": "stderr",
     "output_type": "stream",
     "text": [
      "\n",
      " 54%|█████████████████████████████████████████████████████████████████████████████████████████████▎                                                                                | 119/222 [00:08<00:10,  9.54it/s]"
     ]
    },
    {
     "name": "stdout",
     "output_type": "stream",
     "text": [
      "Point one:  (484, 301) Point two:  (959, 629)\n",
      "New points (507, 317)\n",
      "--------------------------------------------------------------------------------------------------------\n",
      "Point one:  (484, 301) Point two:  (0, 636)\n",
      "New points (459, 317)\n",
      "--------------------------------------------------------------------------------------------------------\n",
      "Point one:  (484, 304) Point two:  (959, 618)\n",
      "New points (507, 319)\n",
      "--------------------------------------------------------------------------------------------------------\n",
      "Point one:  (484, 304) Point two:  (0, 631)\n",
      "New points (459, 320)\n",
      "--------------------------------------------------------------------------------------------------------\n"
     ]
    },
    {
     "name": "stderr",
     "output_type": "stream",
     "text": [
      "\n",
      " 55%|██████████████████████████████████████████████████████████████████████████████████████████████▊                                                                               | 121/222 [00:08<00:09, 10.31it/s]"
     ]
    },
    {
     "name": "stdout",
     "output_type": "stream",
     "text": [
      "Point one:  (482, 305) Point two:  (959, 614)\n",
      "New points (505, 320)\n",
      "--------------------------------------------------------------------------------------------------------\n",
      "Point one:  (482, 305) Point two:  (0, 633)\n",
      "New points (457, 321)\n",
      "--------------------------------------------------------------------------------------------------------\n",
      "Point one:  (487, 306) Point two:  (959, 615)\n",
      "New points (510, 321)\n",
      "--------------------------------------------------------------------------------------------------------\n",
      "Point one:  (487, 306) Point two:  (0, 629)\n",
      "New points (462, 322)\n",
      "--------------------------------------------------------------------------------------------------------\n",
      "Point one:  (485, 304) Point two:  (959, 613)\n",
      "New points (508, 319)\n",
      "--------------------------------------------------------------------------------------------------------\n",
      "Point one:  (485, 304) Point two:  (0, 641)\n",
      "New points (460, 320)\n",
      "--------------------------------------------------------------------------------------------------------\n"
     ]
    },
    {
     "name": "stderr",
     "output_type": "stream",
     "text": [
      "\n",
      " 56%|█████████████████████████████████████████████████████████████████████████████████████████████████▏                                                                            | 124/222 [00:08<00:08, 11.45it/s]"
     ]
    },
    {
     "name": "stdout",
     "output_type": "stream",
     "text": [
      "Point one:  (483, 303) Point two:  (959, 611)\n",
      "New points (506, 318)\n",
      "--------------------------------------------------------------------------------------------------------\n",
      "Point one:  (483, 303) Point two:  (0, 642)\n",
      "New points (458, 319)\n",
      "--------------------------------------------------------------------------------------------------------\n",
      "Point one:  (484, 308) Point two:  (959, 610)\n",
      "New points (507, 323)\n",
      "--------------------------------------------------------------------------------------------------------\n",
      "Point one:  (484, 308) Point two:  (0, 631)\n",
      "New points (459, 324)\n",
      "--------------------------------------------------------------------------------------------------------\n",
      "Point one:  (487, 308) Point two:  (959, 610)\n",
      "New points (510, 323)\n",
      "--------------------------------------------------------------------------------------------------------\n",
      "Point one:  (487, 308) Point two:  (0, 624)\n",
      "New points (462, 323)\n",
      "--------------------------------------------------------------------------------------------------------\n"
     ]
    },
    {
     "name": "stderr",
     "output_type": "stream",
     "text": [
      "\n",
      " 57%|███████████████████████████████████████████████████████████████████████████████████████████████████▌                                                                          | 127/222 [00:08<00:07, 12.04it/s]"
     ]
    },
    {
     "name": "stdout",
     "output_type": "stream",
     "text": [
      "Point one:  (483, 306) Point two:  (959, 612)\n",
      "New points (506, 321)\n",
      "--------------------------------------------------------------------------------------------------------\n",
      "Point one:  (483, 306) Point two:  (0, 639)\n",
      "New points (458, 322)\n",
      "--------------------------------------------------------------------------------------------------------\n",
      "Point one:  (483, 306) Point two:  (959, 612)\n",
      "New points (506, 321)\n",
      "--------------------------------------------------------------------------------------------------------\n",
      "Point one:  (483, 306) Point two:  (0, 638)\n",
      "New points (458, 322)\n",
      "--------------------------------------------------------------------------------------------------------\n",
      "Point one:  (483, 305) Point two:  (959, 609)\n",
      "New points (506, 320)\n",
      "--------------------------------------------------------------------------------------------------------\n",
      "Point one:  (483, 305) Point two:  (0, 648)\n",
      "New points (458, 322)\n",
      "--------------------------------------------------------------------------------------------------------\n"
     ]
    },
    {
     "name": "stderr",
     "output_type": "stream",
     "text": [
      "\n",
      " 59%|█████████████████████████████████████████████████████████████████████████████████████████████████████▉                                                                        | 130/222 [00:08<00:07, 12.69it/s]"
     ]
    },
    {
     "name": "stdout",
     "output_type": "stream",
     "text": [
      "Point one:  (486, 307) Point two:  (959, 610)\n",
      "New points (509, 322)\n",
      "--------------------------------------------------------------------------------------------------------\n",
      "Point one:  (486, 307) Point two:  (0, 640)\n",
      "New points (461, 323)\n",
      "--------------------------------------------------------------------------------------------------------\n",
      "Point one:  (484, 307) Point two:  (959, 610)\n",
      "New points (507, 322)\n",
      "--------------------------------------------------------------------------------------------------------\n",
      "Point one:  (484, 307) Point two:  (0, 650)\n",
      "New points (459, 324)\n",
      "--------------------------------------------------------------------------------------------------------\n"
     ]
    },
    {
     "name": "stderr",
     "output_type": "stream",
     "text": [
      "\n",
      " 59%|███████████████████████████████████████████████████████████████████████████████████████████████████████▍                                                                      | 132/222 [00:09<00:08, 10.40it/s]"
     ]
    },
    {
     "name": "stdout",
     "output_type": "stream",
     "text": [
      "Point one:  (486, 306) Point two:  (959, 602)\n",
      "New points (509, 320)\n",
      "--------------------------------------------------------------------------------------------------------\n",
      "Point one:  (486, 306) Point two:  (0, 647)\n",
      "New points (461, 323)\n",
      "--------------------------------------------------------------------------------------------------------\n",
      "Point one:  (482, 303) Point two:  (959, 613)\n",
      "New points (505, 318)\n",
      "--------------------------------------------------------------------------------------------------------\n",
      "Point one:  (482, 303) Point two:  (0, 650)\n",
      "New points (457, 320)\n",
      "--------------------------------------------------------------------------------------------------------\n"
     ]
    },
    {
     "name": "stderr",
     "output_type": "stream",
     "text": [
      "\n",
      " 60%|█████████████████████████████████████████████████████████████████████████████████████████████████████████                                                                     | 134/222 [00:09<00:07, 11.39it/s]"
     ]
    },
    {
     "name": "stdout",
     "output_type": "stream",
     "text": [
      "Point one:  (479, 303) Point two:  (959, 610)\n",
      "New points (503, 318)\n",
      "--------------------------------------------------------------------------------------------------------\n",
      "Point one:  (479, 303) Point two:  (0, 651)\n",
      "New points (455, 320)\n",
      "--------------------------------------------------------------------------------------------------------\n",
      "Point one:  (485, 304) Point two:  (959, 606)\n",
      "New points (508, 319)\n",
      "--------------------------------------------------------------------------------------------------------\n",
      "Point one:  (485, 304) Point two:  (0, 642)\n",
      "New points (460, 320)\n",
      "--------------------------------------------------------------------------------------------------------\n"
     ]
    },
    {
     "name": "stderr",
     "output_type": "stream",
     "text": [
      "\n",
      " 61%|██████████████████████████████████████████████████████████████████████████████████████████████████████████▌                                                                   | 136/222 [00:09<00:06, 13.06it/s]"
     ]
    },
    {
     "name": "stdout",
     "output_type": "stream",
     "text": [
      "Point one:  (481, 300) Point two:  (959, 604)\n",
      "New points (504, 315)\n",
      "--------------------------------------------------------------------------------------------------------\n",
      "Point one:  (481, 300) Point two:  (0, 654)\n",
      "New points (456, 317)\n",
      "--------------------------------------------------------------------------------------------------------\n",
      "Point one:  (483, 303) Point two:  (959, 603)\n",
      "New points (506, 318)\n",
      "--------------------------------------------------------------------------------------------------------\n",
      "Point one:  (483, 303) Point two:  (0, 647)\n",
      "New points (458, 320)\n",
      "--------------------------------------------------------------------------------------------------------\n"
     ]
    },
    {
     "name": "stderr",
     "output_type": "stream",
     "text": [
      "\n",
      " 62%|████████████████████████████████████████████████████████████████████████████████████████████████████████████▏                                                                 | 138/222 [00:09<00:06, 12.51it/s]"
     ]
    },
    {
     "name": "stdout",
     "output_type": "stream",
     "text": [
      "Point one:  (481, 301) Point two:  (959, 604)\n",
      "New points (504, 316)\n",
      "--------------------------------------------------------------------------------------------------------\n",
      "Point one:  (481, 301) Point two:  (0, 659)\n",
      "New points (456, 318)\n",
      "--------------------------------------------------------------------------------------------------------\n",
      "Point one:  (484, 304) Point two:  (959, 603)\n",
      "New points (507, 318)\n",
      "--------------------------------------------------------------------------------------------------------\n",
      "Point one:  (484, 304) Point two:  (0, 649)\n",
      "New points (459, 321)\n",
      "--------------------------------------------------------------------------------------------------------\n"
     ]
    },
    {
     "name": "stderr",
     "output_type": "stream",
     "text": [
      "\n",
      " 63%|█████████████████████████████████████████████████████████████████████████████████████████████████████████████▋                                                                | 140/222 [00:09<00:07, 10.79it/s]"
     ]
    },
    {
     "name": "stdout",
     "output_type": "stream",
     "text": [
      "Point one:  (482, 306) Point two:  (959, 602)\n",
      "New points (505, 320)\n",
      "--------------------------------------------------------------------------------------------------------\n",
      "Point one:  (482, 306) Point two:  (0, 648)\n",
      "New points (457, 323)\n",
      "--------------------------------------------------------------------------------------------------------\n",
      "Point one:  (483, 304) Point two:  (959, 608)\n",
      "New points (506, 319)\n",
      "--------------------------------------------------------------------------------------------------------\n",
      "Point one:  (483, 304) Point two:  (0, 660)\n",
      "New points (458, 321)\n",
      "--------------------------------------------------------------------------------------------------------\n"
     ]
    },
    {
     "name": "stderr",
     "output_type": "stream",
     "text": [
      "\n",
      " 64%|███████████████████████████████████████████████████████████████████████████████████████████████████████████████▎                                                              | 142/222 [00:09<00:06, 11.57it/s]"
     ]
    },
    {
     "name": "stdout",
     "output_type": "stream",
     "text": [
      "Point one:  (483, 306) Point two:  (959, 610)\n",
      "New points (506, 321)\n",
      "--------------------------------------------------------------------------------------------------------\n",
      "Point one:  (483, 306) Point two:  (0, 657)\n",
      "New points (458, 323)\n",
      "--------------------------------------------------------------------------------------------------------\n",
      "Point one:  (483, 308) Point two:  (959, 609)\n",
      "New points (506, 323)\n",
      "--------------------------------------------------------------------------------------------------------\n",
      "Point one:  (483, 308) Point two:  (0, 655)\n",
      "New points (458, 325)\n",
      "--------------------------------------------------------------------------------------------------------\n"
     ]
    },
    {
     "name": "stderr",
     "output_type": "stream",
     "text": [
      "\n",
      " 65%|████████████████████████████████████████████████████████████████████████████████████████████████████████████████▊                                                             | 144/222 [00:10<00:07,  9.89it/s]"
     ]
    },
    {
     "name": "stdout",
     "output_type": "stream",
     "text": [
      "Point one:  (484, 306) Point two:  (959, 608)\n",
      "New points (507, 321)\n",
      "--------------------------------------------------------------------------------------------------------\n",
      "Point one:  (484, 306) Point two:  (0, 650)\n",
      "New points (459, 323)\n",
      "--------------------------------------------------------------------------------------------------------\n",
      "Point one:  (487, 304) Point two:  (959, 605)\n",
      "New points (510, 319)\n",
      "--------------------------------------------------------------------------------------------------------\n",
      "Point one:  (487, 304) Point two:  (0, 652)\n",
      "New points (462, 321)\n",
      "--------------------------------------------------------------------------------------------------------\n"
     ]
    },
    {
     "name": "stderr",
     "output_type": "stream",
     "text": [
      "\n",
      " 66%|██████████████████████████████████████████████████████████████████████████████████████████████████████████████████▍                                                           | 146/222 [00:10<00:07, 10.11it/s]"
     ]
    },
    {
     "name": "stdout",
     "output_type": "stream",
     "text": [
      "Point one:  (484, 303) Point two:  (959, 604)\n",
      "New points (507, 318)\n",
      "--------------------------------------------------------------------------------------------------------\n",
      "Point one:  (484, 303) Point two:  (0, 660)\n",
      "New points (459, 320)\n",
      "--------------------------------------------------------------------------------------------------------\n",
      "Point one:  (481, 305) Point two:  (959, 599)\n",
      "New points (504, 319)\n",
      "--------------------------------------------------------------------------------------------------------\n",
      "Point one:  (481, 305) Point two:  (0, 655)\n",
      "New points (456, 322)\n",
      "--------------------------------------------------------------------------------------------------------\n"
     ]
    },
    {
     "name": "stderr",
     "output_type": "stream",
     "text": [
      "\n",
      " 67%|████████████████████████████████████████████████████████████████████████████████████████████████████████████████████                                                          | 148/222 [00:10<00:06, 11.43it/s]"
     ]
    },
    {
     "name": "stdout",
     "output_type": "stream",
     "text": [
      "Point one:  (483, 301) Point two:  (959, 604)\n",
      "New points (506, 316)\n",
      "--------------------------------------------------------------------------------------------------------\n",
      "Point one:  (483, 301) Point two:  (0, 661)\n",
      "New points (458, 319)\n",
      "--------------------------------------------------------------------------------------------------------\n",
      "Point one:  (485, 303) Point two:  (959, 602)\n",
      "New points (508, 317)\n",
      "--------------------------------------------------------------------------------------------------------\n",
      "Point one:  (485, 303) Point two:  (0, 657)\n",
      "New points (460, 320)\n",
      "--------------------------------------------------------------------------------------------------------\n"
     ]
    },
    {
     "name": "stderr",
     "output_type": "stream",
     "text": [
      "\n",
      " 68%|█████████████████████████████████████████████████████████████████████████████████████████████████████████████████████▌                                                        | 150/222 [00:10<00:07,  9.80it/s]"
     ]
    },
    {
     "name": "stdout",
     "output_type": "stream",
     "text": [
      "Point one:  (484, 306) Point two:  (959, 597)\n",
      "New points (507, 320)\n",
      "--------------------------------------------------------------------------------------------------------\n",
      "Point one:  (484, 306) Point two:  (0, 652)\n",
      "New points (459, 323)\n",
      "--------------------------------------------------------------------------------------------------------\n",
      "Point one:  (483, 304) Point two:  (959, 602)\n",
      "New points (506, 318)\n",
      "--------------------------------------------------------------------------------------------------------\n",
      "Point one:  (483, 304) Point two:  (0, 661)\n",
      "New points (458, 321)\n",
      "--------------------------------------------------------------------------------------------------------\n",
      "Point one:  (485, 306) Point two:  (959, 599)\n",
      "New points (508, 320)\n",
      "--------------------------------------------------------------------------------------------------------\n",
      "Point one:  (485, 306) Point two:  (0, 648)\n",
      "New points (460, 323)\n",
      "--------------------------------------------------------------------------------------------------------\n"
     ]
    },
    {
     "name": "stderr",
     "output_type": "stream",
     "text": [
      "\n",
      " 69%|███████████████████████████████████████████████████████████████████████████████████████████████████████████████████████▉                                                      | 153/222 [00:10<00:06, 10.87it/s]"
     ]
    },
    {
     "name": "stdout",
     "output_type": "stream",
     "text": [
      "Point one:  (485, 302) Point two:  (959, 600)\n",
      "New points (508, 316)\n",
      "--------------------------------------------------------------------------------------------------------\n",
      "Point one:  (485, 302) Point two:  (0, 663)\n",
      "New points (460, 320)\n",
      "--------------------------------------------------------------------------------------------------------\n",
      "Point one:  (488, 302) Point two:  (959, 597)\n",
      "New points (511, 316)\n",
      "--------------------------------------------------------------------------------------------------------\n",
      "Point one:  (488, 302) Point two:  (0, 657)\n",
      "New points (463, 319)\n",
      "--------------------------------------------------------------------------------------------------------\n"
     ]
    },
    {
     "name": "stderr",
     "output_type": "stream",
     "text": [
      "\n",
      " 70%|█████████████████████████████████████████████████████████████████████████████████████████████████████████████████████████▍                                                    | 155/222 [00:11<00:06,  9.75it/s]"
     ]
    },
    {
     "name": "stdout",
     "output_type": "stream",
     "text": [
      "Point one:  (487, 300) Point two:  (959, 601)\n",
      "New points (510, 315)\n",
      "--------------------------------------------------------------------------------------------------------\n",
      "Point one:  (487, 300) Point two:  (0, 666)\n",
      "New points (462, 318)\n",
      "--------------------------------------------------------------------------------------------------------\n",
      "Point one:  (486, 302) Point two:  (959, 601)\n",
      "New points (509, 316)\n",
      "--------------------------------------------------------------------------------------------------------\n",
      "Point one:  (486, 302) Point two:  (0, 658)\n",
      "New points (461, 319)\n",
      "--------------------------------------------------------------------------------------------------------\n"
     ]
    },
    {
     "name": "stderr",
     "output_type": "stream",
     "text": [
      "\n",
      " 71%|███████████████████████████████████████████████████████████████████████████████████████████████████████████████████████████                                                   | 157/222 [00:11<00:06,  9.65it/s]"
     ]
    },
    {
     "name": "stdout",
     "output_type": "stream",
     "text": [
      "Point one:  (484, 303) Point two:  (959, 595)\n",
      "New points (507, 317)\n",
      "--------------------------------------------------------------------------------------------------------\n",
      "Point one:  (484, 303) Point two:  (0, 661)\n",
      "New points (459, 320)\n",
      "--------------------------------------------------------------------------------------------------------\n",
      "Point one:  (484, 302) Point two:  (959, 596)\n",
      "New points (507, 316)\n",
      "--------------------------------------------------------------------------------------------------------\n",
      "Point one:  (484, 302) Point two:  (0, 664)\n",
      "New points (459, 320)\n",
      "--------------------------------------------------------------------------------------------------------\n"
     ]
    },
    {
     "name": "stderr",
     "output_type": "stream",
     "text": [
      "\n",
      " 72%|████████████████████████████████████████████████████████████████████████████████████████████████████████████████████████████▌                                                 | 159/222 [00:11<00:06, 10.28it/s]"
     ]
    },
    {
     "name": "stdout",
     "output_type": "stream",
     "text": [
      "Point one:  (484, 303) Point two:  (959, 594)\n",
      "New points (507, 317)\n",
      "--------------------------------------------------------------------------------------------------------\n",
      "Point one:  (484, 303) Point two:  (0, 660)\n",
      "New points (459, 320)\n",
      "--------------------------------------------------------------------------------------------------------\n",
      "Point one:  (488, 306) Point two:  (959, 589)\n",
      "New points (511, 320)\n",
      "--------------------------------------------------------------------------------------------------------\n",
      "Point one:  (488, 306) Point two:  (0, 655)\n",
      "New points (463, 323)\n",
      "--------------------------------------------------------------------------------------------------------\n"
     ]
    },
    {
     "name": "stderr",
     "output_type": "stream",
     "text": [
      "\n",
      " 73%|██████████████████████████████████████████████████████████████████████████████████████████████████████████████████████████████▏                                               | 161/222 [00:11<00:06,  9.89it/s]"
     ]
    },
    {
     "name": "stdout",
     "output_type": "stream",
     "text": [
      "Point one:  (486, 305) Point two:  (959, 593)\n",
      "New points (509, 319)\n",
      "--------------------------------------------------------------------------------------------------------\n",
      "Point one:  (486, 305) Point two:  (0, 666)\n",
      "New points (461, 323)\n",
      "--------------------------------------------------------------------------------------------------------\n",
      "Point one:  (483, 308) Point two:  (959, 576)\n",
      "New points (506, 321)\n",
      "--------------------------------------------------------------------------------------------------------\n",
      "Point one:  (483, 308) Point two:  (0, 664)\n",
      "New points (458, 325)\n",
      "--------------------------------------------------------------------------------------------------------\n"
     ]
    },
    {
     "name": "stderr",
     "output_type": "stream",
     "text": [
      "\n",
      " 73%|███████████████████████████████████████████████████████████████████████████████████████████████████████████████████████████████▊                                              | 163/222 [00:12<00:06,  9.26it/s]"
     ]
    },
    {
     "name": "stdout",
     "output_type": "stream",
     "text": [
      "Point one:  (484, 305) Point two:  (959, 586)\n",
      "New points (507, 319)\n",
      "--------------------------------------------------------------------------------------------------------\n",
      "Point one:  (484, 305) Point two:  (0, 674)\n",
      "New points (459, 323)\n",
      "--------------------------------------------------------------------------------------------------------\n",
      "Point one:  (483, 306) Point two:  (959, 587)\n",
      "New points (506, 320)\n",
      "--------------------------------------------------------------------------------------------------------\n",
      "Point one:  (483, 306) Point two:  (0, 676)\n",
      "New points (458, 324)\n",
      "--------------------------------------------------------------------------------------------------------\n"
     ]
    },
    {
     "name": "stderr",
     "output_type": "stream",
     "text": [
      "\n",
      " 74%|█████████████████████████████████████████████████████████████████████████████████████████████████████████████████████████████████▎                                            | 165/222 [00:12<00:05, 10.20it/s]"
     ]
    },
    {
     "name": "stdout",
     "output_type": "stream",
     "text": [
      "Point one:  (485, 307) Point two:  (959, 592)\n",
      "New points (508, 321)\n",
      "--------------------------------------------------------------------------------------------------------\n",
      "Point one:  (485, 307) Point two:  (0, 671)\n",
      "New points (460, 325)\n",
      "--------------------------------------------------------------------------------------------------------\n",
      "Point one:  (483, 307) Point two:  (959, 588)\n",
      "New points (506, 321)\n",
      "--------------------------------------------------------------------------------------------------------\n",
      "Point one:  (483, 307) Point two:  (0, 681)\n",
      "New points (458, 325)\n",
      "--------------------------------------------------------------------------------------------------------\n"
     ]
    },
    {
     "name": "stderr",
     "output_type": "stream",
     "text": [
      "\n",
      " 75%|██████████████████████████████████████████████████████████████████████████████████████████████████████████████████████████████████▉                                           | 167/222 [00:12<00:07,  7.59it/s]"
     ]
    },
    {
     "name": "stdout",
     "output_type": "stream",
     "text": [
      "Point one:  (479, 304) Point two:  (959, 587)\n",
      "New points (503, 318)\n",
      "--------------------------------------------------------------------------------------------------------\n",
      "Point one:  (479, 304) Point two:  (0, 693)\n",
      "New points (455, 323)\n",
      "--------------------------------------------------------------------------------------------------------\n",
      "Point one:  (480, 308) Point two:  (959, 591)\n",
      "New points (503, 322)\n",
      "--------------------------------------------------------------------------------------------------------\n",
      "Point one:  (480, 308) Point two:  (0, 677)\n",
      "New points (456, 326)\n",
      "--------------------------------------------------------------------------------------------------------\n",
      "Point one:  (484, 307) Point two:  (959, 589)\n",
      "New points (507, 321)\n",
      "--------------------------------------------------------------------------------------------------------\n",
      "Point one:  (484, 307) Point two:  (0, 676)\n",
      "New points (459, 325)\n",
      "--------------------------------------------------------------------------------------------------------\n",
      "Point one:  (480, 307) Point two:  (959, 592)\n",
      "New points (503, 321)\n",
      "--------------------------------------------------------------------------------------------------------\n",
      "Point one:  (480, 307) Point two:  (0, 686)\n",
      "New points (456, 325)\n",
      "--------------------------------------------------------------------------------------------------------\n"
     ]
    },
    {
     "name": "stderr",
     "output_type": "stream",
     "text": [
      "\n",
      " 77%|██████████████████████████████████████████████████████████████████████████████████████████████████████████████████████████████████████                                        | 171/222 [00:12<00:05,  9.74it/s]"
     ]
    },
    {
     "name": "stdout",
     "output_type": "stream",
     "text": [
      "Point one:  (482, 307) Point two:  (959, 589)\n",
      "New points (505, 321)\n",
      "--------------------------------------------------------------------------------------------------------\n",
      "Point one:  (482, 307) Point two:  (0, 679)\n",
      "New points (457, 325)\n",
      "--------------------------------------------------------------------------------------------------------\n",
      "Point one:  (483, 309) Point two:  (959, 592)\n",
      "New points (506, 323)\n",
      "--------------------------------------------------------------------------------------------------------\n",
      "Point one:  (483, 309) Point two:  (0, 675)\n",
      "New points (458, 327)\n",
      "--------------------------------------------------------------------------------------------------------\n"
     ]
    },
    {
     "name": "stderr",
     "output_type": "stream",
     "text": [
      "\n",
      " 78%|███████████████████████████████████████████████████████████████████████████████████████████████████████████████████████████████████████▌                                      | 173/222 [00:13<00:06,  8.12it/s]"
     ]
    },
    {
     "name": "stdout",
     "output_type": "stream",
     "text": [
      "Point one:  (480, 305) Point two:  (959, 585)\n",
      "New points (503, 319)\n",
      "--------------------------------------------------------------------------------------------------------\n",
      "Point one:  (480, 305) Point two:  (0, 687)\n",
      "New points (456, 324)\n",
      "--------------------------------------------------------------------------------------------------------\n",
      "Point one:  (481, 304) Point two:  (959, 585)\n",
      "New points (504, 318)\n",
      "--------------------------------------------------------------------------------------------------------\n",
      "Point one:  (481, 304) Point two:  (0, 687)\n",
      "New points (456, 323)\n",
      "--------------------------------------------------------------------------------------------------------\n"
     ]
    },
    {
     "name": "stderr",
     "output_type": "stream",
     "text": [
      "\n",
      " 79%|█████████████████████████████████████████████████████████████████████████████████████████████████████████████████████████████████████████▏                                    | 175/222 [00:13<00:05,  8.63it/s]"
     ]
    },
    {
     "name": "stdout",
     "output_type": "stream",
     "text": [
      "Point one:  (480, 306) Point two:  (959, 589)\n",
      "New points (503, 320)\n",
      "--------------------------------------------------------------------------------------------------------\n",
      "Point one:  (480, 306) Point two:  (0, 682)\n",
      "New points (456, 324)\n",
      "--------------------------------------------------------------------------------------------------------\n",
      "Point one:  (482, 308) Point two:  (959, 586)\n",
      "New points (505, 321)\n",
      "--------------------------------------------------------------------------------------------------------\n",
      "Point one:  (482, 308) Point two:  (0, 683)\n",
      "New points (457, 326)\n",
      "--------------------------------------------------------------------------------------------------------\n",
      "Point one:  (482, 307) Point two:  (959, 586)\n",
      "New points (505, 320)\n",
      "--------------------------------------------------------------------------------------------------------\n",
      "Point one:  (482, 307) Point two:  (0, 681)\n",
      "New points (457, 325)\n",
      "--------------------------------------------------------------------------------------------------------\n"
     ]
    },
    {
     "name": "stderr",
     "output_type": "stream",
     "text": [
      "\n",
      " 80%|███████████████████████████████████████████████████████████████████████████████████████████████████████████████████████████████████████████▌                                  | 178/222 [00:13<00:04,  9.58it/s]"
     ]
    },
    {
     "name": "stdout",
     "output_type": "stream",
     "text": [
      "Point one:  (480, 306) Point two:  (959, 593)\n",
      "New points (503, 320)\n",
      "--------------------------------------------------------------------------------------------------------\n",
      "Point one:  (480, 306) Point two:  (0, 692)\n",
      "New points (456, 325)\n",
      "--------------------------------------------------------------------------------------------------------\n",
      "Point one:  (482, 303) Point two:  (959, 594)\n",
      "New points (505, 317)\n",
      "--------------------------------------------------------------------------------------------------------\n",
      "Point one:  (482, 303) Point two:  (0, 689)\n",
      "New points (457, 322)\n",
      "--------------------------------------------------------------------------------------------------------\n"
     ]
    },
    {
     "name": "stderr",
     "output_type": "stream",
     "text": [
      "\n",
      " 81%|█████████████████████████████████████████████████████████████████████████████████████████████████████████████████████████████████████████████                                 | 180/222 [00:13<00:04, 10.04it/s]"
     ]
    },
    {
     "name": "stdout",
     "output_type": "stream",
     "text": [
      "Point one:  (482, 305) Point two:  (959, 584)\n",
      "New points (505, 318)\n",
      "--------------------------------------------------------------------------------------------------------\n",
      "Point one:  (482, 305) Point two:  (0, 687)\n",
      "New points (457, 324)\n",
      "--------------------------------------------------------------------------------------------------------\n",
      "Point one:  (483, 304) Point two:  (959, 584)\n",
      "New points (506, 318)\n",
      "--------------------------------------------------------------------------------------------------------\n",
      "Point one:  (483, 304) Point two:  (0, 687)\n",
      "New points (458, 323)\n",
      "--------------------------------------------------------------------------------------------------------\n"
     ]
    },
    {
     "name": "stderr",
     "output_type": "stream",
     "text": [
      "\n",
      " 82%|██████████████████████████████████████████████████████████████████████████████████████████████████████████████████████████████████████████████▋                               | 182/222 [00:13<00:03, 10.96it/s]"
     ]
    },
    {
     "name": "stdout",
     "output_type": "stream",
     "text": [
      "Point one:  (483, 304) Point two:  (959, 586)\n",
      "New points (506, 318)\n",
      "--------------------------------------------------------------------------------------------------------\n",
      "Point one:  (483, 304) Point two:  (0, 689)\n",
      "New points (458, 323)\n",
      "--------------------------------------------------------------------------------------------------------\n",
      "Point one:  (482, 305) Point two:  (959, 587)\n",
      "New points (505, 319)\n",
      "--------------------------------------------------------------------------------------------------------\n",
      "Point one:  (482, 305) Point two:  (0, 690)\n",
      "New points (457, 324)\n",
      "--------------------------------------------------------------------------------------------------------\n"
     ]
    },
    {
     "name": "stderr",
     "output_type": "stream",
     "text": [
      "\n",
      " 83%|████████████████████████████████████████████████████████████████████████████████████████████████████████████████████████████████████████████████▏                             | 184/222 [00:14<00:03, 10.02it/s]"
     ]
    },
    {
     "name": "stdout",
     "output_type": "stream",
     "text": [
      "Point one:  (483, 302) Point two:  (959, 589)\n",
      "New points (506, 316)\n",
      "--------------------------------------------------------------------------------------------------------\n",
      "Point one:  (483, 302) Point two:  (0, 690)\n",
      "New points (458, 321)\n",
      "--------------------------------------------------------------------------------------------------------\n",
      "Point one:  (481, 301) Point two:  (959, 589)\n",
      "New points (504, 315)\n",
      "--------------------------------------------------------------------------------------------------------\n",
      "Point one:  (481, 301) Point two:  (0, 697)\n",
      "New points (456, 320)\n",
      "--------------------------------------------------------------------------------------------------------\n"
     ]
    },
    {
     "name": "stderr",
     "output_type": "stream",
     "text": [
      "\n",
      " 84%|█████████████████████████████████████████████████████████████████████████████████████████████████████████████████████████████████████████████████▊                            | 186/222 [00:14<00:03,  9.36it/s]"
     ]
    },
    {
     "name": "stdout",
     "output_type": "stream",
     "text": [
      "Point one:  (482, 304) Point two:  (959, 585)\n",
      "New points (505, 318)\n",
      "--------------------------------------------------------------------------------------------------------\n",
      "Point one:  (482, 304) Point two:  (0, 688)\n",
      "New points (457, 323)\n",
      "--------------------------------------------------------------------------------------------------------\n",
      "Point one:  (481, 303) Point two:  (959, 587)\n",
      "New points (504, 317)\n",
      "--------------------------------------------------------------------------------------------------------\n",
      "Point one:  (481, 303) Point two:  (0, 686)\n",
      "New points (456, 322)\n",
      "--------------------------------------------------------------------------------------------------------\n"
     ]
    },
    {
     "name": "stderr",
     "output_type": "stream",
     "text": [
      "\n",
      " 85%|███████████████████████████████████████████████████████████████████████████████████████████████████████████████████████████████████████████████████▎                          | 188/222 [00:14<00:03, 10.49it/s]"
     ]
    },
    {
     "name": "stdout",
     "output_type": "stream",
     "text": [
      "Point one:  (483, 300) Point two:  (959, 581)\n",
      "New points (506, 314)\n",
      "--------------------------------------------------------------------------------------------------------\n",
      "Point one:  (483, 300) Point two:  (0, 682)\n",
      "New points (458, 319)\n",
      "--------------------------------------------------------------------------------------------------------\n",
      "Point one:  (484, 298) Point two:  (959, 577)\n",
      "New points (507, 311)\n",
      "--------------------------------------------------------------------------------------------------------\n",
      "Point one:  (484, 298) Point two:  (0, 679)\n",
      "New points (459, 317)\n",
      "--------------------------------------------------------------------------------------------------------\n",
      "Point one:  (481, 300) Point two:  (959, 577)\n",
      "New points (504, 313)\n",
      "--------------------------------------------------------------------------------------------------------\n",
      "Point one:  (481, 300) Point two:  (0, 690)\n",
      "New points (456, 319)\n",
      "--------------------------------------------------------------------------------------------------------\n"
     ]
    },
    {
     "name": "stderr",
     "output_type": "stream",
     "text": [
      "\n",
      " 86%|█████████████████████████████████████████████████████████████████████████████████████████████████████████████████████████████████████████████████████▋                        | 191/222 [00:14<00:02, 11.27it/s]"
     ]
    },
    {
     "name": "stdout",
     "output_type": "stream",
     "text": [
      "Point one:  (482, 303) Point two:  (959, 574)\n",
      "New points (505, 316)\n",
      "--------------------------------------------------------------------------------------------------------\n",
      "Point one:  (482, 303) Point two:  (0, 679)\n",
      "New points (457, 321)\n",
      "--------------------------------------------------------------------------------------------------------\n",
      "Point one:  (481, 304) Point two:  (959, 579)\n",
      "New points (504, 317)\n",
      "--------------------------------------------------------------------------------------------------------\n",
      "Point one:  (481, 304) Point two:  (0, 693)\n",
      "New points (456, 323)\n",
      "--------------------------------------------------------------------------------------------------------\n"
     ]
    },
    {
     "name": "stderr",
     "output_type": "stream",
     "text": [
      "\n",
      " 87%|███████████████████████████████████████████████████████████████████████████████████████████████████████████████████████████████████████████████████████▎                      | 193/222 [00:15<00:03,  7.47it/s]"
     ]
    },
    {
     "name": "stdout",
     "output_type": "stream",
     "text": [
      "Point one:  (482, 305) Point two:  (959, 578)\n",
      "New points (505, 318)\n",
      "--------------------------------------------------------------------------------------------------------\n",
      "Point one:  (482, 305) Point two:  (0, 691)\n",
      "New points (457, 324)\n",
      "--------------------------------------------------------------------------------------------------------\n",
      "Point one:  (485, 306) Point two:  (959, 591)\n",
      "New points (508, 320)\n",
      "--------------------------------------------------------------------------------------------------------\n",
      "Point one:  (485, 306) Point two:  (0, 683)\n",
      "New points (460, 324)\n",
      "--------------------------------------------------------------------------------------------------------\n",
      "Point one:  (479, 305) Point two:  (959, 587)\n",
      "New points (503, 319)\n",
      "--------------------------------------------------------------------------------------------------------\n",
      "Point one:  (479, 305) Point two:  (0, 695)\n",
      "New points (455, 324)\n",
      "--------------------------------------------------------------------------------------------------------\n"
     ]
    },
    {
     "name": "stderr",
     "output_type": "stream",
     "text": [
      "\n",
      " 88%|█████████████████████████████████████████████████████████████████████████████████████████████████████████████████████████████████████████████████████████▌                    | 196/222 [00:15<00:02,  9.62it/s]"
     ]
    },
    {
     "name": "stdout",
     "output_type": "stream",
     "text": [
      "Point one:  (480, 305) Point two:  (959, 588)\n",
      "New points (503, 319)\n",
      "--------------------------------------------------------------------------------------------------------\n",
      "Point one:  (480, 305) Point two:  (0, 683)\n",
      "New points (456, 323)\n",
      "--------------------------------------------------------------------------------------------------------\n",
      "Point one:  (483, 303) Point two:  (959, 590)\n",
      "New points (506, 317)\n",
      "--------------------------------------------------------------------------------------------------------\n",
      "Point one:  (483, 303) Point two:  (0, 689)\n",
      "New points (458, 322)\n",
      "--------------------------------------------------------------------------------------------------------\n"
     ]
    },
    {
     "name": "stderr",
     "output_type": "stream",
     "text": [
      "\n",
      " 89%|███████████████████████████████████████████████████████████████████████████████████████████████████████████████████████████████████████████████████████████▏                  | 198/222 [00:15<00:02,  8.97it/s]"
     ]
    },
    {
     "name": "stdout",
     "output_type": "stream",
     "text": [
      "Point one:  (479, 303) Point two:  (959, 584)\n",
      "New points (503, 317)\n",
      "--------------------------------------------------------------------------------------------------------\n",
      "Point one:  (479, 303) Point two:  (0, 694)\n",
      "New points (455, 322)\n",
      "--------------------------------------------------------------------------------------------------------\n",
      "Point one:  (480, 306) Point two:  (959, 578)\n",
      "New points (503, 319)\n",
      "--------------------------------------------------------------------------------------------------------\n",
      "Point one:  (480, 306) Point two:  (0, 686)\n",
      "New points (456, 325)\n",
      "--------------------------------------------------------------------------------------------------------\n"
     ]
    },
    {
     "name": "stderr",
     "output_type": "stream",
     "text": [
      "\n",
      " 90%|████████████████████████████████████████████████████████████████████████████████████████████████████████████████████████████████████████████████████████████▊                 | 200/222 [00:15<00:02,  9.26it/s]"
     ]
    },
    {
     "name": "stdout",
     "output_type": "stream",
     "text": [
      "Point one:  (478, 306) Point two:  (959, 578)\n",
      "New points (502, 319)\n",
      "--------------------------------------------------------------------------------------------------------\n",
      "Point one:  (478, 306) Point two:  (0, 688)\n",
      "New points (454, 325)\n",
      "--------------------------------------------------------------------------------------------------------\n",
      "Point one:  (478, 303) Point two:  (959, 583)\n",
      "New points (502, 317)\n",
      "--------------------------------------------------------------------------------------------------------\n",
      "Point one:  (478, 303) Point two:  (0, 693)\n",
      "New points (454, 322)\n",
      "--------------------------------------------------------------------------------------------------------\n"
     ]
    },
    {
     "name": "stderr",
     "output_type": "stream",
     "text": [
      "\n",
      " 91%|██████████████████████████████████████████████████████████████████████████████████████████████████████████████████████████████████████████████████████████████▎               | 202/222 [00:15<00:01, 10.02it/s]"
     ]
    },
    {
     "name": "stdout",
     "output_type": "stream",
     "text": [
      "Point one:  (483, 305) Point two:  (959, 582)\n",
      "New points (506, 318)\n",
      "--------------------------------------------------------------------------------------------------------\n",
      "Point one:  (483, 305) Point two:  (0, 680)\n",
      "New points (458, 323)\n",
      "--------------------------------------------------------------------------------------------------------\n",
      "Point one:  (478, 304) Point two:  (959, 575)\n",
      "New points (502, 317)\n",
      "--------------------------------------------------------------------------------------------------------\n",
      "Point one:  (478, 304) Point two:  (0, 692)\n",
      "New points (454, 323)\n",
      "--------------------------------------------------------------------------------------------------------\n"
     ]
    },
    {
     "name": "stderr",
     "output_type": "stream",
     "text": [
      "\n",
      " 92%|███████████████████████████████████████████████████████████████████████████████████████████████████████████████████████████████████████████████████████████████▉              | 204/222 [00:16<00:02,  7.08it/s]"
     ]
    },
    {
     "name": "stdout",
     "output_type": "stream",
     "text": [
      "Point one:  (480, 305) Point two:  (959, 578)\n",
      "New points (503, 318)\n",
      "--------------------------------------------------------------------------------------------------------\n",
      "Point one:  (480, 305) Point two:  (0, 681)\n",
      "New points (456, 323)\n",
      "--------------------------------------------------------------------------------------------------------\n",
      "Point one:  (480, 303) Point two:  (959, 576)\n",
      "New points (503, 316)\n",
      "--------------------------------------------------------------------------------------------------------\n",
      "Point one:  (480, 303) Point two:  (0, 692)\n",
      "New points (456, 322)\n",
      "--------------------------------------------------------------------------------------------------------\n",
      "Point one:  (481, 302) Point two:  (959, 576)\n",
      "New points (504, 315)\n",
      "--------------------------------------------------------------------------------------------------------\n",
      "Point one:  (481, 302) Point two:  (0, 691)\n",
      "New points (456, 321)\n",
      "--------------------------------------------------------------------------------------------------------\n"
     ]
    },
    {
     "name": "stderr",
     "output_type": "stream",
     "text": [
      "\n",
      " 93%|██████████████████████████████████████████████████████████████████████████████████████████████████████████████████████████████████████████████████████████████████▏           | 207/222 [00:16<00:01,  8.23it/s]"
     ]
    },
    {
     "name": "stdout",
     "output_type": "stream",
     "text": [
      "Point one:  (479, 302) Point two:  (959, 573)\n",
      "New points (503, 315)\n",
      "--------------------------------------------------------------------------------------------------------\n",
      "Point one:  (479, 302) Point two:  (0, 686)\n",
      "New points (455, 321)\n",
      "--------------------------------------------------------------------------------------------------------\n",
      "Point one:  (476, 302) Point two:  (959, 577)\n",
      "New points (500, 315)\n",
      "--------------------------------------------------------------------------------------------------------\n",
      "Point one:  (476, 302) Point two:  (0, 707)\n",
      "New points (452, 322)\n",
      "--------------------------------------------------------------------------------------------------------\n"
     ]
    },
    {
     "name": "stderr",
     "output_type": "stream",
     "text": [
      "\n",
      " 94%|███████████████████████████████████████████████████████████████████████████████████████████████████████████████████████████████████████████████████████████████████▊          | 209/222 [00:17<00:02,  5.64it/s]"
     ]
    },
    {
     "name": "stdout",
     "output_type": "stream",
     "text": [
      "Point one:  (480, 304) Point two:  (959, 575)\n",
      "New points (503, 317)\n",
      "--------------------------------------------------------------------------------------------------------\n",
      "Point one:  (480, 304) Point two:  (0, 682)\n",
      "New points (456, 322)\n",
      "--------------------------------------------------------------------------------------------------------\n",
      "Point one:  (481, 303) Point two:  (959, 574)\n",
      "New points (504, 316)\n",
      "--------------------------------------------------------------------------------------------------------\n",
      "Point one:  (481, 303) Point two:  (0, 688)\n",
      "New points (456, 322)\n",
      "--------------------------------------------------------------------------------------------------------\n"
     ]
    },
    {
     "name": "stderr",
     "output_type": "stream",
     "text": [
      "\n",
      " 95%|█████████████████████████████████████████████████████████████████████████████████████████████████████████████████████████████████████████████████████████████████████▍        | 211/222 [00:17<00:01,  6.16it/s]"
     ]
    },
    {
     "name": "stdout",
     "output_type": "stream",
     "text": [
      "Point one:  (479, 305) Point two:  (959, 576)\n",
      "New points (503, 318)\n",
      "--------------------------------------------------------------------------------------------------------\n",
      "Point one:  (479, 305) Point two:  (0, 686)\n",
      "New points (455, 324)\n",
      "--------------------------------------------------------------------------------------------------------\n"
     ]
    },
    {
     "name": "stderr",
     "output_type": "stream",
     "text": [
      "\n",
      " 95%|██████████████████████████████████████████████████████████████████████████████████████████████████████████████████████████████████████████████████████████████████████▏       | 212/222 [00:18<00:03,  3.14it/s]"
     ]
    },
    {
     "name": "stdout",
     "output_type": "stream",
     "text": [
      "Point one:  (478, 303) Point two:  (959, 577)\n",
      "New points (502, 316)\n",
      "--------------------------------------------------------------------------------------------------------\n",
      "Point one:  (478, 303) Point two:  (0, 697)\n",
      "New points (454, 322)\n",
      "--------------------------------------------------------------------------------------------------------\n",
      "Point one:  (479, 306) Point two:  (959, 578)\n",
      "New points (503, 319)\n",
      "--------------------------------------------------------------------------------------------------------\n",
      "Point one:  (479, 306) Point two:  (0, 691)\n",
      "New points (455, 325)\n",
      "--------------------------------------------------------------------------------------------------------\n"
     ]
    },
    {
     "name": "stderr",
     "output_type": "stream",
     "text": [
      "\n",
      " 96%|███████████████████████████████████████████████████████████████████████████████████████████████████████████████████████████████████████████████████████████████████████▋      | 214/222 [00:18<00:02,  3.90it/s]"
     ]
    },
    {
     "name": "stdout",
     "output_type": "stream",
     "text": [
      "Point one:  (482, 308) Point two:  (959, 578)\n",
      "New points (505, 321)\n",
      "--------------------------------------------------------------------------------------------------------\n",
      "Point one:  (482, 308) Point two:  (0, 673)\n",
      "New points (457, 326)\n",
      "--------------------------------------------------------------------------------------------------------\n",
      "Point one:  (479, 308) Point two:  (959, 577)\n",
      "New points (503, 321)\n",
      "--------------------------------------------------------------------------------------------------------\n",
      "Point one:  (479, 308) Point two:  (0, 684)\n",
      "New points (455, 326)\n",
      "--------------------------------------------------------------------------------------------------------\n"
     ]
    },
    {
     "name": "stderr",
     "output_type": "stream",
     "text": [
      "\n",
      " 97%|█████████████████████████████████████████████████████████████████████████████████████████████████████████████████████████████████████████████████████████████████████████▎    | 216/222 [00:18<00:01,  4.97it/s]"
     ]
    },
    {
     "name": "stdout",
     "output_type": "stream",
     "text": [
      "Point one:  (475, 306) Point two:  (959, 580)\n",
      "New points (499, 319)\n",
      "--------------------------------------------------------------------------------------------------------\n",
      "Point one:  (475, 306) Point two:  (0, 691)\n",
      "New points (451, 325)\n",
      "--------------------------------------------------------------------------------------------------------\n"
     ]
    },
    {
     "name": "stderr",
     "output_type": "stream",
     "text": [
      "\n",
      " 98%|██████████████████████████████████████████████████████████████████████████████████████████████████████████████████████████████████████████████████████████████████████████    | 217/222 [00:18<00:01,  4.07it/s]"
     ]
    },
    {
     "name": "stdout",
     "output_type": "stream",
     "text": [
      "Point one:  (477, 307) Point two:  (959, 579)\n",
      "New points (501, 320)\n",
      "--------------------------------------------------------------------------------------------------------\n",
      "Point one:  (477, 307) Point two:  (0, 690)\n",
      "New points (453, 326)\n",
      "--------------------------------------------------------------------------------------------------------\n",
      "Point one:  (477, 308) Point two:  (959, 583)\n",
      "New points (501, 321)\n",
      "--------------------------------------------------------------------------------------------------------\n",
      "Point one:  (477, 308) Point two:  (0, 681)\n",
      "New points (453, 326)\n",
      "--------------------------------------------------------------------------------------------------------\n"
     ]
    },
    {
     "name": "stderr",
     "output_type": "stream",
     "text": [
      "\n",
      " 99%|███████████████████████████████████████████████████████████████████████████████████████████████████████████████████████████████████████████████████████████████████████████▋  | 219/222 [00:19<00:00,  4.70it/s]"
     ]
    },
    {
     "name": "stdout",
     "output_type": "stream",
     "text": [
      "Point one:  (475, 305) Point two:  (959, 580)\n",
      "New points (499, 318)\n",
      "--------------------------------------------------------------------------------------------------------\n",
      "Point one:  (475, 305) Point two:  (0, 688)\n",
      "New points (451, 324)\n",
      "--------------------------------------------------------------------------------------------------------\n"
     ]
    },
    {
     "name": "stderr",
     "output_type": "stream",
     "text": [
      "\n",
      " 99%|████████████████████████████████████████████████████████████████████████████████████████████████████████████████████████████████████████████████████████████████████████████▍ | 220/222 [00:19<00:00,  4.55it/s]"
     ]
    },
    {
     "name": "stdout",
     "output_type": "stream",
     "text": [
      "Point one:  (475, 305) Point two:  (959, 581)\n",
      "New points (499, 318)\n",
      "--------------------------------------------------------------------------------------------------------\n",
      "Point one:  (475, 305) Point two:  (0, 686)\n",
      "New points (451, 324)\n",
      "--------------------------------------------------------------------------------------------------------\n"
     ]
    },
    {
     "name": "stderr",
     "output_type": "stream",
     "text": [
      "\n",
      "100%|█████████████████████████████████████████████████████████████████████████████████████████████████████████████████████████████████████████████████████████████████████████████▏| 221/222 [00:19<00:00,  5.11it/s]\n"
     ]
    },
    {
     "name": "stdout",
     "output_type": "stream",
     "text": [
      "[MoviePy] Done.\n",
      "[MoviePy] >>>> Video ready: white.mp4 \n",
      "\n",
      "Wall time: 21.7 s\n"
     ]
    }
   ],
   "source": [
    "white_output = 'white.mp4'\n",
    "clip1 = VideoFileClip(\"solidWhiteRight.mp4\")\n",
    "white_clip = clip1.fl_image(process_image) #NOTE: this function expects color images!!\n",
    "%time white_clip.write_videofile(white_output, audio=False)"
   ]
  },
  {
   "cell_type": "code",
   "execution_count": 14,
   "metadata": {
    "collapsed": false
   },
   "outputs": [
    {
     "data": {
      "text/html": [
       "\n",
       "<video width=\"960\" height=\"540\" controls>\n",
       "  <source src=\"white.mp4\">\n",
       "</video>\n"
      ],
      "text/plain": [
       "<IPython.core.display.HTML object>"
      ]
     },
     "execution_count": 14,
     "metadata": {},
     "output_type": "execute_result"
    }
   ],
   "source": [
    "HTML(\"\"\"\n",
    "<video width=\"960\" height=\"540\" controls>\n",
    "  <source src=\"{0}\">\n",
    "</video>\n",
    "\"\"\".format(white_output))"
   ]
  },
  {
   "cell_type": "code",
   "execution_count": 15,
   "metadata": {
    "collapsed": false
   },
   "outputs": [
    {
     "name": "stdout",
     "output_type": "stream",
     "text": [
      "Point one:  (490, 308) Point two:  (959, 625)\n",
      "New points (513, 323)\n",
      "--------------------------------------------------------------------------------------------------------\n",
      "Point one:  (490, 308) Point two:  (0, 609)\n",
      "New points (465, 323)\n",
      "--------------------------------------------------------------------------------------------------------\n",
      "[MoviePy] >>>> Building video yellow.mp4\n",
      "[MoviePy] Writing video yellow.mp4\n"
     ]
    },
    {
     "name": "stderr",
     "output_type": "stream",
     "text": [
      "\n",
      "  0%|                                                                                                                                                                                        | 0/682 [00:00<?, ?it/s]"
     ]
    },
    {
     "name": "stdout",
     "output_type": "stream",
     "text": [
      "Point one:  (490, 308) Point two:  (959, 625)\n",
      "New points (513, 323)\n",
      "--------------------------------------------------------------------------------------------------------\n",
      "Point one:  (490, 308) Point two:  (0, 609)\n",
      "New points (465, 323)\n",
      "--------------------------------------------------------------------------------------------------------\n",
      "Point one:  (492, 308) Point two:  (959, 632)\n",
      "New points (515, 324)\n",
      "--------------------------------------------------------------------------------------------------------\n",
      "Point one:  (492, 308) Point two:  (0, 610)\n",
      "New points (467, 323)\n",
      "--------------------------------------------------------------------------------------------------------\n"
     ]
    },
    {
     "name": "stderr",
     "output_type": "stream",
     "text": [
      "\n",
      "  0%|▌                                                                                                                                                                               | 2/682 [00:00<00:40, 16.98it/s]"
     ]
    },
    {
     "name": "stdout",
     "output_type": "stream",
     "text": [
      "Point one:  (491, 307) Point two:  (959, 632)\n",
      "New points (514, 323)\n",
      "--------------------------------------------------------------------------------------------------------\n",
      "Point one:  (491, 307) Point two:  (0, 609)\n",
      "New points (466, 322)\n",
      "--------------------------------------------------------------------------------------------------------\n",
      "Point one:  (485, 305) Point two:  (959, 627)\n",
      "New points (508, 321)\n",
      "--------------------------------------------------------------------------------------------------------\n",
      "Point one:  (485, 305) Point two:  (0, 616)\n",
      "New points (460, 320)\n",
      "--------------------------------------------------------------------------------------------------------\n",
      "Point one:  (485, 305) Point two:  (959, 624)\n",
      "New points (508, 320)\n",
      "--------------------------------------------------------------------------------------------------------\n",
      "Point one:  (485, 305) Point two:  (0, 616)\n",
      "New points (460, 320)\n",
      "--------------------------------------------------------------------------------------------------------\n"
     ]
    },
    {
     "name": "stderr",
     "output_type": "stream",
     "text": [
      "\n",
      "  1%|█▎                                                                                                                                                                              | 5/682 [00:00<00:34, 19.47it/s]"
     ]
    },
    {
     "name": "stdout",
     "output_type": "stream",
     "text": [
      "Point one:  (494, 303) Point two:  (959, 646)\n",
      "New points (517, 320)\n",
      "--------------------------------------------------------------------------------------------------------\n",
      "Point one:  (494, 303) Point two:  (0, 617)\n",
      "New points (469, 318)\n",
      "--------------------------------------------------------------------------------------------------------\n",
      "Point one:  (491, 306) Point two:  (959, 629)\n",
      "New points (514, 322)\n",
      "--------------------------------------------------------------------------------------------------------\n",
      "Point one:  (491, 306) Point two:  (0, 624)\n",
      "New points (466, 321)\n",
      "--------------------------------------------------------------------------------------------------------\n",
      "Point one:  (489, 308) Point two:  (959, 616)\n",
      "New points (512, 323)\n",
      "--------------------------------------------------------------------------------------------------------\n",
      "Point one:  (489, 308) Point two:  (0, 619)\n",
      "New points (464, 323)\n",
      "--------------------------------------------------------------------------------------------------------\n"
     ]
    },
    {
     "name": "stderr",
     "output_type": "stream",
     "text": [
      "\n",
      "  1%|██                                                                                                                                                                              | 8/682 [00:00<00:31, 21.61it/s]"
     ]
    },
    {
     "name": "stdout",
     "output_type": "stream",
     "text": [
      "Point one:  (488, 305) Point two:  (959, 617)\n",
      "New points (511, 320)\n",
      "--------------------------------------------------------------------------------------------------------\n",
      "Point one:  (488, 305) Point two:  (0, 632)\n",
      "New points (463, 321)\n",
      "--------------------------------------------------------------------------------------------------------\n",
      "Point one:  (487, 305) Point two:  (959, 615)\n",
      "New points (510, 320)\n",
      "--------------------------------------------------------------------------------------------------------\n",
      "Point one:  (487, 305) Point two:  (0, 629)\n",
      "New points (462, 321)\n",
      "--------------------------------------------------------------------------------------------------------\n",
      "Point one:  (490, 302) Point two:  (959, 627)\n",
      "New points (513, 318)\n",
      "--------------------------------------------------------------------------------------------------------\n",
      "Point one:  (490, 302) Point two:  (0, 632)\n",
      "New points (465, 318)\n",
      "--------------------------------------------------------------------------------------------------------\n"
     ]
    },
    {
     "name": "stderr",
     "output_type": "stream",
     "text": [
      "\n",
      "  2%|██▊                                                                                                                                                                            | 11/682 [00:00<00:28, 23.41it/s]"
     ]
    },
    {
     "name": "stdout",
     "output_type": "stream",
     "text": [
      "Point one:  (485, 304) Point two:  (959, 612)\n",
      "New points (508, 319)\n",
      "--------------------------------------------------------------------------------------------------------\n",
      "Point one:  (485, 304) Point two:  (0, 626)\n",
      "New points (460, 320)\n",
      "--------------------------------------------------------------------------------------------------------\n",
      "Point one:  (486, 306) Point two:  (959, 607)\n",
      "New points (509, 321)\n",
      "--------------------------------------------------------------------------------------------------------\n",
      "Point one:  (486, 306) Point two:  (0, 627)\n",
      "New points (461, 322)\n",
      "--------------------------------------------------------------------------------------------------------\n",
      "Point one:  (485, 307) Point two:  (959, 609)\n",
      "New points (508, 322)\n",
      "--------------------------------------------------------------------------------------------------------\n",
      "Point one:  (485, 307) Point two:  (0, 631)\n",
      "New points (460, 323)\n",
      "--------------------------------------------------------------------------------------------------------\n"
     ]
    },
    {
     "name": "stderr",
     "output_type": "stream",
     "text": [
      "\n",
      "  2%|███▌                                                                                                                                                                           | 14/682 [00:00<00:27, 24.49it/s]"
     ]
    },
    {
     "name": "stdout",
     "output_type": "stream",
     "text": [
      "Point one:  (483, 310) Point two:  (959, 599)\n",
      "New points (506, 324)\n",
      "--------------------------------------------------------------------------------------------------------\n",
      "Point one:  (483, 310) Point two:  (0, 635)\n",
      "New points (458, 326)\n",
      "--------------------------------------------------------------------------------------------------------\n",
      "Point one:  (482, 306) Point two:  (959, 601)\n",
      "New points (505, 320)\n",
      "--------------------------------------------------------------------------------------------------------\n",
      "Point one:  (482, 306) Point two:  (0, 635)\n",
      "New points (457, 322)\n",
      "--------------------------------------------------------------------------------------------------------\n",
      "Point one:  (486, 304) Point two:  (959, 613)\n",
      "New points (509, 319)\n",
      "--------------------------------------------------------------------------------------------------------\n",
      "Point one:  (486, 304) Point two:  (0, 639)\n",
      "New points (461, 320)\n",
      "--------------------------------------------------------------------------------------------------------\n"
     ]
    },
    {
     "name": "stderr",
     "output_type": "stream",
     "text": [
      "\n",
      "  2%|████▎                                                                                                                                                                          | 17/682 [00:00<00:26, 24.68it/s]"
     ]
    },
    {
     "name": "stdout",
     "output_type": "stream",
     "text": [
      "Point one:  (484, 306) Point two:  (959, 608)\n",
      "New points (507, 321)\n",
      "--------------------------------------------------------------------------------------------------------\n",
      "Point one:  (484, 306) Point two:  (0, 638)\n",
      "New points (459, 322)\n",
      "--------------------------------------------------------------------------------------------------------\n",
      "Point one:  (486, 305) Point two:  (959, 612)\n",
      "New points (509, 320)\n",
      "--------------------------------------------------------------------------------------------------------\n",
      "Point one:  (486, 305) Point two:  (0, 637)\n",
      "New points (461, 321)\n",
      "--------------------------------------------------------------------------------------------------------\n",
      "Point one:  (488, 304) Point two:  (959, 615)\n",
      "New points (511, 319)\n",
      "--------------------------------------------------------------------------------------------------------\n",
      "Point one:  (488, 304) Point two:  (0, 638)\n",
      "New points (463, 320)\n",
      "--------------------------------------------------------------------------------------------------------\n",
      "Point one:  (484, 303) Point two:  (959, 608)\n",
      "New points (507, 318)\n",
      "--------------------------------------------------------------------------------------------------------\n",
      "Point one:  (484, 303) Point two:  (0, 645)\n",
      "New points (459, 320)\n",
      "--------------------------------------------------------------------------------------------------------\n"
     ]
    },
    {
     "name": "stderr",
     "output_type": "stream",
     "text": [
      "\n",
      "  3%|█████▍                                                                                                                                                                         | 21/682 [00:00<00:25, 26.38it/s]"
     ]
    },
    {
     "name": "stdout",
     "output_type": "stream",
     "text": [
      "Point one:  (485, 304) Point two:  (959, 607)\n",
      "New points (508, 319)\n",
      "--------------------------------------------------------------------------------------------------------\n",
      "Point one:  (485, 304) Point two:  (0, 637)\n",
      "New points (460, 320)\n",
      "--------------------------------------------------------------------------------------------------------\n",
      "Point one:  (485, 303) Point two:  (959, 612)\n",
      "New points (508, 318)\n",
      "--------------------------------------------------------------------------------------------------------\n",
      "Point one:  (485, 303) Point two:  (0, 636)\n",
      "New points (460, 319)\n",
      "--------------------------------------------------------------------------------------------------------\n",
      "Point one:  (481, 304) Point two:  (959, 598)\n",
      "New points (504, 318)\n",
      "--------------------------------------------------------------------------------------------------------\n",
      "Point one:  (481, 304) Point two:  (0, 631)\n",
      "New points (456, 320)\n",
      "--------------------------------------------------------------------------------------------------------\n"
     ]
    },
    {
     "name": "stderr",
     "output_type": "stream",
     "text": [
      "\n",
      "  4%|██████▏                                                                                                                                                                        | 24/682 [00:00<00:24, 26.37it/s]"
     ]
    },
    {
     "name": "stdout",
     "output_type": "stream",
     "text": [
      "Point one:  (484, 303) Point two:  (959, 610)\n",
      "New points (507, 318)\n",
      "--------------------------------------------------------------------------------------------------------\n",
      "Point one:  (484, 303) Point two:  (0, 638)\n",
      "New points (459, 319)\n",
      "--------------------------------------------------------------------------------------------------------\n",
      "Point one:  (484, 303) Point two:  (959, 607)\n",
      "New points (507, 318)\n",
      "--------------------------------------------------------------------------------------------------------\n",
      "Point one:  (484, 303) Point two:  (0, 648)\n",
      "New points (459, 320)\n",
      "--------------------------------------------------------------------------------------------------------\n",
      "Point one:  (486, 305) Point two:  (959, 601)\n",
      "New points (509, 319)\n",
      "--------------------------------------------------------------------------------------------------------\n",
      "Point one:  (486, 305) Point two:  (0, 640)\n",
      "New points (461, 321)\n",
      "--------------------------------------------------------------------------------------------------------\n"
     ]
    },
    {
     "name": "stderr",
     "output_type": "stream",
     "text": [
      "\n",
      "  4%|██████▉                                                                                                                                                                        | 27/682 [00:01<00:25, 25.92it/s]"
     ]
    },
    {
     "name": "stdout",
     "output_type": "stream",
     "text": [
      "Point one:  (483, 303) Point two:  (959, 603)\n",
      "New points (506, 318)\n",
      "--------------------------------------------------------------------------------------------------------\n",
      "Point one:  (483, 303) Point two:  (0, 652)\n",
      "New points (458, 320)\n",
      "--------------------------------------------------------------------------------------------------------\n",
      "Point one:  (480, 302) Point two:  (959, 594)\n",
      "New points (503, 316)\n",
      "--------------------------------------------------------------------------------------------------------\n",
      "Point one:  (480, 302) Point two:  (0, 666)\n",
      "New points (456, 320)\n",
      "--------------------------------------------------------------------------------------------------------\n",
      "Point one:  (483, 305) Point two:  (959, 590)\n",
      "New points (506, 319)\n",
      "--------------------------------------------------------------------------------------------------------\n",
      "Point one:  (483, 305) Point two:  (0, 643)\n",
      "New points (458, 321)\n",
      "--------------------------------------------------------------------------------------------------------\n"
     ]
    },
    {
     "name": "stderr",
     "output_type": "stream",
     "text": [
      "\n",
      "  4%|███████▋                                                                                                                                                                       | 30/682 [00:01<00:24, 26.93it/s]"
     ]
    },
    {
     "name": "stdout",
     "output_type": "stream",
     "text": [
      "Point one:  (481, 303) Point two:  (959, 590)\n",
      "New points (504, 317)\n",
      "--------------------------------------------------------------------------------------------------------\n",
      "Point one:  (481, 303) Point two:  (0, 652)\n",
      "New points (456, 320)\n",
      "--------------------------------------------------------------------------------------------------------\n",
      "Point one:  (486, 304) Point two:  (959, 599)\n",
      "New points (509, 318)\n",
      "--------------------------------------------------------------------------------------------------------\n",
      "Point one:  (486, 304) Point two:  (0, 640)\n",
      "New points (461, 320)\n",
      "--------------------------------------------------------------------------------------------------------\n",
      "Point one:  (485, 300) Point two:  (959, 602)\n",
      "New points (508, 315)\n",
      "--------------------------------------------------------------------------------------------------------\n",
      "Point one:  (485, 300) Point two:  (0, 647)\n",
      "New points (460, 317)\n",
      "--------------------------------------------------------------------------------------------------------\n"
     ]
    },
    {
     "name": "stderr",
     "output_type": "stream",
     "text": [
      "\n",
      "  5%|████████▍                                                                                                                                                                      | 33/682 [00:01<00:23, 27.69it/s]"
     ]
    },
    {
     "name": "stdout",
     "output_type": "stream",
     "text": [
      "Point one:  (484, 300) Point two:  (959, 602)\n",
      "New points (507, 315)\n",
      "--------------------------------------------------------------------------------------------------------\n",
      "Point one:  (484, 300) Point two:  (0, 663)\n",
      "New points (459, 318)\n",
      "--------------------------------------------------------------------------------------------------------\n",
      "Point one:  (480, 299) Point two:  (959, 601)\n",
      "New points (503, 314)\n",
      "--------------------------------------------------------------------------------------------------------\n",
      "Point one:  (480, 299) Point two:  (0, 662)\n",
      "New points (456, 317)\n",
      "--------------------------------------------------------------------------------------------------------\n",
      "Point one:  (483, 301) Point two:  (959, 594)\n",
      "New points (506, 315)\n",
      "--------------------------------------------------------------------------------------------------------\n",
      "Point one:  (483, 301) Point two:  (0, 657)\n",
      "New points (458, 318)\n",
      "--------------------------------------------------------------------------------------------------------\n"
     ]
    },
    {
     "name": "stderr",
     "output_type": "stream",
     "text": [
      "\n",
      "  5%|█████████▏                                                                                                                                                                     | 36/682 [00:01<00:23, 27.69it/s]"
     ]
    },
    {
     "name": "stdout",
     "output_type": "stream",
     "text": [
      "Point one:  (478, 300) Point two:  (959, 592)\n",
      "New points (502, 314)\n",
      "--------------------------------------------------------------------------------------------------------\n",
      "Point one:  (478, 300) Point two:  (0, 655)\n",
      "New points (454, 317)\n",
      "--------------------------------------------------------------------------------------------------------\n",
      "Point one:  (483, 298) Point two:  (959, 597)\n",
      "New points (506, 312)\n",
      "--------------------------------------------------------------------------------------------------------\n",
      "Point one:  (483, 298) Point two:  (0, 656)\n",
      "New points (458, 315)\n",
      "--------------------------------------------------------------------------------------------------------\n",
      "Point one:  (485, 296) Point two:  (959, 600)\n",
      "New points (508, 311)\n",
      "--------------------------------------------------------------------------------------------------------\n",
      "Point one:  (485, 296) Point two:  (0, 652)\n",
      "New points (460, 313)\n",
      "--------------------------------------------------------------------------------------------------------\n",
      "Point one:  (481, 299) Point two:  (959, 594)\n",
      "New points (504, 313)\n",
      "--------------------------------------------------------------------------------------------------------\n",
      "Point one:  (481, 299) Point two:  (0, 656)\n",
      "New points (456, 316)\n",
      "--------------------------------------------------------------------------------------------------------\n"
     ]
    },
    {
     "name": "stderr",
     "output_type": "stream",
     "text": [
      "\n",
      "  6%|██████████▎                                                                                                                                                                    | 40/682 [00:01<00:22, 28.19it/s]"
     ]
    },
    {
     "name": "stdout",
     "output_type": "stream",
     "text": [
      "Point one:  (475, 299) Point two:  (959, 589)\n",
      "New points (499, 313)\n",
      "--------------------------------------------------------------------------------------------------------\n",
      "Point one:  (475, 299) Point two:  (0, 662)\n",
      "New points (451, 317)\n",
      "--------------------------------------------------------------------------------------------------------\n",
      "Point one:  (478, 299) Point two:  (959, 593)\n",
      "New points (502, 313)\n",
      "--------------------------------------------------------------------------------------------------------\n",
      "Point one:  (478, 299) Point two:  (0, 663)\n",
      "New points (454, 317)\n",
      "--------------------------------------------------------------------------------------------------------\n",
      "Point one:  (478, 299) Point two:  (959, 587)\n",
      "New points (502, 313)\n",
      "--------------------------------------------------------------------------------------------------------\n",
      "Point one:  (478, 299) Point two:  (0, 654)\n",
      "New points (454, 316)\n",
      "--------------------------------------------------------------------------------------------------------\n"
     ]
    },
    {
     "name": "stderr",
     "output_type": "stream",
     "text": [
      "\n",
      "  6%|███████████                                                                                                                                                                    | 43/682 [00:01<00:22, 27.85it/s]"
     ]
    },
    {
     "name": "stdout",
     "output_type": "stream",
     "text": [
      "Point one:  (480, 299) Point two:  (959, 597)\n",
      "New points (503, 313)\n",
      "--------------------------------------------------------------------------------------------------------\n",
      "Point one:  (480, 299) Point two:  (0, 655)\n",
      "New points (456, 316)\n",
      "--------------------------------------------------------------------------------------------------------\n",
      "Point one:  (477, 298) Point two:  (959, 599)\n",
      "New points (501, 313)\n",
      "--------------------------------------------------------------------------------------------------------\n",
      "Point one:  (477, 298) Point two:  (0, 667)\n",
      "New points (453, 316)\n",
      "--------------------------------------------------------------------------------------------------------\n",
      "Point one:  (480, 301) Point two:  (959, 596)\n",
      "New points (503, 315)\n",
      "--------------------------------------------------------------------------------------------------------\n",
      "Point one:  (480, 301) Point two:  (0, 648)\n",
      "New points (456, 318)\n",
      "--------------------------------------------------------------------------------------------------------\n"
     ]
    },
    {
     "name": "stderr",
     "output_type": "stream",
     "text": [
      "\n",
      "  7%|███████████▊                                                                                                                                                                   | 46/682 [00:01<00:23, 27.24it/s]"
     ]
    },
    {
     "name": "stdout",
     "output_type": "stream",
     "text": [
      "Point one:  (479, 300) Point two:  (959, 598)\n",
      "New points (503, 314)\n",
      "--------------------------------------------------------------------------------------------------------\n",
      "Point one:  (479, 300) Point two:  (0, 656)\n",
      "New points (455, 317)\n",
      "--------------------------------------------------------------------------------------------------------\n",
      "Point one:  (479, 300) Point two:  (959, 601)\n",
      "New points (503, 315)\n",
      "--------------------------------------------------------------------------------------------------------\n",
      "Point one:  (479, 300) Point two:  (0, 654)\n",
      "New points (455, 317)\n",
      "--------------------------------------------------------------------------------------------------------\n",
      "Point one:  (479, 302) Point two:  (959, 593)\n",
      "New points (503, 316)\n",
      "--------------------------------------------------------------------------------------------------------\n",
      "Point one:  (479, 302) Point two:  (0, 650)\n",
      "New points (455, 319)\n",
      "--------------------------------------------------------------------------------------------------------\n"
     ]
    },
    {
     "name": "stderr",
     "output_type": "stream",
     "text": [
      "\n",
      "  7%|████████████▌                                                                                                                                                                  | 49/682 [00:01<00:28, 22.45it/s]"
     ]
    },
    {
     "name": "stdout",
     "output_type": "stream",
     "text": [
      "Point one:  (475, 300) Point two:  (959, 592)\n",
      "New points (499, 314)\n",
      "--------------------------------------------------------------------------------------------------------\n",
      "Point one:  (475, 300) Point two:  (0, 652)\n",
      "New points (451, 317)\n",
      "--------------------------------------------------------------------------------------------------------\n",
      "Point one:  (480, 300) Point two:  (959, 597)\n",
      "New points (503, 314)\n",
      "--------------------------------------------------------------------------------------------------------\n",
      "Point one:  (480, 300) Point two:  (0, 652)\n",
      "New points (456, 317)\n",
      "--------------------------------------------------------------------------------------------------------\n",
      "Point one:  (478, 301) Point two:  (959, 597)\n",
      "New points (502, 315)\n",
      "--------------------------------------------------------------------------------------------------------\n",
      "Point one:  (478, 301) Point two:  (0, 649)\n",
      "New points (454, 318)\n",
      "--------------------------------------------------------------------------------------------------------\n"
     ]
    },
    {
     "name": "stderr",
     "output_type": "stream",
     "text": [
      "\n",
      "  8%|█████████████▎                                                                                                                                                                 | 52/682 [00:02<00:34, 18.30it/s]"
     ]
    },
    {
     "name": "stdout",
     "output_type": "stream",
     "text": [
      "Point one:  (479, 301) Point two:  (959, 596)\n",
      "New points (503, 315)\n",
      "--------------------------------------------------------------------------------------------------------\n",
      "Point one:  (479, 301) Point two:  (0, 650)\n",
      "New points (455, 318)\n",
      "--------------------------------------------------------------------------------------------------------\n",
      "Point one:  (478, 302) Point two:  (959, 597)\n",
      "New points (502, 316)\n",
      "--------------------------------------------------------------------------------------------------------\n",
      "Point one:  (478, 302) Point two:  (0, 654)\n",
      "New points (454, 319)\n",
      "--------------------------------------------------------------------------------------------------------\n",
      "Point one:  (477, 303) Point two:  (959, 601)\n",
      "New points (501, 317)\n",
      "--------------------------------------------------------------------------------------------------------\n",
      "Point one:  (477, 303) Point two:  (0, 648)\n",
      "New points (453, 320)\n",
      "--------------------------------------------------------------------------------------------------------\n"
     ]
    },
    {
     "name": "stderr",
     "output_type": "stream",
     "text": [
      "\n",
      "  8%|██████████████                                                                                                                                                                 | 55/682 [00:02<00:38, 16.27it/s]"
     ]
    },
    {
     "name": "stdout",
     "output_type": "stream",
     "text": [
      "Point one:  (476, 303) Point two:  (959, 595)\n",
      "New points (500, 317)\n",
      "--------------------------------------------------------------------------------------------------------\n",
      "Point one:  (476, 303) Point two:  (0, 654)\n",
      "New points (452, 320)\n",
      "--------------------------------------------------------------------------------------------------------\n",
      "Point one:  (477, 302) Point two:  (959, 594)\n",
      "New points (501, 316)\n",
      "--------------------------------------------------------------------------------------------------------\n",
      "Point one:  (477, 302) Point two:  (0, 653)\n",
      "New points (453, 319)\n",
      "--------------------------------------------------------------------------------------------------------\n"
     ]
    },
    {
     "name": "stderr",
     "output_type": "stream",
     "text": [
      "\n",
      "  8%|██████████████▋                                                                                                                                                                | 57/682 [00:02<00:50, 12.40it/s]"
     ]
    },
    {
     "name": "stdout",
     "output_type": "stream",
     "text": [
      "Point one:  (480, 304) Point two:  (959, 602)\n",
      "New points (503, 318)\n",
      "--------------------------------------------------------------------------------------------------------\n",
      "Point one:  (480, 304) Point two:  (0, 648)\n",
      "New points (456, 321)\n",
      "--------------------------------------------------------------------------------------------------------\n",
      "Point one:  (476, 302) Point two:  (959, 599)\n",
      "New points (500, 316)\n",
      "--------------------------------------------------------------------------------------------------------\n",
      "Point one:  (476, 302) Point two:  (0, 655)\n",
      "New points (452, 319)\n",
      "--------------------------------------------------------------------------------------------------------\n",
      "Point one:  (476, 305) Point two:  (959, 592)\n",
      "New points (500, 319)\n",
      "--------------------------------------------------------------------------------------------------------\n",
      "Point one:  (476, 305) Point two:  (0, 648)\n",
      "New points (452, 322)\n",
      "--------------------------------------------------------------------------------------------------------\n"
     ]
    },
    {
     "name": "stderr",
     "output_type": "stream",
     "text": [
      "\n",
      "  9%|███████████████▍                                                                                                                                                               | 60/682 [00:02<00:58, 10.68it/s]"
     ]
    },
    {
     "name": "stdout",
     "output_type": "stream",
     "text": [
      "Point one:  (476, 304) Point two:  (959, 595)\n",
      "New points (500, 318)\n",
      "--------------------------------------------------------------------------------------------------------\n",
      "Point one:  (476, 304) Point two:  (0, 646)\n",
      "New points (452, 321)\n",
      "--------------------------------------------------------------------------------------------------------\n",
      "Point one:  (481, 304) Point two:  (959, 606)\n",
      "New points (504, 319)\n",
      "--------------------------------------------------------------------------------------------------------\n",
      "Point one:  (481, 304) Point two:  (0, 634)\n",
      "New points (456, 320)\n",
      "--------------------------------------------------------------------------------------------------------\n"
     ]
    },
    {
     "name": "stderr",
     "output_type": "stream",
     "text": [
      "\n",
      "  9%|███████████████▉                                                                                                                                                               | 62/682 [00:03<00:58, 10.68it/s]"
     ]
    },
    {
     "name": "stdout",
     "output_type": "stream",
     "text": [
      "Point one:  (474, 302) Point two:  (959, 600)\n",
      "New points (498, 316)\n",
      "--------------------------------------------------------------------------------------------------------\n",
      "Point one:  (474, 302) Point two:  (0, 639)\n",
      "New points (450, 318)\n",
      "--------------------------------------------------------------------------------------------------------\n",
      "Point one:  (475, 303) Point two:  (959, 599)\n",
      "New points (499, 317)\n",
      "--------------------------------------------------------------------------------------------------------\n",
      "Point one:  (475, 303) Point two:  (0, 641)\n",
      "New points (451, 319)\n",
      "--------------------------------------------------------------------------------------------------------\n",
      "Point one:  (477, 304) Point two:  (959, 591)\n",
      "New points (501, 318)\n",
      "--------------------------------------------------------------------------------------------------------\n",
      "Point one:  (477, 304) Point two:  (0, 638)\n",
      "New points (453, 320)\n",
      "--------------------------------------------------------------------------------------------------------\n",
      "Point one:  (475, 305) Point two:  (959, 601)\n",
      "New points (499, 319)\n",
      "--------------------------------------------------------------------------------------------------------\n",
      "Point one:  (475, 305) Point two:  (0, 643)\n",
      "New points (451, 321)\n",
      "--------------------------------------------------------------------------------------------------------\n"
     ]
    },
    {
     "name": "stderr",
     "output_type": "stream",
     "text": [
      "\n",
      " 10%|████████████████▉                                                                                                                                                              | 66/682 [00:03<00:53, 11.60it/s]"
     ]
    },
    {
     "name": "stdout",
     "output_type": "stream",
     "text": [
      "Point one:  (474, 305) Point two:  (959, 596)\n",
      "New points (498, 319)\n",
      "--------------------------------------------------------------------------------------------------------\n",
      "Point one:  (474, 305) Point two:  (0, 642)\n",
      "New points (450, 321)\n",
      "--------------------------------------------------------------------------------------------------------\n",
      "Point one:  (476, 303) Point two:  (959, 601)\n",
      "New points (500, 317)\n",
      "--------------------------------------------------------------------------------------------------------\n",
      "Point one:  (476, 303) Point two:  (0, 641)\n",
      "New points (452, 319)\n",
      "--------------------------------------------------------------------------------------------------------\n"
     ]
    },
    {
     "name": "stderr",
     "output_type": "stream",
     "text": [
      "\n",
      " 10%|█████████████████▍                                                                                                                                                             | 68/682 [00:03<01:07,  9.16it/s]"
     ]
    },
    {
     "name": "stdout",
     "output_type": "stream",
     "text": [
      "Point one:  (482, 303) Point two:  (959, 619)\n",
      "New points (505, 318)\n",
      "--------------------------------------------------------------------------------------------------------\n",
      "Point one:  (482, 303) Point two:  (0, 640)\n",
      "New points (457, 319)\n",
      "--------------------------------------------------------------------------------------------------------\n",
      "Point one:  (476, 308) Point two:  (959, 591)\n",
      "New points (500, 322)\n",
      "--------------------------------------------------------------------------------------------------------\n",
      "Point one:  (476, 308) Point two:  (0, 640)\n",
      "New points (452, 324)\n",
      "--------------------------------------------------------------------------------------------------------\n",
      "Point one:  (471, 305) Point two:  (959, 584)\n",
      "New points (495, 318)\n",
      "--------------------------------------------------------------------------------------------------------\n",
      "Point one:  (471, 305) Point two:  (0, 646)\n",
      "New points (447, 322)\n",
      "--------------------------------------------------------------------------------------------------------\n"
     ]
    },
    {
     "name": "stderr",
     "output_type": "stream",
     "text": [
      "\n",
      " 10%|██████████████████▏                                                                                                                                                            | 71/682 [00:04<01:02,  9.78it/s]"
     ]
    },
    {
     "name": "stdout",
     "output_type": "stream",
     "text": [
      "Point one:  (477, 305) Point two:  (959, 602)\n",
      "New points (501, 319)\n",
      "--------------------------------------------------------------------------------------------------------\n",
      "Point one:  (477, 305) Point two:  (0, 651)\n",
      "New points (453, 322)\n",
      "--------------------------------------------------------------------------------------------------------\n",
      "Point one:  (478, 306) Point two:  (959, 601)\n",
      "New points (502, 320)\n",
      "--------------------------------------------------------------------------------------------------------\n",
      "Point one:  (478, 306) Point two:  (0, 648)\n",
      "New points (454, 323)\n",
      "--------------------------------------------------------------------------------------------------------\n",
      "Point one:  (478, 303) Point two:  (959, 609)\n",
      "New points (502, 318)\n",
      "--------------------------------------------------------------------------------------------------------\n",
      "Point one:  (478, 303) Point two:  (0, 656)\n",
      "New points (454, 320)\n",
      "--------------------------------------------------------------------------------------------------------\n"
     ]
    },
    {
     "name": "stderr",
     "output_type": "stream",
     "text": [
      "\n",
      " 11%|██████████████████▉                                                                                                                                                            | 74/682 [00:04<00:52, 11.48it/s]"
     ]
    },
    {
     "name": "stdout",
     "output_type": "stream",
     "text": [
      "Point one:  (480, 304) Point two:  (959, 613)\n",
      "New points (503, 319)\n",
      "--------------------------------------------------------------------------------------------------------\n",
      "Point one:  (480, 304) Point two:  (0, 643)\n",
      "New points (456, 320)\n",
      "--------------------------------------------------------------------------------------------------------\n",
      "Point one:  (480, 305) Point two:  (959, 610)\n",
      "New points (503, 320)\n",
      "--------------------------------------------------------------------------------------------------------\n",
      "Point one:  (480, 305) Point two:  (0, 640)\n",
      "New points (456, 321)\n",
      "--------------------------------------------------------------------------------------------------------\n",
      "Point one:  (479, 304) Point two:  (959, 609)\n",
      "New points (503, 319)\n",
      "--------------------------------------------------------------------------------------------------------\n",
      "Point one:  (479, 304) Point two:  (0, 651)\n",
      "New points (455, 321)\n",
      "--------------------------------------------------------------------------------------------------------\n"
     ]
    },
    {
     "name": "stderr",
     "output_type": "stream",
     "text": [
      "\n",
      " 11%|███████████████████▊                                                                                                                                                           | 77/682 [00:04<00:54, 11.11it/s]"
     ]
    },
    {
     "name": "stdout",
     "output_type": "stream",
     "text": [
      "Point one:  (475, 304) Point two:  (959, 606)\n",
      "New points (499, 319)\n",
      "--------------------------------------------------------------------------------------------------------\n",
      "Point one:  (475, 304) Point two:  (0, 644)\n",
      "New points (451, 321)\n",
      "--------------------------------------------------------------------------------------------------------\n",
      "Point one:  (472, 306) Point two:  (959, 600)\n",
      "New points (496, 320)\n",
      "--------------------------------------------------------------------------------------------------------\n",
      "Point one:  (472, 306) Point two:  (0, 657)\n",
      "New points (448, 323)\n",
      "--------------------------------------------------------------------------------------------------------\n"
     ]
    },
    {
     "name": "stderr",
     "output_type": "stream",
     "text": [
      "\n",
      " 12%|████████████████████▎                                                                                                                                                          | 79/682 [00:04<00:50, 11.94it/s]"
     ]
    },
    {
     "name": "stdout",
     "output_type": "stream",
     "text": [
      "Point one:  (477, 304) Point two:  (959, 610)\n",
      "New points (501, 319)\n",
      "--------------------------------------------------------------------------------------------------------\n",
      "Point one:  (477, 304) Point two:  (0, 643)\n",
      "New points (453, 320)\n",
      "--------------------------------------------------------------------------------------------------------\n",
      "Point one:  (476, 303) Point two:  (959, 611)\n",
      "New points (500, 318)\n",
      "--------------------------------------------------------------------------------------------------------\n",
      "Point one:  (476, 303) Point two:  (0, 661)\n",
      "New points (452, 320)\n",
      "--------------------------------------------------------------------------------------------------------\n"
     ]
    },
    {
     "name": "stderr",
     "output_type": "stream",
     "text": [
      "\n",
      " 12%|████████████████████▊                                                                                                                                                          | 81/682 [00:04<01:01,  9.82it/s]"
     ]
    },
    {
     "name": "stdout",
     "output_type": "stream",
     "text": [
      "Point one:  (481, 303) Point two:  (959, 616)\n",
      "New points (504, 318)\n",
      "--------------------------------------------------------------------------------------------------------\n",
      "Point one:  (481, 303) Point two:  (0, 641)\n",
      "New points (456, 319)\n",
      "--------------------------------------------------------------------------------------------------------\n",
      "Point one:  (475, 305) Point two:  (959, 603)\n",
      "New points (499, 319)\n",
      "--------------------------------------------------------------------------------------------------------\n",
      "Point one:  (475, 305) Point two:  (0, 645)\n",
      "New points (451, 322)\n",
      "--------------------------------------------------------------------------------------------------------\n",
      "Point one:  (475, 305) Point two:  (959, 601)\n",
      "New points (499, 319)\n",
      "--------------------------------------------------------------------------------------------------------\n",
      "Point one:  (475, 305) Point two:  (0, 639)\n",
      "New points (451, 321)\n",
      "--------------------------------------------------------------------------------------------------------\n",
      "Point one:  (478, 304) Point two:  (959, 614)\n",
      "New points (502, 319)\n",
      "--------------------------------------------------------------------------------------------------------\n",
      "Point one:  (478, 304) Point two:  (0, 636)\n",
      "New points (454, 320)\n",
      "--------------------------------------------------------------------------------------------------------\n"
     ]
    },
    {
     "name": "stderr",
     "output_type": "stream",
     "text": [
      "\n",
      " 12%|█████████████████████▊                                                                                                                                                         | 85/682 [00:05<00:50, 11.91it/s]"
     ]
    },
    {
     "name": "stdout",
     "output_type": "stream",
     "text": [
      "Point one:  (478, 304) Point two:  (959, 612)\n",
      "New points (502, 319)\n",
      "--------------------------------------------------------------------------------------------------------\n",
      "Point one:  (478, 304) Point two:  (0, 646)\n",
      "New points (454, 321)\n",
      "--------------------------------------------------------------------------------------------------------\n",
      "Point one:  (474, 302) Point two:  (959, 611)\n",
      "New points (498, 317)\n",
      "--------------------------------------------------------------------------------------------------------\n",
      "Point one:  (474, 302) Point two:  (0, 646)\n",
      "New points (450, 319)\n",
      "--------------------------------------------------------------------------------------------------------\n"
     ]
    },
    {
     "name": "stderr",
     "output_type": "stream",
     "text": [
      "\n",
      " 13%|██████████████████████▎                                                                                                                                                        | 87/682 [00:05<00:55, 10.63it/s]"
     ]
    },
    {
     "name": "stdout",
     "output_type": "stream",
     "text": [
      "Point one:  (480, 304) Point two:  (959, 613)\n",
      "New points (503, 319)\n",
      "--------------------------------------------------------------------------------------------------------\n",
      "Point one:  (480, 304) Point two:  (0, 638)\n",
      "New points (456, 320)\n",
      "--------------------------------------------------------------------------------------------------------\n",
      "Point one:  (482, 306) Point two:  (959, 610)\n",
      "New points (505, 321)\n",
      "--------------------------------------------------------------------------------------------------------\n",
      "Point one:  (482, 306) Point two:  (0, 636)\n",
      "New points (457, 322)\n",
      "--------------------------------------------------------------------------------------------------------\n"
     ]
    },
    {
     "name": "stderr",
     "output_type": "stream",
     "text": [
      "\n",
      " 13%|██████████████████████▊                                                                                                                                                        | 89/682 [00:05<00:51, 11.51it/s]"
     ]
    },
    {
     "name": "stdout",
     "output_type": "stream",
     "text": [
      "Point one:  (480, 303) Point two:  (959, 603)\n",
      "New points (503, 318)\n",
      "--------------------------------------------------------------------------------------------------------\n",
      "Point one:  (480, 303) Point two:  (0, 640)\n",
      "New points (456, 319)\n",
      "--------------------------------------------------------------------------------------------------------\n",
      "Point one:  (479, 304) Point two:  (959, 614)\n",
      "New points (503, 319)\n",
      "--------------------------------------------------------------------------------------------------------\n",
      "Point one:  (479, 304) Point two:  (0, 634)\n",
      "New points (455, 320)\n",
      "--------------------------------------------------------------------------------------------------------\n",
      "Point one:  (481, 307) Point two:  (959, 611)\n",
      "New points (504, 322)\n",
      "--------------------------------------------------------------------------------------------------------\n",
      "Point one:  (481, 307) Point two:  (0, 635)\n",
      "New points (456, 323)\n",
      "--------------------------------------------------------------------------------------------------------\n"
     ]
    },
    {
     "name": "stderr",
     "output_type": "stream",
     "text": [
      "\n",
      " 13%|███████████████████████▌                                                                                                                                                       | 92/682 [00:05<00:54, 10.73it/s]"
     ]
    },
    {
     "name": "stdout",
     "output_type": "stream",
     "text": [
      "Point one:  (476, 309) Point two:  (959, 609)\n",
      "New points (500, 324)\n",
      "--------------------------------------------------------------------------------------------------------\n",
      "Point one:  (476, 309) Point two:  (0, 640)\n",
      "New points (452, 325)\n",
      "--------------------------------------------------------------------------------------------------------\n",
      "Point one:  (482, 308) Point two:  (959, 621)\n",
      "New points (505, 323)\n",
      "--------------------------------------------------------------------------------------------------------\n",
      "Point one:  (482, 308) Point two:  (0, 638)\n",
      "New points (457, 324)\n",
      "--------------------------------------------------------------------------------------------------------\n"
     ]
    },
    {
     "name": "stderr",
     "output_type": "stream",
     "text": [
      "\n",
      " 14%|████████████████████████                                                                                                                                                       | 94/682 [00:05<00:51, 11.49it/s]"
     ]
    },
    {
     "name": "stdout",
     "output_type": "stream",
     "text": [
      "Point one:  (480, 309) Point two:  (959, 612)\n",
      "New points (503, 324)\n",
      "--------------------------------------------------------------------------------------------------------\n",
      "Point one:  (480, 309) Point two:  (0, 637)\n",
      "New points (456, 325)\n",
      "--------------------------------------------------------------------------------------------------------\n",
      "Point one:  (479, 310) Point two:  (959, 607)\n",
      "New points (503, 324)\n",
      "--------------------------------------------------------------------------------------------------------\n",
      "Point one:  (479, 310) Point two:  (0, 639)\n",
      "New points (455, 326)\n",
      "--------------------------------------------------------------------------------------------------------\n"
     ]
    },
    {
     "name": "stderr",
     "output_type": "stream",
     "text": [
      "\n",
      " 14%|████████████████████████▋                                                                                                                                                      | 96/682 [00:06<00:49, 11.78it/s]"
     ]
    },
    {
     "name": "stdout",
     "output_type": "stream",
     "text": [
      "Point one:  (481, 309) Point two:  (959, 612)\n",
      "New points (504, 324)\n",
      "--------------------------------------------------------------------------------------------------------\n",
      "Point one:  (481, 309) Point two:  (0, 638)\n",
      "New points (456, 325)\n",
      "--------------------------------------------------------------------------------------------------------\n",
      "Point one:  (480, 309) Point two:  (959, 614)\n",
      "New points (503, 324)\n",
      "--------------------------------------------------------------------------------------------------------\n",
      "Point one:  (480, 309) Point two:  (0, 641)\n",
      "New points (456, 325)\n",
      "--------------------------------------------------------------------------------------------------------\n"
     ]
    },
    {
     "name": "stderr",
     "output_type": "stream",
     "text": [
      "\n",
      " 14%|█████████████████████████▏                                                                                                                                                     | 98/682 [00:06<00:52, 11.23it/s]"
     ]
    },
    {
     "name": "stdout",
     "output_type": "stream",
     "text": [
      "Point one:  (481, 308) Point two:  (959, 611)\n",
      "New points (504, 323)\n",
      "--------------------------------------------------------------------------------------------------------\n",
      "Point one:  (481, 308) Point two:  (0, 642)\n",
      "New points (456, 324)\n",
      "--------------------------------------------------------------------------------------------------------\n",
      "Point one:  (483, 308) Point two:  (959, 613)\n",
      "New points (506, 323)\n",
      "--------------------------------------------------------------------------------------------------------\n",
      "Point one:  (483, 308) Point two:  (0, 640)\n",
      "New points (458, 324)\n",
      "--------------------------------------------------------------------------------------------------------\n"
     ]
    },
    {
     "name": "stderr",
     "output_type": "stream",
     "text": [
      "\n",
      " 15%|█████████████████████████▌                                                                                                                                                    | 100/682 [00:06<00:58,  9.98it/s]"
     ]
    },
    {
     "name": "stdout",
     "output_type": "stream",
     "text": [
      "Point one:  (480, 308) Point two:  (959, 604)\n",
      "New points (503, 322)\n",
      "--------------------------------------------------------------------------------------------------------\n",
      "Point one:  (480, 308) Point two:  (0, 639)\n",
      "New points (456, 324)\n",
      "--------------------------------------------------------------------------------------------------------\n",
      "Point one:  (479, 306) Point two:  (959, 615)\n",
      "New points (503, 321)\n",
      "--------------------------------------------------------------------------------------------------------\n",
      "Point one:  (479, 306) Point two:  (0, 639)\n",
      "New points (455, 322)\n",
      "--------------------------------------------------------------------------------------------------------\n",
      "Point one:  (481, 307) Point two:  (959, 613)\n",
      "New points (504, 322)\n",
      "--------------------------------------------------------------------------------------------------------\n",
      "Point one:  (481, 307) Point two:  (0, 641)\n",
      "New points (456, 323)\n",
      "--------------------------------------------------------------------------------------------------------\n"
     ]
    },
    {
     "name": "stderr",
     "output_type": "stream",
     "text": [
      "\n",
      " 15%|██████████████████████████▎                                                                                                                                                   | 103/682 [00:06<00:46, 12.41it/s]"
     ]
    },
    {
     "name": "stdout",
     "output_type": "stream",
     "text": [
      "Point one:  (477, 305) Point two:  (959, 613)\n",
      "New points (501, 320)\n",
      "--------------------------------------------------------------------------------------------------------\n",
      "Point one:  (477, 305) Point two:  (0, 647)\n",
      "New points (453, 322)\n",
      "--------------------------------------------------------------------------------------------------------\n",
      "Point one:  (478, 307) Point two:  (959, 610)\n",
      "New points (502, 322)\n",
      "--------------------------------------------------------------------------------------------------------\n",
      "Point one:  (478, 307) Point two:  (0, 638)\n",
      "New points (454, 323)\n",
      "--------------------------------------------------------------------------------------------------------\n"
     ]
    },
    {
     "name": "stderr",
     "output_type": "stream",
     "text": [
      "\n",
      " 15%|██████████████████████████▊                                                                                                                                                   | 105/682 [00:06<01:02,  9.16it/s]"
     ]
    },
    {
     "name": "stdout",
     "output_type": "stream",
     "text": [
      "Point one:  (479, 307) Point two:  (959, 613)\n",
      "New points (503, 322)\n",
      "--------------------------------------------------------------------------------------------------------\n",
      "Point one:  (479, 307) Point two:  (0, 637)\n",
      "New points (455, 323)\n",
      "--------------------------------------------------------------------------------------------------------\n",
      "Point one:  (482, 307) Point two:  (959, 615)\n",
      "New points (505, 322)\n",
      "--------------------------------------------------------------------------------------------------------\n",
      "Point one:  (482, 307) Point two:  (0, 632)\n",
      "New points (457, 323)\n",
      "--------------------------------------------------------------------------------------------------------\n"
     ]
    },
    {
     "name": "stderr",
     "output_type": "stream",
     "text": [
      "\n",
      " 16%|███████████████████████████▎                                                                                                                                                  | 107/682 [00:07<00:56, 10.12it/s]"
     ]
    },
    {
     "name": "stdout",
     "output_type": "stream",
     "text": [
      "Point one:  (478, 309) Point two:  (959, 598)\n",
      "New points (502, 323)\n",
      "--------------------------------------------------------------------------------------------------------\n",
      "Point one:  (478, 309) Point two:  (0, 631)\n",
      "New points (454, 325)\n",
      "--------------------------------------------------------------------------------------------------------\n",
      "Point one:  (482, 308) Point two:  (959, 609)\n",
      "New points (505, 323)\n",
      "--------------------------------------------------------------------------------------------------------\n",
      "Point one:  (482, 308) Point two:  (0, 636)\n",
      "New points (457, 324)\n",
      "--------------------------------------------------------------------------------------------------------\n",
      "Point one:  (483, 307) Point two:  (959, 620)\n",
      "New points (506, 322)\n",
      "--------------------------------------------------------------------------------------------------------\n",
      "Point one:  (483, 307) Point two:  (0, 640)\n",
      "New points (458, 323)\n",
      "--------------------------------------------------------------------------------------------------------\n"
     ]
    },
    {
     "name": "stderr",
     "output_type": "stream",
     "text": [
      "\n",
      " 16%|████████████████████████████                                                                                                                                                  | 110/682 [00:07<00:46, 12.26it/s]"
     ]
    },
    {
     "name": "stdout",
     "output_type": "stream",
     "text": [
      "Point one:  (482, 308) Point two:  (959, 618)\n",
      "New points (505, 323)\n",
      "--------------------------------------------------------------------------------------------------------\n",
      "Point one:  (482, 308) Point two:  (0, 637)\n",
      "New points (457, 324)\n",
      "--------------------------------------------------------------------------------------------------------\n",
      "Point one:  (478, 310) Point two:  (959, 604)\n",
      "New points (502, 324)\n",
      "--------------------------------------------------------------------------------------------------------\n",
      "Point one:  (478, 310) Point two:  (0, 639)\n",
      "New points (454, 326)\n",
      "--------------------------------------------------------------------------------------------------------\n"
     ]
    },
    {
     "name": "stderr",
     "output_type": "stream",
     "text": [
      "\n",
      " 16%|████████████████████████████▌                                                                                                                                                 | 112/682 [00:07<00:57,  9.98it/s]"
     ]
    },
    {
     "name": "stdout",
     "output_type": "stream",
     "text": [
      "Point one:  (479, 309) Point two:  (959, 605)\n",
      "New points (503, 323)\n",
      "--------------------------------------------------------------------------------------------------------\n",
      "Point one:  (479, 309) Point two:  (0, 637)\n",
      "New points (455, 325)\n",
      "--------------------------------------------------------------------------------------------------------\n",
      "Point one:  (478, 307) Point two:  (959, 611)\n",
      "New points (502, 322)\n",
      "--------------------------------------------------------------------------------------------------------\n",
      "Point one:  (478, 307) Point two:  (0, 647)\n",
      "New points (454, 324)\n",
      "--------------------------------------------------------------------------------------------------------\n"
     ]
    },
    {
     "name": "stderr",
     "output_type": "stream",
     "text": [
      "\n",
      " 17%|█████████████████████████████                                                                                                                                                 | 114/682 [00:07<00:52, 10.92it/s]"
     ]
    },
    {
     "name": "stdout",
     "output_type": "stream",
     "text": [
      "Point one:  (484, 307) Point two:  (959, 615)\n",
      "New points (507, 322)\n",
      "--------------------------------------------------------------------------------------------------------\n",
      "Point one:  (484, 307) Point two:  (0, 645)\n",
      "New points (459, 323)\n",
      "--------------------------------------------------------------------------------------------------------\n",
      "Point one:  (479, 306) Point two:  (959, 608)\n",
      "New points (503, 321)\n",
      "--------------------------------------------------------------------------------------------------------\n",
      "Point one:  (479, 306) Point two:  (0, 645)\n",
      "New points (455, 322)\n",
      "--------------------------------------------------------------------------------------------------------\n"
     ]
    },
    {
     "name": "stderr",
     "output_type": "stream",
     "text": [
      "\n",
      " 17%|█████████████████████████████▌                                                                                                                                                | 116/682 [00:07<00:59,  9.58it/s]"
     ]
    },
    {
     "name": "stdout",
     "output_type": "stream",
     "text": [
      "Point one:  (481, 306) Point two:  (959, 603)\n",
      "New points (504, 320)\n",
      "--------------------------------------------------------------------------------------------------------\n",
      "Point one:  (481, 306) Point two:  (0, 639)\n",
      "New points (456, 322)\n",
      "--------------------------------------------------------------------------------------------------------\n",
      "Point one:  (480, 306) Point two:  (959, 611)\n",
      "New points (503, 321)\n",
      "--------------------------------------------------------------------------------------------------------\n",
      "Point one:  (480, 306) Point two:  (0, 650)\n",
      "New points (456, 323)\n",
      "--------------------------------------------------------------------------------------------------------\n",
      "Point one:  (482, 305) Point two:  (959, 610)\n",
      "New points (505, 320)\n",
      "--------------------------------------------------------------------------------------------------------\n",
      "Point one:  (482, 305) Point two:  (0, 645)\n",
      "New points (457, 322)\n",
      "--------------------------------------------------------------------------------------------------------\n"
     ]
    },
    {
     "name": "stderr",
     "output_type": "stream",
     "text": [
      "\n",
      " 17%|██████████████████████████████▎                                                                                                                                               | 119/682 [00:08<00:50, 11.08it/s]"
     ]
    },
    {
     "name": "stdout",
     "output_type": "stream",
     "text": [
      "Point one:  (480, 305) Point two:  (959, 611)\n",
      "New points (503, 320)\n",
      "--------------------------------------------------------------------------------------------------------\n",
      "Point one:  (480, 305) Point two:  (0, 644)\n",
      "New points (456, 321)\n",
      "--------------------------------------------------------------------------------------------------------\n",
      "Point one:  (481, 306) Point two:  (959, 613)\n",
      "New points (504, 321)\n",
      "--------------------------------------------------------------------------------------------------------\n",
      "Point one:  (481, 306) Point two:  (0, 654)\n",
      "New points (456, 323)\n",
      "--------------------------------------------------------------------------------------------------------\n"
     ]
    },
    {
     "name": "stderr",
     "output_type": "stream",
     "text": [
      "\n",
      " 18%|██████████████████████████████▊                                                                                                                                               | 121/682 [00:08<00:44, 12.54it/s]"
     ]
    },
    {
     "name": "stdout",
     "output_type": "stream",
     "text": [
      "Point one:  (480, 306) Point two:  (959, 610)\n",
      "New points (503, 321)\n",
      "--------------------------------------------------------------------------------------------------------\n",
      "Point one:  (480, 306) Point two:  (0, 649)\n",
      "New points (456, 323)\n",
      "--------------------------------------------------------------------------------------------------------\n",
      "Point one:  (480, 306) Point two:  (959, 605)\n",
      "New points (503, 320)\n",
      "--------------------------------------------------------------------------------------------------------\n",
      "Point one:  (480, 306) Point two:  (0, 651)\n",
      "New points (456, 323)\n",
      "--------------------------------------------------------------------------------------------------------\n"
     ]
    },
    {
     "name": "stderr",
     "output_type": "stream",
     "text": [
      "\n",
      " 18%|███████████████████████████████▍                                                                                                                                              | 123/682 [00:08<00:47, 11.74it/s]"
     ]
    },
    {
     "name": "stdout",
     "output_type": "stream",
     "text": [
      "Point one:  (483, 307) Point two:  (959, 611)\n",
      "New points (506, 322)\n",
      "--------------------------------------------------------------------------------------------------------\n",
      "Point one:  (483, 307) Point two:  (0, 638)\n",
      "New points (458, 323)\n",
      "--------------------------------------------------------------------------------------------------------\n",
      "Point one:  (478, 307) Point two:  (959, 596)\n",
      "New points (502, 321)\n",
      "--------------------------------------------------------------------------------------------------------\n",
      "Point one:  (478, 307) Point two:  (0, 646)\n",
      "New points (454, 323)\n",
      "--------------------------------------------------------------------------------------------------------\n"
     ]
    },
    {
     "name": "stderr",
     "output_type": "stream",
     "text": [
      "\n",
      " 18%|███████████████████████████████▉                                                                                                                                              | 125/682 [00:08<00:43, 12.69it/s]"
     ]
    },
    {
     "name": "stdout",
     "output_type": "stream",
     "text": [
      "Point one:  (479, 305) Point two:  (959, 606)\n",
      "New points (503, 320)\n",
      "--------------------------------------------------------------------------------------------------------\n",
      "Point one:  (479, 305) Point two:  (0, 643)\n",
      "New points (455, 321)\n",
      "--------------------------------------------------------------------------------------------------------\n",
      "Point one:  (481, 307) Point two:  (959, 606)\n",
      "New points (504, 321)\n",
      "--------------------------------------------------------------------------------------------------------\n",
      "Point one:  (481, 307) Point two:  (0, 645)\n",
      "New points (456, 323)\n",
      "--------------------------------------------------------------------------------------------------------\n"
     ]
    },
    {
     "name": "stderr",
     "output_type": "stream",
     "text": [
      "\n",
      " 19%|████████████████████████████████▍                                                                                                                                             | 127/682 [00:08<00:57,  9.69it/s]"
     ]
    },
    {
     "name": "stdout",
     "output_type": "stream",
     "text": [
      "Point one:  (481, 309) Point two:  (959, 603)\n",
      "New points (504, 323)\n",
      "--------------------------------------------------------------------------------------------------------\n",
      "Point one:  (481, 309) Point two:  (0, 643)\n",
      "New points (456, 325)\n",
      "--------------------------------------------------------------------------------------------------------\n",
      "Point one:  (479, 308) Point two:  (959, 603)\n",
      "New points (503, 322)\n",
      "--------------------------------------------------------------------------------------------------------\n",
      "Point one:  (479, 308) Point two:  (0, 647)\n",
      "New points (455, 324)\n",
      "--------------------------------------------------------------------------------------------------------\n",
      "Point one:  (481, 307) Point two:  (959, 612)\n",
      "New points (504, 322)\n",
      "--------------------------------------------------------------------------------------------------------\n",
      "Point one:  (481, 307) Point two:  (0, 652)\n",
      "New points (456, 324)\n",
      "--------------------------------------------------------------------------------------------------------\n"
     ]
    },
    {
     "name": "stderr",
     "output_type": "stream",
     "text": [
      "\n",
      " 19%|█████████████████████████████████▏                                                                                                                                            | 130/682 [00:08<00:46, 11.95it/s]"
     ]
    },
    {
     "name": "stdout",
     "output_type": "stream",
     "text": [
      "Point one:  (483, 307) Point two:  (959, 617)\n",
      "New points (506, 322)\n",
      "--------------------------------------------------------------------------------------------------------\n",
      "Point one:  (483, 307) Point two:  (0, 642)\n",
      "New points (458, 323)\n",
      "--------------------------------------------------------------------------------------------------------\n",
      "Point one:  (480, 306) Point two:  (959, 614)\n",
      "New points (503, 321)\n",
      "--------------------------------------------------------------------------------------------------------\n",
      "Point one:  (480, 306) Point two:  (0, 654)\n",
      "New points (456, 323)\n",
      "--------------------------------------------------------------------------------------------------------\n"
     ]
    },
    {
     "name": "stderr",
     "output_type": "stream",
     "text": [
      "\n",
      " 19%|█████████████████████████████████▋                                                                                                                                            | 132/682 [00:09<00:48, 11.31it/s]"
     ]
    },
    {
     "name": "stdout",
     "output_type": "stream",
     "text": [
      "Point one:  (483, 306) Point two:  (959, 608)\n",
      "New points (506, 321)\n",
      "--------------------------------------------------------------------------------------------------------\n",
      "Point one:  (483, 306) Point two:  (0, 641)\n",
      "New points (458, 322)\n",
      "--------------------------------------------------------------------------------------------------------\n",
      "Point one:  (483, 307) Point two:  (959, 610)\n",
      "New points (506, 322)\n",
      "--------------------------------------------------------------------------------------------------------\n",
      "Point one:  (483, 307) Point two:  (0, 643)\n",
      "New points (458, 323)\n",
      "--------------------------------------------------------------------------------------------------------\n"
     ]
    },
    {
     "name": "stderr",
     "output_type": "stream",
     "text": [
      "\n",
      " 20%|██████████████████████████████████▏                                                                                                                                           | 134/682 [00:09<00:51, 10.73it/s]"
     ]
    },
    {
     "name": "stdout",
     "output_type": "stream",
     "text": [
      "Point one:  (479, 306) Point two:  (959, 605)\n",
      "New points (503, 320)\n",
      "--------------------------------------------------------------------------------------------------------\n",
      "Point one:  (479, 306) Point two:  (0, 662)\n",
      "New points (455, 323)\n",
      "--------------------------------------------------------------------------------------------------------\n",
      "Point one:  (483, 307) Point two:  (959, 616)\n",
      "New points (506, 322)\n",
      "--------------------------------------------------------------------------------------------------------\n",
      "Point one:  (483, 307) Point two:  (0, 643)\n",
      "New points (458, 323)\n",
      "--------------------------------------------------------------------------------------------------------\n",
      "Point one:  (483, 309) Point two:  (959, 606)\n",
      "New points (506, 323)\n",
      "--------------------------------------------------------------------------------------------------------\n",
      "Point one:  (483, 309) Point two:  (0, 642)\n",
      "New points (458, 325)\n",
      "--------------------------------------------------------------------------------------------------------\n",
      "Point one:  (482, 307) Point two:  (959, 610)\n",
      "New points (505, 322)\n",
      "--------------------------------------------------------------------------------------------------------\n",
      "Point one:  (482, 307) Point two:  (0, 650)\n",
      "New points (457, 324)\n",
      "--------------------------------------------------------------------------------------------------------\n"
     ]
    },
    {
     "name": "stderr",
     "output_type": "stream",
     "text": [
      "\n",
      " 20%|███████████████████████████████████▏                                                                                                                                          | 138/682 [00:09<00:47, 11.56it/s]"
     ]
    },
    {
     "name": "stdout",
     "output_type": "stream",
     "text": [
      "Point one:  (482, 307) Point two:  (959, 609)\n",
      "New points (505, 322)\n",
      "--------------------------------------------------------------------------------------------------------\n",
      "Point one:  (482, 307) Point two:  (0, 643)\n",
      "New points (457, 323)\n",
      "--------------------------------------------------------------------------------------------------------\n",
      "Point one:  (478, 306) Point two:  (959, 602)\n",
      "New points (502, 320)\n",
      "--------------------------------------------------------------------------------------------------------\n",
      "Point one:  (478, 306) Point two:  (0, 649)\n",
      "New points (454, 323)\n",
      "--------------------------------------------------------------------------------------------------------\n"
     ]
    },
    {
     "name": "stderr",
     "output_type": "stream",
     "text": [
      "\n",
      " 21%|███████████████████████████████████▋                                                                                                                                          | 140/682 [00:09<00:48, 11.26it/s]"
     ]
    },
    {
     "name": "stdout",
     "output_type": "stream",
     "text": [
      "Point one:  (479, 307) Point two:  (959, 605)\n",
      "New points (503, 321)\n",
      "--------------------------------------------------------------------------------------------------------\n",
      "Point one:  (479, 307) Point two:  (0, 643)\n",
      "New points (455, 323)\n",
      "--------------------------------------------------------------------------------------------------------\n",
      "Point one:  (481, 308) Point two:  (959, 609)\n",
      "New points (504, 323)\n",
      "--------------------------------------------------------------------------------------------------------\n",
      "Point one:  (481, 308) Point two:  (0, 649)\n",
      "New points (456, 325)\n",
      "--------------------------------------------------------------------------------------------------------\n"
     ]
    },
    {
     "name": "stderr",
     "output_type": "stream",
     "text": [
      "\n",
      " 21%|████████████████████████████████████▏                                                                                                                                         | 142/682 [00:10<00:50, 10.72it/s]"
     ]
    },
    {
     "name": "stdout",
     "output_type": "stream",
     "text": [
      "Point one:  (477, 309) Point two:  (959, 601)\n",
      "New points (501, 323)\n",
      "--------------------------------------------------------------------------------------------------------\n",
      "Point one:  (477, 309) Point two:  (0, 652)\n",
      "New points (453, 326)\n",
      "--------------------------------------------------------------------------------------------------------\n",
      "Point one:  (483, 308) Point two:  (959, 607)\n",
      "New points (506, 322)\n",
      "--------------------------------------------------------------------------------------------------------\n",
      "Point one:  (483, 308) Point two:  (0, 641)\n",
      "New points (458, 324)\n",
      "--------------------------------------------------------------------------------------------------------\n"
     ]
    },
    {
     "name": "stderr",
     "output_type": "stream",
     "text": [
      "\n",
      " 21%|████████████████████████████████████▋                                                                                                                                         | 144/682 [00:10<00:45, 11.93it/s]"
     ]
    },
    {
     "name": "stdout",
     "output_type": "stream",
     "text": [
      "Point one:  (481, 309) Point two:  (959, 607)\n",
      "New points (504, 323)\n",
      "--------------------------------------------------------------------------------------------------------\n",
      "Point one:  (481, 309) Point two:  (0, 642)\n",
      "New points (456, 325)\n",
      "--------------------------------------------------------------------------------------------------------\n",
      "Point one:  (482, 308) Point two:  (959, 611)\n",
      "New points (505, 323)\n",
      "--------------------------------------------------------------------------------------------------------\n",
      "Point one:  (482, 308) Point two:  (0, 639)\n",
      "New points (457, 324)\n",
      "--------------------------------------------------------------------------------------------------------\n",
      "Point one:  (482, 307) Point two:  (959, 610)\n",
      "New points (505, 322)\n",
      "--------------------------------------------------------------------------------------------------------\n",
      "Point one:  (482, 307) Point two:  (0, 645)\n",
      "New points (457, 323)\n",
      "--------------------------------------------------------------------------------------------------------\n"
     ]
    },
    {
     "name": "stderr",
     "output_type": "stream",
     "text": [
      "\n",
      " 22%|█████████████████████████████████████▌                                                                                                                                        | 147/682 [00:10<00:36, 14.55it/s]"
     ]
    },
    {
     "name": "stdout",
     "output_type": "stream",
     "text": [
      "Point one:  (481, 308) Point two:  (959, 603)\n",
      "New points (504, 322)\n",
      "--------------------------------------------------------------------------------------------------------\n",
      "Point one:  (481, 308) Point two:  (0, 639)\n",
      "New points (456, 324)\n",
      "--------------------------------------------------------------------------------------------------------\n",
      "Point one:  (485, 307) Point two:  (959, 618)\n",
      "New points (508, 322)\n",
      "--------------------------------------------------------------------------------------------------------\n",
      "Point one:  (485, 307) Point two:  (0, 638)\n",
      "New points (460, 323)\n",
      "--------------------------------------------------------------------------------------------------------\n"
     ]
    },
    {
     "name": "stderr",
     "output_type": "stream",
     "text": [
      "\n",
      " 22%|██████████████████████████████████████                                                                                                                                        | 149/682 [00:10<00:54,  9.80it/s]"
     ]
    },
    {
     "name": "stdout",
     "output_type": "stream",
     "text": [
      "Point one:  (482, 308) Point two:  (959, 608)\n",
      "New points (505, 323)\n",
      "--------------------------------------------------------------------------------------------------------\n",
      "Point one:  (482, 308) Point two:  (0, 640)\n",
      "New points (457, 324)\n",
      "--------------------------------------------------------------------------------------------------------\n",
      "Point one:  (481, 308) Point two:  (959, 603)\n",
      "New points (504, 322)\n",
      "--------------------------------------------------------------------------------------------------------\n",
      "Point one:  (481, 308) Point two:  (0, 648)\n",
      "New points (456, 325)\n",
      "--------------------------------------------------------------------------------------------------------\n"
     ]
    },
    {
     "name": "stderr",
     "output_type": "stream",
     "text": [
      "\n",
      " 22%|██████████████████████████████████████▌                                                                                                                                       | 151/682 [00:10<00:52, 10.16it/s]"
     ]
    },
    {
     "name": "stdout",
     "output_type": "stream",
     "text": [
      "Point one:  (477, 311) Point two:  (959, 601)\n",
      "New points (501, 325)\n",
      "--------------------------------------------------------------------------------------------------------\n",
      "Point one:  (477, 311) Point two:  (0, 645)\n",
      "New points (453, 327)\n",
      "--------------------------------------------------------------------------------------------------------\n",
      "Point one:  (483, 308) Point two:  (959, 607)\n",
      "New points (506, 322)\n",
      "--------------------------------------------------------------------------------------------------------\n",
      "Point one:  (483, 308) Point two:  (0, 649)\n",
      "New points (458, 325)\n",
      "--------------------------------------------------------------------------------------------------------\n",
      "Point one:  (480, 309) Point two:  (959, 603)\n",
      "New points (503, 323)\n",
      "--------------------------------------------------------------------------------------------------------\n",
      "Point one:  (480, 309) Point two:  (0, 644)\n",
      "New points (456, 325)\n",
      "--------------------------------------------------------------------------------------------------------\n"
     ]
    },
    {
     "name": "stderr",
     "output_type": "stream",
     "text": [
      "\n",
      " 23%|███████████████████████████████████████▎                                                                                                                                      | 154/682 [00:11<00:48, 10.86it/s]"
     ]
    },
    {
     "name": "stdout",
     "output_type": "stream",
     "text": [
      "Point one:  (482, 311) Point two:  (959, 601)\n",
      "New points (505, 325)\n",
      "--------------------------------------------------------------------------------------------------------\n",
      "Point one:  (482, 311) Point two:  (0, 643)\n",
      "New points (457, 327)\n",
      "--------------------------------------------------------------------------------------------------------\n",
      "Point one:  (480, 310) Point two:  (959, 603)\n",
      "New points (503, 324)\n",
      "--------------------------------------------------------------------------------------------------------\n",
      "Point one:  (480, 310) Point two:  (0, 649)\n",
      "New points (456, 326)\n",
      "--------------------------------------------------------------------------------------------------------\n",
      "Point one:  (482, 313) Point two:  (959, 593)\n",
      "New points (505, 327)\n",
      "--------------------------------------------------------------------------------------------------------\n",
      "Point one:  (482, 313) Point two:  (0, 647)\n",
      "New points (457, 329)\n",
      "--------------------------------------------------------------------------------------------------------\n"
     ]
    },
    {
     "name": "stderr",
     "output_type": "stream",
     "text": [
      "\n",
      " 23%|████████████████████████████████████████                                                                                                                                      | 157/682 [00:11<00:43, 12.19it/s]"
     ]
    },
    {
     "name": "stdout",
     "output_type": "stream",
     "text": [
      "Point one:  (481, 313) Point two:  (959, 595)\n",
      "New points (504, 327)\n",
      "--------------------------------------------------------------------------------------------------------\n",
      "Point one:  (481, 313) Point two:  (0, 653)\n",
      "New points (456, 330)\n",
      "--------------------------------------------------------------------------------------------------------\n",
      "Point one:  (482, 312) Point two:  (959, 603)\n",
      "New points (505, 326)\n",
      "--------------------------------------------------------------------------------------------------------\n",
      "Point one:  (482, 312) Point two:  (0, 649)\n",
      "New points (457, 328)\n",
      "--------------------------------------------------------------------------------------------------------\n"
     ]
    },
    {
     "name": "stderr",
     "output_type": "stream",
     "text": [
      "\n",
      " 23%|████████████████████████████████████████▌                                                                                                                                     | 159/682 [00:11<00:43, 12.01it/s]"
     ]
    },
    {
     "name": "stdout",
     "output_type": "stream",
     "text": [
      "Point one:  (481, 314) Point two:  (959, 585)\n",
      "New points (504, 327)\n",
      "--------------------------------------------------------------------------------------------------------\n",
      "Point one:  (481, 314) Point two:  (0, 654)\n",
      "New points (456, 331)\n",
      "--------------------------------------------------------------------------------------------------------\n",
      "Point one:  (482, 313) Point two:  (959, 596)\n",
      "New points (505, 327)\n",
      "--------------------------------------------------------------------------------------------------------\n",
      "Point one:  (482, 313) Point two:  (0, 654)\n",
      "New points (457, 330)\n",
      "--------------------------------------------------------------------------------------------------------\n"
     ]
    },
    {
     "name": "stderr",
     "output_type": "stream",
     "text": [
      "\n",
      " 24%|█████████████████████████████████████████                                                                                                                                     | 161/682 [00:11<00:38, 13.45it/s]"
     ]
    },
    {
     "name": "stdout",
     "output_type": "stream",
     "text": [
      "Point one:  (487, 312) Point two:  (959, 605)\n",
      "New points (510, 326)\n",
      "--------------------------------------------------------------------------------------------------------\n",
      "Point one:  (487, 312) Point two:  (0, 652)\n",
      "New points (462, 329)\n",
      "--------------------------------------------------------------------------------------------------------\n",
      "Point one:  (482, 312) Point two:  (959, 596)\n",
      "New points (505, 326)\n",
      "--------------------------------------------------------------------------------------------------------\n",
      "Point one:  (482, 312) Point two:  (0, 657)\n",
      "New points (457, 329)\n",
      "--------------------------------------------------------------------------------------------------------\n"
     ]
    },
    {
     "name": "stderr",
     "output_type": "stream",
     "text": [
      "\n",
      " 24%|█████████████████████████████████████████▌                                                                                                                                    | 163/682 [00:11<00:38, 13.57it/s]"
     ]
    },
    {
     "name": "stdout",
     "output_type": "stream",
     "text": [
      "Point one:  (484, 310) Point two:  (959, 597)\n",
      "New points (507, 324)\n",
      "--------------------------------------------------------------------------------------------------------\n",
      "Point one:  (484, 310) Point two:  (0, 654)\n",
      "New points (459, 327)\n",
      "--------------------------------------------------------------------------------------------------------\n",
      "Point one:  (485, 309) Point two:  (959, 602)\n",
      "New points (508, 323)\n",
      "--------------------------------------------------------------------------------------------------------\n",
      "Point one:  (485, 309) Point two:  (0, 657)\n",
      "New points (460, 326)\n",
      "--------------------------------------------------------------------------------------------------------\n"
     ]
    },
    {
     "name": "stderr",
     "output_type": "stream",
     "text": [
      "\n",
      " 24%|██████████████████████████████████████████                                                                                                                                    | 165/682 [00:12<00:55,  9.40it/s]"
     ]
    },
    {
     "name": "stdout",
     "output_type": "stream",
     "text": [
      "Point one:  (482, 310) Point two:  (959, 592)\n",
      "New points (505, 324)\n",
      "--------------------------------------------------------------------------------------------------------\n",
      "Point one:  (482, 310) Point two:  (0, 661)\n",
      "New points (457, 327)\n",
      "--------------------------------------------------------------------------------------------------------\n",
      "Point one:  (480, 312) Point two:  (959, 587)\n",
      "New points (503, 325)\n",
      "--------------------------------------------------------------------------------------------------------\n",
      "Point one:  (480, 312) Point two:  (0, 654)\n",
      "New points (456, 329)\n",
      "--------------------------------------------------------------------------------------------------------\n",
      "Point one:  (483, 310) Point two:  (959, 595)\n",
      "New points (506, 324)\n",
      "--------------------------------------------------------------------------------------------------------\n",
      "Point one:  (483, 310) Point two:  (0, 656)\n",
      "New points (458, 327)\n",
      "--------------------------------------------------------------------------------------------------------\n",
      "Point one:  (484, 311) Point two:  (959, 587)\n",
      "New points (507, 324)\n",
      "--------------------------------------------------------------------------------------------------------\n",
      "Point one:  (484, 311) Point two:  (0, 662)\n",
      "New points (459, 328)\n",
      "--------------------------------------------------------------------------------------------------------\n"
     ]
    },
    {
     "name": "stderr",
     "output_type": "stream",
     "text": [
      "\n",
      " 25%|███████████████████████████████████████████                                                                                                                                   | 169/682 [00:12<00:43, 11.84it/s]"
     ]
    },
    {
     "name": "stdout",
     "output_type": "stream",
     "text": [
      "Point one:  (484, 312) Point two:  (959, 590)\n",
      "New points (507, 325)\n",
      "--------------------------------------------------------------------------------------------------------\n",
      "Point one:  (484, 312) Point two:  (0, 658)\n",
      "New points (459, 329)\n",
      "--------------------------------------------------------------------------------------------------------\n",
      "Point one:  (483, 312) Point two:  (959, 583)\n",
      "New points (506, 325)\n",
      "--------------------------------------------------------------------------------------------------------\n",
      "Point one:  (483, 312) Point two:  (0, 661)\n",
      "New points (458, 329)\n",
      "--------------------------------------------------------------------------------------------------------\n"
     ]
    },
    {
     "name": "stderr",
     "output_type": "stream",
     "text": [
      "\n",
      " 25%|███████████████████████████████████████████▋                                                                                                                                  | 171/682 [00:12<01:01,  8.34it/s]"
     ]
    },
    {
     "name": "stdout",
     "output_type": "stream",
     "text": [
      "Point one:  (483, 312) Point two:  (959, 577)\n",
      "New points (506, 325)\n",
      "--------------------------------------------------------------------------------------------------------\n",
      "Point one:  (483, 312) Point two:  (0, 661)\n",
      "New points (458, 329)\n",
      "--------------------------------------------------------------------------------------------------------\n",
      "Point one:  (490, 310) Point two:  (959, 595)\n",
      "New points (513, 324)\n",
      "--------------------------------------------------------------------------------------------------------\n",
      "Point one:  (490, 310) Point two:  (0, 664)\n",
      "New points (465, 327)\n",
      "--------------------------------------------------------------------------------------------------------\n",
      "Point one:  (485, 309) Point two:  (959, 589)\n",
      "New points (508, 323)\n",
      "--------------------------------------------------------------------------------------------------------\n",
      "Point one:  (485, 309) Point two:  (0, 669)\n",
      "New points (460, 327)\n",
      "--------------------------------------------------------------------------------------------------------\n",
      "Point one:  (485, 309) Point two:  (959, 582)\n",
      "New points (508, 322)\n",
      "--------------------------------------------------------------------------------------------------------\n",
      "Point one:  (485, 309) Point two:  (0, 664)\n",
      "New points (460, 326)\n",
      "--------------------------------------------------------------------------------------------------------\n"
     ]
    },
    {
     "name": "stderr",
     "output_type": "stream",
     "text": [
      "\n",
      " 26%|████████████████████████████████████████████▋                                                                                                                                 | 175/682 [00:12<00:47, 10.70it/s]"
     ]
    },
    {
     "name": "stdout",
     "output_type": "stream",
     "text": [
      "Point one:  (483, 310) Point two:  (959, 581)\n",
      "New points (506, 323)\n",
      "--------------------------------------------------------------------------------------------------------\n",
      "Point one:  (483, 310) Point two:  (0, 672)\n",
      "New points (458, 328)\n",
      "--------------------------------------------------------------------------------------------------------\n",
      "Point one:  (483, 310) Point two:  (959, 581)\n",
      "New points (506, 323)\n",
      "--------------------------------------------------------------------------------------------------------\n",
      "Point one:  (483, 310) Point two:  (0, 676)\n",
      "New points (458, 328)\n",
      "--------------------------------------------------------------------------------------------------------\n"
     ]
    },
    {
     "name": "stderr",
     "output_type": "stream",
     "text": [
      "\n",
      " 26%|█████████████████████████████████████████████▏                                                                                                                                | 177/682 [00:13<01:04,  7.85it/s]"
     ]
    },
    {
     "name": "stdout",
     "output_type": "stream",
     "text": [
      "Point one:  (485, 309) Point two:  (959, 589)\n",
      "New points (508, 323)\n",
      "--------------------------------------------------------------------------------------------------------\n",
      "Point one:  (485, 309) Point two:  (0, 675)\n",
      "New points (460, 327)\n",
      "--------------------------------------------------------------------------------------------------------\n",
      "Point one:  (480, 311) Point two:  (959, 571)\n",
      "New points (503, 324)\n",
      "--------------------------------------------------------------------------------------------------------\n",
      "Point one:  (480, 311) Point two:  (0, 676)\n",
      "New points (456, 329)\n",
      "--------------------------------------------------------------------------------------------------------\n"
     ]
    },
    {
     "name": "stderr",
     "output_type": "stream",
     "text": [
      "\n",
      " 26%|█████████████████████████████████████████████▋                                                                                                                                | 179/682 [00:13<00:53,  9.34it/s]"
     ]
    },
    {
     "name": "stdout",
     "output_type": "stream",
     "text": [
      "Point one:  (480, 313) Point two:  (959, 574)\n",
      "New points (503, 326)\n",
      "--------------------------------------------------------------------------------------------------------\n",
      "Point one:  (480, 313) Point two:  (0, 675)\n",
      "New points (456, 331)\n",
      "--------------------------------------------------------------------------------------------------------\n",
      "Point one:  (483, 310) Point two:  (959, 578)\n",
      "New points (506, 323)\n",
      "--------------------------------------------------------------------------------------------------------\n",
      "Point one:  (483, 310) Point two:  (0, 675)\n",
      "New points (458, 328)\n",
      "--------------------------------------------------------------------------------------------------------\n",
      "Point one:  (480, 312) Point two:  (959, 572)\n",
      "New points (503, 325)\n",
      "--------------------------------------------------------------------------------------------------------\n",
      "Point one:  (480, 312) Point two:  (0, 675)\n",
      "New points (456, 330)\n",
      "--------------------------------------------------------------------------------------------------------\n"
     ]
    },
    {
     "name": "stderr",
     "output_type": "stream",
     "text": [
      "\n",
      " 27%|██████████████████████████████████████████████▍                                                                                                                               | 182/682 [00:13<00:43, 11.58it/s]"
     ]
    },
    {
     "name": "stdout",
     "output_type": "stream",
     "text": [
      "Point one:  (481, 312) Point two:  (959, 576)\n",
      "New points (504, 325)\n",
      "--------------------------------------------------------------------------------------------------------\n",
      "Point one:  (481, 312) Point two:  (0, 671)\n",
      "New points (456, 329)\n",
      "--------------------------------------------------------------------------------------------------------\n",
      "Point one:  (480, 313) Point two:  (959, 573)\n",
      "New points (503, 326)\n",
      "--------------------------------------------------------------------------------------------------------\n",
      "Point one:  (480, 313) Point two:  (0, 676)\n",
      "New points (456, 331)\n",
      "--------------------------------------------------------------------------------------------------------\n"
     ]
    },
    {
     "name": "stderr",
     "output_type": "stream",
     "text": [
      "\n",
      " 27%|██████████████████████████████████████████████▉                                                                                                                               | 184/682 [00:13<00:44, 11.19it/s]"
     ]
    },
    {
     "name": "stdout",
     "output_type": "stream",
     "text": [
      "Point one:  (482, 310) Point two:  (959, 587)\n",
      "New points (505, 323)\n",
      "--------------------------------------------------------------------------------------------------------\n",
      "Point one:  (482, 310) Point two:  (0, 677)\n",
      "New points (457, 328)\n",
      "--------------------------------------------------------------------------------------------------------\n",
      "Point one:  (481, 312) Point two:  (959, 583)\n",
      "New points (504, 325)\n",
      "--------------------------------------------------------------------------------------------------------\n",
      "Point one:  (481, 312) Point two:  (0, 676)\n",
      "New points (456, 330)\n",
      "--------------------------------------------------------------------------------------------------------\n"
     ]
    },
    {
     "name": "stderr",
     "output_type": "stream",
     "text": [
      "\n",
      " 27%|███████████████████████████████████████████████▍                                                                                                                              | 186/682 [00:13<00:48, 10.28it/s]"
     ]
    },
    {
     "name": "stdout",
     "output_type": "stream",
     "text": [
      "Point one:  (480, 313) Point two:  (959, 579)\n",
      "New points (503, 326)\n",
      "--------------------------------------------------------------------------------------------------------\n",
      "Point one:  (480, 313) Point two:  (0, 674)\n",
      "New points (456, 331)\n",
      "--------------------------------------------------------------------------------------------------------\n",
      "Point one:  (480, 311) Point two:  (959, 583)\n",
      "New points (503, 324)\n",
      "--------------------------------------------------------------------------------------------------------\n",
      "Point one:  (480, 311) Point two:  (0, 683)\n",
      "New points (456, 329)\n",
      "--------------------------------------------------------------------------------------------------------\n"
     ]
    },
    {
     "name": "stderr",
     "output_type": "stream",
     "text": [
      "\n",
      " 28%|███████████████████████████████████████████████▉                                                                                                                              | 188/682 [00:13<00:45, 10.75it/s]"
     ]
    },
    {
     "name": "stdout",
     "output_type": "stream",
     "text": [
      "Point one:  (477, 309) Point two:  (959, 580)\n",
      "New points (501, 322)\n",
      "--------------------------------------------------------------------------------------------------------\n",
      "Point one:  (477, 309) Point two:  (0, 691)\n",
      "New points (453, 328)\n",
      "--------------------------------------------------------------------------------------------------------\n",
      "Point one:  (481, 311) Point two:  (959, 583)\n",
      "New points (504, 324)\n",
      "--------------------------------------------------------------------------------------------------------\n",
      "Point one:  (481, 311) Point two:  (0, 680)\n",
      "New points (456, 329)\n",
      "--------------------------------------------------------------------------------------------------------\n"
     ]
    },
    {
     "name": "stderr",
     "output_type": "stream",
     "text": [
      "\n",
      " 28%|████████████████████████████████████████████████▍                                                                                                                             | 190/682 [00:14<00:46, 10.54it/s]"
     ]
    },
    {
     "name": "stdout",
     "output_type": "stream",
     "text": [
      "Point one:  (480, 309) Point two:  (959, 585)\n",
      "New points (503, 322)\n",
      "--------------------------------------------------------------------------------------------------------\n",
      "Point one:  (480, 309) Point two:  (0, 691)\n",
      "New points (456, 328)\n",
      "--------------------------------------------------------------------------------------------------------\n",
      "Point one:  (476, 311) Point two:  (959, 572)\n",
      "New points (500, 324)\n",
      "--------------------------------------------------------------------------------------------------------\n",
      "Point one:  (476, 311) Point two:  (0, 679)\n",
      "New points (452, 329)\n",
      "--------------------------------------------------------------------------------------------------------\n"
     ]
    },
    {
     "name": "stderr",
     "output_type": "stream",
     "text": [
      "\n",
      " 28%|████████████████████████████████████████████████▉                                                                                                                             | 192/682 [00:14<00:43, 11.33it/s]"
     ]
    },
    {
     "name": "stdout",
     "output_type": "stream",
     "text": [
      "Point one:  (474, 313) Point two:  (959, 576)\n",
      "New points (498, 326)\n",
      "--------------------------------------------------------------------------------------------------------\n",
      "Point one:  (474, 313) Point two:  (0, 683)\n",
      "New points (450, 331)\n",
      "--------------------------------------------------------------------------------------------------------\n",
      "Point one:  (473, 313) Point two:  (959, 568)\n",
      "New points (497, 325)\n",
      "--------------------------------------------------------------------------------------------------------\n",
      "Point one:  (473, 313) Point two:  (0, 680)\n",
      "New points (449, 331)\n",
      "--------------------------------------------------------------------------------------------------------\n"
     ]
    },
    {
     "name": "stderr",
     "output_type": "stream",
     "text": [
      "\n",
      " 28%|█████████████████████████████████████████████████▍                                                                                                                            | 194/682 [00:14<00:45, 10.81it/s]"
     ]
    },
    {
     "name": "stdout",
     "output_type": "stream",
     "text": [
      "Point one:  (475, 309) Point two:  (959, 583)\n",
      "New points (499, 322)\n",
      "--------------------------------------------------------------------------------------------------------\n",
      "Point one:  (475, 309) Point two:  (0, 681)\n",
      "New points (451, 327)\n",
      "--------------------------------------------------------------------------------------------------------\n",
      "Point one:  (474, 308) Point two:  (959, 581)\n",
      "New points (498, 321)\n",
      "--------------------------------------------------------------------------------------------------------\n",
      "Point one:  (474, 308) Point two:  (0, 686)\n",
      "New points (450, 326)\n",
      "--------------------------------------------------------------------------------------------------------\n",
      "Point one:  (474, 313) Point two:  (959, 573)\n",
      "New points (498, 326)\n",
      "--------------------------------------------------------------------------------------------------------\n",
      "Point one:  (474, 313) Point two:  (0, 679)\n",
      "New points (450, 331)\n",
      "--------------------------------------------------------------------------------------------------------\n"
     ]
    },
    {
     "name": "stderr",
     "output_type": "stream",
     "text": [
      "\n",
      " 29%|██████████████████████████████████████████████████▎                                                                                                                           | 197/682 [00:14<00:36, 13.37it/s]"
     ]
    },
    {
     "name": "stdout",
     "output_type": "stream",
     "text": [
      "Point one:  (476, 311) Point two:  (959, 584)\n",
      "New points (500, 324)\n",
      "--------------------------------------------------------------------------------------------------------\n",
      "Point one:  (476, 311) Point two:  (0, 677)\n",
      "New points (452, 329)\n",
      "--------------------------------------------------------------------------------------------------------\n",
      "Point one:  (474, 309) Point two:  (959, 581)\n",
      "New points (498, 322)\n",
      "--------------------------------------------------------------------------------------------------------\n",
      "Point one:  (474, 309) Point two:  (0, 688)\n",
      "New points (450, 327)\n",
      "--------------------------------------------------------------------------------------------------------\n"
     ]
    },
    {
     "name": "stderr",
     "output_type": "stream",
     "text": [
      "\n",
      " 29%|██████████████████████████████████████████████████▊                                                                                                                           | 199/682 [00:14<00:53,  9.06it/s]"
     ]
    },
    {
     "name": "stdout",
     "output_type": "stream",
     "text": [
      "Point one:  (475, 312) Point two:  (959, 579)\n",
      "New points (499, 325)\n",
      "--------------------------------------------------------------------------------------------------------\n",
      "Point one:  (475, 312) Point two:  (0, 678)\n",
      "New points (451, 330)\n",
      "--------------------------------------------------------------------------------------------------------\n",
      "Point one:  (473, 309) Point two:  (959, 586)\n",
      "New points (497, 322)\n",
      "--------------------------------------------------------------------------------------------------------\n",
      "Point one:  (473, 309) Point two:  (0, 680)\n",
      "New points (449, 327)\n",
      "--------------------------------------------------------------------------------------------------------\n",
      "Point one:  (475, 309) Point two:  (959, 586)\n",
      "New points (499, 322)\n",
      "--------------------------------------------------------------------------------------------------------\n",
      "Point one:  (475, 309) Point two:  (0, 675)\n",
      "New points (451, 327)\n",
      "--------------------------------------------------------------------------------------------------------\n",
      "Point one:  (475, 310) Point two:  (959, 583)\n",
      "New points (499, 323)\n",
      "--------------------------------------------------------------------------------------------------------\n",
      "Point one:  (475, 310) Point two:  (0, 674)\n",
      "New points (451, 328)\n",
      "--------------------------------------------------------------------------------------------------------\n"
     ]
    },
    {
     "name": "stderr",
     "output_type": "stream",
     "text": [
      "\n",
      " 30%|███████████████████████████████████████████████████▊                                                                                                                          | 203/682 [00:15<00:42, 11.27it/s]"
     ]
    },
    {
     "name": "stdout",
     "output_type": "stream",
     "text": [
      "Point one:  (471, 311) Point two:  (959, 584)\n",
      "New points (495, 324)\n",
      "--------------------------------------------------------------------------------------------------------\n",
      "Point one:  (471, 311) Point two:  (0, 677)\n",
      "New points (447, 329)\n",
      "--------------------------------------------------------------------------------------------------------\n",
      "Point one:  (473, 310) Point two:  (959, 585)\n",
      "New points (497, 323)\n",
      "--------------------------------------------------------------------------------------------------------\n",
      "Point one:  (473, 310) Point two:  (0, 670)\n",
      "New points (449, 328)\n",
      "--------------------------------------------------------------------------------------------------------\n"
     ]
    },
    {
     "name": "stderr",
     "output_type": "stream",
     "text": [
      "\n",
      " 30%|████████████████████████████████████████████████████▎                                                                                                                         | 205/682 [00:15<00:48,  9.81it/s]"
     ]
    },
    {
     "name": "stdout",
     "output_type": "stream",
     "text": [
      "Point one:  (471, 311) Point two:  (959, 582)\n",
      "New points (495, 324)\n",
      "--------------------------------------------------------------------------------------------------------\n",
      "Point one:  (471, 311) Point two:  (0, 670)\n",
      "New points (447, 328)\n",
      "--------------------------------------------------------------------------------------------------------\n",
      "Point one:  (475, 312) Point two:  (959, 587)\n",
      "New points (499, 325)\n",
      "--------------------------------------------------------------------------------------------------------\n",
      "Point one:  (475, 312) Point two:  (0, 667)\n",
      "New points (451, 329)\n",
      "--------------------------------------------------------------------------------------------------------\n"
     ]
    },
    {
     "name": "stderr",
     "output_type": "stream",
     "text": [
      "\n",
      " 30%|████████████████████████████████████████████████████▊                                                                                                                         | 207/682 [00:15<00:42, 11.21it/s]"
     ]
    },
    {
     "name": "stdout",
     "output_type": "stream",
     "text": [
      "Point one:  (476, 311) Point two:  (959, 597)\n",
      "New points (500, 325)\n",
      "--------------------------------------------------------------------------------------------------------\n",
      "Point one:  (476, 311) Point two:  (0, 667)\n",
      "New points (452, 328)\n",
      "--------------------------------------------------------------------------------------------------------\n",
      "Point one:  (475, 313) Point two:  (959, 587)\n",
      "New points (499, 326)\n",
      "--------------------------------------------------------------------------------------------------------\n",
      "Point one:  (475, 313) Point two:  (0, 665)\n",
      "New points (451, 330)\n",
      "--------------------------------------------------------------------------------------------------------\n"
     ]
    },
    {
     "name": "stderr",
     "output_type": "stream",
     "text": [
      "\n",
      " 31%|█████████████████████████████████████████████████████▎                                                                                                                        | 209/682 [00:15<00:38, 12.16it/s]"
     ]
    },
    {
     "name": "stdout",
     "output_type": "stream",
     "text": [
      "Point one:  (474, 312) Point two:  (959, 586)\n",
      "New points (498, 325)\n",
      "--------------------------------------------------------------------------------------------------------\n",
      "Point one:  (474, 312) Point two:  (0, 666)\n",
      "New points (450, 329)\n",
      "--------------------------------------------------------------------------------------------------------\n",
      "Point one:  (476, 311) Point two:  (959, 592)\n",
      "New points (500, 325)\n",
      "--------------------------------------------------------------------------------------------------------\n",
      "Point one:  (476, 311) Point two:  (0, 668)\n",
      "New points (452, 328)\n",
      "--------------------------------------------------------------------------------------------------------\n"
     ]
    },
    {
     "name": "stderr",
     "output_type": "stream",
     "text": [
      "\n",
      " 31%|█████████████████████████████████████████████████████▊                                                                                                                        | 211/682 [00:15<00:37, 12.60it/s]"
     ]
    },
    {
     "name": "stdout",
     "output_type": "stream",
     "text": [
      "Point one:  (473, 311) Point two:  (959, 589)\n",
      "New points (497, 324)\n",
      "--------------------------------------------------------------------------------------------------------\n",
      "Point one:  (473, 311) Point two:  (0, 662)\n",
      "New points (449, 328)\n",
      "--------------------------------------------------------------------------------------------------------\n",
      "Point one:  (479, 312) Point two:  (959, 597)\n",
      "New points (503, 326)\n",
      "--------------------------------------------------------------------------------------------------------\n",
      "Point one:  (479, 312) Point two:  (0, 660)\n",
      "New points (455, 329)\n",
      "--------------------------------------------------------------------------------------------------------\n"
     ]
    },
    {
     "name": "stderr",
     "output_type": "stream",
     "text": [
      "\n",
      " 31%|██████████████████████████████████████████████████████▎                                                                                                                       | 213/682 [00:16<00:50,  9.33it/s]"
     ]
    },
    {
     "name": "stdout",
     "output_type": "stream",
     "text": [
      "Point one:  (472, 311) Point two:  (959, 595)\n",
      "New points (496, 325)\n",
      "--------------------------------------------------------------------------------------------------------\n",
      "Point one:  (472, 311) Point two:  (0, 661)\n",
      "New points (448, 328)\n",
      "--------------------------------------------------------------------------------------------------------\n",
      "Point one:  (477, 312) Point two:  (959, 594)\n",
      "New points (501, 326)\n",
      "--------------------------------------------------------------------------------------------------------\n",
      "Point one:  (477, 312) Point two:  (0, 659)\n",
      "New points (453, 329)\n",
      "--------------------------------------------------------------------------------------------------------\n",
      "Point one:  (473, 310) Point two:  (959, 596)\n",
      "New points (497, 324)\n",
      "--------------------------------------------------------------------------------------------------------\n",
      "Point one:  (473, 310) Point two:  (0, 658)\n",
      "New points (449, 327)\n",
      "--------------------------------------------------------------------------------------------------------\n"
     ]
    },
    {
     "name": "stderr",
     "output_type": "stream",
     "text": [
      "\n",
      " 32%|███████████████████████████████████████████████████████                                                                                                                       | 216/682 [00:16<00:39, 11.75it/s]"
     ]
    },
    {
     "name": "stdout",
     "output_type": "stream",
     "text": [
      "Point one:  (473, 311) Point two:  (959, 592)\n",
      "New points (497, 325)\n",
      "--------------------------------------------------------------------------------------------------------\n",
      "Point one:  (473, 311) Point two:  (0, 656)\n",
      "New points (449, 328)\n",
      "--------------------------------------------------------------------------------------------------------\n",
      "Point one:  (473, 310) Point two:  (959, 593)\n",
      "New points (497, 324)\n",
      "--------------------------------------------------------------------------------------------------------\n",
      "Point one:  (473, 310) Point two:  (0, 659)\n",
      "New points (449, 327)\n",
      "--------------------------------------------------------------------------------------------------------\n"
     ]
    },
    {
     "name": "stderr",
     "output_type": "stream",
     "text": [
      "\n",
      " 32%|███████████████████████████████████████████████████████▌                                                                                                                      | 218/682 [00:16<00:42, 10.80it/s]"
     ]
    },
    {
     "name": "stdout",
     "output_type": "stream",
     "text": [
      "Point one:  (472, 312) Point two:  (959, 589)\n",
      "New points (496, 325)\n",
      "--------------------------------------------------------------------------------------------------------\n",
      "Point one:  (472, 312) Point two:  (0, 666)\n",
      "New points (448, 329)\n",
      "--------------------------------------------------------------------------------------------------------\n",
      "Point one:  (473, 311) Point two:  (959, 594)\n",
      "New points (497, 325)\n",
      "--------------------------------------------------------------------------------------------------------\n",
      "Point one:  (473, 311) Point two:  (0, 671)\n",
      "New points (449, 329)\n",
      "--------------------------------------------------------------------------------------------------------\n"
     ]
    },
    {
     "name": "stderr",
     "output_type": "stream",
     "text": [
      "\n",
      " 32%|████████████████████████████████████████████████████████▏                                                                                                                     | 220/682 [00:16<00:45, 10.08it/s]"
     ]
    },
    {
     "name": "stdout",
     "output_type": "stream",
     "text": [
      "Point one:  (475, 313) Point two:  (959, 595)\n",
      "New points (499, 327)\n",
      "--------------------------------------------------------------------------------------------------------\n",
      "Point one:  (475, 313) Point two:  (0, 659)\n",
      "New points (451, 330)\n",
      "--------------------------------------------------------------------------------------------------------\n",
      "Point one:  (478, 310) Point two:  (959, 600)\n",
      "New points (502, 324)\n",
      "--------------------------------------------------------------------------------------------------------\n",
      "Point one:  (478, 310) Point two:  (0, 657)\n",
      "New points (454, 327)\n",
      "--------------------------------------------------------------------------------------------------------\n"
     ]
    },
    {
     "name": "stderr",
     "output_type": "stream",
     "text": [
      "\n",
      " 33%|████████████████████████████████████████████████████████▋                                                                                                                     | 222/682 [00:16<00:41, 10.95it/s]"
     ]
    },
    {
     "name": "stdout",
     "output_type": "stream",
     "text": [
      "Point one:  (476, 309) Point two:  (959, 602)\n",
      "New points (500, 323)\n",
      "--------------------------------------------------------------------------------------------------------\n",
      "Point one:  (476, 309) Point two:  (0, 658)\n",
      "New points (452, 326)\n",
      "--------------------------------------------------------------------------------------------------------\n",
      "Point one:  (478, 309) Point two:  (959, 606)\n",
      "New points (502, 323)\n",
      "--------------------------------------------------------------------------------------------------------\n",
      "Point one:  (478, 309) Point two:  (0, 656)\n",
      "New points (454, 326)\n",
      "--------------------------------------------------------------------------------------------------------\n"
     ]
    },
    {
     "name": "stderr",
     "output_type": "stream",
     "text": [
      "\n",
      " 33%|█████████████████████████████████████████████████████████▏                                                                                                                    | 224/682 [00:17<00:45, 10.05it/s]"
     ]
    },
    {
     "name": "stdout",
     "output_type": "stream",
     "text": [
      "Point one:  (478, 309) Point two:  (959, 604)\n",
      "New points (502, 323)\n",
      "--------------------------------------------------------------------------------------------------------\n",
      "Point one:  (478, 309) Point two:  (0, 656)\n",
      "New points (454, 326)\n",
      "--------------------------------------------------------------------------------------------------------\n",
      "Point one:  (478, 309) Point two:  (959, 601)\n",
      "New points (502, 323)\n",
      "--------------------------------------------------------------------------------------------------------\n",
      "Point one:  (478, 309) Point two:  (0, 657)\n",
      "New points (454, 326)\n",
      "--------------------------------------------------------------------------------------------------------\n"
     ]
    },
    {
     "name": "stderr",
     "output_type": "stream",
     "text": [
      "\n",
      " 33%|█████████████████████████████████████████████████████████▋                                                                                                                    | 226/682 [00:17<00:41, 11.10it/s]"
     ]
    },
    {
     "name": "stdout",
     "output_type": "stream",
     "text": [
      "Point one:  (478, 308) Point two:  (959, 598)\n",
      "New points (502, 322)\n",
      "--------------------------------------------------------------------------------------------------------\n",
      "Point one:  (478, 308) Point two:  (0, 661)\n",
      "New points (454, 325)\n",
      "--------------------------------------------------------------------------------------------------------\n",
      "Point one:  (477, 308) Point two:  (959, 600)\n",
      "New points (501, 322)\n",
      "--------------------------------------------------------------------------------------------------------\n",
      "Point one:  (477, 308) Point two:  (0, 654)\n",
      "New points (453, 325)\n",
      "--------------------------------------------------------------------------------------------------------\n",
      "Point one:  (482, 308) Point two:  (959, 604)\n",
      "New points (505, 322)\n",
      "--------------------------------------------------------------------------------------------------------\n",
      "Point one:  (482, 308) Point two:  (0, 655)\n",
      "New points (457, 325)\n",
      "--------------------------------------------------------------------------------------------------------\n"
     ]
    },
    {
     "name": "stderr",
     "output_type": "stream",
     "text": [
      "\n",
      " 34%|██████████████████████████████████████████████████████████▍                                                                                                                   | 229/682 [00:17<00:36, 12.28it/s]"
     ]
    },
    {
     "name": "stdout",
     "output_type": "stream",
     "text": [
      "Point one:  (474, 309) Point two:  (959, 588)\n",
      "New points (498, 322)\n",
      "--------------------------------------------------------------------------------------------------------\n",
      "Point one:  (474, 309) Point two:  (0, 658)\n",
      "New points (450, 326)\n",
      "--------------------------------------------------------------------------------------------------------\n",
      "Point one:  (481, 306) Point two:  (959, 604)\n",
      "New points (504, 320)\n",
      "--------------------------------------------------------------------------------------------------------\n",
      "Point one:  (481, 306) Point two:  (0, 658)\n",
      "New points (456, 323)\n",
      "--------------------------------------------------------------------------------------------------------\n"
     ]
    },
    {
     "name": "stderr",
     "output_type": "stream",
     "text": [
      "\n",
      " 34%|██████████████████████████████████████████████████████████▉                                                                                                                   | 231/682 [00:17<00:42, 10.57it/s]"
     ]
    },
    {
     "name": "stdout",
     "output_type": "stream",
     "text": [
      "Point one:  (478, 308) Point two:  (959, 602)\n",
      "New points (502, 322)\n",
      "--------------------------------------------------------------------------------------------------------\n",
      "Point one:  (478, 308) Point two:  (0, 655)\n",
      "New points (454, 325)\n",
      "--------------------------------------------------------------------------------------------------------\n",
      "Point one:  (476, 307) Point two:  (959, 603)\n",
      "New points (500, 321)\n",
      "--------------------------------------------------------------------------------------------------------\n",
      "Point one:  (476, 307) Point two:  (0, 650)\n",
      "New points (452, 324)\n",
      "--------------------------------------------------------------------------------------------------------\n",
      "Point one:  (478, 308) Point two:  (959, 603)\n",
      "New points (502, 322)\n",
      "--------------------------------------------------------------------------------------------------------\n",
      "Point one:  (478, 308) Point two:  (0, 646)\n",
      "New points (454, 324)\n",
      "--------------------------------------------------------------------------------------------------------\n"
     ]
    },
    {
     "name": "stderr",
     "output_type": "stream",
     "text": [
      "\n",
      " 34%|███████████████████████████████████████████████████████████▋                                                                                                                  | 234/682 [00:17<00:40, 11.18it/s]"
     ]
    },
    {
     "name": "stdout",
     "output_type": "stream",
     "text": [
      "Point one:  (478, 308) Point two:  (959, 605)\n",
      "New points (502, 322)\n",
      "--------------------------------------------------------------------------------------------------------\n",
      "Point one:  (478, 308) Point two:  (0, 647)\n",
      "New points (454, 324)\n",
      "--------------------------------------------------------------------------------------------------------\n",
      "Point one:  (476, 308) Point two:  (959, 597)\n",
      "New points (500, 322)\n",
      "--------------------------------------------------------------------------------------------------------\n",
      "Point one:  (476, 308) Point two:  (0, 647)\n",
      "New points (452, 324)\n",
      "--------------------------------------------------------------------------------------------------------\n",
      "Point one:  (478, 307) Point two:  (959, 596)\n",
      "New points (502, 321)\n",
      "--------------------------------------------------------------------------------------------------------\n",
      "Point one:  (478, 307) Point two:  (0, 646)\n",
      "New points (454, 323)\n",
      "--------------------------------------------------------------------------------------------------------\n"
     ]
    },
    {
     "name": "stderr",
     "output_type": "stream",
     "text": [
      "\n",
      " 35%|████████████████████████████████████████████████████████████▍                                                                                                                 | 237/682 [00:18<00:40, 10.88it/s]"
     ]
    },
    {
     "name": "stdout",
     "output_type": "stream",
     "text": [
      "Point one:  (478, 306) Point two:  (959, 601)\n",
      "New points (502, 320)\n",
      "--------------------------------------------------------------------------------------------------------\n",
      "Point one:  (478, 306) Point two:  (0, 648)\n",
      "New points (454, 323)\n",
      "--------------------------------------------------------------------------------------------------------\n",
      "Point one:  (480, 307) Point two:  (959, 598)\n",
      "New points (503, 321)\n",
      "--------------------------------------------------------------------------------------------------------\n",
      "Point one:  (480, 307) Point two:  (0, 646)\n",
      "New points (456, 323)\n",
      "--------------------------------------------------------------------------------------------------------\n"
     ]
    },
    {
     "name": "stderr",
     "output_type": "stream",
     "text": [
      "\n",
      " 35%|████████████████████████████████████████████████████████████▉                                                                                                                 | 239/682 [00:18<00:38, 11.58it/s]"
     ]
    },
    {
     "name": "stdout",
     "output_type": "stream",
     "text": [
      "Point one:  (479, 308) Point two:  (959, 600)\n",
      "New points (503, 322)\n",
      "--------------------------------------------------------------------------------------------------------\n",
      "Point one:  (479, 308) Point two:  (0, 644)\n",
      "New points (455, 324)\n",
      "--------------------------------------------------------------------------------------------------------\n",
      "Point one:  (474, 310) Point two:  (959, 587)\n",
      "New points (498, 323)\n",
      "--------------------------------------------------------------------------------------------------------\n",
      "Point one:  (474, 310) Point two:  (0, 647)\n",
      "New points (450, 326)\n",
      "--------------------------------------------------------------------------------------------------------\n"
     ]
    },
    {
     "name": "stderr",
     "output_type": "stream",
     "text": [
      "\n",
      " 35%|█████████████████████████████████████████████████████████████▍                                                                                                                | 241/682 [00:18<00:38, 11.45it/s]"
     ]
    },
    {
     "name": "stdout",
     "output_type": "stream",
     "text": [
      "Point one:  (478, 309) Point two:  (959, 588)\n",
      "New points (502, 322)\n",
      "--------------------------------------------------------------------------------------------------------\n",
      "Point one:  (478, 309) Point two:  (0, 644)\n",
      "New points (454, 325)\n",
      "--------------------------------------------------------------------------------------------------------\n",
      "Point one:  (475, 312) Point two:  (959, 589)\n",
      "New points (499, 325)\n",
      "--------------------------------------------------------------------------------------------------------\n",
      "Point one:  (475, 312) Point two:  (0, 646)\n",
      "New points (451, 328)\n",
      "--------------------------------------------------------------------------------------------------------\n"
     ]
    },
    {
     "name": "stderr",
     "output_type": "stream",
     "text": [
      "\n",
      " 36%|█████████████████████████████████████████████████████████████▉                                                                                                                | 243/682 [00:18<00:57,  7.60it/s]"
     ]
    },
    {
     "name": "stdout",
     "output_type": "stream",
     "text": [
      "Point one:  (478, 309) Point two:  (959, 599)\n",
      "New points (502, 323)\n",
      "--------------------------------------------------------------------------------------------------------\n",
      "Point one:  (478, 309) Point two:  (0, 646)\n",
      "New points (454, 325)\n",
      "--------------------------------------------------------------------------------------------------------\n"
     ]
    },
    {
     "name": "stderr",
     "output_type": "stream",
     "text": [
      "\n",
      " 36%|██████████████████████████████████████████████████████████████▎                                                                                                               | 244/682 [00:19<00:53,  8.15it/s]"
     ]
    },
    {
     "name": "stdout",
     "output_type": "stream",
     "text": [
      "Point one:  (477, 311) Point two:  (959, 597)\n",
      "New points (501, 325)\n",
      "--------------------------------------------------------------------------------------------------------\n",
      "Point one:  (477, 311) Point two:  (0, 644)\n",
      "New points (453, 327)\n",
      "--------------------------------------------------------------------------------------------------------\n",
      "Point one:  (478, 312) Point two:  (959, 595)\n",
      "New points (502, 326)\n",
      "--------------------------------------------------------------------------------------------------------\n",
      "Point one:  (478, 312) Point two:  (0, 643)\n",
      "New points (454, 328)\n",
      "--------------------------------------------------------------------------------------------------------\n",
      "Point one:  (476, 310) Point two:  (959, 600)\n",
      "New points (500, 324)\n",
      "--------------------------------------------------------------------------------------------------------\n",
      "Point one:  (476, 310) Point two:  (0, 667)\n",
      "New points (452, 327)\n",
      "--------------------------------------------------------------------------------------------------------\n",
      "Point one:  (479, 310) Point two:  (959, 604)\n",
      "New points (503, 324)\n",
      "--------------------------------------------------------------------------------------------------------\n",
      "Point one:  (479, 310) Point two:  (0, 648)\n",
      "New points (455, 326)\n",
      "--------------------------------------------------------------------------------------------------------\n"
     ]
    },
    {
     "name": "stderr",
     "output_type": "stream",
     "text": [
      "\n",
      " 36%|███████████████████████████████████████████████████████████████▎                                                                                                              | 248/682 [00:19<00:41, 10.56it/s]"
     ]
    },
    {
     "name": "stdout",
     "output_type": "stream",
     "text": [
      "Point one:  (480, 311) Point two:  (959, 598)\n",
      "New points (503, 325)\n",
      "--------------------------------------------------------------------------------------------------------\n",
      "Point one:  (480, 311) Point two:  (0, 647)\n",
      "New points (456, 327)\n",
      "--------------------------------------------------------------------------------------------------------\n",
      "Point one:  (478, 309) Point two:  (959, 601)\n",
      "New points (502, 323)\n",
      "--------------------------------------------------------------------------------------------------------\n",
      "Point one:  (478, 309) Point two:  (0, 651)\n",
      "New points (454, 326)\n",
      "--------------------------------------------------------------------------------------------------------\n"
     ]
    },
    {
     "name": "stderr",
     "output_type": "stream",
     "text": [
      "\n",
      " 37%|███████████████████████████████████████████████████████████████▊                                                                                                              | 250/682 [00:19<00:51,  8.37it/s]"
     ]
    },
    {
     "name": "stdout",
     "output_type": "stream",
     "text": [
      "Point one:  (478, 312) Point two:  (959, 598)\n",
      "New points (502, 326)\n",
      "--------------------------------------------------------------------------------------------------------\n",
      "Point one:  (478, 312) Point two:  (0, 646)\n",
      "New points (454, 328)\n",
      "--------------------------------------------------------------------------------------------------------\n",
      "Point one:  (475, 307) Point two:  (959, 606)\n",
      "New points (499, 321)\n",
      "--------------------------------------------------------------------------------------------------------\n",
      "Point one:  (475, 307) Point two:  (0, 665)\n",
      "New points (451, 324)\n",
      "--------------------------------------------------------------------------------------------------------\n"
     ]
    },
    {
     "name": "stderr",
     "output_type": "stream",
     "text": [
      "\n",
      " 37%|████████████████████████████████████████████████████████████████▎                                                                                                             | 252/682 [00:19<00:46,  9.34it/s]"
     ]
    },
    {
     "name": "stdout",
     "output_type": "stream",
     "text": [
      "Point one:  (483, 310) Point two:  (959, 607)\n",
      "New points (506, 324)\n",
      "--------------------------------------------------------------------------------------------------------\n",
      "Point one:  (483, 310) Point two:  (0, 638)\n",
      "New points (458, 326)\n",
      "--------------------------------------------------------------------------------------------------------\n",
      "Point one:  (479, 312) Point two:  (959, 601)\n",
      "New points (503, 326)\n",
      "--------------------------------------------------------------------------------------------------------\n",
      "Point one:  (479, 312) Point two:  (0, 645)\n",
      "New points (455, 328)\n",
      "--------------------------------------------------------------------------------------------------------\n",
      "Point one:  (481, 309) Point two:  (959, 601)\n",
      "New points (504, 323)\n",
      "--------------------------------------------------------------------------------------------------------\n",
      "Point one:  (481, 309) Point two:  (0, 647)\n",
      "New points (456, 325)\n",
      "--------------------------------------------------------------------------------------------------------\n"
     ]
    },
    {
     "name": "stderr",
     "output_type": "stream",
     "text": [
      "\n",
      " 37%|█████████████████████████████████████████████████████████████████                                                                                                             | 255/682 [00:20<00:48,  8.77it/s]"
     ]
    },
    {
     "name": "stdout",
     "output_type": "stream",
     "text": [
      "Point one:  (475, 310) Point two:  (959, 601)\n",
      "New points (499, 324)\n",
      "--------------------------------------------------------------------------------------------------------\n",
      "Point one:  (475, 310) Point two:  (0, 658)\n",
      "New points (451, 327)\n",
      "--------------------------------------------------------------------------------------------------------\n",
      "Point one:  (476, 311) Point two:  (959, 600)\n",
      "New points (500, 325)\n",
      "--------------------------------------------------------------------------------------------------------\n",
      "Point one:  (476, 311) Point two:  (0, 654)\n",
      "New points (452, 328)\n",
      "--------------------------------------------------------------------------------------------------------\n",
      "Point one:  (476, 310) Point two:  (959, 596)\n",
      "New points (500, 324)\n",
      "--------------------------------------------------------------------------------------------------------\n",
      "Point one:  (476, 310) Point two:  (0, 652)\n",
      "New points (452, 327)\n",
      "--------------------------------------------------------------------------------------------------------\n"
     ]
    },
    {
     "name": "stderr",
     "output_type": "stream",
     "text": [
      "\n",
      " 38%|█████████████████████████████████████████████████████████████████▊                                                                                                            | 258/682 [00:20<00:38, 11.10it/s]"
     ]
    },
    {
     "name": "stdout",
     "output_type": "stream",
     "text": [
      "Point one:  (478, 309) Point two:  (959, 604)\n",
      "New points (502, 323)\n",
      "--------------------------------------------------------------------------------------------------------\n",
      "Point one:  (478, 309) Point two:  (0, 655)\n",
      "New points (454, 326)\n",
      "--------------------------------------------------------------------------------------------------------\n",
      "Point one:  (474, 307) Point two:  (959, 606)\n",
      "New points (498, 321)\n",
      "--------------------------------------------------------------------------------------------------------\n",
      "Point one:  (474, 307) Point two:  (0, 662)\n",
      "New points (450, 324)\n",
      "--------------------------------------------------------------------------------------------------------\n",
      "Point one:  (476, 308) Point two:  (959, 604)\n",
      "New points (500, 322)\n",
      "--------------------------------------------------------------------------------------------------------\n",
      "Point one:  (476, 308) Point two:  (0, 663)\n",
      "New points (452, 325)\n",
      "--------------------------------------------------------------------------------------------------------\n"
     ]
    },
    {
     "name": "stderr",
     "output_type": "stream",
     "text": [
      "\n",
      " 38%|██████████████████████████████████████████████████████████████████▌                                                                                                           | 261/682 [00:20<00:40, 10.33it/s]"
     ]
    },
    {
     "name": "stdout",
     "output_type": "stream",
     "text": [
      "Point one:  (476, 308) Point two:  (959, 604)\n",
      "New points (500, 322)\n",
      "--------------------------------------------------------------------------------------------------------\n",
      "Point one:  (476, 308) Point two:  (0, 666)\n",
      "New points (452, 325)\n",
      "--------------------------------------------------------------------------------------------------------\n",
      "Point one:  (477, 308) Point two:  (959, 605)\n",
      "New points (501, 322)\n",
      "--------------------------------------------------------------------------------------------------------\n",
      "Point one:  (477, 308) Point two:  (0, 660)\n",
      "New points (453, 325)\n",
      "--------------------------------------------------------------------------------------------------------\n",
      "Point one:  (481, 311) Point two:  (959, 602)\n",
      "New points (504, 325)\n",
      "--------------------------------------------------------------------------------------------------------\n",
      "Point one:  (481, 311) Point two:  (0, 653)\n",
      "New points (456, 328)\n",
      "--------------------------------------------------------------------------------------------------------\n"
     ]
    },
    {
     "name": "stderr",
     "output_type": "stream",
     "text": [
      "\n",
      " 39%|███████████████████████████████████████████████████████████████████▎                                                                                                          | 264/682 [00:20<00:36, 11.50it/s]"
     ]
    },
    {
     "name": "stdout",
     "output_type": "stream",
     "text": [
      "Point one:  (478, 308) Point two:  (959, 597)\n",
      "New points (502, 322)\n",
      "--------------------------------------------------------------------------------------------------------\n",
      "Point one:  (478, 308) Point two:  (0, 649)\n",
      "New points (454, 325)\n",
      "--------------------------------------------------------------------------------------------------------\n",
      "Point one:  (480, 307) Point two:  (959, 598)\n",
      "New points (503, 321)\n",
      "--------------------------------------------------------------------------------------------------------\n",
      "Point one:  (480, 307) Point two:  (0, 653)\n",
      "New points (456, 324)\n",
      "--------------------------------------------------------------------------------------------------------\n"
     ]
    },
    {
     "name": "stderr",
     "output_type": "stream",
     "text": [
      "\n",
      " 39%|███████████████████████████████████████████████████████████████████▊                                                                                                          | 266/682 [00:20<00:39, 10.46it/s]"
     ]
    },
    {
     "name": "stdout",
     "output_type": "stream",
     "text": [
      "Point one:  (481, 307) Point two:  (959, 607)\n",
      "New points (504, 322)\n",
      "--------------------------------------------------------------------------------------------------------\n",
      "Point one:  (481, 307) Point two:  (0, 648)\n",
      "New points (456, 324)\n",
      "--------------------------------------------------------------------------------------------------------\n",
      "Point one:  (478, 307) Point two:  (959, 603)\n",
      "New points (502, 321)\n",
      "--------------------------------------------------------------------------------------------------------\n",
      "Point one:  (478, 307) Point two:  (0, 655)\n",
      "New points (454, 324)\n",
      "--------------------------------------------------------------------------------------------------------\n"
     ]
    },
    {
     "name": "stderr",
     "output_type": "stream",
     "text": [
      "\n",
      " 39%|████████████████████████████████████████████████████████████████████▍                                                                                                         | 268/682 [00:21<00:38, 10.71it/s]"
     ]
    },
    {
     "name": "stdout",
     "output_type": "stream",
     "text": [
      "Point one:  (480, 309) Point two:  (959, 599)\n",
      "New points (503, 323)\n",
      "--------------------------------------------------------------------------------------------------------\n",
      "Point one:  (480, 309) Point two:  (0, 649)\n",
      "New points (456, 326)\n",
      "--------------------------------------------------------------------------------------------------------\n",
      "Point one:  (480, 310) Point two:  (959, 593)\n",
      "New points (503, 324)\n",
      "--------------------------------------------------------------------------------------------------------\n",
      "Point one:  (480, 310) Point two:  (0, 652)\n",
      "New points (456, 327)\n",
      "--------------------------------------------------------------------------------------------------------\n",
      "Point one:  (477, 310) Point two:  (959, 587)\n",
      "New points (501, 323)\n",
      "--------------------------------------------------------------------------------------------------------\n",
      "Point one:  (477, 310) Point two:  (0, 649)\n",
      "New points (453, 326)\n",
      "--------------------------------------------------------------------------------------------------------\n"
     ]
    },
    {
     "name": "stderr",
     "output_type": "stream",
     "text": [
      "\n",
      " 40%|█████████████████████████████████████████████████████████████████████▏                                                                                                        | 271/682 [00:21<00:31, 13.22it/s]"
     ]
    },
    {
     "name": "stdout",
     "output_type": "stream",
     "text": [
      "Point one:  (479, 310) Point two:  (959, 590)\n",
      "New points (503, 324)\n",
      "--------------------------------------------------------------------------------------------------------\n",
      "Point one:  (479, 310) Point two:  (0, 651)\n",
      "New points (455, 327)\n",
      "--------------------------------------------------------------------------------------------------------\n",
      "Point one:  (479, 312) Point two:  (959, 589)\n",
      "New points (503, 325)\n",
      "--------------------------------------------------------------------------------------------------------\n",
      "Point one:  (479, 312) Point two:  (0, 656)\n",
      "New points (455, 329)\n",
      "--------------------------------------------------------------------------------------------------------\n",
      "Point one:  (482, 310) Point two:  (959, 592)\n",
      "New points (505, 324)\n",
      "--------------------------------------------------------------------------------------------------------\n",
      "Point one:  (482, 310) Point two:  (0, 655)\n",
      "New points (457, 327)\n",
      "--------------------------------------------------------------------------------------------------------\n"
     ]
    },
    {
     "name": "stderr",
     "output_type": "stream",
     "text": [
      "\n",
      " 40%|█████████████████████████████████████████████████████████████████████▉                                                                                                        | 274/682 [00:21<00:36, 11.23it/s]"
     ]
    },
    {
     "name": "stdout",
     "output_type": "stream",
     "text": [
      "Point one:  (480, 311) Point two:  (959, 593)\n",
      "New points (503, 325)\n",
      "--------------------------------------------------------------------------------------------------------\n",
      "Point one:  (480, 311) Point two:  (0, 654)\n",
      "New points (456, 328)\n",
      "--------------------------------------------------------------------------------------------------------\n",
      "Point one:  (478, 313) Point two:  (959, 585)\n",
      "New points (502, 326)\n",
      "--------------------------------------------------------------------------------------------------------\n",
      "Point one:  (478, 313) Point two:  (0, 656)\n",
      "New points (454, 330)\n",
      "--------------------------------------------------------------------------------------------------------\n"
     ]
    },
    {
     "name": "stderr",
     "output_type": "stream",
     "text": [
      "\n",
      " 40%|██████████████████████████████████████████████████████████████████████▍                                                                                                       | 276/682 [00:21<00:34, 11.80it/s]"
     ]
    },
    {
     "name": "stdout",
     "output_type": "stream",
     "text": [
      "Point one:  (479, 309) Point two:  (959, 591)\n",
      "New points (503, 323)\n",
      "--------------------------------------------------------------------------------------------------------\n",
      "Point one:  (479, 309) Point two:  (0, 654)\n",
      "New points (455, 326)\n",
      "--------------------------------------------------------------------------------------------------------\n",
      "Point one:  (479, 310) Point two:  (959, 590)\n",
      "New points (503, 324)\n",
      "--------------------------------------------------------------------------------------------------------\n",
      "Point one:  (479, 310) Point two:  (0, 651)\n",
      "New points (455, 327)\n",
      "--------------------------------------------------------------------------------------------------------\n",
      "Point one:  (479, 310) Point two:  (959, 590)\n",
      "New points (503, 324)\n",
      "--------------------------------------------------------------------------------------------------------\n",
      "Point one:  (479, 310) Point two:  (0, 657)\n",
      "New points (455, 327)\n",
      "--------------------------------------------------------------------------------------------------------\n"
     ]
    },
    {
     "name": "stderr",
     "output_type": "stream",
     "text": [
      "\n",
      " 41%|███████████████████████████████████████████████████████████████████████▏                                                                                                      | 279/682 [00:21<00:28, 14.33it/s]"
     ]
    },
    {
     "name": "stdout",
     "output_type": "stream",
     "text": [
      "Point one:  (481, 313) Point two:  (959, 594)\n",
      "New points (504, 327)\n",
      "--------------------------------------------------------------------------------------------------------\n",
      "Point one:  (481, 313) Point two:  (0, 652)\n",
      "New points (456, 329)\n",
      "--------------------------------------------------------------------------------------------------------\n",
      "Point one:  (476, 311) Point two:  (959, 586)\n",
      "New points (500, 324)\n",
      "--------------------------------------------------------------------------------------------------------\n",
      "Point one:  (476, 311) Point two:  (0, 663)\n",
      "New points (452, 328)\n",
      "--------------------------------------------------------------------------------------------------------\n"
     ]
    },
    {
     "name": "stderr",
     "output_type": "stream",
     "text": [
      "\n",
      " 41%|███████████████████████████████████████████████████████████████████████▋                                                                                                      | 281/682 [00:22<00:44,  8.95it/s]"
     ]
    },
    {
     "name": "stdout",
     "output_type": "stream",
     "text": [
      "Point one:  (477, 313) Point two:  (959, 593)\n",
      "New points (501, 327)\n",
      "--------------------------------------------------------------------------------------------------------\n",
      "Point one:  (477, 313) Point two:  (0, 654)\n",
      "New points (453, 330)\n",
      "--------------------------------------------------------------------------------------------------------\n",
      "Point one:  (459, 327) Point two:  (959, 541)\n",
      "New points (484, 337)\n",
      "--------------------------------------------------------------------------------------------------------\n",
      "Point one:  (459, 327) Point two:  (0, 658)\n",
      "New points (436, 343)\n",
      "--------------------------------------------------------------------------------------------------------\n"
     ]
    },
    {
     "name": "stderr",
     "output_type": "stream",
     "text": [
      "\n",
      " 41%|████████████████████████████████████████████████████████████████████████▏                                                                                                     | 283/682 [00:22<00:38, 10.45it/s]"
     ]
    },
    {
     "name": "stdout",
     "output_type": "stream",
     "text": [
      "Point one:  (479, 314) Point two:  (959, 594)\n",
      "New points (503, 328)\n",
      "--------------------------------------------------------------------------------------------------------\n",
      "Point one:  (479, 314) Point two:  (0, 655)\n",
      "New points (455, 331)\n",
      "--------------------------------------------------------------------------------------------------------\n",
      "Point one:  (445, 334) Point two:  (959, 531)\n",
      "New points (470, 343)\n",
      "--------------------------------------------------------------------------------------------------------\n",
      "Point one:  (445, 334) Point two:  (0, 661)\n",
      "New points (422, 350)\n",
      "--------------------------------------------------------------------------------------------------------\n",
      "Point one:  (443, 336) Point two:  (959, 532)\n",
      "New points (468, 345)\n",
      "--------------------------------------------------------------------------------------------------------\n",
      "Point one:  (443, 336) Point two:  (0, 653)\n",
      "New points (420, 351)\n",
      "--------------------------------------------------------------------------------------------------------\n"
     ]
    },
    {
     "name": "stderr",
     "output_type": "stream",
     "text": [
      "\n",
      " 42%|████████████████████████████████████████████████████████████████████████▉                                                                                                     | 286/682 [00:22<00:37, 10.46it/s]"
     ]
    },
    {
     "name": "stdout",
     "output_type": "stream",
     "text": [
      "Point one:  (479, 312) Point two:  (959, 599)\n",
      "New points (503, 326)\n",
      "--------------------------------------------------------------------------------------------------------\n",
      "Point one:  (479, 312) Point two:  (0, 655)\n",
      "New points (455, 329)\n",
      "--------------------------------------------------------------------------------------------------------\n",
      "Point one:  (438, 341) Point two:  (959, 546)\n",
      "New points (464, 351)\n",
      "--------------------------------------------------------------------------------------------------------\n",
      "Point one:  (438, 341) Point two:  (0, 658)\n",
      "New points (416, 356)\n",
      "--------------------------------------------------------------------------------------------------------\n"
     ]
    },
    {
     "name": "stderr",
     "output_type": "stream",
     "text": [
      "\n",
      " 42%|█████████████████████████████████████████████████████████████████████████▍                                                                                                    | 288/682 [00:22<00:44,  8.80it/s]"
     ]
    },
    {
     "name": "stdout",
     "output_type": "stream",
     "text": [
      "Point one:  (433, 345) Point two:  (959, 556)\n",
      "New points (459, 355)\n",
      "--------------------------------------------------------------------------------------------------------\n",
      "Point one:  (433, 345) Point two:  (0, 668)\n",
      "New points (411, 361)\n",
      "--------------------------------------------------------------------------------------------------------\n",
      "Point one:  (419, 358) Point two:  (959, 557)\n",
      "New points (446, 367)\n",
      "--------------------------------------------------------------------------------------------------------\n",
      "Point one:  (419, 358) Point two:  (0, 660)\n",
      "New points (398, 373)\n",
      "--------------------------------------------------------------------------------------------------------\n",
      "Point one:  (439, 344) Point two:  (959, 582)\n",
      "New points (465, 355)\n",
      "--------------------------------------------------------------------------------------------------------\n",
      "Point one:  (439, 344) Point two:  (0, 655)\n",
      "New points (417, 359)\n",
      "--------------------------------------------------------------------------------------------------------\n",
      "Point one:  (382, 382) Point two:  (959, 587)\n",
      "New points (410, 392)\n",
      "--------------------------------------------------------------------------------------------------------\n",
      "Point one:  (382, 382) Point two:  (0, 663)\n",
      "New points (362, 396)\n",
      "--------------------------------------------------------------------------------------------------------\n"
     ]
    },
    {
     "name": "stderr",
     "output_type": "stream",
     "text": [
      "\n",
      " 43%|██████████████████████████████████████████████████████████████████████████▍                                                                                                   | 292/682 [00:23<00:34, 11.19it/s]"
     ]
    },
    {
     "name": "stdout",
     "output_type": "stream",
     "text": [
      "Point one:  (476, 315) Point two:  (959, 599)\n",
      "New points (500, 329)\n",
      "--------------------------------------------------------------------------------------------------------\n",
      "Point one:  (476, 315) Point two:  (0, 658)\n",
      "New points (452, 332)\n",
      "--------------------------------------------------------------------------------------------------------\n",
      "Point one:  (473, 315) Point two:  (959, 594)\n",
      "New points (497, 328)\n",
      "--------------------------------------------------------------------------------------------------------\n",
      "Point one:  (473, 315) Point two:  (0, 661)\n",
      "New points (449, 332)\n",
      "--------------------------------------------------------------------------------------------------------\n"
     ]
    },
    {
     "name": "stderr",
     "output_type": "stream",
     "text": [
      "\n",
      " 43%|███████████████████████████████████████████████████████████████████████████                                                                                                   | 294/682 [00:23<00:38, 10.01it/s]"
     ]
    },
    {
     "name": "stdout",
     "output_type": "stream",
     "text": [
      "Point one:  (469, 314) Point two:  (959, 588)\n",
      "New points (493, 327)\n",
      "--------------------------------------------------------------------------------------------------------\n",
      "Point one:  (469, 314) Point two:  (0, 672)\n",
      "New points (445, 331)\n",
      "--------------------------------------------------------------------------------------------------------\n",
      "Point one:  (476, 311) Point two:  (959, 606)\n",
      "New points (500, 325)\n",
      "--------------------------------------------------------------------------------------------------------\n",
      "Point one:  (476, 311) Point two:  (0, 665)\n",
      "New points (452, 328)\n",
      "--------------------------------------------------------------------------------------------------------\n",
      "Point one:  (477, 310) Point two:  (959, 603)\n",
      "New points (501, 324)\n",
      "--------------------------------------------------------------------------------------------------------\n",
      "Point one:  (477, 310) Point two:  (0, 659)\n",
      "New points (453, 327)\n",
      "--------------------------------------------------------------------------------------------------------\n"
     ]
    },
    {
     "name": "stderr",
     "output_type": "stream",
     "text": [
      "\n",
      " 44%|███████████████████████████████████████████████████████████████████████████▊                                                                                                  | 297/682 [00:23<00:36, 10.53it/s]"
     ]
    },
    {
     "name": "stdout",
     "output_type": "stream",
     "text": [
      "Point one:  (471, 312) Point two:  (959, 597)\n",
      "New points (495, 326)\n",
      "--------------------------------------------------------------------------------------------------------\n",
      "Point one:  (471, 312) Point two:  (0, 675)\n",
      "New points (447, 330)\n",
      "--------------------------------------------------------------------------------------------------------\n",
      "Point one:  (478, 311) Point two:  (959, 605)\n",
      "New points (502, 325)\n",
      "--------------------------------------------------------------------------------------------------------\n",
      "Point one:  (478, 311) Point two:  (0, 664)\n",
      "New points (454, 328)\n",
      "--------------------------------------------------------------------------------------------------------\n"
     ]
    },
    {
     "name": "stderr",
     "output_type": "stream",
     "text": [
      "\n",
      " 44%|████████████████████████████████████████████████████████████████████████████▎                                                                                                 | 299/682 [00:23<00:31, 12.20it/s]"
     ]
    },
    {
     "name": "stdout",
     "output_type": "stream",
     "text": [
      "Point one:  (478, 312) Point two:  (959, 602)\n",
      "New points (502, 326)\n",
      "--------------------------------------------------------------------------------------------------------\n",
      "Point one:  (478, 312) Point two:  (0, 668)\n",
      "New points (454, 329)\n",
      "--------------------------------------------------------------------------------------------------------\n",
      "Point one:  (481, 314) Point two:  (959, 608)\n",
      "New points (504, 328)\n",
      "--------------------------------------------------------------------------------------------------------\n",
      "Point one:  (481, 314) Point two:  (0, 661)\n",
      "New points (456, 331)\n",
      "--------------------------------------------------------------------------------------------------------\n"
     ]
    },
    {
     "name": "stderr",
     "output_type": "stream",
     "text": [
      "\n",
      " 44%|████████████████████████████████████████████████████████████████████████████▊                                                                                                 | 301/682 [00:23<00:28, 13.57it/s]"
     ]
    },
    {
     "name": "stdout",
     "output_type": "stream",
     "text": [
      "Point one:  (478, 311) Point two:  (959, 605)\n",
      "New points (502, 325)\n",
      "--------------------------------------------------------------------------------------------------------\n",
      "Point one:  (478, 311) Point two:  (0, 659)\n",
      "New points (454, 328)\n",
      "--------------------------------------------------------------------------------------------------------\n",
      "Point one:  (476, 311) Point two:  (959, 601)\n",
      "New points (500, 325)\n",
      "--------------------------------------------------------------------------------------------------------\n",
      "Point one:  (476, 311) Point two:  (0, 672)\n",
      "New points (452, 329)\n",
      "--------------------------------------------------------------------------------------------------------\n"
     ]
    },
    {
     "name": "stderr",
     "output_type": "stream",
     "text": [
      "\n",
      " 44%|█████████████████████████████████████████████████████████████████████████████▎                                                                                                | 303/682 [00:23<00:29, 12.69it/s]"
     ]
    },
    {
     "name": "stdout",
     "output_type": "stream",
     "text": [
      "Point one:  (477, 309) Point two:  (959, 606)\n",
      "New points (501, 323)\n",
      "--------------------------------------------------------------------------------------------------------\n",
      "Point one:  (477, 309) Point two:  (0, 659)\n",
      "New points (453, 326)\n",
      "--------------------------------------------------------------------------------------------------------\n",
      "Point one:  (474, 311) Point two:  (959, 603)\n",
      "New points (498, 325)\n",
      "--------------------------------------------------------------------------------------------------------\n",
      "Point one:  (474, 311) Point two:  (0, 655)\n",
      "New points (450, 328)\n",
      "--------------------------------------------------------------------------------------------------------\n"
     ]
    },
    {
     "name": "stderr",
     "output_type": "stream",
     "text": [
      "\n",
      " 45%|█████████████████████████████████████████████████████████████████████████████▊                                                                                                | 305/682 [00:24<00:30, 12.41it/s]"
     ]
    },
    {
     "name": "stdout",
     "output_type": "stream",
     "text": [
      "Point one:  (477, 310) Point two:  (959, 605)\n",
      "New points (501, 324)\n",
      "--------------------------------------------------------------------------------------------------------\n",
      "Point one:  (477, 310) Point two:  (0, 656)\n",
      "New points (453, 327)\n",
      "--------------------------------------------------------------------------------------------------------\n",
      "Point one:  (477, 308) Point two:  (959, 605)\n",
      "New points (501, 322)\n",
      "--------------------------------------------------------------------------------------------------------\n",
      "Point one:  (477, 308) Point two:  (0, 649)\n",
      "New points (453, 325)\n",
      "--------------------------------------------------------------------------------------------------------\n",
      "Point one:  (478, 308) Point two:  (959, 607)\n",
      "New points (502, 322)\n",
      "--------------------------------------------------------------------------------------------------------\n",
      "Point one:  (478, 308) Point two:  (0, 652)\n",
      "New points (454, 325)\n",
      "--------------------------------------------------------------------------------------------------------\n"
     ]
    },
    {
     "name": "stderr",
     "output_type": "stream",
     "text": [
      "\n",
      " 45%|██████████████████████████████████████████████████████████████████████████████▌                                                                                               | 308/682 [00:24<00:26, 14.34it/s]"
     ]
    },
    {
     "name": "stdout",
     "output_type": "stream",
     "text": [
      "Point one:  (479, 306) Point two:  (959, 606)\n",
      "New points (503, 321)\n",
      "--------------------------------------------------------------------------------------------------------\n",
      "Point one:  (479, 306) Point two:  (0, 659)\n",
      "New points (455, 323)\n",
      "--------------------------------------------------------------------------------------------------------\n",
      "Point one:  (474, 307) Point two:  (959, 593)\n",
      "New points (498, 321)\n",
      "--------------------------------------------------------------------------------------------------------\n",
      "Point one:  (474, 307) Point two:  (0, 673)\n",
      "New points (450, 325)\n",
      "--------------------------------------------------------------------------------------------------------\n"
     ]
    },
    {
     "name": "stderr",
     "output_type": "stream",
     "text": [
      "\n",
      " 45%|███████████████████████████████████████████████████████████████████████████████                                                                                               | 310/682 [00:24<00:37,  9.93it/s]"
     ]
    },
    {
     "name": "stdout",
     "output_type": "stream",
     "text": [
      "Point one:  (473, 305) Point two:  (959, 601)\n",
      "New points (497, 319)\n",
      "--------------------------------------------------------------------------------------------------------\n",
      "Point one:  (473, 305) Point two:  (0, 658)\n",
      "New points (449, 322)\n",
      "--------------------------------------------------------------------------------------------------------\n",
      "Point one:  (477, 307) Point two:  (959, 602)\n",
      "New points (501, 321)\n",
      "--------------------------------------------------------------------------------------------------------\n",
      "Point one:  (477, 307) Point two:  (0, 649)\n",
      "New points (453, 324)\n",
      "--------------------------------------------------------------------------------------------------------\n",
      "Point one:  (478, 307) Point two:  (959, 603)\n",
      "New points (502, 321)\n",
      "--------------------------------------------------------------------------------------------------------\n",
      "Point one:  (478, 307) Point two:  (0, 650)\n",
      "New points (454, 324)\n",
      "--------------------------------------------------------------------------------------------------------\n"
     ]
    },
    {
     "name": "stderr",
     "output_type": "stream",
     "text": [
      "\n",
      " 46%|███████████████████████████████████████████████████████████████████████████████▊                                                                                              | 313/682 [00:24<00:33, 10.99it/s]"
     ]
    },
    {
     "name": "stdout",
     "output_type": "stream",
     "text": [
      "Point one:  (478, 308) Point two:  (959, 603)\n",
      "New points (502, 322)\n",
      "--------------------------------------------------------------------------------------------------------\n",
      "Point one:  (478, 308) Point two:  (0, 644)\n",
      "New points (454, 324)\n",
      "--------------------------------------------------------------------------------------------------------\n",
      "Point one:  (477, 308) Point two:  (959, 606)\n",
      "New points (501, 322)\n",
      "--------------------------------------------------------------------------------------------------------\n",
      "Point one:  (477, 308) Point two:  (0, 650)\n",
      "New points (453, 325)\n",
      "--------------------------------------------------------------------------------------------------------\n",
      "Point one:  (480, 310) Point two:  (959, 603)\n",
      "New points (503, 324)\n",
      "--------------------------------------------------------------------------------------------------------\n",
      "Point one:  (480, 310) Point two:  (0, 642)\n",
      "New points (456, 326)\n",
      "--------------------------------------------------------------------------------------------------------\n"
     ]
    },
    {
     "name": "stderr",
     "output_type": "stream",
     "text": [
      "\n",
      " 46%|████████████████████████████████████████████████████████████████████████████████▌                                                                                             | 316/682 [00:25<00:33, 11.05it/s]"
     ]
    },
    {
     "name": "stdout",
     "output_type": "stream",
     "text": [
      "Point one:  (477, 308) Point two:  (959, 603)\n",
      "New points (501, 322)\n",
      "--------------------------------------------------------------------------------------------------------\n",
      "Point one:  (477, 308) Point two:  (0, 654)\n",
      "New points (453, 325)\n",
      "--------------------------------------------------------------------------------------------------------\n",
      "Point one:  (477, 310) Point two:  (959, 600)\n",
      "New points (501, 324)\n",
      "--------------------------------------------------------------------------------------------------------\n",
      "Point one:  (477, 310) Point two:  (0, 651)\n",
      "New points (453, 327)\n",
      "--------------------------------------------------------------------------------------------------------\n"
     ]
    },
    {
     "name": "stderr",
     "output_type": "stream",
     "text": [
      "\n",
      " 47%|█████████████████████████████████████████████████████████████████████████████████▏                                                                                            | 318/682 [00:25<00:28, 12.61it/s]"
     ]
    },
    {
     "name": "stdout",
     "output_type": "stream",
     "text": [
      "Point one:  (479, 310) Point two:  (959, 599)\n",
      "New points (503, 324)\n",
      "--------------------------------------------------------------------------------------------------------\n",
      "Point one:  (479, 310) Point two:  (0, 646)\n",
      "New points (455, 326)\n",
      "--------------------------------------------------------------------------------------------------------\n",
      "Point one:  (471, 307) Point two:  (959, 594)\n",
      "New points (495, 321)\n",
      "--------------------------------------------------------------------------------------------------------\n",
      "Point one:  (471, 307) Point two:  (0, 661)\n",
      "New points (447, 324)\n",
      "--------------------------------------------------------------------------------------------------------\n"
     ]
    },
    {
     "name": "stderr",
     "output_type": "stream",
     "text": [
      "\n",
      " 47%|█████████████████████████████████████████████████████████████████████████████████▋                                                                                            | 320/682 [00:25<00:32, 10.98it/s]"
     ]
    },
    {
     "name": "stdout",
     "output_type": "stream",
     "text": [
      "Point one:  (475, 310) Point two:  (959, 595)\n",
      "New points (499, 324)\n",
      "--------------------------------------------------------------------------------------------------------\n",
      "Point one:  (475, 310) Point two:  (0, 655)\n",
      "New points (451, 327)\n",
      "--------------------------------------------------------------------------------------------------------\n",
      "Point one:  (474, 308) Point two:  (959, 599)\n",
      "New points (498, 322)\n",
      "--------------------------------------------------------------------------------------------------------\n",
      "Point one:  (474, 308) Point two:  (0, 663)\n",
      "New points (450, 325)\n",
      "--------------------------------------------------------------------------------------------------------\n"
     ]
    },
    {
     "name": "stderr",
     "output_type": "stream",
     "text": [
      "\n",
      " 47%|██████████████████████████████████████████████████████████████████████████████████▏                                                                                           | 322/682 [00:25<00:45,  7.89it/s]"
     ]
    },
    {
     "name": "stdout",
     "output_type": "stream",
     "text": [
      "Point one:  (475, 307) Point two:  (959, 598)\n",
      "New points (499, 321)\n",
      "--------------------------------------------------------------------------------------------------------\n",
      "Point one:  (475, 307) Point two:  (0, 656)\n",
      "New points (451, 324)\n",
      "--------------------------------------------------------------------------------------------------------\n",
      "Point one:  (474, 309) Point two:  (959, 593)\n",
      "New points (498, 323)\n",
      "--------------------------------------------------------------------------------------------------------\n",
      "Point one:  (474, 309) Point two:  (0, 651)\n",
      "New points (450, 326)\n",
      "--------------------------------------------------------------------------------------------------------\n"
     ]
    },
    {
     "name": "stderr",
     "output_type": "stream",
     "text": [
      "\n",
      " 48%|██████████████████████████████████████████████████████████████████████████████████▋                                                                                           | 324/682 [00:26<00:39,  8.96it/s]"
     ]
    },
    {
     "name": "stdout",
     "output_type": "stream",
     "text": [
      "Point one:  (477, 310) Point two:  (959, 603)\n",
      "New points (501, 324)\n",
      "--------------------------------------------------------------------------------------------------------\n",
      "Point one:  (477, 310) Point two:  (0, 646)\n",
      "New points (453, 326)\n",
      "--------------------------------------------------------------------------------------------------------\n",
      "Point one:  (476, 310) Point two:  (959, 602)\n",
      "New points (500, 324)\n",
      "--------------------------------------------------------------------------------------------------------\n",
      "Point one:  (476, 310) Point two:  (0, 648)\n",
      "New points (452, 326)\n",
      "--------------------------------------------------------------------------------------------------------\n"
     ]
    },
    {
     "name": "stderr",
     "output_type": "stream",
     "text": [
      "\n",
      " 48%|███████████████████████████████████████████████████████████████████████████████████▏                                                                                          | 326/682 [00:26<00:39,  9.10it/s]"
     ]
    },
    {
     "name": "stdout",
     "output_type": "stream",
     "text": [
      "Point one:  (476, 311) Point two:  (959, 602)\n",
      "New points (500, 325)\n",
      "--------------------------------------------------------------------------------------------------------\n",
      "Point one:  (476, 311) Point two:  (0, 653)\n",
      "New points (452, 328)\n",
      "--------------------------------------------------------------------------------------------------------\n",
      "Point one:  (473, 312) Point two:  (959, 603)\n",
      "New points (497, 326)\n",
      "--------------------------------------------------------------------------------------------------------\n",
      "Point one:  (473, 312) Point two:  (0, 648)\n",
      "New points (449, 328)\n",
      "--------------------------------------------------------------------------------------------------------\n"
     ]
    },
    {
     "name": "stderr",
     "output_type": "stream",
     "text": [
      "\n",
      " 48%|███████████████████████████████████████████████████████████████████████████████████▋                                                                                          | 328/682 [00:26<00:32, 10.76it/s]"
     ]
    },
    {
     "name": "stdout",
     "output_type": "stream",
     "text": [
      "Point one:  (475, 311) Point two:  (959, 603)\n",
      "New points (499, 325)\n",
      "--------------------------------------------------------------------------------------------------------\n",
      "Point one:  (475, 311) Point two:  (0, 652)\n",
      "New points (451, 328)\n",
      "--------------------------------------------------------------------------------------------------------\n",
      "Point one:  (472, 310) Point two:  (959, 596)\n",
      "New points (496, 324)\n",
      "--------------------------------------------------------------------------------------------------------\n",
      "Point one:  (472, 310) Point two:  (0, 651)\n",
      "New points (448, 327)\n",
      "--------------------------------------------------------------------------------------------------------\n"
     ]
    },
    {
     "name": "stderr",
     "output_type": "stream",
     "text": [
      "\n",
      " 48%|████████████████████████████████████████████████████████████████████████████████████▏                                                                                         | 330/682 [00:28<01:55,  3.05it/s]"
     ]
    },
    {
     "name": "stdout",
     "output_type": "stream",
     "text": [
      "Point one:  (476, 308) Point two:  (959, 603)\n",
      "New points (500, 322)\n",
      "--------------------------------------------------------------------------------------------------------\n",
      "Point one:  (476, 308) Point two:  (0, 650)\n",
      "New points (452, 325)\n",
      "--------------------------------------------------------------------------------------------------------\n",
      "Point one:  (474, 307) Point two:  (959, 599)\n",
      "New points (498, 321)\n",
      "--------------------------------------------------------------------------------------------------------\n",
      "Point one:  (474, 307) Point two:  (0, 643)\n",
      "New points (450, 323)\n",
      "--------------------------------------------------------------------------------------------------------\n"
     ]
    },
    {
     "name": "stderr",
     "output_type": "stream",
     "text": [
      "\n",
      " 49%|████████████████████████████████████████████████████████████████████████████████████▋                                                                                         | 332/682 [00:28<01:29,  3.90it/s]"
     ]
    },
    {
     "name": "stdout",
     "output_type": "stream",
     "text": [
      "Point one:  (476, 309) Point two:  (959, 604)\n",
      "New points (500, 323)\n",
      "--------------------------------------------------------------------------------------------------------\n",
      "Point one:  (476, 309) Point two:  (0, 643)\n",
      "New points (452, 325)\n",
      "--------------------------------------------------------------------------------------------------------\n",
      "Point one:  (475, 310) Point two:  (959, 601)\n",
      "New points (499, 324)\n",
      "--------------------------------------------------------------------------------------------------------\n",
      "Point one:  (475, 310) Point two:  (0, 654)\n",
      "New points (451, 327)\n",
      "--------------------------------------------------------------------------------------------------------\n"
     ]
    },
    {
     "name": "stderr",
     "output_type": "stream",
     "text": [
      "\n",
      " 49%|█████████████████████████████████████████████████████████████████████████████████████▏                                                                                        | 334/682 [00:28<01:12,  4.81it/s]"
     ]
    },
    {
     "name": "stdout",
     "output_type": "stream",
     "text": [
      "Point one:  (478, 311) Point two:  (959, 609)\n",
      "New points (502, 325)\n",
      "--------------------------------------------------------------------------------------------------------\n",
      "Point one:  (478, 311) Point two:  (0, 642)\n",
      "New points (454, 327)\n",
      "--------------------------------------------------------------------------------------------------------\n",
      "Point one:  (476, 313) Point two:  (959, 597)\n",
      "New points (500, 327)\n",
      "--------------------------------------------------------------------------------------------------------\n",
      "Point one:  (476, 313) Point two:  (0, 642)\n",
      "New points (452, 329)\n",
      "--------------------------------------------------------------------------------------------------------\n"
     ]
    },
    {
     "name": "stderr",
     "output_type": "stream",
     "text": [
      "\n",
      " 49%|█████████████████████████████████████████████████████████████████████████████████████▋                                                                                        | 336/682 [00:28<01:01,  5.65it/s]"
     ]
    },
    {
     "name": "stdout",
     "output_type": "stream",
     "text": [
      "Point one:  (477, 310) Point two:  (959, 605)\n",
      "New points (501, 324)\n",
      "--------------------------------------------------------------------------------------------------------\n",
      "Point one:  (477, 310) Point two:  (0, 639)\n",
      "New points (453, 326)\n",
      "--------------------------------------------------------------------------------------------------------\n",
      "Point one:  (478, 311) Point two:  (959, 604)\n",
      "New points (502, 325)\n",
      "--------------------------------------------------------------------------------------------------------\n",
      "Point one:  (478, 311) Point two:  (0, 638)\n",
      "New points (454, 327)\n",
      "--------------------------------------------------------------------------------------------------------\n"
     ]
    },
    {
     "name": "stderr",
     "output_type": "stream",
     "text": [
      "\n",
      " 50%|██████████████████████████████████████████████████████████████████████████████████████▏                                                                                       | 338/682 [00:28<00:51,  6.73it/s]"
     ]
    },
    {
     "name": "stdout",
     "output_type": "stream",
     "text": [
      "Point one:  (475, 311) Point two:  (959, 604)\n",
      "New points (499, 325)\n",
      "--------------------------------------------------------------------------------------------------------\n",
      "Point one:  (475, 311) Point two:  (0, 641)\n",
      "New points (451, 327)\n",
      "--------------------------------------------------------------------------------------------------------\n",
      "Point one:  (479, 311) Point two:  (959, 603)\n",
      "New points (503, 325)\n",
      "--------------------------------------------------------------------------------------------------------\n",
      "Point one:  (479, 311) Point two:  (0, 641)\n",
      "New points (455, 327)\n",
      "--------------------------------------------------------------------------------------------------------\n"
     ]
    },
    {
     "name": "stderr",
     "output_type": "stream",
     "text": [
      "\n",
      " 50%|██████████████████████████████████████████████████████████████████████████████████████▋                                                                                       | 340/682 [00:29<00:50,  6.78it/s]"
     ]
    },
    {
     "name": "stdout",
     "output_type": "stream",
     "text": [
      "Point one:  (477, 310) Point two:  (959, 603)\n",
      "New points (501, 324)\n",
      "--------------------------------------------------------------------------------------------------------\n",
      "Point one:  (477, 310) Point two:  (0, 639)\n",
      "New points (453, 326)\n",
      "--------------------------------------------------------------------------------------------------------\n"
     ]
    },
    {
     "name": "stderr",
     "output_type": "stream",
     "text": [
      "\n",
      " 50%|███████████████████████████████████████████████████████████████████████████████████████                                                                                       | 341/682 [00:29<00:46,  7.33it/s]"
     ]
    },
    {
     "name": "stdout",
     "output_type": "stream",
     "text": [
      "Point one:  (476, 311) Point two:  (959, 597)\n",
      "New points (500, 325)\n",
      "--------------------------------------------------------------------------------------------------------\n",
      "Point one:  (476, 311) Point two:  (0, 638)\n",
      "New points (452, 327)\n",
      "--------------------------------------------------------------------------------------------------------\n",
      "Point one:  (477, 311) Point two:  (959, 605)\n",
      "New points (501, 325)\n",
      "--------------------------------------------------------------------------------------------------------\n",
      "Point one:  (477, 311) Point two:  (0, 639)\n",
      "New points (453, 327)\n",
      "--------------------------------------------------------------------------------------------------------\n"
     ]
    },
    {
     "name": "stderr",
     "output_type": "stream",
     "text": [
      "\n",
      " 50%|███████████████████████████████████████████████████████████████████████████████████████▌                                                                                      | 343/682 [00:29<00:42,  7.99it/s]"
     ]
    },
    {
     "name": "stdout",
     "output_type": "stream",
     "text": [
      "Point one:  (479, 310) Point two:  (959, 604)\n",
      "New points (503, 324)\n",
      "--------------------------------------------------------------------------------------------------------\n",
      "Point one:  (479, 310) Point two:  (0, 640)\n",
      "New points (455, 326)\n",
      "--------------------------------------------------------------------------------------------------------\n",
      "Point one:  (478, 310) Point two:  (959, 606)\n",
      "New points (502, 324)\n",
      "--------------------------------------------------------------------------------------------------------\n",
      "Point one:  (478, 310) Point two:  (0, 636)\n",
      "New points (454, 326)\n",
      "--------------------------------------------------------------------------------------------------------\n"
     ]
    },
    {
     "name": "stderr",
     "output_type": "stream",
     "text": [
      "\n",
      " 51%|████████████████████████████████████████████████████████████████████████████████████████                                                                                      | 345/682 [00:29<00:52,  6.38it/s]"
     ]
    },
    {
     "name": "stdout",
     "output_type": "stream",
     "text": [
      "Point one:  (477, 310) Point two:  (959, 606)\n",
      "New points (501, 324)\n",
      "--------------------------------------------------------------------------------------------------------\n",
      "Point one:  (477, 310) Point two:  (0, 640)\n",
      "New points (453, 326)\n",
      "--------------------------------------------------------------------------------------------------------\n",
      "Point one:  (480, 310) Point two:  (959, 609)\n",
      "New points (503, 324)\n",
      "--------------------------------------------------------------------------------------------------------\n",
      "Point one:  (480, 310) Point two:  (0, 642)\n",
      "New points (456, 326)\n",
      "--------------------------------------------------------------------------------------------------------\n"
     ]
    },
    {
     "name": "stderr",
     "output_type": "stream",
     "text": [
      "\n",
      " 51%|████████████████████████████████████████████████████████████████████████████████████████▌                                                                                     | 347/682 [00:30<00:43,  7.75it/s]"
     ]
    },
    {
     "name": "stdout",
     "output_type": "stream",
     "text": [
      "Point one:  (480, 311) Point two:  (959, 605)\n",
      "New points (503, 325)\n",
      "--------------------------------------------------------------------------------------------------------\n",
      "Point one:  (480, 311) Point two:  (0, 643)\n",
      "New points (456, 327)\n",
      "--------------------------------------------------------------------------------------------------------\n",
      "Point one:  (480, 310) Point two:  (959, 605)\n",
      "New points (503, 324)\n",
      "--------------------------------------------------------------------------------------------------------\n",
      "Point one:  (480, 310) Point two:  (0, 640)\n",
      "New points (456, 326)\n",
      "--------------------------------------------------------------------------------------------------------\n",
      "Point one:  (479, 311) Point two:  (959, 606)\n",
      "New points (503, 325)\n",
      "--------------------------------------------------------------------------------------------------------\n",
      "Point one:  (479, 311) Point two:  (0, 645)\n",
      "New points (455, 327)\n",
      "--------------------------------------------------------------------------------------------------------\n"
     ]
    },
    {
     "name": "stderr",
     "output_type": "stream",
     "text": [
      "\n",
      " 51%|█████████████████████████████████████████████████████████████████████████████████████████▎                                                                                    | 350/682 [00:30<00:33,  9.90it/s]"
     ]
    },
    {
     "name": "stdout",
     "output_type": "stream",
     "text": [
      "Point one:  (480, 311) Point two:  (959, 608)\n",
      "New points (503, 325)\n",
      "--------------------------------------------------------------------------------------------------------\n",
      "Point one:  (480, 311) Point two:  (0, 641)\n",
      "New points (456, 327)\n",
      "--------------------------------------------------------------------------------------------------------\n",
      "Point one:  (479, 313) Point two:  (959, 604)\n",
      "New points (503, 327)\n",
      "--------------------------------------------------------------------------------------------------------\n",
      "Point one:  (479, 313) Point two:  (0, 641)\n",
      "New points (455, 329)\n",
      "--------------------------------------------------------------------------------------------------------\n"
     ]
    },
    {
     "name": "stderr",
     "output_type": "stream",
     "text": [
      "\n",
      " 52%|█████████████████████████████████████████████████████████████████████████████████████████▊                                                                                    | 352/682 [00:30<00:34,  9.43it/s]"
     ]
    },
    {
     "name": "stdout",
     "output_type": "stream",
     "text": [
      "Point one:  (480, 309) Point two:  (959, 612)\n",
      "New points (503, 324)\n",
      "--------------------------------------------------------------------------------------------------------\n",
      "Point one:  (480, 309) Point two:  (0, 641)\n",
      "New points (456, 325)\n",
      "--------------------------------------------------------------------------------------------------------\n",
      "Point one:  (482, 309) Point two:  (959, 612)\n",
      "New points (505, 324)\n",
      "--------------------------------------------------------------------------------------------------------\n",
      "Point one:  (482, 309) Point two:  (0, 643)\n",
      "New points (457, 325)\n",
      "--------------------------------------------------------------------------------------------------------\n"
     ]
    },
    {
     "name": "stderr",
     "output_type": "stream",
     "text": [
      "\n",
      " 52%|██████████████████████████████████████████████████████████████████████████████████████████▎                                                                                   | 354/682 [00:30<00:32, 10.16it/s]"
     ]
    },
    {
     "name": "stdout",
     "output_type": "stream",
     "text": [
      "Point one:  (479, 311) Point two:  (959, 603)\n",
      "New points (503, 325)\n",
      "--------------------------------------------------------------------------------------------------------\n",
      "Point one:  (479, 311) Point two:  (0, 641)\n",
      "New points (455, 327)\n",
      "--------------------------------------------------------------------------------------------------------\n",
      "Point one:  (479, 311) Point two:  (959, 604)\n",
      "New points (503, 325)\n",
      "--------------------------------------------------------------------------------------------------------\n",
      "Point one:  (479, 311) Point two:  (0, 644)\n",
      "New points (455, 327)\n",
      "--------------------------------------------------------------------------------------------------------\n"
     ]
    },
    {
     "name": "stderr",
     "output_type": "stream",
     "text": [
      "\n",
      " 52%|██████████████████████████████████████████████████████████████████████████████████████████▊                                                                                   | 356/682 [00:30<00:31, 10.39it/s]"
     ]
    },
    {
     "name": "stdout",
     "output_type": "stream",
     "text": [
      "Point one:  (479, 310) Point two:  (959, 610)\n",
      "New points (503, 325)\n",
      "--------------------------------------------------------------------------------------------------------\n",
      "Point one:  (479, 310) Point two:  (0, 640)\n",
      "New points (455, 326)\n",
      "--------------------------------------------------------------------------------------------------------\n",
      "Point one:  (479, 310) Point two:  (959, 611)\n",
      "New points (503, 325)\n",
      "--------------------------------------------------------------------------------------------------------\n",
      "Point one:  (479, 310) Point two:  (0, 639)\n",
      "New points (455, 326)\n",
      "--------------------------------------------------------------------------------------------------------\n"
     ]
    },
    {
     "name": "stderr",
     "output_type": "stream",
     "text": [
      "\n",
      " 52%|███████████████████████████████████████████████████████████████████████████████████████████▎                                                                                  | 358/682 [00:30<00:33,  9.80it/s]"
     ]
    },
    {
     "name": "stdout",
     "output_type": "stream",
     "text": [
      "Point one:  (475, 308) Point two:  (959, 604)\n",
      "New points (499, 322)\n",
      "--------------------------------------------------------------------------------------------------------\n",
      "Point one:  (475, 308) Point two:  (0, 651)\n",
      "New points (451, 325)\n",
      "--------------------------------------------------------------------------------------------------------\n",
      "Point one:  (478, 311) Point two:  (959, 603)\n",
      "New points (502, 325)\n",
      "--------------------------------------------------------------------------------------------------------\n",
      "Point one:  (478, 311) Point two:  (0, 635)\n",
      "New points (454, 327)\n",
      "--------------------------------------------------------------------------------------------------------\n"
     ]
    },
    {
     "name": "stderr",
     "output_type": "stream",
     "text": [
      "\n",
      " 53%|███████████████████████████████████████████████████████████████████████████████████████████▊                                                                                  | 360/682 [00:31<00:43,  7.33it/s]"
     ]
    },
    {
     "name": "stdout",
     "output_type": "stream",
     "text": [
      "Point one:  (474, 310) Point two:  (959, 601)\n",
      "New points (498, 324)\n",
      "--------------------------------------------------------------------------------------------------------\n",
      "Point one:  (474, 310) Point two:  (0, 658)\n",
      "New points (450, 327)\n",
      "--------------------------------------------------------------------------------------------------------\n"
     ]
    },
    {
     "name": "stderr",
     "output_type": "stream",
     "text": [
      "\n",
      " 53%|████████████████████████████████████████████████████████████████████████████████████████████                                                                                  | 361/682 [00:31<00:47,  6.76it/s]"
     ]
    },
    {
     "name": "stdout",
     "output_type": "stream",
     "text": [
      "Point one:  (476, 311) Point two:  (959, 606)\n",
      "New points (500, 325)\n",
      "--------------------------------------------------------------------------------------------------------\n",
      "Point one:  (476, 311) Point two:  (0, 638)\n",
      "New points (452, 327)\n",
      "--------------------------------------------------------------------------------------------------------\n",
      "Point one:  (473, 308) Point two:  (959, 604)\n",
      "New points (497, 322)\n",
      "--------------------------------------------------------------------------------------------------------\n",
      "Point one:  (473, 308) Point two:  (0, 659)\n",
      "New points (449, 325)\n",
      "--------------------------------------------------------------------------------------------------------\n"
     ]
    },
    {
     "name": "stderr",
     "output_type": "stream",
     "text": [
      "\n",
      " 53%|████████████████████████████████████████████████████████████████████████████████████████████▌                                                                                 | 363/682 [00:31<00:41,  7.72it/s]"
     ]
    },
    {
     "name": "stdout",
     "output_type": "stream",
     "text": [
      "Point one:  (478, 312) Point two:  (959, 604)\n",
      "New points (502, 326)\n",
      "--------------------------------------------------------------------------------------------------------\n",
      "Point one:  (478, 312) Point two:  (0, 641)\n",
      "New points (454, 328)\n",
      "--------------------------------------------------------------------------------------------------------\n",
      "Point one:  (475, 307) Point two:  (959, 611)\n",
      "New points (499, 322)\n",
      "--------------------------------------------------------------------------------------------------------\n",
      "Point one:  (475, 307) Point two:  (0, 663)\n",
      "New points (451, 324)\n",
      "--------------------------------------------------------------------------------------------------------\n"
     ]
    },
    {
     "name": "stderr",
     "output_type": "stream",
     "text": [
      "\n",
      " 54%|█████████████████████████████████████████████████████████████████████████████████████████████                                                                                 | 365/682 [00:32<00:42,  7.47it/s]"
     ]
    },
    {
     "name": "stdout",
     "output_type": "stream",
     "text": [
      "Point one:  (479, 309) Point two:  (959, 606)\n",
      "New points (503, 323)\n",
      "--------------------------------------------------------------------------------------------------------\n",
      "Point one:  (479, 309) Point two:  (0, 657)\n",
      "New points (455, 326)\n",
      "--------------------------------------------------------------------------------------------------------\n",
      "Point one:  (473, 312) Point two:  (959, 601)\n",
      "New points (497, 326)\n",
      "--------------------------------------------------------------------------------------------------------\n",
      "Point one:  (473, 312) Point two:  (0, 651)\n",
      "New points (449, 328)\n",
      "--------------------------------------------------------------------------------------------------------\n"
     ]
    },
    {
     "name": "stderr",
     "output_type": "stream",
     "text": [
      "\n",
      " 54%|█████████████████████████████████████████████████████████████████████████████████████████████▋                                                                                | 367/682 [00:32<00:35,  8.85it/s]"
     ]
    },
    {
     "name": "stdout",
     "output_type": "stream",
     "text": [
      "Point one:  (470, 310) Point two:  (959, 596)\n",
      "New points (494, 324)\n",
      "--------------------------------------------------------------------------------------------------------\n",
      "Point one:  (470, 310) Point two:  (0, 661)\n",
      "New points (446, 327)\n",
      "--------------------------------------------------------------------------------------------------------\n",
      "Point one:  (474, 311) Point two:  (959, 598)\n",
      "New points (498, 325)\n",
      "--------------------------------------------------------------------------------------------------------\n",
      "Point one:  (474, 311) Point two:  (0, 647)\n",
      "New points (450, 327)\n",
      "--------------------------------------------------------------------------------------------------------\n",
      "Point one:  (472, 310) Point two:  (959, 596)\n",
      "New points (496, 324)\n",
      "--------------------------------------------------------------------------------------------------------\n",
      "Point one:  (472, 310) Point two:  (0, 650)\n",
      "New points (448, 327)\n",
      "--------------------------------------------------------------------------------------------------------\n"
     ]
    },
    {
     "name": "stderr",
     "output_type": "stream",
     "text": [
      "\n",
      " 54%|██████████████████████████████████████████████████████████████████████████████████████████████▍                                                                               | 370/682 [00:32<00:28, 10.95it/s]"
     ]
    },
    {
     "name": "stdout",
     "output_type": "stream",
     "text": [
      "Point one:  (436, 336) Point two:  (959, 570)\n",
      "New points (462, 347)\n",
      "--------------------------------------------------------------------------------------------------------\n",
      "Point one:  (436, 336) Point two:  (0, 646)\n",
      "New points (414, 351)\n",
      "--------------------------------------------------------------------------------------------------------\n",
      "Point one:  (506, 329) Point two:  (959, 603)\n",
      "New points (528, 342)\n",
      "--------------------------------------------------------------------------------------------------------\n",
      "Point one:  (506, 329) Point two:  (0, 653)\n",
      "New points (480, 345)\n",
      "--------------------------------------------------------------------------------------------------------\n"
     ]
    },
    {
     "name": "stderr",
     "output_type": "stream",
     "text": [
      "\n",
      " 55%|██████████████████████████████████████████████████████████████████████████████████████████████▉                                                                               | 372/682 [00:33<00:59,  5.21it/s]"
     ]
    },
    {
     "name": "stdout",
     "output_type": "stream",
     "text": [
      "Point one:  (473, 311) Point two:  (959, 597)\n",
      "New points (497, 325)\n",
      "--------------------------------------------------------------------------------------------------------\n",
      "Point one:  (473, 311) Point two:  (0, 645)\n",
      "New points (449, 327)\n",
      "--------------------------------------------------------------------------------------------------------\n",
      "Point one:  (472, 310) Point two:  (959, 603)\n",
      "New points (496, 324)\n",
      "--------------------------------------------------------------------------------------------------------\n",
      "Point one:  (472, 310) Point two:  (0, 650)\n",
      "New points (448, 327)\n",
      "--------------------------------------------------------------------------------------------------------\n",
      "Point one:  (474, 310) Point two:  (959, 609)\n",
      "New points (498, 324)\n",
      "--------------------------------------------------------------------------------------------------------\n",
      "Point one:  (474, 310) Point two:  (0, 653)\n",
      "New points (450, 327)\n",
      "--------------------------------------------------------------------------------------------------------\n"
     ]
    },
    {
     "name": "stderr",
     "output_type": "stream",
     "text": [
      "\n",
      " 55%|███████████████████████████████████████████████████████████████████████████████████████████████▋                                                                              | 375/682 [00:33<00:45,  6.78it/s]"
     ]
    },
    {
     "name": "stdout",
     "output_type": "stream",
     "text": [
      "Point one:  (473, 310) Point two:  (959, 608)\n",
      "New points (497, 324)\n",
      "--------------------------------------------------------------------------------------------------------\n",
      "Point one:  (473, 310) Point two:  (0, 649)\n",
      "New points (449, 326)\n",
      "--------------------------------------------------------------------------------------------------------\n",
      "Point one:  (470, 308) Point two:  (959, 611)\n",
      "New points (494, 323)\n",
      "--------------------------------------------------------------------------------------------------------\n",
      "Point one:  (470, 308) Point two:  (0, 647)\n",
      "New points (446, 324)\n",
      "--------------------------------------------------------------------------------------------------------\n"
     ]
    },
    {
     "name": "stderr",
     "output_type": "stream",
     "text": [
      "\n",
      " 55%|████████████████████████████████████████████████████████████████████████████████████████████████▏                                                                             | 377/682 [00:34<01:08,  4.44it/s]"
     ]
    },
    {
     "name": "stdout",
     "output_type": "stream",
     "text": [
      "Point one:  (469, 307) Point two:  (959, 608)\n",
      "New points (493, 322)\n",
      "--------------------------------------------------------------------------------------------------------\n",
      "Point one:  (469, 307) Point two:  (0, 644)\n",
      "New points (445, 323)\n",
      "--------------------------------------------------------------------------------------------------------\n",
      "Point one:  (470, 309) Point two:  (959, 603)\n",
      "New points (494, 323)\n",
      "--------------------------------------------------------------------------------------------------------\n",
      "Point one:  (470, 309) Point two:  (0, 644)\n",
      "New points (446, 325)\n",
      "--------------------------------------------------------------------------------------------------------\n",
      "Point one:  (471, 309) Point two:  (959, 602)\n",
      "New points (495, 323)\n",
      "--------------------------------------------------------------------------------------------------------\n",
      "Point one:  (471, 309) Point two:  (0, 636)\n",
      "New points (447, 325)\n",
      "--------------------------------------------------------------------------------------------------------\n"
     ]
    },
    {
     "name": "stderr",
     "output_type": "stream",
     "text": [
      "\n",
      " 56%|████████████████████████████████████████████████████████████████████████████████████████████████▉                                                                             | 380/682 [00:34<00:52,  5.73it/s]"
     ]
    },
    {
     "name": "stdout",
     "output_type": "stream",
     "text": [
      "Point one:  (471, 310) Point two:  (959, 608)\n",
      "New points (495, 324)\n",
      "--------------------------------------------------------------------------------------------------------\n",
      "Point one:  (471, 310) Point two:  (0, 642)\n",
      "New points (447, 326)\n",
      "--------------------------------------------------------------------------------------------------------\n",
      "Point one:  (470, 310) Point two:  (959, 600)\n",
      "New points (494, 324)\n",
      "--------------------------------------------------------------------------------------------------------\n",
      "Point one:  (470, 310) Point two:  (0, 647)\n",
      "New points (446, 326)\n",
      "--------------------------------------------------------------------------------------------------------\n",
      "Point one:  (470, 310) Point two:  (959, 604)\n",
      "New points (494, 324)\n",
      "--------------------------------------------------------------------------------------------------------\n",
      "Point one:  (470, 310) Point two:  (0, 653)\n",
      "New points (446, 327)\n",
      "--------------------------------------------------------------------------------------------------------\n"
     ]
    },
    {
     "name": "stderr",
     "output_type": "stream",
     "text": [
      "\n",
      " 56%|█████████████████████████████████████████████████████████████████████████████████████████████████▋                                                                            | 383/682 [00:34<00:46,  6.39it/s]"
     ]
    },
    {
     "name": "stdout",
     "output_type": "stream",
     "text": [
      "Point one:  (472, 310) Point two:  (959, 605)\n",
      "New points (496, 324)\n",
      "--------------------------------------------------------------------------------------------------------\n",
      "Point one:  (472, 310) Point two:  (0, 643)\n",
      "New points (448, 326)\n",
      "--------------------------------------------------------------------------------------------------------\n",
      "Point one:  (474, 308) Point two:  (959, 612)\n",
      "New points (498, 323)\n",
      "--------------------------------------------------------------------------------------------------------\n",
      "Point one:  (474, 308) Point two:  (0, 641)\n",
      "New points (450, 324)\n",
      "--------------------------------------------------------------------------------------------------------\n"
     ]
    },
    {
     "name": "stderr",
     "output_type": "stream",
     "text": [
      "\n",
      " 56%|██████████████████████████████████████████████████████████████████████████████████████████████████▏                                                                           | 385/682 [00:34<00:38,  7.75it/s]"
     ]
    },
    {
     "name": "stdout",
     "output_type": "stream",
     "text": [
      "Point one:  (473, 310) Point two:  (959, 608)\n",
      "New points (497, 324)\n",
      "--------------------------------------------------------------------------------------------------------\n",
      "Point one:  (473, 310) Point two:  (0, 645)\n",
      "New points (449, 326)\n",
      "--------------------------------------------------------------------------------------------------------\n",
      "Point one:  (472, 308) Point two:  (959, 603)\n",
      "New points (496, 322)\n",
      "--------------------------------------------------------------------------------------------------------\n",
      "Point one:  (472, 308) Point two:  (0, 650)\n",
      "New points (448, 325)\n",
      "--------------------------------------------------------------------------------------------------------\n"
     ]
    },
    {
     "name": "stderr",
     "output_type": "stream",
     "text": [
      "\n",
      " 57%|██████████████████████████████████████████████████████████████████████████████████████████████████▋                                                                           | 387/682 [00:34<00:37,  7.97it/s]"
     ]
    },
    {
     "name": "stdout",
     "output_type": "stream",
     "text": [
      "Point one:  (473, 308) Point two:  (959, 612)\n",
      "New points (497, 323)\n",
      "--------------------------------------------------------------------------------------------------------\n",
      "Point one:  (473, 308) Point two:  (0, 647)\n",
      "New points (449, 324)\n",
      "--------------------------------------------------------------------------------------------------------\n",
      "Point one:  (472, 309) Point two:  (959, 608)\n",
      "New points (496, 323)\n",
      "--------------------------------------------------------------------------------------------------------\n",
      "Point one:  (472, 309) Point two:  (0, 648)\n",
      "New points (448, 325)\n",
      "--------------------------------------------------------------------------------------------------------\n"
     ]
    },
    {
     "name": "stderr",
     "output_type": "stream",
     "text": [
      "\n",
      " 57%|███████████████████████████████████████████████████████████████████████████████████████████████████▏                                                                          | 389/682 [00:35<00:35,  8.27it/s]"
     ]
    },
    {
     "name": "stdout",
     "output_type": "stream",
     "text": [
      "Point one:  (474, 308) Point two:  (959, 611)\n",
      "New points (498, 323)\n",
      "--------------------------------------------------------------------------------------------------------\n",
      "Point one:  (474, 308) Point two:  (0, 643)\n",
      "New points (450, 324)\n",
      "--------------------------------------------------------------------------------------------------------\n",
      "Point one:  (473, 311) Point two:  (959, 603)\n",
      "New points (497, 325)\n",
      "--------------------------------------------------------------------------------------------------------\n",
      "Point one:  (473, 311) Point two:  (0, 640)\n",
      "New points (449, 327)\n",
      "--------------------------------------------------------------------------------------------------------\n",
      "Point one:  (474, 308) Point two:  (959, 614)\n",
      "New points (498, 323)\n",
      "--------------------------------------------------------------------------------------------------------\n",
      "Point one:  (474, 308) Point two:  (0, 642)\n",
      "New points (450, 324)\n",
      "--------------------------------------------------------------------------------------------------------\n"
     ]
    },
    {
     "name": "stderr",
     "output_type": "stream",
     "text": [
      "\n",
      " 57%|████████████████████████████████████████████████████████████████████████████████████████████████████                                                                          | 392/682 [00:35<00:30,  9.44it/s]"
     ]
    },
    {
     "name": "stdout",
     "output_type": "stream",
     "text": [
      "Point one:  (475, 312) Point two:  (959, 609)\n",
      "New points (499, 326)\n",
      "--------------------------------------------------------------------------------------------------------\n",
      "Point one:  (475, 312) Point two:  (0, 637)\n",
      "New points (451, 328)\n",
      "--------------------------------------------------------------------------------------------------------\n",
      "Point one:  (477, 309) Point two:  (959, 614)\n",
      "New points (501, 324)\n",
      "--------------------------------------------------------------------------------------------------------\n",
      "Point one:  (477, 309) Point two:  (0, 637)\n",
      "New points (453, 325)\n",
      "--------------------------------------------------------------------------------------------------------\n"
     ]
    },
    {
     "name": "stderr",
     "output_type": "stream",
     "text": [
      "\n",
      " 58%|████████████████████████████████████████████████████████████████████████████████████████████████████▌                                                                         | 394/682 [00:35<00:30,  9.52it/s]"
     ]
    },
    {
     "name": "stdout",
     "output_type": "stream",
     "text": [
      "Point one:  (478, 310) Point two:  (959, 623)\n",
      "New points (502, 325)\n",
      "--------------------------------------------------------------------------------------------------------\n",
      "Point one:  (478, 310) Point two:  (0, 637)\n",
      "New points (454, 326)\n",
      "--------------------------------------------------------------------------------------------------------\n",
      "Point one:  (475, 308) Point two:  (959, 613)\n",
      "New points (499, 323)\n",
      "--------------------------------------------------------------------------------------------------------\n",
      "Point one:  (475, 308) Point two:  (0, 637)\n",
      "New points (451, 324)\n",
      "--------------------------------------------------------------------------------------------------------\n"
     ]
    },
    {
     "name": "stderr",
     "output_type": "stream",
     "text": [
      "\n",
      " 58%|█████████████████████████████████████████████████████████████████████████████████████████████████████                                                                         | 396/682 [00:35<00:26, 10.64it/s]"
     ]
    },
    {
     "name": "stdout",
     "output_type": "stream",
     "text": [
      "Point one:  (473, 311) Point two:  (959, 610)\n",
      "New points (497, 325)\n",
      "--------------------------------------------------------------------------------------------------------\n",
      "Point one:  (473, 311) Point two:  (0, 636)\n",
      "New points (449, 327)\n",
      "--------------------------------------------------------------------------------------------------------\n",
      "Point one:  (472, 309) Point two:  (959, 606)\n",
      "New points (496, 323)\n",
      "--------------------------------------------------------------------------------------------------------\n",
      "Point one:  (472, 309) Point two:  (0, 631)\n",
      "New points (448, 325)\n",
      "--------------------------------------------------------------------------------------------------------\n"
     ]
    },
    {
     "name": "stderr",
     "output_type": "stream",
     "text": [
      "\n",
      " 58%|█████████████████████████████████████████████████████████████████████████████████████████████████████▌                                                                        | 398/682 [00:35<00:27, 10.49it/s]"
     ]
    },
    {
     "name": "stdout",
     "output_type": "stream",
     "text": [
      "Point one:  (474, 310) Point two:  (959, 618)\n",
      "New points (498, 325)\n",
      "--------------------------------------------------------------------------------------------------------\n",
      "Point one:  (474, 310) Point two:  (0, 631)\n",
      "New points (450, 326)\n",
      "--------------------------------------------------------------------------------------------------------\n",
      "Point one:  (475, 307) Point two:  (959, 624)\n",
      "New points (499, 322)\n",
      "--------------------------------------------------------------------------------------------------------\n",
      "Point one:  (475, 307) Point two:  (0, 636)\n",
      "New points (451, 323)\n",
      "--------------------------------------------------------------------------------------------------------\n"
     ]
    },
    {
     "name": "stderr",
     "output_type": "stream",
     "text": [
      "\n",
      " 59%|██████████████████████████████████████████████████████████████████████████████████████████████████████                                                                        | 400/682 [00:36<00:26, 10.68it/s]"
     ]
    },
    {
     "name": "stdout",
     "output_type": "stream",
     "text": [
      "Point one:  (472, 311) Point two:  (959, 608)\n",
      "New points (496, 325)\n",
      "--------------------------------------------------------------------------------------------------------\n",
      "Point one:  (472, 311) Point two:  (0, 638)\n",
      "New points (448, 327)\n",
      "--------------------------------------------------------------------------------------------------------\n",
      "Point one:  (474, 310) Point two:  (959, 622)\n",
      "New points (498, 325)\n",
      "--------------------------------------------------------------------------------------------------------\n",
      "Point one:  (474, 310) Point two:  (0, 642)\n",
      "New points (450, 326)\n",
      "--------------------------------------------------------------------------------------------------------\n"
     ]
    },
    {
     "name": "stderr",
     "output_type": "stream",
     "text": [
      "\n",
      " 59%|██████████████████████████████████████████████████████████████████████████████████████████████████████▌                                                                       | 402/682 [00:36<00:22, 12.40it/s]"
     ]
    },
    {
     "name": "stdout",
     "output_type": "stream",
     "text": [
      "Point one:  (476, 309) Point two:  (959, 620)\n",
      "New points (500, 324)\n",
      "--------------------------------------------------------------------------------------------------------\n",
      "Point one:  (476, 309) Point two:  (0, 641)\n",
      "New points (452, 325)\n",
      "--------------------------------------------------------------------------------------------------------\n",
      "Point one:  (478, 310) Point two:  (959, 619)\n",
      "New points (502, 325)\n",
      "--------------------------------------------------------------------------------------------------------\n",
      "Point one:  (478, 310) Point two:  (0, 633)\n",
      "New points (454, 326)\n",
      "--------------------------------------------------------------------------------------------------------\n"
     ]
    },
    {
     "name": "stderr",
     "output_type": "stream",
     "text": [
      "\n",
      " 59%|███████████████████████████████████████████████████████████████████████████████████████████████████████                                                                       | 404/682 [00:36<00:21, 12.96it/s]"
     ]
    },
    {
     "name": "stdout",
     "output_type": "stream",
     "text": [
      "Point one:  (479, 312) Point two:  (959, 619)\n",
      "New points (503, 327)\n",
      "--------------------------------------------------------------------------------------------------------\n",
      "Point one:  (479, 312) Point two:  (0, 632)\n",
      "New points (455, 328)\n",
      "--------------------------------------------------------------------------------------------------------\n",
      "Point one:  (476, 310) Point two:  (959, 614)\n",
      "New points (500, 325)\n",
      "--------------------------------------------------------------------------------------------------------\n",
      "Point one:  (476, 310) Point two:  (0, 636)\n",
      "New points (452, 326)\n",
      "--------------------------------------------------------------------------------------------------------\n"
     ]
    },
    {
     "name": "stderr",
     "output_type": "stream",
     "text": [
      "\n",
      " 60%|███████████████████████████████████████████████████████████████████████████████████████████████████████▌                                                                      | 406/682 [00:36<00:26, 10.24it/s]"
     ]
    },
    {
     "name": "stdout",
     "output_type": "stream",
     "text": [
      "Point one:  (477, 311) Point two:  (959, 618)\n",
      "New points (501, 326)\n",
      "--------------------------------------------------------------------------------------------------------\n",
      "Point one:  (477, 311) Point two:  (0, 633)\n",
      "New points (453, 327)\n",
      "--------------------------------------------------------------------------------------------------------\n",
      "Point one:  (475, 310) Point two:  (959, 613)\n",
      "New points (499, 325)\n",
      "--------------------------------------------------------------------------------------------------------\n",
      "Point one:  (475, 310) Point two:  (0, 641)\n",
      "New points (451, 326)\n",
      "--------------------------------------------------------------------------------------------------------\n"
     ]
    },
    {
     "name": "stderr",
     "output_type": "stream",
     "text": [
      "\n",
      " 60%|████████████████████████████████████████████████████████████████████████████████████████████████████████                                                                      | 408/682 [00:36<00:24, 11.22it/s]"
     ]
    },
    {
     "name": "stdout",
     "output_type": "stream",
     "text": [
      "Point one:  (474, 312) Point two:  (959, 611)\n",
      "New points (498, 326)\n",
      "--------------------------------------------------------------------------------------------------------\n",
      "Point one:  (474, 312) Point two:  (0, 640)\n",
      "New points (450, 328)\n",
      "--------------------------------------------------------------------------------------------------------\n",
      "Point one:  (477, 308) Point two:  (959, 623)\n",
      "New points (501, 323)\n",
      "--------------------------------------------------------------------------------------------------------\n",
      "Point one:  (477, 308) Point two:  (0, 637)\n",
      "New points (453, 324)\n",
      "--------------------------------------------------------------------------------------------------------\n"
     ]
    },
    {
     "name": "stderr",
     "output_type": "stream",
     "text": [
      "\n",
      " 60%|████████████████████████████████████████████████████████████████████████████████████████████████████████▌                                                                     | 410/682 [00:37<00:32,  8.28it/s]"
     ]
    },
    {
     "name": "stdout",
     "output_type": "stream",
     "text": [
      "Point one:  (476, 309) Point two:  (959, 619)\n",
      "New points (500, 324)\n",
      "--------------------------------------------------------------------------------------------------------\n",
      "Point one:  (476, 309) Point two:  (0, 639)\n",
      "New points (452, 325)\n",
      "--------------------------------------------------------------------------------------------------------\n",
      "Point one:  (475, 310) Point two:  (959, 615)\n",
      "New points (499, 325)\n",
      "--------------------------------------------------------------------------------------------------------\n",
      "Point one:  (475, 310) Point two:  (0, 630)\n",
      "New points (451, 326)\n",
      "--------------------------------------------------------------------------------------------------------\n"
     ]
    },
    {
     "name": "stderr",
     "output_type": "stream",
     "text": [
      "\n",
      " 60%|█████████████████████████████████████████████████████████████████████████████████████████████████████████                                                                     | 412/682 [00:37<00:29,  9.08it/s]"
     ]
    },
    {
     "name": "stdout",
     "output_type": "stream",
     "text": [
      "Point one:  (480, 304) Point two:  (959, 624)\n",
      "New points (503, 320)\n",
      "--------------------------------------------------------------------------------------------------------\n",
      "Point one:  (480, 304) Point two:  (0, 636)\n",
      "New points (456, 320)\n",
      "--------------------------------------------------------------------------------------------------------\n",
      "Point one:  (478, 308) Point two:  (959, 608)\n",
      "New points (502, 323)\n",
      "--------------------------------------------------------------------------------------------------------\n",
      "Point one:  (478, 308) Point two:  (0, 631)\n",
      "New points (454, 324)\n",
      "--------------------------------------------------------------------------------------------------------\n",
      "Point one:  (474, 309) Point two:  (959, 612)\n",
      "New points (498, 324)\n",
      "--------------------------------------------------------------------------------------------------------\n",
      "Point one:  (474, 309) Point two:  (0, 635)\n",
      "New points (450, 325)\n",
      "--------------------------------------------------------------------------------------------------------\n"
     ]
    },
    {
     "name": "stderr",
     "output_type": "stream",
     "text": [
      "\n",
      " 61%|█████████████████████████████████████████████████████████████████████████████████████████████████████████▉                                                                    | 415/682 [00:37<00:25, 10.35it/s]"
     ]
    },
    {
     "name": "stdout",
     "output_type": "stream",
     "text": [
      "Point one:  (473, 311) Point two:  (959, 603)\n",
      "New points (497, 325)\n",
      "--------------------------------------------------------------------------------------------------------\n",
      "Point one:  (473, 311) Point two:  (0, 632)\n",
      "New points (449, 327)\n",
      "--------------------------------------------------------------------------------------------------------\n",
      "Point one:  (477, 308) Point two:  (959, 617)\n",
      "New points (501, 323)\n",
      "--------------------------------------------------------------------------------------------------------\n",
      "Point one:  (477, 308) Point two:  (0, 635)\n",
      "New points (453, 324)\n",
      "--------------------------------------------------------------------------------------------------------\n"
     ]
    },
    {
     "name": "stderr",
     "output_type": "stream",
     "text": [
      "\n",
      " 61%|██████████████████████████████████████████████████████████████████████████████████████████████████████████▍                                                                   | 417/682 [00:37<00:34,  7.76it/s]"
     ]
    },
    {
     "name": "stdout",
     "output_type": "stream",
     "text": [
      "Point one:  (479, 310) Point two:  (959, 610)\n",
      "New points (503, 325)\n",
      "--------------------------------------------------------------------------------------------------------\n",
      "Point one:  (479, 310) Point two:  (0, 632)\n",
      "New points (455, 326)\n",
      "--------------------------------------------------------------------------------------------------------\n",
      "Point one:  (480, 309) Point two:  (959, 620)\n",
      "New points (503, 324)\n",
      "--------------------------------------------------------------------------------------------------------\n",
      "Point one:  (480, 309) Point two:  (0, 638)\n",
      "New points (456, 325)\n",
      "--------------------------------------------------------------------------------------------------------\n"
     ]
    },
    {
     "name": "stderr",
     "output_type": "stream",
     "text": [
      "\n",
      " 61%|██████████████████████████████████████████████████████████████████████████████████████████████████████████▉                                                                   | 419/682 [00:38<00:30,  8.66it/s]"
     ]
    },
    {
     "name": "stdout",
     "output_type": "stream",
     "text": [
      "Point one:  (478, 309) Point two:  (959, 617)\n",
      "New points (502, 324)\n",
      "--------------------------------------------------------------------------------------------------------\n",
      "Point one:  (478, 309) Point two:  (0, 637)\n",
      "New points (454, 325)\n",
      "--------------------------------------------------------------------------------------------------------\n",
      "Point one:  (478, 309) Point two:  (959, 617)\n",
      "New points (502, 324)\n",
      "--------------------------------------------------------------------------------------------------------\n",
      "Point one:  (478, 309) Point two:  (0, 639)\n",
      "New points (454, 325)\n",
      "--------------------------------------------------------------------------------------------------------\n",
      "Point one:  (477, 309) Point two:  (959, 614)\n",
      "New points (501, 324)\n",
      "--------------------------------------------------------------------------------------------------------\n",
      "Point one:  (477, 309) Point two:  (0, 637)\n",
      "New points (453, 325)\n",
      "--------------------------------------------------------------------------------------------------------\n",
      "Point one:  (478, 308) Point two:  (959, 615)\n",
      "New points (502, 323)\n",
      "--------------------------------------------------------------------------------------------------------\n",
      "Point one:  (478, 308) Point two:  (0, 633)\n",
      "New points (454, 324)\n",
      "--------------------------------------------------------------------------------------------------------\n"
     ]
    },
    {
     "name": "stderr",
     "output_type": "stream",
     "text": [
      "\n",
      " 62%|███████████████████████████████████████████████████████████████████████████████████████████████████████████▉                                                                  | 423/682 [00:38<00:24, 10.38it/s]"
     ]
    },
    {
     "name": "stdout",
     "output_type": "stream",
     "text": [
      "Point one:  (478, 307) Point two:  (959, 619)\n",
      "New points (502, 322)\n",
      "--------------------------------------------------------------------------------------------------------\n",
      "Point one:  (478, 307) Point two:  (0, 637)\n",
      "New points (454, 323)\n",
      "--------------------------------------------------------------------------------------------------------\n",
      "Point one:  (478, 310) Point two:  (959, 613)\n",
      "New points (502, 325)\n",
      "--------------------------------------------------------------------------------------------------------\n",
      "Point one:  (478, 310) Point two:  (0, 636)\n",
      "New points (454, 326)\n",
      "--------------------------------------------------------------------------------------------------------\n"
     ]
    },
    {
     "name": "stderr",
     "output_type": "stream",
     "text": [
      "\n",
      " 62%|████████████████████████████████████████████████████████████████████████████████████████████████████████████▍                                                                 | 425/682 [00:38<00:22, 11.59it/s]"
     ]
    },
    {
     "name": "stdout",
     "output_type": "stream",
     "text": [
      "Point one:  (479, 309) Point two:  (959, 614)\n",
      "New points (503, 324)\n",
      "--------------------------------------------------------------------------------------------------------\n",
      "Point one:  (479, 309) Point two:  (0, 639)\n",
      "New points (455, 325)\n",
      "--------------------------------------------------------------------------------------------------------\n",
      "Point one:  (477, 311) Point two:  (959, 607)\n",
      "New points (501, 325)\n",
      "--------------------------------------------------------------------------------------------------------\n",
      "Point one:  (477, 311) Point two:  (0, 635)\n",
      "New points (453, 327)\n",
      "--------------------------------------------------------------------------------------------------------\n"
     ]
    },
    {
     "name": "stderr",
     "output_type": "stream",
     "text": [
      "\n",
      " 63%|████████████████████████████████████████████████████████████████████████████████████████████████████████████▉                                                                 | 427/682 [00:38<00:36,  7.04it/s]"
     ]
    },
    {
     "name": "stdout",
     "output_type": "stream",
     "text": [
      "Point one:  (475, 311) Point two:  (959, 618)\n",
      "New points (499, 326)\n",
      "--------------------------------------------------------------------------------------------------------\n",
      "Point one:  (475, 311) Point two:  (0, 638)\n",
      "New points (451, 327)\n",
      "--------------------------------------------------------------------------------------------------------\n",
      "Point one:  (483, 307) Point two:  (959, 625)\n",
      "New points (506, 322)\n",
      "--------------------------------------------------------------------------------------------------------\n",
      "Point one:  (483, 307) Point two:  (0, 640)\n",
      "New points (458, 323)\n",
      "--------------------------------------------------------------------------------------------------------\n",
      "Point one:  (482, 305) Point two:  (959, 630)\n",
      "New points (505, 321)\n",
      "--------------------------------------------------------------------------------------------------------\n",
      "Point one:  (482, 305) Point two:  (0, 640)\n",
      "New points (457, 321)\n",
      "--------------------------------------------------------------------------------------------------------\n",
      "Point one:  (484, 309) Point two:  (959, 624)\n",
      "New points (507, 324)\n",
      "--------------------------------------------------------------------------------------------------------\n",
      "Point one:  (484, 309) Point two:  (0, 639)\n",
      "New points (459, 325)\n",
      "--------------------------------------------------------------------------------------------------------\n"
     ]
    },
    {
     "name": "stderr",
     "output_type": "stream",
     "text": [
      "\n",
      " 63%|█████████████████████████████████████████████████████████████████████████████████████████████████████████████▉                                                                | 431/682 [00:39<00:27,  9.20it/s]"
     ]
    },
    {
     "name": "stdout",
     "output_type": "stream",
     "text": [
      "Point one:  (479, 307) Point two:  (959, 623)\n",
      "New points (503, 322)\n",
      "--------------------------------------------------------------------------------------------------------\n",
      "Point one:  (479, 307) Point two:  (0, 638)\n",
      "New points (455, 323)\n",
      "--------------------------------------------------------------------------------------------------------\n",
      "Point one:  (480, 305) Point two:  (959, 623)\n",
      "New points (503, 320)\n",
      "--------------------------------------------------------------------------------------------------------\n",
      "Point one:  (480, 305) Point two:  (0, 636)\n",
      "New points (456, 321)\n",
      "--------------------------------------------------------------------------------------------------------\n"
     ]
    },
    {
     "name": "stderr",
     "output_type": "stream",
     "text": [
      "\n",
      " 63%|██████████████████████████████████████████████████████████████████████████████████████████████████████████████▍                                                               | 433/682 [00:39<00:29,  8.45it/s]"
     ]
    },
    {
     "name": "stdout",
     "output_type": "stream",
     "text": [
      "Point one:  (478, 308) Point two:  (959, 613)\n",
      "New points (502, 323)\n",
      "--------------------------------------------------------------------------------------------------------\n",
      "Point one:  (478, 308) Point two:  (0, 639)\n",
      "New points (454, 324)\n",
      "--------------------------------------------------------------------------------------------------------\n",
      "Point one:  (478, 307) Point two:  (959, 615)\n",
      "New points (502, 322)\n",
      "--------------------------------------------------------------------------------------------------------\n",
      "Point one:  (478, 307) Point two:  (0, 635)\n",
      "New points (454, 323)\n",
      "--------------------------------------------------------------------------------------------------------\n"
     ]
    },
    {
     "name": "stderr",
     "output_type": "stream",
     "text": [
      "\n",
      " 64%|██████████████████████████████████████████████████████████████████████████████████████████████████████████████▉                                                               | 435/682 [00:39<00:28,  8.81it/s]"
     ]
    },
    {
     "name": "stdout",
     "output_type": "stream",
     "text": [
      "Point one:  (477, 307) Point two:  (959, 616)\n",
      "New points (501, 322)\n",
      "--------------------------------------------------------------------------------------------------------\n",
      "Point one:  (477, 307) Point two:  (0, 636)\n",
      "New points (453, 323)\n",
      "--------------------------------------------------------------------------------------------------------\n",
      "Point one:  (481, 306) Point two:  (959, 620)\n",
      "New points (504, 321)\n",
      "--------------------------------------------------------------------------------------------------------\n",
      "Point one:  (481, 306) Point two:  (0, 636)\n",
      "New points (456, 322)\n",
      "--------------------------------------------------------------------------------------------------------\n"
     ]
    },
    {
     "name": "stderr",
     "output_type": "stream",
     "text": [
      "\n",
      " 64%|███████████████████████████████████████████████████████████████████████████████████████████████████████████████▍                                                              | 437/682 [00:39<00:25,  9.69it/s]"
     ]
    },
    {
     "name": "stdout",
     "output_type": "stream",
     "text": [
      "Point one:  (478, 305) Point two:  (959, 615)\n",
      "New points (502, 320)\n",
      "--------------------------------------------------------------------------------------------------------\n",
      "Point one:  (478, 305) Point two:  (0, 635)\n",
      "New points (454, 321)\n",
      "--------------------------------------------------------------------------------------------------------\n",
      "Point one:  (477, 307) Point two:  (959, 612)\n",
      "New points (501, 322)\n",
      "--------------------------------------------------------------------------------------------------------\n",
      "Point one:  (477, 307) Point two:  (0, 633)\n",
      "New points (453, 323)\n",
      "--------------------------------------------------------------------------------------------------------\n"
     ]
    },
    {
     "name": "stderr",
     "output_type": "stream",
     "text": [
      "\n",
      " 64%|████████████████████████████████████████████████████████████████████████████████████████████████████████████████                                                              | 439/682 [00:40<00:27,  8.84it/s]"
     ]
    },
    {
     "name": "stdout",
     "output_type": "stream",
     "text": [
      "Point one:  (482, 305) Point two:  (959, 615)\n",
      "New points (505, 320)\n",
      "--------------------------------------------------------------------------------------------------------\n",
      "Point one:  (482, 305) Point two:  (0, 631)\n",
      "New points (457, 321)\n",
      "--------------------------------------------------------------------------------------------------------\n",
      "Point one:  (477, 305) Point two:  (959, 613)\n",
      "New points (501, 320)\n",
      "--------------------------------------------------------------------------------------------------------\n",
      "Point one:  (477, 305) Point two:  (0, 632)\n",
      "New points (453, 321)\n",
      "--------------------------------------------------------------------------------------------------------\n"
     ]
    },
    {
     "name": "stderr",
     "output_type": "stream",
     "text": [
      "\n",
      " 65%|████████████████████████████████████████████████████████████████████████████████████████████████████████████████▌                                                             | 441/682 [00:40<00:23, 10.25it/s]"
     ]
    },
    {
     "name": "stdout",
     "output_type": "stream",
     "text": [
      "Point one:  (476, 306) Point two:  (959, 609)\n",
      "New points (500, 321)\n",
      "--------------------------------------------------------------------------------------------------------\n",
      "Point one:  (476, 306) Point two:  (0, 634)\n",
      "New points (452, 322)\n",
      "--------------------------------------------------------------------------------------------------------\n",
      "Point one:  (476, 307) Point two:  (959, 609)\n",
      "New points (500, 322)\n",
      "--------------------------------------------------------------------------------------------------------\n",
      "Point one:  (476, 307) Point two:  (0, 632)\n",
      "New points (452, 323)\n",
      "--------------------------------------------------------------------------------------------------------\n"
     ]
    },
    {
     "name": "stderr",
     "output_type": "stream",
     "text": [
      "\n",
      " 65%|█████████████████████████████████████████████████████████████████████████████████████████████████████████████████                                                             | 443/682 [00:40<00:21, 11.23it/s]"
     ]
    },
    {
     "name": "stdout",
     "output_type": "stream",
     "text": [
      "Point one:  (477, 306) Point two:  (959, 612)\n",
      "New points (501, 321)\n",
      "--------------------------------------------------------------------------------------------------------\n",
      "Point one:  (477, 306) Point two:  (0, 638)\n",
      "New points (453, 322)\n",
      "--------------------------------------------------------------------------------------------------------\n",
      "Point one:  (481, 309) Point two:  (959, 619)\n",
      "New points (504, 324)\n",
      "--------------------------------------------------------------------------------------------------------\n",
      "Point one:  (481, 309) Point two:  (0, 635)\n",
      "New points (456, 325)\n",
      "--------------------------------------------------------------------------------------------------------\n"
     ]
    },
    {
     "name": "stderr",
     "output_type": "stream",
     "text": [
      "\n",
      " 65%|█████████████████████████████████████████████████████████████████████████████████████████████████████████████████▌                                                            | 445/682 [00:40<00:19, 11.90it/s]"
     ]
    },
    {
     "name": "stdout",
     "output_type": "stream",
     "text": [
      "Point one:  (475, 310) Point two:  (959, 603)\n",
      "New points (499, 324)\n",
      "--------------------------------------------------------------------------------------------------------\n",
      "Point one:  (475, 310) Point two:  (0, 631)\n",
      "New points (451, 326)\n",
      "--------------------------------------------------------------------------------------------------------\n",
      "Point one:  (476, 308) Point two:  (959, 612)\n",
      "New points (500, 323)\n",
      "--------------------------------------------------------------------------------------------------------\n",
      "Point one:  (476, 308) Point two:  (0, 633)\n",
      "New points (452, 324)\n",
      "--------------------------------------------------------------------------------------------------------\n"
     ]
    },
    {
     "name": "stderr",
     "output_type": "stream",
     "text": [
      "\n",
      " 66%|██████████████████████████████████████████████████████████████████████████████████████████████████████████████████                                                            | 447/682 [00:40<00:18, 12.43it/s]"
     ]
    },
    {
     "name": "stdout",
     "output_type": "stream",
     "text": [
      "Point one:  (475, 307) Point two:  (959, 612)\n",
      "New points (499, 322)\n",
      "--------------------------------------------------------------------------------------------------------\n",
      "Point one:  (475, 307) Point two:  (0, 632)\n",
      "New points (451, 323)\n",
      "--------------------------------------------------------------------------------------------------------\n",
      "Point one:  (476, 307) Point two:  (959, 608)\n",
      "New points (500, 322)\n",
      "--------------------------------------------------------------------------------------------------------\n",
      "Point one:  (476, 307) Point two:  (0, 629)\n",
      "New points (452, 323)\n",
      "--------------------------------------------------------------------------------------------------------\n"
     ]
    },
    {
     "name": "stderr",
     "output_type": "stream",
     "text": [
      "\n",
      " 66%|██████████████████████████████████████████████████████████████████████████████████████████████████████████████████▌                                                           | 449/682 [00:41<00:31,  7.33it/s]"
     ]
    },
    {
     "name": "stdout",
     "output_type": "stream",
     "text": [
      "Point one:  (477, 306) Point two:  (959, 613)\n",
      "New points (501, 321)\n",
      "--------------------------------------------------------------------------------------------------------\n",
      "Point one:  (477, 306) Point two:  (0, 634)\n",
      "New points (453, 322)\n",
      "--------------------------------------------------------------------------------------------------------\n",
      "Point one:  (474, 306) Point two:  (959, 614)\n",
      "New points (498, 321)\n",
      "--------------------------------------------------------------------------------------------------------\n",
      "Point one:  (474, 306) Point two:  (0, 628)\n",
      "New points (450, 322)\n",
      "--------------------------------------------------------------------------------------------------------\n",
      "Point one:  (478, 304) Point two:  (959, 617)\n",
      "New points (502, 319)\n",
      "--------------------------------------------------------------------------------------------------------\n",
      "Point one:  (478, 304) Point two:  (0, 631)\n",
      "New points (454, 320)\n",
      "--------------------------------------------------------------------------------------------------------\n"
     ]
    },
    {
     "name": "stderr",
     "output_type": "stream",
     "text": [
      "\n",
      " 66%|███████████████████████████████████████████████████████████████████████████████████████████████████████████████████▎                                                          | 452/682 [00:41<00:24,  9.34it/s]"
     ]
    },
    {
     "name": "stdout",
     "output_type": "stream",
     "text": [
      "Point one:  (475, 305) Point two:  (959, 612)\n",
      "New points (499, 320)\n",
      "--------------------------------------------------------------------------------------------------------\n",
      "Point one:  (475, 305) Point two:  (0, 632)\n",
      "New points (451, 321)\n",
      "--------------------------------------------------------------------------------------------------------\n",
      "Point one:  (479, 302) Point two:  (959, 621)\n",
      "New points (503, 317)\n",
      "--------------------------------------------------------------------------------------------------------\n",
      "Point one:  (479, 302) Point two:  (0, 630)\n",
      "New points (455, 318)\n",
      "--------------------------------------------------------------------------------------------------------\n"
     ]
    },
    {
     "name": "stderr",
     "output_type": "stream",
     "text": [
      "\n",
      " 67%|███████████████████████████████████████████████████████████████████████████████████████████████████████████████████▊                                                          | 454/682 [00:41<00:31,  7.27it/s]"
     ]
    },
    {
     "name": "stdout",
     "output_type": "stream",
     "text": [
      "Point one:  (478, 305) Point two:  (959, 612)\n",
      "New points (502, 320)\n",
      "--------------------------------------------------------------------------------------------------------\n",
      "Point one:  (478, 305) Point two:  (0, 624)\n",
      "New points (454, 320)\n",
      "--------------------------------------------------------------------------------------------------------\n",
      "Point one:  (481, 306) Point two:  (959, 615)\n",
      "New points (504, 321)\n",
      "--------------------------------------------------------------------------------------------------------\n",
      "Point one:  (481, 306) Point two:  (0, 625)\n",
      "New points (456, 321)\n",
      "--------------------------------------------------------------------------------------------------------\n",
      "Point one:  (482, 308) Point two:  (959, 612)\n",
      "New points (505, 323)\n",
      "--------------------------------------------------------------------------------------------------------\n",
      "Point one:  (482, 308) Point two:  (0, 621)\n",
      "New points (457, 323)\n",
      "--------------------------------------------------------------------------------------------------------\n"
     ]
    },
    {
     "name": "stderr",
     "output_type": "stream",
     "text": [
      "\n",
      " 67%|████████████████████████████████████████████████████████████████████████████████████████████████████████████████████▌                                                         | 457/682 [00:41<00:26,  8.56it/s]"
     ]
    },
    {
     "name": "stdout",
     "output_type": "stream",
     "text": [
      "Point one:  (481, 309) Point two:  (959, 613)\n",
      "New points (504, 324)\n",
      "--------------------------------------------------------------------------------------------------------\n",
      "Point one:  (481, 309) Point two:  (0, 626)\n",
      "New points (456, 324)\n",
      "--------------------------------------------------------------------------------------------------------\n",
      "Point one:  (480, 308) Point two:  (959, 611)\n",
      "New points (503, 323)\n",
      "--------------------------------------------------------------------------------------------------------\n",
      "Point one:  (480, 308) Point two:  (0, 632)\n",
      "New points (456, 324)\n",
      "--------------------------------------------------------------------------------------------------------\n",
      "Point one:  (481, 309) Point two:  (959, 612)\n",
      "New points (504, 324)\n",
      "--------------------------------------------------------------------------------------------------------\n",
      "Point one:  (481, 309) Point two:  (0, 621)\n",
      "New points (456, 324)\n",
      "--------------------------------------------------------------------------------------------------------\n"
     ]
    },
    {
     "name": "stderr",
     "output_type": "stream",
     "text": [
      "\n",
      " 67%|█████████████████████████████████████████████████████████████████████████████████████████████████████████████████████▎                                                        | 460/682 [00:46<01:54,  1.93it/s]"
     ]
    },
    {
     "name": "stdout",
     "output_type": "stream",
     "text": [
      "Point one:  (479, 307) Point two:  (959, 610)\n",
      "New points (503, 322)\n",
      "--------------------------------------------------------------------------------------------------------\n",
      "Point one:  (479, 307) Point two:  (0, 638)\n",
      "New points (455, 323)\n",
      "--------------------------------------------------------------------------------------------------------\n",
      "Point one:  (479, 306) Point two:  (959, 610)\n",
      "New points (503, 321)\n",
      "--------------------------------------------------------------------------------------------------------\n",
      "Point one:  (479, 306) Point two:  (0, 632)\n",
      "New points (455, 322)\n",
      "--------------------------------------------------------------------------------------------------------\n"
     ]
    },
    {
     "name": "stderr",
     "output_type": "stream",
     "text": [
      "\n",
      " 68%|█████████████████████████████████████████████████████████████████████████████████████████████████████████████████████▊                                                        | 462/682 [00:46<01:27,  2.52it/s]"
     ]
    },
    {
     "name": "stdout",
     "output_type": "stream",
     "text": [
      "Point one:  (479, 308) Point two:  (959, 610)\n",
      "New points (503, 323)\n",
      "--------------------------------------------------------------------------------------------------------\n",
      "Point one:  (479, 308) Point two:  (0, 624)\n",
      "New points (455, 323)\n",
      "--------------------------------------------------------------------------------------------------------\n",
      "Point one:  (481, 307) Point two:  (959, 614)\n",
      "New points (504, 322)\n",
      "--------------------------------------------------------------------------------------------------------\n",
      "Point one:  (481, 307) Point two:  (0, 633)\n",
      "New points (456, 323)\n",
      "--------------------------------------------------------------------------------------------------------\n"
     ]
    },
    {
     "name": "stderr",
     "output_type": "stream",
     "text": [
      "\n",
      " 68%|██████████████████████████████████████████████████████████████████████████████████████████████████████████████████████▍                                                       | 464/682 [00:46<01:06,  3.27it/s]"
     ]
    },
    {
     "name": "stdout",
     "output_type": "stream",
     "text": [
      "Point one:  (474, 310) Point two:  (959, 601)\n",
      "New points (498, 324)\n",
      "--------------------------------------------------------------------------------------------------------\n",
      "Point one:  (474, 310) Point two:  (0, 633)\n",
      "New points (450, 326)\n",
      "--------------------------------------------------------------------------------------------------------\n",
      "Point one:  (477, 306) Point two:  (959, 612)\n",
      "New points (501, 321)\n",
      "--------------------------------------------------------------------------------------------------------\n",
      "Point one:  (477, 306) Point two:  (0, 639)\n",
      "New points (453, 322)\n",
      "--------------------------------------------------------------------------------------------------------\n"
     ]
    },
    {
     "name": "stderr",
     "output_type": "stream",
     "text": [
      "\n",
      " 68%|██████████████████████████████████████████████████████████████████████████████████████████████████████████████████████▉                                                       | 466/682 [00:47<01:02,  3.46it/s]"
     ]
    },
    {
     "name": "stdout",
     "output_type": "stream",
     "text": [
      "Point one:  (478, 309) Point two:  (959, 602)\n",
      "New points (502, 323)\n",
      "--------------------------------------------------------------------------------------------------------\n",
      "Point one:  (478, 309) Point two:  (0, 631)\n",
      "New points (454, 325)\n",
      "--------------------------------------------------------------------------------------------------------\n"
     ]
    },
    {
     "name": "stderr",
     "output_type": "stream",
     "text": [
      "\n",
      " 68%|███████████████████████████████████████████████████████████████████████████████████████████████████████████████████████▏                                                      | 467/682 [00:47<00:52,  4.07it/s]"
     ]
    },
    {
     "name": "stdout",
     "output_type": "stream",
     "text": [
      "Point one:  (478, 309) Point two:  (959, 600)\n",
      "New points (502, 323)\n",
      "--------------------------------------------------------------------------------------------------------\n",
      "Point one:  (478, 309) Point two:  (0, 634)\n",
      "New points (454, 325)\n",
      "--------------------------------------------------------------------------------------------------------\n",
      "Point one:  (478, 309) Point two:  (959, 604)\n",
      "New points (502, 323)\n",
      "--------------------------------------------------------------------------------------------------------\n",
      "Point one:  (478, 309) Point two:  (0, 634)\n",
      "New points (454, 325)\n",
      "--------------------------------------------------------------------------------------------------------\n"
     ]
    },
    {
     "name": "stderr",
     "output_type": "stream",
     "text": [
      "\n",
      " 69%|███████████████████████████████████████████████████████████████████████████████████████████████████████████████████████▋                                                      | 469/682 [00:47<00:42,  5.03it/s]"
     ]
    },
    {
     "name": "stdout",
     "output_type": "stream",
     "text": [
      "Point one:  (481, 308) Point two:  (959, 619)\n",
      "New points (504, 323)\n",
      "--------------------------------------------------------------------------------------------------------\n",
      "Point one:  (481, 308) Point two:  (0, 631)\n",
      "New points (456, 324)\n",
      "--------------------------------------------------------------------------------------------------------\n",
      "Point one:  (481, 312) Point two:  (959, 605)\n",
      "New points (504, 326)\n",
      "--------------------------------------------------------------------------------------------------------\n",
      "Point one:  (481, 312) Point two:  (0, 634)\n",
      "New points (456, 328)\n",
      "--------------------------------------------------------------------------------------------------------\n",
      "Point one:  (479, 311) Point two:  (959, 614)\n",
      "New points (503, 326)\n",
      "--------------------------------------------------------------------------------------------------------\n",
      "Point one:  (479, 311) Point two:  (0, 637)\n",
      "New points (455, 327)\n",
      "--------------------------------------------------------------------------------------------------------\n"
     ]
    },
    {
     "name": "stderr",
     "output_type": "stream",
     "text": [
      "\n",
      " 69%|████████████████████████████████████████████████████████████████████████████████████████████████████████████████████████▍                                                     | 472/682 [00:47<00:37,  5.53it/s]"
     ]
    },
    {
     "name": "stdout",
     "output_type": "stream",
     "text": [
      "Point one:  (477, 310) Point two:  (959, 611)\n",
      "New points (501, 325)\n",
      "--------------------------------------------------------------------------------------------------------\n",
      "Point one:  (477, 310) Point two:  (0, 652)\n",
      "New points (453, 327)\n",
      "--------------------------------------------------------------------------------------------------------\n"
     ]
    },
    {
     "name": "stderr",
     "output_type": "stream",
     "text": [
      "\n",
      " 69%|████████████████████████████████████████████████████████████████████████████████████████████████████████████████████████▋                                                     | 473/682 [00:48<00:39,  5.23it/s]"
     ]
    },
    {
     "name": "stdout",
     "output_type": "stream",
     "text": [
      "Point one:  (481, 309) Point two:  (959, 612)\n",
      "New points (504, 324)\n",
      "--------------------------------------------------------------------------------------------------------\n",
      "Point one:  (481, 309) Point two:  (0, 638)\n",
      "New points (456, 325)\n",
      "--------------------------------------------------------------------------------------------------------\n",
      "Point one:  (480, 309) Point two:  (959, 614)\n",
      "New points (503, 324)\n",
      "--------------------------------------------------------------------------------------------------------\n",
      "Point one:  (480, 309) Point two:  (0, 644)\n",
      "New points (456, 325)\n",
      "--------------------------------------------------------------------------------------------------------\n",
      "Point one:  (479, 309) Point two:  (959, 612)\n",
      "New points (503, 324)\n",
      "--------------------------------------------------------------------------------------------------------\n",
      "Point one:  (479, 309) Point two:  (0, 640)\n",
      "New points (455, 325)\n",
      "--------------------------------------------------------------------------------------------------------\n"
     ]
    },
    {
     "name": "stderr",
     "output_type": "stream",
     "text": [
      "\n",
      " 70%|█████████████████████████████████████████████████████████████████████████████████████████████████████████████████████████▍                                                    | 476/682 [00:48<00:33,  6.19it/s]"
     ]
    },
    {
     "name": "stdout",
     "output_type": "stream",
     "text": [
      "Point one:  (479, 310) Point two:  (959, 611)\n",
      "New points (503, 325)\n",
      "--------------------------------------------------------------------------------------------------------\n",
      "Point one:  (479, 310) Point two:  (0, 637)\n",
      "New points (455, 326)\n",
      "--------------------------------------------------------------------------------------------------------\n"
     ]
    },
    {
     "name": "stderr",
     "output_type": "stream",
     "text": [
      "\n",
      " 70%|█████████████████████████████████████████████████████████████████████████████████████████████████████████████████████████▋                                                    | 477/682 [00:48<00:36,  5.63it/s]"
     ]
    },
    {
     "name": "stdout",
     "output_type": "stream",
     "text": [
      "Point one:  (477, 313) Point two:  (959, 607)\n",
      "New points (501, 327)\n",
      "--------------------------------------------------------------------------------------------------------\n",
      "Point one:  (477, 313) Point two:  (0, 635)\n",
      "New points (453, 329)\n",
      "--------------------------------------------------------------------------------------------------------\n",
      "Point one:  (480, 312) Point two:  (959, 612)\n",
      "New points (503, 327)\n",
      "--------------------------------------------------------------------------------------------------------\n",
      "Point one:  (480, 312) Point two:  (0, 635)\n",
      "New points (456, 328)\n",
      "--------------------------------------------------------------------------------------------------------\n",
      "Point one:  (478, 311) Point two:  (959, 611)\n",
      "New points (502, 326)\n",
      "--------------------------------------------------------------------------------------------------------\n",
      "Point one:  (478, 311) Point two:  (0, 638)\n",
      "New points (454, 327)\n",
      "--------------------------------------------------------------------------------------------------------\n"
     ]
    },
    {
     "name": "stderr",
     "output_type": "stream",
     "text": [
      "\n",
      " 70%|██████████████████████████████████████████████████████████████████████████████████████████████████████████████████████████▍                                                   | 480/682 [00:48<00:33,  6.01it/s]"
     ]
    },
    {
     "name": "stdout",
     "output_type": "stream",
     "text": [
      "Point one:  (480, 311) Point two:  (959, 618)\n",
      "New points (503, 326)\n",
      "--------------------------------------------------------------------------------------------------------\n",
      "Point one:  (480, 311) Point two:  (0, 639)\n",
      "New points (456, 327)\n",
      "--------------------------------------------------------------------------------------------------------\n"
     ]
    },
    {
     "name": "stderr",
     "output_type": "stream",
     "text": [
      "\n",
      " 71%|██████████████████████████████████████████████████████████████████████████████████████████████████████████████████████████▋                                                   | 481/682 [00:49<00:32,  6.23it/s]"
     ]
    },
    {
     "name": "stdout",
     "output_type": "stream",
     "text": [
      "Point one:  (479, 310) Point two:  (959, 615)\n",
      "New points (503, 325)\n",
      "--------------------------------------------------------------------------------------------------------\n",
      "Point one:  (479, 310) Point two:  (0, 637)\n",
      "New points (455, 326)\n",
      "--------------------------------------------------------------------------------------------------------\n"
     ]
    },
    {
     "name": "stderr",
     "output_type": "stream",
     "text": [
      "\n",
      " 71%|██████████████████████████████████████████████████████████████████████████████████████████████████████████████████████████▉                                                   | 482/682 [00:49<00:37,  5.34it/s]"
     ]
    },
    {
     "name": "stdout",
     "output_type": "stream",
     "text": [
      "Point one:  (480, 310) Point two:  (959, 615)\n",
      "New points (503, 325)\n",
      "--------------------------------------------------------------------------------------------------------\n",
      "Point one:  (480, 310) Point two:  (0, 649)\n",
      "New points (456, 326)\n",
      "--------------------------------------------------------------------------------------------------------\n",
      "Point one:  (480, 311) Point two:  (959, 615)\n",
      "New points (503, 326)\n",
      "--------------------------------------------------------------------------------------------------------\n",
      "Point one:  (480, 311) Point two:  (0, 640)\n",
      "New points (456, 327)\n",
      "--------------------------------------------------------------------------------------------------------\n",
      "Point one:  (480, 310) Point two:  (959, 615)\n",
      "New points (503, 325)\n",
      "--------------------------------------------------------------------------------------------------------\n",
      "Point one:  (480, 310) Point two:  (0, 644)\n",
      "New points (456, 326)\n",
      "--------------------------------------------------------------------------------------------------------\n",
      "Point one:  (482, 308) Point two:  (959, 618)\n",
      "New points (505, 323)\n",
      "--------------------------------------------------------------------------------------------------------\n",
      "Point one:  (482, 308) Point two:  (0, 640)\n",
      "New points (457, 324)\n",
      "--------------------------------------------------------------------------------------------------------\n"
     ]
    },
    {
     "name": "stderr",
     "output_type": "stream",
     "text": [
      "\n",
      " 71%|███████████████████████████████████████████████████████████████████████████████████████████████████████████████████████████▉                                                  | 486/682 [00:49<00:27,  7.11it/s]"
     ]
    },
    {
     "name": "stdout",
     "output_type": "stream",
     "text": [
      "Point one:  (480, 309) Point two:  (959, 606)\n",
      "New points (503, 323)\n",
      "--------------------------------------------------------------------------------------------------------\n",
      "Point one:  (480, 309) Point two:  (0, 642)\n",
      "New points (456, 325)\n",
      "--------------------------------------------------------------------------------------------------------\n",
      "Point one:  (479, 308) Point two:  (959, 601)\n",
      "New points (503, 322)\n",
      "--------------------------------------------------------------------------------------------------------\n",
      "Point one:  (479, 308) Point two:  (0, 634)\n",
      "New points (455, 324)\n",
      "--------------------------------------------------------------------------------------------------------\n"
     ]
    },
    {
     "name": "stderr",
     "output_type": "stream",
     "text": [
      "\n",
      " 72%|████████████████████████████████████████████████████████████████████████████████████████████████████████████████████████████▌                                                 | 488/682 [00:50<00:44,  4.37it/s]"
     ]
    },
    {
     "name": "stdout",
     "output_type": "stream",
     "text": [
      "Point one:  (478, 309) Point two:  (959, 609)\n",
      "New points (502, 324)\n",
      "--------------------------------------------------------------------------------------------------------\n",
      "Point one:  (478, 309) Point two:  (0, 638)\n",
      "New points (454, 325)\n",
      "--------------------------------------------------------------------------------------------------------\n",
      "Point one:  (478, 309) Point two:  (959, 611)\n",
      "New points (502, 324)\n",
      "--------------------------------------------------------------------------------------------------------\n",
      "Point one:  (478, 309) Point two:  (0, 635)\n",
      "New points (454, 325)\n",
      "--------------------------------------------------------------------------------------------------------\n"
     ]
    },
    {
     "name": "stderr",
     "output_type": "stream",
     "text": [
      "\n",
      " 72%|█████████████████████████████████████████████████████████████████████████████████████████████████████████████████████████████                                                 | 490/682 [00:50<00:37,  5.17it/s]"
     ]
    },
    {
     "name": "stdout",
     "output_type": "stream",
     "text": [
      "Point one:  (478, 310) Point two:  (959, 611)\n",
      "New points (502, 325)\n",
      "--------------------------------------------------------------------------------------------------------\n",
      "Point one:  (478, 310) Point two:  (0, 639)\n",
      "New points (454, 326)\n",
      "--------------------------------------------------------------------------------------------------------\n",
      "Point one:  (477, 310) Point two:  (959, 609)\n",
      "New points (501, 324)\n",
      "--------------------------------------------------------------------------------------------------------\n",
      "Point one:  (477, 310) Point two:  (0, 646)\n",
      "New points (453, 326)\n",
      "--------------------------------------------------------------------------------------------------------\n",
      "Point one:  (479, 308) Point two:  (959, 614)\n",
      "New points (503, 323)\n",
      "--------------------------------------------------------------------------------------------------------\n",
      "Point one:  (479, 308) Point two:  (0, 638)\n",
      "New points (455, 324)\n",
      "--------------------------------------------------------------------------------------------------------\n"
     ]
    },
    {
     "name": "stderr",
     "output_type": "stream",
     "text": [
      "\n",
      " 72%|█████████████████████████████████████████████████████████████████████████████████████████████████████████████████████████████▊                                                | 493/682 [00:51<00:33,  5.60it/s]"
     ]
    },
    {
     "name": "stdout",
     "output_type": "stream",
     "text": [
      "Point one:  (480, 308) Point two:  (959, 615)\n",
      "New points (503, 323)\n",
      "--------------------------------------------------------------------------------------------------------\n",
      "Point one:  (480, 308) Point two:  (0, 639)\n",
      "New points (456, 324)\n",
      "--------------------------------------------------------------------------------------------------------\n",
      "Point one:  (479, 307) Point two:  (959, 611)\n",
      "New points (503, 322)\n",
      "--------------------------------------------------------------------------------------------------------\n",
      "Point one:  (479, 307) Point two:  (0, 644)\n",
      "New points (455, 323)\n",
      "--------------------------------------------------------------------------------------------------------\n"
     ]
    },
    {
     "name": "stderr",
     "output_type": "stream",
     "text": [
      "\n",
      " 73%|██████████████████████████████████████████████████████████████████████████████████████████████████████████████████████████████▎                                               | 495/682 [00:51<00:45,  4.11it/s]"
     ]
    },
    {
     "name": "stdout",
     "output_type": "stream",
     "text": [
      "Point one:  (480, 308) Point two:  (959, 610)\n",
      "New points (503, 323)\n",
      "--------------------------------------------------------------------------------------------------------\n",
      "Point one:  (480, 308) Point two:  (0, 641)\n",
      "New points (456, 324)\n",
      "--------------------------------------------------------------------------------------------------------\n",
      "Point one:  (483, 309) Point two:  (959, 613)\n",
      "New points (506, 324)\n",
      "--------------------------------------------------------------------------------------------------------\n",
      "Point one:  (483, 309) Point two:  (0, 641)\n",
      "New points (458, 325)\n",
      "--------------------------------------------------------------------------------------------------------\n",
      "Point one:  (482, 306) Point two:  (959, 615)\n",
      "New points (505, 321)\n",
      "--------------------------------------------------------------------------------------------------------\n",
      "Point one:  (482, 306) Point two:  (0, 646)\n",
      "New points (457, 323)\n",
      "--------------------------------------------------------------------------------------------------------\n"
     ]
    },
    {
     "name": "stderr",
     "output_type": "stream",
     "text": [
      "\n",
      " 73%|███████████████████████████████████████████████████████████████████████████████████████████████████████████████████████████████                                               | 498/682 [00:51<00:33,  5.53it/s]"
     ]
    },
    {
     "name": "stdout",
     "output_type": "stream",
     "text": [
      "Point one:  (479, 307) Point two:  (959, 607)\n",
      "New points (503, 322)\n",
      "--------------------------------------------------------------------------------------------------------\n",
      "Point one:  (479, 307) Point two:  (0, 643)\n",
      "New points (455, 323)\n",
      "--------------------------------------------------------------------------------------------------------\n",
      "Point one:  (479, 307) Point two:  (959, 604)\n",
      "New points (503, 321)\n",
      "--------------------------------------------------------------------------------------------------------\n",
      "Point one:  (479, 307) Point two:  (0, 645)\n",
      "New points (455, 323)\n",
      "--------------------------------------------------------------------------------------------------------\n"
     ]
    },
    {
     "name": "stderr",
     "output_type": "stream",
     "text": [
      "\n",
      " 73%|███████████████████████████████████████████████████████████████████████████████████████████████████████████████████████████████▌                                              | 500/682 [00:52<00:31,  5.73it/s]"
     ]
    },
    {
     "name": "stdout",
     "output_type": "stream",
     "text": [
      "Point one:  (480, 308) Point two:  (959, 612)\n",
      "New points (503, 323)\n",
      "--------------------------------------------------------------------------------------------------------\n",
      "Point one:  (480, 308) Point two:  (0, 643)\n",
      "New points (456, 324)\n",
      "--------------------------------------------------------------------------------------------------------\n",
      "Point one:  (478, 308) Point two:  (959, 605)\n",
      "New points (502, 322)\n",
      "--------------------------------------------------------------------------------------------------------\n",
      "Point one:  (478, 308) Point two:  (0, 642)\n",
      "New points (454, 324)\n",
      "--------------------------------------------------------------------------------------------------------\n"
     ]
    },
    {
     "name": "stderr",
     "output_type": "stream",
     "text": [
      "\n",
      " 74%|████████████████████████████████████████████████████████████████████████████████████████████████████████████████████████████████                                              | 502/682 [00:52<00:32,  5.59it/s]"
     ]
    },
    {
     "name": "stdout",
     "output_type": "stream",
     "text": [
      "Point one:  (479, 309) Point two:  (959, 596)\n",
      "New points (503, 323)\n",
      "--------------------------------------------------------------------------------------------------------\n",
      "Point one:  (479, 309) Point two:  (0, 643)\n",
      "New points (455, 325)\n",
      "--------------------------------------------------------------------------------------------------------\n",
      "Point one:  (481, 308) Point two:  (959, 606)\n",
      "New points (504, 322)\n",
      "--------------------------------------------------------------------------------------------------------\n",
      "Point one:  (481, 308) Point two:  (0, 639)\n",
      "New points (456, 324)\n",
      "--------------------------------------------------------------------------------------------------------\n"
     ]
    },
    {
     "name": "stderr",
     "output_type": "stream",
     "text": [
      "\n",
      " 74%|████████████████████████████████████████████████████████████████████████████████████████████████████████████████████████████████▌                                             | 504/682 [00:53<00:39,  4.54it/s]"
     ]
    },
    {
     "name": "stdout",
     "output_type": "stream",
     "text": [
      "Point one:  (477, 310) Point two:  (959, 600)\n",
      "New points (501, 324)\n",
      "--------------------------------------------------------------------------------------------------------\n",
      "Point one:  (477, 310) Point two:  (0, 641)\n",
      "New points (453, 326)\n",
      "--------------------------------------------------------------------------------------------------------\n",
      "Point one:  (480, 309) Point two:  (959, 608)\n",
      "New points (503, 323)\n",
      "--------------------------------------------------------------------------------------------------------\n",
      "Point one:  (480, 309) Point two:  (0, 641)\n",
      "New points (456, 325)\n",
      "--------------------------------------------------------------------------------------------------------\n"
     ]
    },
    {
     "name": "stderr",
     "output_type": "stream",
     "text": [
      "\n",
      " 74%|█████████████████████████████████████████████████████████████████████████████████████████████████████████████████████████████████                                             | 506/682 [00:53<00:30,  5.80it/s]"
     ]
    },
    {
     "name": "stdout",
     "output_type": "stream",
     "text": [
      "Point one:  (480, 310) Point two:  (959, 603)\n",
      "New points (503, 324)\n",
      "--------------------------------------------------------------------------------------------------------\n",
      "Point one:  (480, 310) Point two:  (0, 640)\n",
      "New points (456, 326)\n",
      "--------------------------------------------------------------------------------------------------------\n",
      "Point one:  (476, 309) Point two:  (959, 606)\n",
      "New points (500, 323)\n",
      "--------------------------------------------------------------------------------------------------------\n",
      "Point one:  (476, 309) Point two:  (0, 635)\n",
      "New points (452, 325)\n",
      "--------------------------------------------------------------------------------------------------------\n"
     ]
    },
    {
     "name": "stderr",
     "output_type": "stream",
     "text": [
      "\n",
      " 74%|█████████████████████████████████████████████████████████████████████████████████████████████████████████████████████████████████▌                                            | 508/682 [00:53<00:29,  5.87it/s]"
     ]
    },
    {
     "name": "stdout",
     "output_type": "stream",
     "text": [
      "Point one:  (477, 310) Point two:  (959, 603)\n",
      "New points (501, 324)\n",
      "--------------------------------------------------------------------------------------------------------\n",
      "Point one:  (477, 310) Point two:  (0, 636)\n",
      "New points (453, 326)\n",
      "--------------------------------------------------------------------------------------------------------\n",
      "Point one:  (480, 311) Point two:  (959, 610)\n",
      "New points (503, 325)\n",
      "--------------------------------------------------------------------------------------------------------\n",
      "Point one:  (480, 311) Point two:  (0, 630)\n",
      "New points (456, 326)\n",
      "--------------------------------------------------------------------------------------------------------\n"
     ]
    },
    {
     "name": "stderr",
     "output_type": "stream",
     "text": [
      "\n",
      " 75%|██████████████████████████████████████████████████████████████████████████████████████████████████████████████████████████████████                                            | 510/682 [00:54<00:37,  4.60it/s]"
     ]
    },
    {
     "name": "stdout",
     "output_type": "stream",
     "text": [
      "Point one:  (474, 313) Point two:  (959, 602)\n",
      "New points (498, 327)\n",
      "--------------------------------------------------------------------------------------------------------\n",
      "Point one:  (474, 313) Point two:  (0, 636)\n",
      "New points (450, 329)\n",
      "--------------------------------------------------------------------------------------------------------\n"
     ]
    },
    {
     "name": "stderr",
     "output_type": "stream",
     "text": [
      "\n",
      " 75%|██████████████████████████████████████████████████████████████████████████████████████████████████████████████████████████████████▎                                           | 511/682 [00:54<00:34,  5.00it/s]"
     ]
    },
    {
     "name": "stdout",
     "output_type": "stream",
     "text": [
      "Point one:  (475, 314) Point two:  (959, 610)\n",
      "New points (499, 328)\n",
      "--------------------------------------------------------------------------------------------------------\n",
      "Point one:  (475, 314) Point two:  (0, 635)\n",
      "New points (451, 330)\n",
      "--------------------------------------------------------------------------------------------------------\n",
      "Point one:  (473, 312) Point two:  (959, 611)\n",
      "New points (497, 326)\n",
      "--------------------------------------------------------------------------------------------------------\n",
      "Point one:  (473, 312) Point two:  (0, 635)\n",
      "New points (449, 328)\n",
      "--------------------------------------------------------------------------------------------------------\n",
      "Point one:  (476, 313) Point two:  (959, 605)\n",
      "New points (500, 327)\n",
      "--------------------------------------------------------------------------------------------------------\n",
      "Point one:  (476, 313) Point two:  (0, 631)\n",
      "New points (452, 328)\n",
      "--------------------------------------------------------------------------------------------------------\n"
     ]
    },
    {
     "name": "stderr",
     "output_type": "stream",
     "text": [
      "\n",
      " 75%|███████████████████████████████████████████████████████████████████████████████████████████████████████████████████████████████████▏                                          | 514/682 [00:54<00:25,  6.54it/s]"
     ]
    },
    {
     "name": "stdout",
     "output_type": "stream",
     "text": [
      "Point one:  (477, 313) Point two:  (959, 604)\n",
      "New points (501, 327)\n",
      "--------------------------------------------------------------------------------------------------------\n",
      "Point one:  (477, 313) Point two:  (0, 628)\n",
      "New points (453, 328)\n",
      "--------------------------------------------------------------------------------------------------------\n",
      "Point one:  (476, 309) Point two:  (959, 611)\n",
      "New points (500, 324)\n",
      "--------------------------------------------------------------------------------------------------------\n",
      "Point one:  (476, 309) Point two:  (0, 638)\n",
      "New points (452, 325)\n",
      "--------------------------------------------------------------------------------------------------------\n"
     ]
    },
    {
     "name": "stderr",
     "output_type": "stream",
     "text": [
      "\n",
      " 76%|███████████████████████████████████████████████████████████████████████████████████████████████████████████████████████████████████▋                                          | 516/682 [00:54<00:26,  6.36it/s]"
     ]
    },
    {
     "name": "stdout",
     "output_type": "stream",
     "text": [
      "Point one:  (475, 310) Point two:  (959, 605)\n",
      "New points (499, 324)\n",
      "--------------------------------------------------------------------------------------------------------\n",
      "Point one:  (475, 310) Point two:  (0, 637)\n",
      "New points (451, 326)\n",
      "--------------------------------------------------------------------------------------------------------\n",
      "Point one:  (474, 309) Point two:  (959, 607)\n",
      "New points (498, 323)\n",
      "--------------------------------------------------------------------------------------------------------\n",
      "Point one:  (474, 309) Point two:  (0, 636)\n",
      "New points (450, 325)\n",
      "--------------------------------------------------------------------------------------------------------\n"
     ]
    },
    {
     "name": "stderr",
     "output_type": "stream",
     "text": [
      "\n",
      " 76%|████████████████████████████████████████████████████████████████████████████████████████████████████████████████████████████████████▏                                         | 518/682 [00:55<00:22,  7.14it/s]"
     ]
    },
    {
     "name": "stdout",
     "output_type": "stream",
     "text": [
      "Point one:  (472, 310) Point two:  (959, 601)\n",
      "New points (496, 324)\n",
      "--------------------------------------------------------------------------------------------------------\n",
      "Point one:  (472, 310) Point two:  (0, 647)\n",
      "New points (448, 326)\n",
      "--------------------------------------------------------------------------------------------------------\n",
      "Point one:  (476, 310) Point two:  (959, 609)\n",
      "New points (500, 324)\n",
      "--------------------------------------------------------------------------------------------------------\n",
      "Point one:  (476, 310) Point two:  (0, 639)\n",
      "New points (452, 326)\n",
      "--------------------------------------------------------------------------------------------------------\n"
     ]
    },
    {
     "name": "stderr",
     "output_type": "stream",
     "text": [
      "\n",
      " 76%|████████████████████████████████████████████████████████████████████████████████████████████████████████████████████████████████████▋                                         | 520/682 [00:55<00:21,  7.47it/s]"
     ]
    },
    {
     "name": "stdout",
     "output_type": "stream",
     "text": [
      "Point one:  (474, 309) Point two:  (959, 607)\n",
      "New points (498, 323)\n",
      "--------------------------------------------------------------------------------------------------------\n",
      "Point one:  (474, 309) Point two:  (0, 642)\n",
      "New points (450, 325)\n",
      "--------------------------------------------------------------------------------------------------------\n",
      "Point one:  (478, 308) Point two:  (959, 614)\n",
      "New points (502, 323)\n",
      "--------------------------------------------------------------------------------------------------------\n",
      "Point one:  (478, 308) Point two:  (0, 635)\n",
      "New points (454, 324)\n",
      "--------------------------------------------------------------------------------------------------------\n"
     ]
    },
    {
     "name": "stderr",
     "output_type": "stream",
     "text": [
      "\n",
      " 77%|█████████████████████████████████████████████████████████████████████████████████████████████████████████████████████████████████████▏                                        | 522/682 [00:56<00:33,  4.78it/s]"
     ]
    },
    {
     "name": "stdout",
     "output_type": "stream",
     "text": [
      "Point one:  (480, 308) Point two:  (959, 614)\n",
      "New points (503, 323)\n",
      "--------------------------------------------------------------------------------------------------------\n",
      "Point one:  (480, 308) Point two:  (0, 637)\n",
      "New points (456, 324)\n",
      "--------------------------------------------------------------------------------------------------------\n",
      "Point one:  (479, 309) Point two:  (959, 614)\n",
      "New points (503, 324)\n",
      "--------------------------------------------------------------------------------------------------------\n",
      "Point one:  (479, 309) Point two:  (0, 639)\n",
      "New points (455, 325)\n",
      "--------------------------------------------------------------------------------------------------------\n",
      "Point one:  (483, 311) Point two:  (959, 613)\n",
      "New points (506, 326)\n",
      "--------------------------------------------------------------------------------------------------------\n",
      "Point one:  (483, 311) Point two:  (0, 631)\n",
      "New points (458, 327)\n",
      "--------------------------------------------------------------------------------------------------------\n"
     ]
    },
    {
     "name": "stderr",
     "output_type": "stream",
     "text": [
      "\n",
      " 77%|█████████████████████████████████████████████████████████████████████████████████████████████████████████████████████████████████████▉                                        | 525/682 [00:56<00:25,  6.07it/s]"
     ]
    },
    {
     "name": "stdout",
     "output_type": "stream",
     "text": [
      "Point one:  (480, 311) Point two:  (959, 610)\n",
      "New points (503, 325)\n",
      "--------------------------------------------------------------------------------------------------------\n",
      "Point one:  (480, 311) Point two:  (0, 639)\n",
      "New points (456, 327)\n",
      "--------------------------------------------------------------------------------------------------------\n",
      "Point one:  (477, 310) Point two:  (959, 606)\n",
      "New points (501, 324)\n",
      "--------------------------------------------------------------------------------------------------------\n",
      "Point one:  (477, 310) Point two:  (0, 637)\n",
      "New points (453, 326)\n",
      "--------------------------------------------------------------------------------------------------------\n"
     ]
    },
    {
     "name": "stderr",
     "output_type": "stream",
     "text": [
      "\n",
      " 77%|██████████████████████████████████████████████████████████████████████████████████████████████████████████████████████████████████████▍                                       | 527/682 [00:57<00:37,  4.11it/s]"
     ]
    },
    {
     "name": "stdout",
     "output_type": "stream",
     "text": [
      "Point one:  (483, 311) Point two:  (959, 614)\n",
      "New points (506, 326)\n",
      "--------------------------------------------------------------------------------------------------------\n",
      "Point one:  (483, 311) Point two:  (0, 631)\n",
      "New points (458, 327)\n",
      "--------------------------------------------------------------------------------------------------------\n",
      "Point one:  (483, 311) Point two:  (959, 613)\n",
      "New points (506, 326)\n",
      "--------------------------------------------------------------------------------------------------------\n",
      "Point one:  (483, 311) Point two:  (0, 633)\n",
      "New points (458, 327)\n",
      "--------------------------------------------------------------------------------------------------------\n"
     ]
    },
    {
     "name": "stderr",
     "output_type": "stream",
     "text": [
      "\n",
      " 78%|██████████████████████████████████████████████████████████████████████████████████████████████████████████████████████████████████████▉                                       | 529/682 [00:57<00:32,  4.72it/s]"
     ]
    },
    {
     "name": "stdout",
     "output_type": "stream",
     "text": [
      "Point one:  (482, 309) Point two:  (959, 612)\n",
      "New points (505, 324)\n",
      "--------------------------------------------------------------------------------------------------------\n",
      "Point one:  (482, 309) Point two:  (0, 640)\n",
      "New points (457, 325)\n",
      "--------------------------------------------------------------------------------------------------------\n",
      "Point one:  (479, 310) Point two:  (959, 597)\n",
      "New points (503, 324)\n",
      "--------------------------------------------------------------------------------------------------------\n",
      "Point one:  (479, 310) Point two:  (0, 641)\n",
      "New points (455, 326)\n",
      "--------------------------------------------------------------------------------------------------------\n",
      "Point one:  (482, 310) Point two:  (959, 609)\n",
      "New points (505, 324)\n",
      "--------------------------------------------------------------------------------------------------------\n",
      "Point one:  (482, 310) Point two:  (0, 638)\n",
      "New points (457, 326)\n",
      "--------------------------------------------------------------------------------------------------------\n"
     ]
    },
    {
     "name": "stderr",
     "output_type": "stream",
     "text": [
      "\n",
      " 78%|███████████████████████████████████████████████████████████████████████████████████████████████████████████████████████████████████████▋                                      | 532/682 [00:58<00:31,  4.82it/s]"
     ]
    },
    {
     "name": "stdout",
     "output_type": "stream",
     "text": [
      "Point one:  (484, 310) Point two:  (959, 608)\n",
      "New points (507, 324)\n",
      "--------------------------------------------------------------------------------------------------------\n",
      "Point one:  (484, 310) Point two:  (0, 639)\n",
      "New points (459, 326)\n",
      "--------------------------------------------------------------------------------------------------------\n",
      "Point one:  (481, 308) Point two:  (959, 611)\n",
      "New points (504, 323)\n",
      "--------------------------------------------------------------------------------------------------------\n",
      "Point one:  (481, 308) Point two:  (0, 659)\n",
      "New points (456, 325)\n",
      "--------------------------------------------------------------------------------------------------------\n"
     ]
    },
    {
     "name": "stderr",
     "output_type": "stream",
     "text": [
      "\n",
      " 78%|████████████████████████████████████████████████████████████████████████████████████████████████████████████████████████████████████████▏                                     | 534/682 [00:58<00:24,  6.16it/s]"
     ]
    },
    {
     "name": "stdout",
     "output_type": "stream",
     "text": [
      "Point one:  (482, 309) Point two:  (959, 609)\n",
      "New points (505, 324)\n",
      "--------------------------------------------------------------------------------------------------------\n",
      "Point one:  (482, 309) Point two:  (0, 653)\n",
      "New points (457, 326)\n",
      "--------------------------------------------------------------------------------------------------------\n",
      "Point one:  (482, 308) Point two:  (959, 613)\n",
      "New points (505, 323)\n",
      "--------------------------------------------------------------------------------------------------------\n",
      "Point one:  (482, 308) Point two:  (0, 661)\n",
      "New points (457, 325)\n",
      "--------------------------------------------------------------------------------------------------------\n"
     ]
    },
    {
     "name": "stderr",
     "output_type": "stream",
     "text": [
      "\n",
      " 79%|████████████████████████████████████████████████████████████████████████████████████████████████████████████████████████████████████████▊                                     | 536/682 [00:58<00:21,  6.74it/s]"
     ]
    },
    {
     "name": "stdout",
     "output_type": "stream",
     "text": [
      "Point one:  (480, 308) Point two:  (959, 613)\n",
      "New points (503, 323)\n",
      "--------------------------------------------------------------------------------------------------------\n",
      "Point one:  (480, 308) Point two:  (0, 665)\n",
      "New points (456, 325)\n",
      "--------------------------------------------------------------------------------------------------------\n",
      "Point one:  (483, 311) Point two:  (959, 606)\n",
      "New points (506, 325)\n",
      "--------------------------------------------------------------------------------------------------------\n",
      "Point one:  (483, 311) Point two:  (0, 644)\n",
      "New points (458, 327)\n",
      "--------------------------------------------------------------------------------------------------------\n"
     ]
    },
    {
     "name": "stderr",
     "output_type": "stream",
     "text": [
      "\n",
      " 79%|█████████████████████████████████████████████████████████████████████████████████████████████████████████████████████████████████████████▎                                    | 538/682 [00:59<00:29,  4.86it/s]"
     ]
    },
    {
     "name": "stdout",
     "output_type": "stream",
     "text": [
      "Point one:  (483, 311) Point two:  (959, 607)\n",
      "New points (506, 325)\n",
      "--------------------------------------------------------------------------------------------------------\n",
      "Point one:  (483, 311) Point two:  (0, 642)\n",
      "New points (458, 327)\n",
      "--------------------------------------------------------------------------------------------------------\n",
      "Point one:  (485, 309) Point two:  (959, 616)\n",
      "New points (508, 324)\n",
      "--------------------------------------------------------------------------------------------------------\n",
      "Point one:  (485, 309) Point two:  (0, 642)\n",
      "New points (460, 325)\n",
      "--------------------------------------------------------------------------------------------------------\n"
     ]
    },
    {
     "name": "stderr",
     "output_type": "stream",
     "text": [
      "\n",
      " 79%|█████████████████████████████████████████████████████████████████████████████████████████████████████████████████████████████████████████▊                                    | 540/682 [00:59<00:23,  6.10it/s]"
     ]
    },
    {
     "name": "stdout",
     "output_type": "stream",
     "text": [
      "Point one:  (484, 311) Point two:  (959, 610)\n",
      "New points (507, 325)\n",
      "--------------------------------------------------------------------------------------------------------\n",
      "Point one:  (484, 311) Point two:  (0, 643)\n",
      "New points (459, 327)\n",
      "--------------------------------------------------------------------------------------------------------\n",
      "Point one:  (485, 309) Point two:  (959, 610)\n",
      "New points (508, 324)\n",
      "--------------------------------------------------------------------------------------------------------\n",
      "Point one:  (485, 309) Point two:  (0, 646)\n",
      "New points (460, 325)\n",
      "--------------------------------------------------------------------------------------------------------\n"
     ]
    },
    {
     "name": "stderr",
     "output_type": "stream",
     "text": [
      "\n",
      " 79%|██████████████████████████████████████████████████████████████████████████████████████████████████████████████████████████████████████████▎                                   | 542/682 [00:59<00:24,  5.76it/s]"
     ]
    },
    {
     "name": "stdout",
     "output_type": "stream",
     "text": [
      "Point one:  (486, 309) Point two:  (959, 610)\n",
      "New points (509, 324)\n",
      "--------------------------------------------------------------------------------------------------------\n",
      "Point one:  (486, 309) Point two:  (0, 641)\n",
      "New points (461, 325)\n",
      "--------------------------------------------------------------------------------------------------------\n",
      "Point one:  (483, 309) Point two:  (959, 606)\n",
      "New points (506, 323)\n",
      "--------------------------------------------------------------------------------------------------------\n",
      "Point one:  (483, 309) Point two:  (0, 642)\n",
      "New points (458, 325)\n",
      "--------------------------------------------------------------------------------------------------------\n"
     ]
    },
    {
     "name": "stderr",
     "output_type": "stream",
     "text": [
      "\n",
      " 80%|██████████████████████████████████████████████████████████████████████████████████████████████████████████████████████████████████████████▊                                   | 544/682 [00:59<00:21,  6.34it/s]"
     ]
    },
    {
     "name": "stdout",
     "output_type": "stream",
     "text": [
      "Point one:  (486, 308) Point two:  (959, 610)\n",
      "New points (509, 323)\n",
      "--------------------------------------------------------------------------------------------------------\n",
      "Point one:  (486, 308) Point two:  (0, 643)\n",
      "New points (461, 324)\n",
      "--------------------------------------------------------------------------------------------------------\n",
      "Point one:  (486, 310) Point two:  (959, 611)\n",
      "New points (509, 325)\n",
      "--------------------------------------------------------------------------------------------------------\n",
      "Point one:  (486, 310) Point two:  (0, 644)\n",
      "New points (461, 326)\n",
      "--------------------------------------------------------------------------------------------------------\n",
      "Point one:  (483, 307) Point two:  (959, 609)\n",
      "New points (506, 322)\n",
      "--------------------------------------------------------------------------------------------------------\n",
      "Point one:  (483, 307) Point two:  (0, 650)\n",
      "New points (458, 324)\n",
      "--------------------------------------------------------------------------------------------------------\n"
     ]
    },
    {
     "name": "stderr",
     "output_type": "stream",
     "text": [
      "\n",
      " 80%|███████████████████████████████████████████████████████████████████████████████████████████████████████████████████████████████████████████▌                                  | 547/682 [00:59<00:16,  8.15it/s]"
     ]
    },
    {
     "name": "stdout",
     "output_type": "stream",
     "text": [
      "Point one:  (486, 309) Point two:  (959, 602)\n",
      "New points (509, 323)\n",
      "--------------------------------------------------------------------------------------------------------\n",
      "Point one:  (486, 309) Point two:  (0, 641)\n",
      "New points (461, 325)\n",
      "--------------------------------------------------------------------------------------------------------\n",
      "Point one:  (486, 308) Point two:  (959, 605)\n",
      "New points (509, 322)\n",
      "--------------------------------------------------------------------------------------------------------\n",
      "Point one:  (486, 308) Point two:  (0, 648)\n",
      "New points (461, 325)\n",
      "--------------------------------------------------------------------------------------------------------\n"
     ]
    },
    {
     "name": "stderr",
     "output_type": "stream",
     "text": [
      "\n",
      " 80%|████████████████████████████████████████████████████████████████████████████████████████████████████████████████████████████████████████████                                  | 549/682 [01:00<00:19,  6.72it/s]"
     ]
    },
    {
     "name": "stdout",
     "output_type": "stream",
     "text": [
      "Point one:  (482, 306) Point two:  (959, 605)\n",
      "New points (505, 320)\n",
      "--------------------------------------------------------------------------------------------------------\n",
      "Point one:  (482, 306) Point two:  (0, 645)\n",
      "New points (457, 322)\n",
      "--------------------------------------------------------------------------------------------------------\n",
      "Point one:  (482, 308) Point two:  (959, 601)\n",
      "New points (505, 322)\n",
      "--------------------------------------------------------------------------------------------------------\n",
      "Point one:  (482, 308) Point two:  (0, 648)\n",
      "New points (457, 325)\n",
      "--------------------------------------------------------------------------------------------------------\n"
     ]
    },
    {
     "name": "stderr",
     "output_type": "stream",
     "text": [
      "\n",
      " 81%|████████████████████████████████████████████████████████████████████████████████████████████████████████████████████████████████████████████▌                                 | 551/682 [01:00<00:17,  7.46it/s]"
     ]
    },
    {
     "name": "stdout",
     "output_type": "stream",
     "text": [
      "Point one:  (479, 311) Point two:  (959, 591)\n",
      "New points (503, 325)\n",
      "--------------------------------------------------------------------------------------------------------\n",
      "Point one:  (479, 311) Point two:  (0, 646)\n",
      "New points (455, 327)\n",
      "--------------------------------------------------------------------------------------------------------\n",
      "Point one:  (485, 307) Point two:  (959, 614)\n",
      "New points (508, 322)\n",
      "--------------------------------------------------------------------------------------------------------\n",
      "Point one:  (485, 307) Point two:  (0, 647)\n",
      "New points (460, 324)\n",
      "--------------------------------------------------------------------------------------------------------\n",
      "Point one:  (483, 308) Point two:  (959, 612)\n",
      "New points (506, 323)\n",
      "--------------------------------------------------------------------------------------------------------\n",
      "Point one:  (483, 308) Point two:  (0, 652)\n",
      "New points (458, 325)\n",
      "--------------------------------------------------------------------------------------------------------\n"
     ]
    },
    {
     "name": "stderr",
     "output_type": "stream",
     "text": [
      "\n",
      " 81%|█████████████████████████████████████████████████████████████████████████████████████████████████████████████████████████████████████████████▎                                | 554/682 [01:00<00:13,  9.30it/s]"
     ]
    },
    {
     "name": "stdout",
     "output_type": "stream",
     "text": [
      "Point one:  (480, 309) Point two:  (959, 602)\n",
      "New points (503, 323)\n",
      "--------------------------------------------------------------------------------------------------------\n",
      "Point one:  (480, 309) Point two:  (0, 651)\n",
      "New points (456, 326)\n",
      "--------------------------------------------------------------------------------------------------------\n",
      "Point one:  (479, 310) Point two:  (959, 594)\n",
      "New points (503, 324)\n",
      "--------------------------------------------------------------------------------------------------------\n",
      "Point one:  (479, 310) Point two:  (0, 651)\n",
      "New points (455, 327)\n",
      "--------------------------------------------------------------------------------------------------------\n"
     ]
    },
    {
     "name": "stderr",
     "output_type": "stream",
     "text": [
      "\n",
      " 82%|█████████████████████████████████████████████████████████████████████████████████████████████████████████████████████████████████████████████▊                                | 556/682 [01:01<00:17,  7.01it/s]"
     ]
    },
    {
     "name": "stdout",
     "output_type": "stream",
     "text": [
      "Point one:  (482, 304) Point two:  (959, 609)\n",
      "New points (505, 319)\n",
      "--------------------------------------------------------------------------------------------------------\n",
      "Point one:  (482, 304) Point two:  (0, 654)\n",
      "New points (457, 321)\n",
      "--------------------------------------------------------------------------------------------------------\n",
      "Point one:  (483, 309) Point two:  (959, 599)\n",
      "New points (506, 323)\n",
      "--------------------------------------------------------------------------------------------------------\n",
      "Point one:  (483, 309) Point two:  (0, 645)\n",
      "New points (458, 325)\n",
      "--------------------------------------------------------------------------------------------------------\n"
     ]
    },
    {
     "name": "stderr",
     "output_type": "stream",
     "text": [
      "\n",
      " 82%|██████████████████████████████████████████████████████████████████████████████████████████████████████████████████████████████████████████████▎                               | 558/682 [01:01<00:23,  5.28it/s]"
     ]
    },
    {
     "name": "stdout",
     "output_type": "stream",
     "text": [
      "Point one:  (483, 306) Point two:  (959, 603)\n",
      "New points (506, 320)\n",
      "--------------------------------------------------------------------------------------------------------\n",
      "Point one:  (483, 306) Point two:  (0, 660)\n",
      "New points (458, 323)\n",
      "--------------------------------------------------------------------------------------------------------\n",
      "Point one:  (485, 308) Point two:  (959, 601)\n",
      "New points (508, 322)\n",
      "--------------------------------------------------------------------------------------------------------\n",
      "Point one:  (485, 308) Point two:  (0, 646)\n",
      "New points (460, 324)\n",
      "--------------------------------------------------------------------------------------------------------\n",
      "Point one:  (483, 309) Point two:  (959, 589)\n",
      "New points (506, 323)\n",
      "--------------------------------------------------------------------------------------------------------\n",
      "Point one:  (483, 309) Point two:  (0, 648)\n",
      "New points (458, 325)\n",
      "--------------------------------------------------------------------------------------------------------\n"
     ]
    },
    {
     "name": "stderr",
     "output_type": "stream",
     "text": [
      "\n",
      " 82%|███████████████████████████████████████████████████████████████████████████████████████████████████████████████████████████████████████████████▏                              | 561/682 [01:02<00:21,  5.67it/s]"
     ]
    },
    {
     "name": "stdout",
     "output_type": "stream",
     "text": [
      "Point one:  (482, 306) Point two:  (959, 597)\n",
      "New points (505, 320)\n",
      "--------------------------------------------------------------------------------------------------------\n",
      "Point one:  (482, 306) Point two:  (0, 651)\n",
      "New points (457, 323)\n",
      "--------------------------------------------------------------------------------------------------------\n"
     ]
    },
    {
     "name": "stderr",
     "output_type": "stream",
     "text": [
      "\n",
      " 82%|███████████████████████████████████████████████████████████████████████████████████████████████████████████████████████████████████████████████▍                              | 562/682 [01:02<00:19,  6.15it/s]"
     ]
    },
    {
     "name": "stdout",
     "output_type": "stream",
     "text": [
      "Point one:  (487, 307) Point two:  (959, 591)\n",
      "New points (510, 321)\n",
      "--------------------------------------------------------------------------------------------------------\n",
      "Point one:  (487, 307) Point two:  (0, 645)\n",
      "New points (462, 323)\n",
      "--------------------------------------------------------------------------------------------------------\n",
      "Point one:  (481, 309) Point two:  (959, 591)\n",
      "New points (504, 323)\n",
      "--------------------------------------------------------------------------------------------------------\n",
      "Point one:  (481, 309) Point two:  (0, 659)\n",
      "New points (456, 326)\n",
      "--------------------------------------------------------------------------------------------------------\n"
     ]
    },
    {
     "name": "stderr",
     "output_type": "stream",
     "text": [
      "\n",
      " 83%|███████████████████████████████████████████████████████████████████████████████████████████████████████████████████████████████████████████████▉                              | 564/682 [01:02<00:15,  7.57it/s]"
     ]
    },
    {
     "name": "stdout",
     "output_type": "stream",
     "text": [
      "Point one:  (482, 307) Point two:  (959, 589)\n",
      "New points (505, 321)\n",
      "--------------------------------------------------------------------------------------------------------\n",
      "Point one:  (482, 307) Point two:  (0, 653)\n",
      "New points (457, 324)\n",
      "--------------------------------------------------------------------------------------------------------\n",
      "Point one:  (485, 307) Point two:  (959, 596)\n",
      "New points (508, 321)\n",
      "--------------------------------------------------------------------------------------------------------\n",
      "Point one:  (485, 307) Point two:  (0, 658)\n",
      "New points (460, 324)\n",
      "--------------------------------------------------------------------------------------------------------\n"
     ]
    },
    {
     "name": "stderr",
     "output_type": "stream",
     "text": [
      "\n",
      " 83%|████████████████████████████████████████████████████████████████████████████████████████████████████████████████████████████████████████████████▍                             | 566/682 [01:02<00:13,  8.45it/s]"
     ]
    },
    {
     "name": "stdout",
     "output_type": "stream",
     "text": [
      "Point one:  (485, 308) Point two:  (959, 593)\n",
      "New points (508, 322)\n",
      "--------------------------------------------------------------------------------------------------------\n",
      "Point one:  (485, 308) Point two:  (0, 654)\n",
      "New points (460, 325)\n",
      "--------------------------------------------------------------------------------------------------------\n",
      "Point one:  (483, 309) Point two:  (959, 589)\n",
      "New points (506, 323)\n",
      "--------------------------------------------------------------------------------------------------------\n",
      "Point one:  (483, 309) Point two:  (0, 659)\n",
      "New points (458, 326)\n",
      "--------------------------------------------------------------------------------------------------------\n"
     ]
    },
    {
     "name": "stderr",
     "output_type": "stream",
     "text": [
      "\n",
      " 83%|████████████████████████████████████████████████████████████████████████████████████████████████████████████████████████████████████████████████▉                             | 568/682 [01:03<00:17,  6.56it/s]"
     ]
    },
    {
     "name": "stdout",
     "output_type": "stream",
     "text": [
      "Point one:  (484, 307) Point two:  (959, 592)\n",
      "New points (507, 321)\n",
      "--------------------------------------------------------------------------------------------------------\n",
      "Point one:  (484, 307) Point two:  (0, 659)\n",
      "New points (459, 324)\n",
      "--------------------------------------------------------------------------------------------------------\n"
     ]
    },
    {
     "name": "stderr",
     "output_type": "stream",
     "text": [
      "\n",
      " 83%|█████████████████████████████████████████████████████████████████████████████████████████████████████████████████████████████████████████████████▏                            | 569/682 [01:03<00:17,  6.59it/s]"
     ]
    },
    {
     "name": "stdout",
     "output_type": "stream",
     "text": [
      "Point one:  (484, 306) Point two:  (959, 597)\n",
      "New points (507, 320)\n",
      "--------------------------------------------------------------------------------------------------------\n",
      "Point one:  (484, 306) Point two:  (0, 665)\n",
      "New points (459, 323)\n",
      "--------------------------------------------------------------------------------------------------------\n",
      "Point one:  (484, 305) Point two:  (959, 601)\n",
      "New points (507, 319)\n",
      "--------------------------------------------------------------------------------------------------------\n",
      "Point one:  (484, 305) Point two:  (0, 669)\n",
      "New points (459, 323)\n",
      "--------------------------------------------------------------------------------------------------------\n"
     ]
    },
    {
     "name": "stderr",
     "output_type": "stream",
     "text": [
      "\n",
      " 84%|█████████████████████████████████████████████████████████████████████████████████████████████████████████████████████████████████████████████████▋                            | 571/682 [01:03<00:15,  7.32it/s]"
     ]
    },
    {
     "name": "stdout",
     "output_type": "stream",
     "text": [
      "Point one:  (481, 311) Point two:  (959, 584)\n",
      "New points (504, 324)\n",
      "--------------------------------------------------------------------------------------------------------\n",
      "Point one:  (481, 311) Point two:  (0, 661)\n",
      "New points (456, 328)\n",
      "--------------------------------------------------------------------------------------------------------\n",
      "Point one:  (484, 307) Point two:  (959, 592)\n",
      "New points (507, 321)\n",
      "--------------------------------------------------------------------------------------------------------\n",
      "Point one:  (484, 307) Point two:  (0, 662)\n",
      "New points (459, 324)\n",
      "--------------------------------------------------------------------------------------------------------\n"
     ]
    },
    {
     "name": "stderr",
     "output_type": "stream",
     "text": [
      "\n",
      " 84%|██████████████████████████████████████████████████████████████████████████████████████████████████████████████████████████████████████████████████▏                           | 573/682 [01:04<00:21,  5.02it/s]"
     ]
    },
    {
     "name": "stdout",
     "output_type": "stream",
     "text": [
      "Point one:  (481, 309) Point two:  (959, 587)\n",
      "New points (504, 322)\n",
      "--------------------------------------------------------------------------------------------------------\n",
      "Point one:  (481, 309) Point two:  (0, 668)\n",
      "New points (456, 326)\n",
      "--------------------------------------------------------------------------------------------------------\n"
     ]
    },
    {
     "name": "stderr",
     "output_type": "stream",
     "text": [
      "\n",
      " 84%|██████████████████████████████████████████████████████████████████████████████████████████████████████████████████████████████████████████████████▍                           | 574/682 [01:04<00:18,  5.71it/s]"
     ]
    },
    {
     "name": "stdout",
     "output_type": "stream",
     "text": [
      "Point one:  (479, 308) Point two:  (959, 582)\n",
      "New points (503, 321)\n",
      "--------------------------------------------------------------------------------------------------------\n",
      "Point one:  (479, 308) Point two:  (0, 683)\n",
      "New points (455, 326)\n",
      "--------------------------------------------------------------------------------------------------------\n",
      "Point one:  (483, 306) Point two:  (959, 593)\n",
      "New points (506, 320)\n",
      "--------------------------------------------------------------------------------------------------------\n",
      "Point one:  (483, 306) Point two:  (0, 676)\n",
      "New points (458, 324)\n",
      "--------------------------------------------------------------------------------------------------------\n"
     ]
    },
    {
     "name": "stderr",
     "output_type": "stream",
     "text": [
      "\n",
      " 84%|██████████████████████████████████████████████████████████████████████████████████████████████████████████████████████████████████████████████████▉                           | 576/682 [01:04<00:18,  5.85it/s]"
     ]
    },
    {
     "name": "stdout",
     "output_type": "stream",
     "text": [
      "Point one:  (479, 307) Point two:  (959, 579)\n",
      "New points (503, 320)\n",
      "--------------------------------------------------------------------------------------------------------\n",
      "Point one:  (479, 307) Point two:  (0, 670)\n",
      "New points (455, 325)\n",
      "--------------------------------------------------------------------------------------------------------\n",
      "Point one:  (481, 306) Point two:  (959, 587)\n",
      "New points (504, 320)\n",
      "--------------------------------------------------------------------------------------------------------\n",
      "Point one:  (481, 306) Point two:  (0, 676)\n",
      "New points (456, 324)\n",
      "--------------------------------------------------------------------------------------------------------\n"
     ]
    },
    {
     "name": "stderr",
     "output_type": "stream",
     "text": [
      "\n",
      " 85%|███████████████████████████████████████████████████████████████████████████████████████████████████████████████████████████████████████████████████▍                          | 578/682 [01:04<00:14,  7.11it/s]"
     ]
    },
    {
     "name": "stdout",
     "output_type": "stream",
     "text": [
      "Point one:  (482, 306) Point two:  (959, 580)\n",
      "New points (505, 319)\n",
      "--------------------------------------------------------------------------------------------------------\n",
      "Point one:  (482, 306) Point two:  (0, 670)\n",
      "New points (457, 324)\n",
      "--------------------------------------------------------------------------------------------------------\n"
     ]
    },
    {
     "name": "stderr",
     "output_type": "stream",
     "text": [
      "\n",
      " 85%|███████████████████████████████████████████████████████████████████████████████████████████████████████████████████████████████████████████████████▋                          | 579/682 [01:05<00:21,  4.74it/s]"
     ]
    },
    {
     "name": "stdout",
     "output_type": "stream",
     "text": [
      "Point one:  (483, 305) Point two:  (959, 588)\n",
      "New points (506, 319)\n",
      "--------------------------------------------------------------------------------------------------------\n",
      "Point one:  (483, 305) Point two:  (0, 668)\n",
      "New points (458, 323)\n",
      "--------------------------------------------------------------------------------------------------------\n",
      "Point one:  (485, 309) Point two:  (959, 581)\n",
      "New points (508, 322)\n",
      "--------------------------------------------------------------------------------------------------------\n",
      "Point one:  (485, 309) Point two:  (0, 665)\n",
      "New points (460, 326)\n",
      "--------------------------------------------------------------------------------------------------------\n",
      "Point one:  (482, 307) Point two:  (959, 585)\n",
      "New points (505, 320)\n",
      "--------------------------------------------------------------------------------------------------------\n",
      "Point one:  (482, 307) Point two:  (0, 667)\n",
      "New points (457, 325)\n",
      "--------------------------------------------------------------------------------------------------------\n"
     ]
    },
    {
     "name": "stderr",
     "output_type": "stream",
     "text": [
      "\n",
      " 85%|████████████████████████████████████████████████████████████████████████████████████████████████████████████████████████████████████████████████████▍                         | 582/682 [01:05<00:17,  5.77it/s]"
     ]
    },
    {
     "name": "stdout",
     "output_type": "stream",
     "text": [
      "Point one:  (479, 309) Point two:  (959, 578)\n",
      "New points (503, 322)\n",
      "--------------------------------------------------------------------------------------------------------\n",
      "Point one:  (479, 309) Point two:  (0, 671)\n",
      "New points (455, 327)\n",
      "--------------------------------------------------------------------------------------------------------\n",
      "Point one:  (482, 310) Point two:  (959, 580)\n",
      "New points (505, 323)\n",
      "--------------------------------------------------------------------------------------------------------\n",
      "Point one:  (482, 310) Point two:  (0, 670)\n",
      "New points (457, 328)\n",
      "--------------------------------------------------------------------------------------------------------\n"
     ]
    },
    {
     "name": "stderr",
     "output_type": "stream",
     "text": [
      "\n",
      " 86%|████████████████████████████████████████████████████████████████████████████████████████████████████████████████████████████████████████████████████▉                         | 584/682 [01:05<00:14,  6.58it/s]"
     ]
    },
    {
     "name": "stdout",
     "output_type": "stream",
     "text": [
      "Point one:  (478, 307) Point two:  (959, 582)\n",
      "New points (502, 320)\n",
      "--------------------------------------------------------------------------------------------------------\n",
      "Point one:  (478, 307) Point two:  (0, 683)\n",
      "New points (454, 325)\n",
      "--------------------------------------------------------------------------------------------------------\n",
      "Point one:  (479, 310) Point two:  (959, 583)\n",
      "New points (503, 323)\n",
      "--------------------------------------------------------------------------------------------------------\n",
      "Point one:  (479, 310) Point two:  (0, 674)\n",
      "New points (455, 328)\n",
      "--------------------------------------------------------------------------------------------------------\n"
     ]
    },
    {
     "name": "stderr",
     "output_type": "stream",
     "text": [
      "\n",
      " 86%|█████████████████████████████████████████████████████████████████████████████████████████████████████████████████████████████████████████████████████▌                        | 586/682 [01:05<00:14,  6.66it/s]"
     ]
    },
    {
     "name": "stdout",
     "output_type": "stream",
     "text": [
      "Point one:  (482, 305) Point two:  (959, 581)\n",
      "New points (505, 318)\n",
      "--------------------------------------------------------------------------------------------------------\n",
      "Point one:  (482, 305) Point two:  (0, 674)\n",
      "New points (457, 323)\n",
      "--------------------------------------------------------------------------------------------------------\n"
     ]
    },
    {
     "name": "stderr",
     "output_type": "stream",
     "text": [
      "\n",
      " 86%|█████████████████████████████████████████████████████████████████████████████████████████████████████████████████████████████████████████████████████▊                        | 587/682 [01:06<00:15,  6.18it/s]"
     ]
    },
    {
     "name": "stdout",
     "output_type": "stream",
     "text": [
      "Point one:  (483, 307) Point two:  (959, 584)\n",
      "New points (506, 320)\n",
      "--------------------------------------------------------------------------------------------------------\n",
      "Point one:  (483, 307) Point two:  (0, 668)\n",
      "New points (458, 325)\n",
      "--------------------------------------------------------------------------------------------------------\n",
      "Point one:  (482, 310) Point two:  (959, 583)\n",
      "New points (505, 323)\n",
      "--------------------------------------------------------------------------------------------------------\n",
      "Point one:  (482, 310) Point two:  (0, 664)\n",
      "New points (457, 327)\n",
      "--------------------------------------------------------------------------------------------------------\n"
     ]
    },
    {
     "name": "stderr",
     "output_type": "stream",
     "text": [
      "\n",
      " 86%|██████████████████████████████████████████████████████████████████████████████████████████████████████████████████████████████████████████████████████▎                       | 589/682 [01:06<00:12,  7.55it/s]"
     ]
    },
    {
     "name": "stdout",
     "output_type": "stream",
     "text": [
      "Point one:  (479, 312) Point two:  (959, 577)\n",
      "New points (503, 325)\n",
      "--------------------------------------------------------------------------------------------------------\n",
      "Point one:  (479, 312) Point two:  (0, 669)\n",
      "New points (455, 329)\n",
      "--------------------------------------------------------------------------------------------------------\n",
      "Point one:  (479, 310) Point two:  (959, 577)\n",
      "New points (503, 323)\n",
      "--------------------------------------------------------------------------------------------------------\n",
      "Point one:  (479, 310) Point two:  (0, 681)\n",
      "New points (455, 328)\n",
      "--------------------------------------------------------------------------------------------------------\n",
      "Point one:  (482, 312) Point two:  (959, 587)\n",
      "New points (505, 325)\n",
      "--------------------------------------------------------------------------------------------------------\n",
      "Point one:  (482, 312) Point two:  (0, 672)\n",
      "New points (457, 330)\n",
      "--------------------------------------------------------------------------------------------------------\n"
     ]
    },
    {
     "name": "stderr",
     "output_type": "stream",
     "text": [
      "\n",
      " 87%|███████████████████████████████████████████████████████████████████████████████████████████████████████████████████████████████████████████████████████                       | 592/682 [01:06<00:12,  7.06it/s]"
     ]
    },
    {
     "name": "stdout",
     "output_type": "stream",
     "text": [
      "Point one:  (480, 314) Point two:  (959, 580)\n",
      "New points (503, 327)\n",
      "--------------------------------------------------------------------------------------------------------\n",
      "Point one:  (480, 314) Point two:  (0, 673)\n",
      "New points (456, 331)\n",
      "--------------------------------------------------------------------------------------------------------\n"
     ]
    },
    {
     "name": "stderr",
     "output_type": "stream",
     "text": [
      "\n",
      " 87%|███████████████████████████████████████████████████████████████████████████████████████████████████████████████████████████████████████████████████████▎                      | 593/682 [01:07<00:20,  4.35it/s]"
     ]
    },
    {
     "name": "stdout",
     "output_type": "stream",
     "text": [
      "Point one:  (482, 313) Point two:  (959, 588)\n",
      "New points (505, 326)\n",
      "--------------------------------------------------------------------------------------------------------\n",
      "Point one:  (482, 313) Point two:  (0, 677)\n",
      "New points (457, 331)\n",
      "--------------------------------------------------------------------------------------------------------\n",
      "Point one:  (482, 312) Point two:  (959, 591)\n",
      "New points (505, 325)\n",
      "--------------------------------------------------------------------------------------------------------\n",
      "Point one:  (482, 312) Point two:  (0, 665)\n",
      "New points (457, 329)\n",
      "--------------------------------------------------------------------------------------------------------\n"
     ]
    },
    {
     "name": "stderr",
     "output_type": "stream",
     "text": [
      "\n",
      " 87%|███████████████████████████████████████████████████████████████████████████████████████████████████████████████████████████████████████████████████████▊                      | 595/682 [01:07<00:15,  5.44it/s]"
     ]
    },
    {
     "name": "stdout",
     "output_type": "stream",
     "text": [
      "Point one:  (486, 314) Point two:  (959, 595)\n",
      "New points (509, 328)\n",
      "--------------------------------------------------------------------------------------------------------\n",
      "Point one:  (486, 314) Point two:  (0, 677)\n",
      "New points (461, 332)\n",
      "--------------------------------------------------------------------------------------------------------\n",
      "Point one:  (483, 314) Point two:  (959, 590)\n",
      "New points (506, 327)\n",
      "--------------------------------------------------------------------------------------------------------\n",
      "Point one:  (483, 314) Point two:  (0, 672)\n",
      "New points (458, 331)\n",
      "--------------------------------------------------------------------------------------------------------\n",
      "Point one:  (484, 312) Point two:  (959, 592)\n",
      "New points (507, 326)\n",
      "--------------------------------------------------------------------------------------------------------\n",
      "Point one:  (484, 312) Point two:  (0, 678)\n",
      "New points (459, 330)\n",
      "--------------------------------------------------------------------------------------------------------\n"
     ]
    },
    {
     "name": "stderr",
     "output_type": "stream",
     "text": [
      "\n",
      " 88%|████████████████████████████████████████████████████████████████████████████████████████████████████████████████████████████████████████████████████████▌                     | 598/682 [01:07<00:13,  6.00it/s]"
     ]
    },
    {
     "name": "stdout",
     "output_type": "stream",
     "text": [
      "Point one:  (485, 312) Point two:  (959, 591)\n",
      "New points (508, 325)\n",
      "--------------------------------------------------------------------------------------------------------\n",
      "Point one:  (485, 312) Point two:  (0, 673)\n",
      "New points (460, 330)\n",
      "--------------------------------------------------------------------------------------------------------\n"
     ]
    },
    {
     "name": "stderr",
     "output_type": "stream",
     "text": [
      "\n",
      " 88%|████████████████████████████████████████████████████████████████████████████████████████████████████████████████████████████████████████████████████████▊                     | 599/682 [01:08<00:20,  4.05it/s]"
     ]
    },
    {
     "name": "stdout",
     "output_type": "stream",
     "text": [
      "Point one:  (478, 311) Point two:  (959, 586)\n",
      "New points (502, 324)\n",
      "--------------------------------------------------------------------------------------------------------\n",
      "Point one:  (478, 311) Point two:  (0, 695)\n",
      "New points (454, 330)\n",
      "--------------------------------------------------------------------------------------------------------\n",
      "Point one:  (479, 310) Point two:  (959, 586)\n",
      "New points (503, 323)\n",
      "--------------------------------------------------------------------------------------------------------\n",
      "Point one:  (479, 310) Point two:  (0, 688)\n",
      "New points (455, 328)\n",
      "--------------------------------------------------------------------------------------------------------\n",
      "Point one:  (480, 309) Point two:  (959, 583)\n",
      "New points (503, 322)\n",
      "--------------------------------------------------------------------------------------------------------\n",
      "Point one:  (480, 309) Point two:  (0, 675)\n",
      "New points (456, 327)\n",
      "--------------------------------------------------------------------------------------------------------\n"
     ]
    },
    {
     "name": "stderr",
     "output_type": "stream",
     "text": [
      "\n",
      " 88%|█████████████████████████████████████████████████████████████████████████████████████████████████████████████████████████████████████████████████████████▌                    | 602/682 [01:08<00:15,  5.27it/s]"
     ]
    },
    {
     "name": "stdout",
     "output_type": "stream",
     "text": [
      "Point one:  (481, 309) Point two:  (959, 580)\n",
      "New points (504, 322)\n",
      "--------------------------------------------------------------------------------------------------------\n",
      "Point one:  (481, 309) Point two:  (0, 685)\n",
      "New points (456, 327)\n",
      "--------------------------------------------------------------------------------------------------------\n",
      "Point one:  (480, 308) Point two:  (959, 578)\n",
      "New points (503, 321)\n",
      "--------------------------------------------------------------------------------------------------------\n",
      "Point one:  (480, 308) Point two:  (0, 684)\n",
      "New points (456, 326)\n",
      "--------------------------------------------------------------------------------------------------------\n",
      "Point one:  (480, 307) Point two:  (959, 589)\n",
      "New points (503, 321)\n",
      "--------------------------------------------------------------------------------------------------------\n",
      "Point one:  (480, 307) Point two:  (0, 686)\n",
      "New points (456, 325)\n",
      "--------------------------------------------------------------------------------------------------------\n"
     ]
    },
    {
     "name": "stderr",
     "output_type": "stream",
     "text": [
      "\n",
      " 89%|██████████████████████████████████████████████████████████████████████████████████████████████████████████████████████████████████████████████████████████▎                   | 605/682 [01:08<00:13,  5.64it/s]"
     ]
    },
    {
     "name": "stdout",
     "output_type": "stream",
     "text": [
      "Point one:  (483, 311) Point two:  (959, 579)\n",
      "New points (506, 324)\n",
      "--------------------------------------------------------------------------------------------------------\n",
      "Point one:  (483, 311) Point two:  (0, 673)\n",
      "New points (458, 329)\n",
      "--------------------------------------------------------------------------------------------------------\n"
     ]
    },
    {
     "name": "stderr",
     "output_type": "stream",
     "text": [
      "\n",
      " 89%|██████████████████████████████████████████████████████████████████████████████████████████████████████████████████████████████████████████████████████████▌                   | 606/682 [01:09<00:19,  3.96it/s]"
     ]
    },
    {
     "name": "stdout",
     "output_type": "stream",
     "text": [
      "Point one:  (483, 313) Point two:  (959, 578)\n",
      "New points (506, 326)\n",
      "--------------------------------------------------------------------------------------------------------\n",
      "Point one:  (483, 313) Point two:  (0, 674)\n",
      "New points (458, 331)\n",
      "--------------------------------------------------------------------------------------------------------\n",
      "Point one:  (481, 310) Point two:  (959, 585)\n",
      "New points (504, 323)\n",
      "--------------------------------------------------------------------------------------------------------\n",
      "Point one:  (481, 310) Point two:  (0, 697)\n",
      "New points (456, 329)\n",
      "--------------------------------------------------------------------------------------------------------\n"
     ]
    },
    {
     "name": "stderr",
     "output_type": "stream",
     "text": [
      "\n",
      " 89%|███████████████████████████████████████████████████████████████████████████████████████████████████████████████████████████████████████████████████████████                   | 608/682 [01:09<00:15,  4.81it/s]"
     ]
    },
    {
     "name": "stdout",
     "output_type": "stream",
     "text": [
      "Point one:  (484, 312) Point two:  (959, 585)\n",
      "New points (507, 325)\n",
      "--------------------------------------------------------------------------------------------------------\n",
      "Point one:  (484, 312) Point two:  (0, 687)\n",
      "New points (459, 330)\n",
      "--------------------------------------------------------------------------------------------------------\n"
     ]
    },
    {
     "name": "stderr",
     "output_type": "stream",
     "text": [
      "\n",
      " 89%|███████████████████████████████████████████████████████████████████████████████████████████████████████████████████████████████████████████████████████████▍                  | 609/682 [01:09<00:13,  5.24it/s]"
     ]
    },
    {
     "name": "stdout",
     "output_type": "stream",
     "text": [
      "Point one:  (483, 310) Point two:  (959, 586)\n",
      "New points (506, 323)\n",
      "--------------------------------------------------------------------------------------------------------\n",
      "Point one:  (483, 310) Point two:  (0, 682)\n",
      "New points (458, 328)\n",
      "--------------------------------------------------------------------------------------------------------\n",
      "Point one:  (483, 308) Point two:  (959, 590)\n",
      "New points (506, 322)\n",
      "--------------------------------------------------------------------------------------------------------\n",
      "Point one:  (483, 308) Point two:  (0, 696)\n",
      "New points (458, 327)\n",
      "--------------------------------------------------------------------------------------------------------\n"
     ]
    },
    {
     "name": "stderr",
     "output_type": "stream",
     "text": [
      "\n",
      " 90%|███████████████████████████████████████████████████████████████████████████████████████████████████████████████████████████████████████████████████████████▉                  | 611/682 [01:10<00:16,  4.37it/s]"
     ]
    },
    {
     "name": "stdout",
     "output_type": "stream",
     "text": [
      "Point one:  (483, 308) Point two:  (959, 585)\n",
      "New points (506, 321)\n",
      "--------------------------------------------------------------------------------------------------------\n",
      "Point one:  (483, 308) Point two:  (0, 693)\n",
      "New points (458, 327)\n",
      "--------------------------------------------------------------------------------------------------------\n",
      "Point one:  (479, 311) Point two:  (959, 582)\n",
      "New points (503, 324)\n",
      "--------------------------------------------------------------------------------------------------------\n",
      "Point one:  (479, 311) Point two:  (0, 704)\n",
      "New points (455, 330)\n",
      "--------------------------------------------------------------------------------------------------------\n"
     ]
    },
    {
     "name": "stderr",
     "output_type": "stream",
     "text": [
      "\n",
      " 90%|████████████████████████████████████████████████████████████████████████████████████████████████████████████████████████████████████████████████████████████▍                 | 613/682 [01:10<00:12,  5.38it/s]"
     ]
    },
    {
     "name": "stdout",
     "output_type": "stream",
     "text": [
      "Point one:  (480, 313) Point two:  (959, 577)\n",
      "New points (503, 326)\n",
      "--------------------------------------------------------------------------------------------------------\n",
      "Point one:  (480, 313) Point two:  (0, 686)\n",
      "New points (456, 331)\n",
      "--------------------------------------------------------------------------------------------------------\n",
      "Point one:  (481, 310) Point two:  (959, 580)\n",
      "New points (504, 323)\n",
      "--------------------------------------------------------------------------------------------------------\n",
      "Point one:  (481, 310) Point two:  (0, 698)\n",
      "New points (456, 329)\n",
      "--------------------------------------------------------------------------------------------------------\n"
     ]
    },
    {
     "name": "stderr",
     "output_type": "stream",
     "text": [
      "\n",
      " 90%|████████████████████████████████████████████████████████████████████████████████████████████████████████████████████████████████████████████████████████████▉                 | 615/682 [01:10<00:09,  6.75it/s]"
     ]
    },
    {
     "name": "stdout",
     "output_type": "stream",
     "text": [
      "Point one:  (483, 311) Point two:  (959, 585)\n",
      "New points (506, 324)\n",
      "--------------------------------------------------------------------------------------------------------\n",
      "Point one:  (483, 311) Point two:  (0, 687)\n",
      "New points (458, 329)\n",
      "--------------------------------------------------------------------------------------------------------\n",
      "Point one:  (478, 313) Point two:  (959, 562)\n",
      "New points (502, 325)\n",
      "--------------------------------------------------------------------------------------------------------\n",
      "Point one:  (478, 313) Point two:  (0, 697)\n",
      "New points (454, 332)\n",
      "--------------------------------------------------------------------------------------------------------\n"
     ]
    },
    {
     "name": "stderr",
     "output_type": "stream",
     "text": [
      "\n",
      " 90%|█████████████████████████████████████████████████████████████████████████████████████████████████████████████████████████████████████████████████████████████▍                | 617/682 [01:11<00:12,  5.17it/s]"
     ]
    },
    {
     "name": "stdout",
     "output_type": "stream",
     "text": [
      "Point one:  (481, 311) Point two:  (959, 580)\n",
      "New points (504, 324)\n",
      "--------------------------------------------------------------------------------------------------------\n",
      "Point one:  (481, 311) Point two:  (0, 689)\n",
      "New points (456, 329)\n",
      "--------------------------------------------------------------------------------------------------------\n",
      "Point one:  (480, 311) Point two:  (959, 580)\n",
      "New points (503, 324)\n",
      "--------------------------------------------------------------------------------------------------------\n",
      "Point one:  (480, 311) Point two:  (0, 694)\n",
      "New points (456, 330)\n",
      "--------------------------------------------------------------------------------------------------------\n"
     ]
    },
    {
     "name": "stderr",
     "output_type": "stream",
     "text": [
      "\n",
      " 91%|█████████████████████████████████████████████████████████████████████████████████████████████████████████████████████████████████████████████████████████████▉                | 619/682 [01:11<00:10,  6.12it/s]"
     ]
    },
    {
     "name": "stdout",
     "output_type": "stream",
     "text": [
      "Point one:  (477, 308) Point two:  (959, 581)\n",
      "New points (501, 321)\n",
      "--------------------------------------------------------------------------------------------------------\n",
      "Point one:  (477, 308) Point two:  (0, 708)\n",
      "New points (453, 328)\n",
      "--------------------------------------------------------------------------------------------------------\n",
      "Point one:  (478, 309) Point two:  (959, 583)\n",
      "New points (502, 322)\n",
      "--------------------------------------------------------------------------------------------------------\n",
      "Point one:  (478, 309) Point two:  (0, 700)\n",
      "New points (454, 328)\n",
      "--------------------------------------------------------------------------------------------------------\n"
     ]
    },
    {
     "name": "stderr",
     "output_type": "stream",
     "text": [
      "\n",
      " 91%|██████████████████████████████████████████████████████████████████████████████████████████████████████████████████████████████████████████████████████████████▍               | 621/682 [01:11<00:09,  6.68it/s]"
     ]
    },
    {
     "name": "stdout",
     "output_type": "stream",
     "text": [
      "Point one:  (481, 308) Point two:  (959, 582)\n",
      "New points (504, 321)\n",
      "--------------------------------------------------------------------------------------------------------\n",
      "Point one:  (481, 308) Point two:  (0, 704)\n",
      "New points (456, 327)\n",
      "--------------------------------------------------------------------------------------------------------\n",
      "Point one:  (480, 308) Point two:  (959, 580)\n",
      "New points (503, 321)\n",
      "--------------------------------------------------------------------------------------------------------\n",
      "Point one:  (480, 308) Point two:  (0, 702)\n",
      "New points (456, 327)\n",
      "--------------------------------------------------------------------------------------------------------\n"
     ]
    },
    {
     "name": "stderr",
     "output_type": "stream",
     "text": [
      "\n",
      " 91%|██████████████████████████████████████████████████████████████████████████████████████████████████████████████████████████████████████████████████████████████▉               | 623/682 [01:11<00:09,  6.37it/s]"
     ]
    },
    {
     "name": "stdout",
     "output_type": "stream",
     "text": [
      "Point one:  (482, 308) Point two:  (959, 576)\n",
      "New points (505, 321)\n",
      "--------------------------------------------------------------------------------------------------------\n",
      "Point one:  (482, 308) Point two:  (0, 701)\n",
      "New points (457, 327)\n",
      "--------------------------------------------------------------------------------------------------------\n"
     ]
    },
    {
     "name": "stderr",
     "output_type": "stream",
     "text": [
      "\n",
      " 91%|███████████████████████████████████████████████████████████████████████████████████████████████████████████████████████████████████████████████████████████████▏              | 624/682 [01:12<00:13,  4.36it/s]"
     ]
    },
    {
     "name": "stdout",
     "output_type": "stream",
     "text": [
      "Point one:  (477, 307) Point two:  (959, 574)\n",
      "New points (501, 320)\n",
      "--------------------------------------------------------------------------------------------------------\n",
      "Point one:  (477, 307) Point two:  (0, 700)\n",
      "New points (453, 326)\n",
      "--------------------------------------------------------------------------------------------------------\n",
      "Point one:  (479, 307) Point two:  (959, 576)\n",
      "New points (503, 320)\n",
      "--------------------------------------------------------------------------------------------------------\n",
      "Point one:  (479, 307) Point two:  (0, 702)\n",
      "New points (455, 326)\n",
      "--------------------------------------------------------------------------------------------------------\n"
     ]
    },
    {
     "name": "stderr",
     "output_type": "stream",
     "text": [
      "\n",
      " 92%|███████████████████████████████████████████████████████████████████████████████████████████████████████████████████████████████████████████████████████████████▋              | 626/682 [01:12<00:11,  4.89it/s]"
     ]
    },
    {
     "name": "stdout",
     "output_type": "stream",
     "text": [
      "Point one:  (476, 310) Point two:  (959, 568)\n",
      "New points (500, 322)\n",
      "--------------------------------------------------------------------------------------------------------\n",
      "Point one:  (476, 310) Point two:  (0, 698)\n",
      "New points (452, 329)\n",
      "--------------------------------------------------------------------------------------------------------\n",
      "Point one:  (477, 309) Point two:  (959, 569)\n",
      "New points (501, 322)\n",
      "--------------------------------------------------------------------------------------------------------\n",
      "Point one:  (477, 309) Point two:  (0, 702)\n",
      "New points (453, 328)\n",
      "--------------------------------------------------------------------------------------------------------\n",
      "Point one:  (477, 310) Point two:  (959, 573)\n",
      "New points (501, 323)\n",
      "--------------------------------------------------------------------------------------------------------\n",
      "Point one:  (477, 310) Point two:  (0, 702)\n",
      "New points (453, 329)\n",
      "--------------------------------------------------------------------------------------------------------\n"
     ]
    },
    {
     "name": "stderr",
     "output_type": "stream",
     "text": [
      "\n",
      " 92%|████████████████████████████████████████████████████████████████████████████████████████████████████████████████████████████████████████████████████████████████▍             | 629/682 [01:13<00:10,  4.96it/s]"
     ]
    },
    {
     "name": "stdout",
     "output_type": "stream",
     "text": [
      "Point one:  (477, 312) Point two:  (959, 572)\n",
      "New points (501, 325)\n",
      "--------------------------------------------------------------------------------------------------------\n",
      "Point one:  (477, 312) Point two:  (0, 696)\n",
      "New points (453, 331)\n",
      "--------------------------------------------------------------------------------------------------------\n"
     ]
    },
    {
     "name": "stderr",
     "output_type": "stream",
     "text": [
      "\n",
      " 92%|████████████████████████████████████████████████████████████████████████████████████████████████████████████████████████████████████████████████████████████████▋             | 630/682 [01:13<00:11,  4.57it/s]"
     ]
    },
    {
     "name": "stdout",
     "output_type": "stream",
     "text": [
      "Point one:  (479, 311) Point two:  (959, 573)\n",
      "New points (503, 324)\n",
      "--------------------------------------------------------------------------------------------------------\n",
      "Point one:  (479, 311) Point two:  (0, 698)\n",
      "New points (455, 330)\n",
      "--------------------------------------------------------------------------------------------------------\n",
      "Point one:  (480, 309) Point two:  (959, 587)\n",
      "New points (503, 322)\n",
      "--------------------------------------------------------------------------------------------------------\n",
      "Point one:  (480, 309) Point two:  (0, 700)\n",
      "New points (456, 328)\n",
      "--------------------------------------------------------------------------------------------------------\n",
      "Point one:  (475, 309) Point two:  (959, 575)\n",
      "New points (499, 322)\n",
      "--------------------------------------------------------------------------------------------------------\n",
      "Point one:  (475, 309) Point two:  (0, 699)\n",
      "New points (451, 328)\n",
      "--------------------------------------------------------------------------------------------------------\n"
     ]
    },
    {
     "name": "stderr",
     "output_type": "stream",
     "text": [
      "\n",
      " 93%|█████████████████████████████████████████████████████████████████████████████████████████████████████████████████████████████████████████████████████████████████▍            | 633/682 [01:13<00:08,  5.73it/s]"
     ]
    },
    {
     "name": "stdout",
     "output_type": "stream",
     "text": [
      "Point one:  (476, 310) Point two:  (959, 574)\n",
      "New points (500, 323)\n",
      "--------------------------------------------------------------------------------------------------------\n",
      "Point one:  (476, 310) Point two:  (0, 697)\n",
      "New points (452, 329)\n",
      "--------------------------------------------------------------------------------------------------------\n",
      "Point one:  (475, 310) Point two:  (959, 574)\n",
      "New points (499, 323)\n",
      "--------------------------------------------------------------------------------------------------------\n",
      "Point one:  (475, 310) Point two:  (0, 693)\n",
      "New points (451, 329)\n",
      "--------------------------------------------------------------------------------------------------------\n"
     ]
    },
    {
     "name": "stderr",
     "output_type": "stream",
     "text": [
      "\n",
      " 93%|██████████████████████████████████████████████████████████████████████████████████████████████████████████████████████████████████████████████████████████████████            | 635/682 [01:13<00:07,  6.49it/s]"
     ]
    },
    {
     "name": "stdout",
     "output_type": "stream",
     "text": [
      "Point one:  (479, 309) Point two:  (959, 581)\n",
      "New points (503, 322)\n",
      "--------------------------------------------------------------------------------------------------------\n",
      "Point one:  (479, 309) Point two:  (0, 695)\n",
      "New points (455, 328)\n",
      "--------------------------------------------------------------------------------------------------------\n"
     ]
    },
    {
     "name": "stderr",
     "output_type": "stream",
     "text": [
      "\n",
      " 93%|██████████████████████████████████████████████████████████████████████████████████████████████████████████████████████████████████████████████████████████████████▎           | 636/682 [01:14<00:10,  4.56it/s]"
     ]
    },
    {
     "name": "stdout",
     "output_type": "stream",
     "text": [
      "Point one:  (477, 307) Point two:  (959, 578)\n",
      "New points (501, 320)\n",
      "--------------------------------------------------------------------------------------------------------\n",
      "Point one:  (477, 307) Point two:  (0, 698)\n",
      "New points (453, 326)\n",
      "--------------------------------------------------------------------------------------------------------\n",
      "Point one:  (475, 309) Point two:  (959, 579)\n",
      "New points (499, 322)\n",
      "--------------------------------------------------------------------------------------------------------\n",
      "Point one:  (475, 309) Point two:  (0, 695)\n",
      "New points (451, 328)\n",
      "--------------------------------------------------------------------------------------------------------\n",
      "Point one:  (472, 310) Point two:  (959, 575)\n",
      "New points (496, 323)\n",
      "--------------------------------------------------------------------------------------------------------\n",
      "Point one:  (472, 310) Point two:  (0, 697)\n",
      "New points (448, 329)\n",
      "--------------------------------------------------------------------------------------------------------\n"
     ]
    },
    {
     "name": "stderr",
     "output_type": "stream",
     "text": [
      "\n",
      " 94%|███████████████████████████████████████████████████████████████████████████████████████████████████████████████████████████████████████████████████████████████████           | 639/682 [01:14<00:07,  6.02it/s]"
     ]
    },
    {
     "name": "stdout",
     "output_type": "stream",
     "text": [
      "Point one:  (473, 310) Point two:  (959, 576)\n",
      "New points (497, 323)\n",
      "--------------------------------------------------------------------------------------------------------\n",
      "Point one:  (473, 310) Point two:  (0, 689)\n",
      "New points (449, 328)\n",
      "--------------------------------------------------------------------------------------------------------\n",
      "Point one:  (475, 310) Point two:  (959, 586)\n",
      "New points (499, 323)\n",
      "--------------------------------------------------------------------------------------------------------\n",
      "Point one:  (475, 310) Point two:  (0, 680)\n",
      "New points (451, 328)\n",
      "--------------------------------------------------------------------------------------------------------\n"
     ]
    },
    {
     "name": "stderr",
     "output_type": "stream",
     "text": [
      "\n",
      " 94%|███████████████████████████████████████████████████████████████████████████████████████████████████████████████████████████████████████████████████████████████████▌          | 641/682 [01:14<00:05,  7.16it/s]"
     ]
    },
    {
     "name": "stdout",
     "output_type": "stream",
     "text": [
      "Point one:  (476, 310) Point two:  (959, 582)\n",
      "New points (500, 323)\n",
      "--------------------------------------------------------------------------------------------------------\n",
      "Point one:  (476, 310) Point two:  (0, 682)\n",
      "New points (452, 328)\n",
      "--------------------------------------------------------------------------------------------------------\n",
      "Point one:  (476, 310) Point two:  (959, 582)\n",
      "New points (500, 323)\n",
      "--------------------------------------------------------------------------------------------------------\n",
      "Point one:  (476, 310) Point two:  (0, 682)\n",
      "New points (452, 328)\n",
      "--------------------------------------------------------------------------------------------------------\n"
     ]
    },
    {
     "name": "stderr",
     "output_type": "stream",
     "text": [
      "\n",
      " 94%|████████████████████████████████████████████████████████████████████████████████████████████████████████████████████████████████████████████████████████████████████          | 643/682 [01:15<00:08,  4.72it/s]"
     ]
    },
    {
     "name": "stdout",
     "output_type": "stream",
     "text": [
      "Point one:  (476, 307) Point two:  (959, 586)\n",
      "New points (500, 320)\n",
      "--------------------------------------------------------------------------------------------------------\n",
      "Point one:  (476, 307) Point two:  (0, 679)\n",
      "New points (452, 325)\n",
      "--------------------------------------------------------------------------------------------------------\n",
      "Point one:  (474, 310) Point two:  (959, 583)\n",
      "New points (498, 323)\n",
      "--------------------------------------------------------------------------------------------------------\n",
      "Point one:  (474, 310) Point two:  (0, 676)\n",
      "New points (450, 328)\n",
      "--------------------------------------------------------------------------------------------------------\n",
      "Point one:  (474, 311) Point two:  (959, 580)\n",
      "New points (498, 324)\n",
      "--------------------------------------------------------------------------------------------------------\n",
      "Point one:  (474, 311) Point two:  (0, 683)\n",
      "New points (450, 329)\n",
      "--------------------------------------------------------------------------------------------------------\n"
     ]
    },
    {
     "name": "stderr",
     "output_type": "stream",
     "text": [
      "\n",
      " 95%|████████████████████████████████████████████████████████████████████████████████████████████████████████████████████████████████████████████████████████████████████▊         | 646/682 [01:15<00:06,  5.92it/s]"
     ]
    },
    {
     "name": "stdout",
     "output_type": "stream",
     "text": [
      "Point one:  (475, 312) Point two:  (959, 583)\n",
      "New points (499, 325)\n",
      "--------------------------------------------------------------------------------------------------------\n",
      "Point one:  (475, 312) Point two:  (0, 686)\n",
      "New points (451, 330)\n",
      "--------------------------------------------------------------------------------------------------------\n",
      "Point one:  (474, 312) Point two:  (959, 589)\n",
      "New points (498, 325)\n",
      "--------------------------------------------------------------------------------------------------------\n",
      "Point one:  (474, 312) Point two:  (0, 680)\n",
      "New points (450, 330)\n",
      "--------------------------------------------------------------------------------------------------------\n"
     ]
    },
    {
     "name": "stderr",
     "output_type": "stream",
     "text": [
      "\n",
      " 95%|█████████████████████████████████████████████████████████████████████████████████████████████████████████████████████████████████████████████████████████████████████▎        | 648/682 [01:15<00:05,  6.18it/s]"
     ]
    },
    {
     "name": "stdout",
     "output_type": "stream",
     "text": [
      "Point one:  (472, 312) Point two:  (959, 586)\n",
      "New points (496, 325)\n",
      "--------------------------------------------------------------------------------------------------------\n",
      "Point one:  (472, 312) Point two:  (0, 680)\n",
      "New points (448, 330)\n",
      "--------------------------------------------------------------------------------------------------------\n"
     ]
    },
    {
     "name": "stderr",
     "output_type": "stream",
     "text": [
      "\n",
      " 95%|█████████████████████████████████████████████████████████████████████████████████████████████████████████████████████████████████████████████████████████████████████▌        | 649/682 [01:15<00:05,  6.08it/s]"
     ]
    },
    {
     "name": "stdout",
     "output_type": "stream",
     "text": [
      "Point one:  (475, 309) Point two:  (959, 592)\n",
      "New points (499, 323)\n",
      "--------------------------------------------------------------------------------------------------------\n",
      "Point one:  (475, 309) Point two:  (0, 677)\n",
      "New points (451, 327)\n",
      "--------------------------------------------------------------------------------------------------------\n"
     ]
    },
    {
     "name": "stderr",
     "output_type": "stream",
     "text": [
      "\n",
      " 95%|█████████████████████████████████████████████████████████████████████████████████████████████████████████████████████████████████████████████████████████████████████▊        | 650/682 [01:16<00:06,  5.29it/s]"
     ]
    },
    {
     "name": "stdout",
     "output_type": "stream",
     "text": [
      "Point one:  (473, 310) Point two:  (959, 589)\n",
      "New points (497, 323)\n",
      "--------------------------------------------------------------------------------------------------------\n",
      "Point one:  (473, 310) Point two:  (0, 679)\n",
      "New points (449, 328)\n",
      "--------------------------------------------------------------------------------------------------------\n",
      "Point one:  (478, 307) Point two:  (959, 598)\n",
      "New points (502, 321)\n",
      "--------------------------------------------------------------------------------------------------------\n",
      "Point one:  (478, 307) Point two:  (0, 678)\n",
      "New points (454, 325)\n",
      "--------------------------------------------------------------------------------------------------------\n"
     ]
    },
    {
     "name": "stderr",
     "output_type": "stream",
     "text": [
      "\n",
      " 96%|██████████████████████████████████████████████████████████████████████████████████████████████████████████████████████████████████████████████████████████████████████▎       | 652/682 [01:16<00:04,  6.77it/s]"
     ]
    },
    {
     "name": "stdout",
     "output_type": "stream",
     "text": [
      "Point one:  (477, 309) Point two:  (959, 588)\n",
      "New points (501, 322)\n",
      "--------------------------------------------------------------------------------------------------------\n",
      "Point one:  (477, 309) Point two:  (0, 682)\n",
      "New points (453, 327)\n",
      "--------------------------------------------------------------------------------------------------------\n",
      "Point one:  (478, 305) Point two:  (959, 603)\n",
      "New points (502, 319)\n",
      "--------------------------------------------------------------------------------------------------------\n",
      "Point one:  (478, 305) Point two:  (0, 672)\n",
      "New points (454, 323)\n",
      "--------------------------------------------------------------------------------------------------------\n"
     ]
    },
    {
     "name": "stderr",
     "output_type": "stream",
     "text": [
      "\n",
      " 96%|██████████████████████████████████████████████████████████████████████████████████████████████████████████████████████████████████████████████████████████████████████▊       | 654/682 [01:16<00:03,  8.30it/s]"
     ]
    },
    {
     "name": "stdout",
     "output_type": "stream",
     "text": [
      "Point one:  (477, 304) Point two:  (959, 597)\n",
      "New points (501, 318)\n",
      "--------------------------------------------------------------------------------------------------------\n",
      "Point one:  (477, 304) Point two:  (0, 679)\n",
      "New points (453, 322)\n",
      "--------------------------------------------------------------------------------------------------------\n",
      "Point one:  (475, 308) Point two:  (959, 594)\n",
      "New points (499, 322)\n",
      "--------------------------------------------------------------------------------------------------------\n",
      "Point one:  (475, 308) Point two:  (0, 666)\n",
      "New points (451, 325)\n",
      "--------------------------------------------------------------------------------------------------------\n"
     ]
    },
    {
     "name": "stderr",
     "output_type": "stream",
     "text": [
      "\n",
      " 96%|███████████████████████████████████████████████████████████████████████████████████████████████████████████████████████████████████████████████████████████████████████▎      | 656/682 [01:16<00:04,  6.02it/s]"
     ]
    },
    {
     "name": "stdout",
     "output_type": "stream",
     "text": [
      "Point one:  (477, 308) Point two:  (959, 597)\n",
      "New points (501, 322)\n",
      "--------------------------------------------------------------------------------------------------------\n",
      "Point one:  (477, 308) Point two:  (0, 665)\n",
      "New points (453, 325)\n",
      "--------------------------------------------------------------------------------------------------------\n",
      "Point one:  (476, 307) Point two:  (959, 593)\n",
      "New points (500, 321)\n",
      "--------------------------------------------------------------------------------------------------------\n",
      "Point one:  (476, 307) Point two:  (0, 666)\n",
      "New points (452, 324)\n",
      "--------------------------------------------------------------------------------------------------------\n",
      "Point one:  (480, 305) Point two:  (959, 604)\n",
      "New points (503, 319)\n",
      "--------------------------------------------------------------------------------------------------------\n",
      "Point one:  (480, 305) Point two:  (0, 662)\n",
      "New points (456, 322)\n",
      "--------------------------------------------------------------------------------------------------------\n"
     ]
    },
    {
     "name": "stderr",
     "output_type": "stream",
     "text": [
      "\n",
      " 97%|████████████████████████████████████████████████████████████████████████████████████████████████████████████████████████████████████████████████████████████████████████▏     | 659/682 [01:16<00:02,  7.76it/s]"
     ]
    },
    {
     "name": "stdout",
     "output_type": "stream",
     "text": [
      "Point one:  (481, 307) Point two:  (959, 600)\n",
      "New points (504, 321)\n",
      "--------------------------------------------------------------------------------------------------------\n",
      "Point one:  (481, 307) Point two:  (0, 664)\n",
      "New points (456, 324)\n",
      "--------------------------------------------------------------------------------------------------------\n",
      "Point one:  (472, 309) Point two:  (959, 593)\n",
      "New points (496, 323)\n",
      "--------------------------------------------------------------------------------------------------------\n",
      "Point one:  (472, 309) Point two:  (0, 665)\n",
      "New points (448, 326)\n",
      "--------------------------------------------------------------------------------------------------------\n"
     ]
    },
    {
     "name": "stderr",
     "output_type": "stream",
     "text": [
      "\n",
      " 97%|████████████████████████████████████████████████████████████████████████████████████████████████████████████████████████████████████████████████████████████████████████▋     | 661/682 [01:17<00:02,  8.71it/s]"
     ]
    },
    {
     "name": "stdout",
     "output_type": "stream",
     "text": [
      "Point one:  (477, 306) Point two:  (959, 602)\n",
      "New points (501, 320)\n",
      "--------------------------------------------------------------------------------------------------------\n",
      "Point one:  (477, 306) Point two:  (0, 664)\n",
      "New points (453, 323)\n",
      "--------------------------------------------------------------------------------------------------------\n",
      "Point one:  (476, 310) Point two:  (959, 598)\n",
      "New points (500, 324)\n",
      "--------------------------------------------------------------------------------------------------------\n",
      "Point one:  (476, 310) Point two:  (0, 661)\n",
      "New points (452, 327)\n",
      "--------------------------------------------------------------------------------------------------------\n"
     ]
    },
    {
     "name": "stderr",
     "output_type": "stream",
     "text": [
      "\n",
      " 97%|█████████████████████████████████████████████████████████████████████████████████████████████████████████████████████████████████████████████████████████████████████████▏    | 663/682 [01:17<00:03,  6.25it/s]"
     ]
    },
    {
     "name": "stdout",
     "output_type": "stream",
     "text": [
      "Point one:  (479, 304) Point two:  (959, 598)\n",
      "New points (503, 318)\n",
      "--------------------------------------------------------------------------------------------------------\n",
      "Point one:  (479, 304) Point two:  (0, 659)\n",
      "New points (455, 321)\n",
      "--------------------------------------------------------------------------------------------------------\n",
      "Point one:  (477, 307) Point two:  (959, 586)\n",
      "New points (501, 320)\n",
      "--------------------------------------------------------------------------------------------------------\n",
      "Point one:  (477, 307) Point two:  (0, 654)\n",
      "New points (453, 324)\n",
      "--------------------------------------------------------------------------------------------------------\n",
      "Point one:  (479, 308) Point two:  (959, 596)\n",
      "New points (503, 322)\n",
      "--------------------------------------------------------------------------------------------------------\n",
      "Point one:  (479, 308) Point two:  (0, 654)\n",
      "New points (455, 325)\n",
      "--------------------------------------------------------------------------------------------------------\n"
     ]
    },
    {
     "name": "stderr",
     "output_type": "stream",
     "text": [
      "\n",
      " 98%|█████████████████████████████████████████████████████████████████████████████████████████████████████████████████████████████████████████████████████████████████████████▉    | 666/682 [01:17<00:01,  8.14it/s]"
     ]
    },
    {
     "name": "stdout",
     "output_type": "stream",
     "text": [
      "Point one:  (479, 307) Point two:  (959, 591)\n",
      "New points (503, 321)\n",
      "--------------------------------------------------------------------------------------------------------\n",
      "Point one:  (479, 307) Point two:  (0, 659)\n",
      "New points (455, 324)\n",
      "--------------------------------------------------------------------------------------------------------\n",
      "Point one:  (478, 307) Point two:  (959, 591)\n",
      "New points (502, 321)\n",
      "--------------------------------------------------------------------------------------------------------\n",
      "Point one:  (478, 307) Point two:  (0, 653)\n",
      "New points (454, 324)\n",
      "--------------------------------------------------------------------------------------------------------\n"
     ]
    },
    {
     "name": "stderr",
     "output_type": "stream",
     "text": [
      "\n",
      " 98%|██████████████████████████████████████████████████████████████████████████████████████████████████████████████████████████████████████████████████████████████████████████▍   | 668/682 [01:18<00:02,  6.57it/s]"
     ]
    },
    {
     "name": "stdout",
     "output_type": "stream",
     "text": [
      "Point one:  (483, 307) Point two:  (959, 598)\n",
      "New points (506, 321)\n",
      "--------------------------------------------------------------------------------------------------------\n",
      "Point one:  (483, 307) Point two:  (0, 652)\n",
      "New points (458, 324)\n",
      "--------------------------------------------------------------------------------------------------------\n",
      "Point one:  (482, 307) Point two:  (959, 599)\n",
      "New points (505, 321)\n",
      "--------------------------------------------------------------------------------------------------------\n",
      "Point one:  (482, 307) Point two:  (0, 652)\n",
      "New points (457, 324)\n",
      "--------------------------------------------------------------------------------------------------------\n"
     ]
    },
    {
     "name": "stderr",
     "output_type": "stream",
     "text": [
      "\n",
      " 98%|██████████████████████████████████████████████████████████████████████████████████████████████████████████████████████████████████████████████████████████████████████████▉   | 670/682 [01:18<00:01,  7.90it/s]"
     ]
    },
    {
     "name": "stdout",
     "output_type": "stream",
     "text": [
      "Point one:  (481, 308) Point two:  (959, 593)\n",
      "New points (504, 322)\n",
      "--------------------------------------------------------------------------------------------------------\n",
      "Point one:  (481, 308) Point two:  (0, 658)\n",
      "New points (456, 325)\n",
      "--------------------------------------------------------------------------------------------------------\n",
      "Point one:  (481, 306) Point two:  (959, 599)\n",
      "New points (504, 320)\n",
      "--------------------------------------------------------------------------------------------------------\n",
      "Point one:  (481, 306) Point two:  (0, 652)\n",
      "New points (456, 323)\n",
      "--------------------------------------------------------------------------------------------------------\n"
     ]
    },
    {
     "name": "stderr",
     "output_type": "stream",
     "text": [
      "\n",
      " 99%|███████████████████████████████████████████████████████████████████████████████████████████████████████████████████████████████████████████████████████████████████████████▍  | 672/682 [01:18<00:01,  7.82it/s]"
     ]
    },
    {
     "name": "stdout",
     "output_type": "stream",
     "text": [
      "Point one:  (486, 309) Point two:  (959, 600)\n",
      "New points (509, 323)\n",
      "--------------------------------------------------------------------------------------------------------\n",
      "Point one:  (486, 309) Point two:  (0, 655)\n",
      "New points (461, 326)\n",
      "--------------------------------------------------------------------------------------------------------\n",
      "Point one:  (479, 310) Point two:  (959, 591)\n",
      "New points (503, 324)\n",
      "--------------------------------------------------------------------------------------------------------\n",
      "Point one:  (479, 310) Point two:  (0, 659)\n",
      "New points (455, 327)\n",
      "--------------------------------------------------------------------------------------------------------\n"
     ]
    },
    {
     "name": "stderr",
     "output_type": "stream",
     "text": [
      "\n",
      " 99%|███████████████████████████████████████████████████████████████████████████████████████████████████████████████████████████████████████████████████████████████████████████▉  | 674/682 [01:19<00:01,  6.45it/s]"
     ]
    },
    {
     "name": "stdout",
     "output_type": "stream",
     "text": [
      "Point one:  (548, 349) Point two:  (959, 595)\n",
      "New points (568, 361)\n",
      "--------------------------------------------------------------------------------------------------------\n",
      "Point one:  (548, 349) Point two:  (0, 607)\n",
      "New points (520, 361)\n",
      "--------------------------------------------------------------------------------------------------------\n"
     ]
    },
    {
     "name": "stderr",
     "output_type": "stream",
     "text": [
      "\n",
      " 99%|████████████████████████████████████████████████████████████████████████████████████████████████████████████████████████████████████████████████████████████████████████████▏ | 675/682 [01:19<00:01,  6.81it/s]"
     ]
    },
    {
     "name": "stdout",
     "output_type": "stream",
     "text": [
      "Point one:  (507, 329) Point two:  (959, 590)\n",
      "New points (529, 342)\n",
      "--------------------------------------------------------------------------------------------------------\n",
      "Point one:  (507, 329) Point two:  (0, 639)\n",
      "New points (481, 344)\n",
      "--------------------------------------------------------------------------------------------------------\n",
      "Point one:  (485, 311) Point two:  (959, 601)\n",
      "New points (508, 325)\n",
      "--------------------------------------------------------------------------------------------------------\n",
      "Point one:  (485, 311) Point two:  (0, 652)\n",
      "New points (460, 328)\n",
      "--------------------------------------------------------------------------------------------------------\n",
      "Point one:  (480, 309) Point two:  (959, 601)\n",
      "New points (503, 323)\n",
      "--------------------------------------------------------------------------------------------------------\n",
      "Point one:  (480, 309) Point two:  (0, 656)\n",
      "New points (456, 326)\n",
      "--------------------------------------------------------------------------------------------------------\n"
     ]
    },
    {
     "name": "stderr",
     "output_type": "stream",
     "text": [
      "\n",
      " 99%|████████████████████████████████████████████████████████████████████████████████████████████████████████████████████████████████████████████████████████████████████████████▉ | 678/682 [01:19<00:00,  8.68it/s]"
     ]
    },
    {
     "name": "stdout",
     "output_type": "stream",
     "text": [
      "Point one:  (480, 309) Point two:  (959, 602)\n",
      "New points (503, 323)\n",
      "--------------------------------------------------------------------------------------------------------\n",
      "Point one:  (480, 309) Point two:  (0, 657)\n",
      "New points (456, 326)\n",
      "--------------------------------------------------------------------------------------------------------\n",
      "Point one:  (483, 310) Point two:  (959, 603)\n",
      "New points (506, 324)\n",
      "--------------------------------------------------------------------------------------------------------\n",
      "Point one:  (483, 310) Point two:  (0, 655)\n",
      "New points (458, 327)\n",
      "--------------------------------------------------------------------------------------------------------\n"
     ]
    },
    {
     "name": "stderr",
     "output_type": "stream",
     "text": [
      "\n",
      "100%|█████████████████████████████████████████████████████████████████████████████████████████████████████████████████████████████████████████████████████████████████████████████▍| 680/682 [01:19<00:00,  6.30it/s]"
     ]
    },
    {
     "name": "stdout",
     "output_type": "stream",
     "text": [
      "Point one:  (481, 308) Point two:  (959, 599)\n",
      "New points (504, 322)\n",
      "--------------------------------------------------------------------------------------------------------\n",
      "Point one:  (481, 308) Point two:  (0, 658)\n",
      "New points (456, 325)\n",
      "--------------------------------------------------------------------------------------------------------\n"
     ]
    },
    {
     "name": "stderr",
     "output_type": "stream",
     "text": [
      "\n",
      "100%|█████████████████████████████████████████████████████████████████████████████████████████████████████████████████████████████████████████████████████████████████████████████▋| 681/682 [01:20<00:00,  8.51it/s]"
     ]
    },
    {
     "name": "stdout",
     "output_type": "stream",
     "text": [
      "[MoviePy] Done.\n",
      "[MoviePy] >>>> Video ready: yellow.mp4 \n",
      "\n",
      "Wall time: 1min 23s\n"
     ]
    }
   ],
   "source": [
    "yellow_output = 'yellow.mp4'\n",
    "clip2 = VideoFileClip('solidYellowLeft.mp4')\n",
    "yellow_clip = clip2.fl_image(process_image)\n",
    "%time yellow_clip.write_videofile(yellow_output, audio=False)"
   ]
  },
  {
   "cell_type": "code",
   "execution_count": 16,
   "metadata": {
    "collapsed": false
   },
   "outputs": [
    {
     "data": {
      "text/html": [
       "\n",
       "<video width=\"960\" height=\"540\" controls>\n",
       "  <source src=\"yellow.mp4\">\n",
       "</video>\n"
      ],
      "text/plain": [
       "<IPython.core.display.HTML object>"
      ]
     },
     "execution_count": 16,
     "metadata": {},
     "output_type": "execute_result"
    }
   ],
   "source": [
    "HTML(\"\"\"\n",
    "<video width=\"960\" height=\"540\" controls>\n",
    "  <source src=\"{0}\">\n",
    "</video>\n",
    "\"\"\".format(yellow_output))"
   ]
  },
  {
   "cell_type": "markdown",
   "metadata": {},
   "source": [
    "## Processing Image w/o Slopes"
   ]
  },
  {
   "cell_type": "code",
   "execution_count": 16,
   "metadata": {
    "collapsed": true
   },
   "outputs": [],
   "source": [
    "def hough_lines_no_slope(img, rho, theta, threshold, min_line_len, max_line_gap):\n",
    "    \"\"\"\n",
    "    `img` should be the output of a Canny transform.\n",
    "        \n",
    "    Returns an image with hough lines drawn.\n",
    "    \"\"\"\n",
    "    lines = cv2.HoughLinesP(img, rho, theta, threshold, np.array([]), minLineLength=min_line_len, maxLineGap=max_line_gap)\n",
    "    line_img = np.zeros((img.shape[0], img.shape[1], 3), dtype=np.uint8)\n",
    "    draw_lines(line_img, lines)\n",
    "    return line_img\n",
    "    \n",
    "def process_image_no_slope(image):\n",
    "    \"\"\"\n",
    "    Returns processed image.\n",
    "\n",
    "    Applies the following filter/transforms\n",
    "    ---------------------------------------\n",
    "\n",
    "    * Gray Scale\n",
    "    * Gaussian Blur\n",
    "    * Canny Transform\n",
    "    * Masking the image\n",
    "    * Hough Transform\n",
    "\n",
    "    The output of this function is the combition of Hough lines and original image.\n",
    "\n",
    "    Example\n",
    "    -------\n",
    "\n",
    "    For image\n",
    "\n",
    "    >>> try:\n",
    "    >>>    image = mpimg.imread('test_images/solidWhiteRight.jpg')\n",
    "    >>> except FileNotFoundError as e:\n",
    "    >>>    print(e)\n",
    "    >>> result = process_image(image)\n",
    "    >>> plt.imshow(result)\n",
    "    \"\"\"\n",
    "\n",
    "    # Converting the image into gray scale\n",
    "    gray_image = grayscale(image)\n",
    "\n",
    "    # Applying Gaussian blur to the gray scaled image\n",
    "    kernel_size = 5\n",
    "    gaussian_blur_image = gaussian_blur(gray_image, kernel_size)\n",
    "\n",
    "    # Applying Canny transform to the image\n",
    "    low_threshold = 50\n",
    "    high_threshold = 150\n",
    "    edges_image = canny(gaussian_blur_image, low_threshold, high_threshold)\n",
    "\n",
    "    # Masking the image\n",
    "    imshape = image.shape\n",
    "    vertices = np.array([[(50, imshape[0]), (400, 340), (560, 340), (imshape[1], imshape[0])]], dtype=np.int32)\n",
    "    masked_edges = region_of_interest(edges_image, vertices)\n",
    "\n",
    "    # Applying Hough transform to masked image\n",
    "    rho = 1\n",
    "    theta = np.pi/180\n",
    "    threshold = 1\n",
    "    min_line_length = 2\n",
    "    max_line_gap = 30\n",
    "    hough_lines_image = hough_lines_no_slope(masked_edges, rho, theta, threshold, min_line_len=min_line_length,\n",
    "                                    max_line_gap=max_line_gap)\n",
    "    result = weighted_img(hough_lines_image, image)\n",
    "\n",
    "    return result"
   ]
  },
  {
   "cell_type": "code",
   "execution_count": 4,
   "metadata": {
    "collapsed": false
   },
   "outputs": [
    {
     "data": {
      "text/plain": [
       "<matplotlib.image.AxesImage at 0x20b34586860>"
      ]
     },
     "execution_count": 4,
     "metadata": {},
     "output_type": "execute_result"
    },
    {
     "data": {
      "image/png": "[encoded data removed]",
      "text/plain": [
       "<matplotlib.figure.Figure at 0x20b344cfb00>"
      ]
     },
     "metadata": {},
     "output_type": "display_data"
    }
   ],
   "source": [
    "try:\n",
    "    image = mpimg.imread('test_images/solidWhiteRight.jpg')\n",
    "except FileNotFoundError as e:\n",
    "    print(e)\n",
    "    sys.exit(1)\n",
    "\n",
    "result = process_image_no_slope(image)\n",
    "plt.imshow(result)"
   ]
  },
  {
   "cell_type": "code",
   "execution_count": 17,
   "metadata": {
    "collapsed": false
   },
   "outputs": [
    {
     "name": "stdout",
     "output_type": "stream",
     "text": [
      "[MoviePy] >>>> Building video white.mp4\n",
      "[MoviePy] Writing video white.mp4\n"
     ]
    },
    {
     "name": "stderr",
     "output_type": "stream",
     "text": [
      "100%|██████████████████████████████████████████████████████████████████████████████████████████████████████████████████████████████████████████████████████████████████████████████▏| 221/222 [00:10<00:00, 15.95it/s]\n"
     ]
    },
    {
     "name": "stdout",
     "output_type": "stream",
     "text": [
      "[MoviePy] Done.\n",
      "[MoviePy] >>>> Video ready: white.mp4 \n",
      "\n",
      "Wall time: 12.6 s\n"
     ]
    }
   ],
   "source": [
    "white_output_no_slope = 'white_no_slope.mp4'\n",
    "clip3 = VideoFileClip(\"solidWhiteRight.mp4\")\n",
    "white_clip1 = clip3.fl_image(process_image_no_slope) #NOTE: this function expects color images!!\n",
    "%time white_clip1.write_videofile(white_output, audio=False)"
   ]
  },
  {
   "cell_type": "code",
   "execution_count": 18,
   "metadata": {
    "collapsed": false
   },
   "outputs": [
    {
     "data": {
      "text/html": [
       "\n",
       "<video width=\"960\" height=\"540\" controls>\n",
       "  <source src=\"white_no_slope.mp4\">\n",
       "</video>\n"
      ],
      "text/plain": [
       "<IPython.core.display.HTML object>"
      ]
     },
     "execution_count": 18,
     "metadata": {},
     "output_type": "execute_result"
    }
   ],
   "source": [
    "HTML(\"\"\"\n",
    "<video width=\"960\" height=\"540\" controls>\n",
    "  <source src=\"{0}\">\n",
    "</video>\n",
    "\"\"\".format(white_output_no_slope))"
   ]
  },
  {
   "cell_type": "markdown",
   "metadata": {},
   "source": [
    "## Challenge"
   ]
  },
  {
   "cell_type": "code",
   "execution_count": 31,
   "metadata": {
    "collapsed": false
   },
   "outputs": [],
   "source": [
    "def process_image_challenge(image):\n",
    "    \"\"\"\n",
    "    Returns processed image.\n",
    "\n",
    "    Applies the following filter/transforms\n",
    "    ---------------------------------------\n",
    "\n",
    "    * Gray Scale\n",
    "    * Gaussian Blur\n",
    "    * Canny Transform\n",
    "    * Masking the image\n",
    "    * Hough Transform\n",
    "\n",
    "    The output of this function is the combition of Hough lines and original image.\n",
    "\n",
    "    Example\n",
    "    -------\n",
    "\n",
    "    For image\n",
    "\n",
    "    >>> try:\n",
    "    >>>    image = mpimg.imread('test_images/solidWhiteRight.jpg')\n",
    "    >>> except FileNotFoundError as e:\n",
    "    >>>    print(e)\n",
    "    >>> result = process_image(image)\n",
    "    >>> plt.imshow(result)\n",
    "    \"\"\"\n",
    "\n",
    "    # Converting the image into gray scale\n",
    "    gray_image = grayscale(image)\n",
    "\n",
    "    # Applying Gaussian blur to the gray scaled image\n",
    "    kernel_size = 5\n",
    "    gaussian_blur_image = gaussian_blur(gray_image, kernel_size)\n",
    "\n",
    "    # Applying Canny transform to the image\n",
    "    low_threshold = 50\n",
    "    high_threshold = 150\n",
    "    edges_image = canny(gaussian_blur_image, low_threshold, high_threshold)\n",
    "\n",
    "    # Masking the image\n",
    "    imshape = image.shape\n",
    "    vertices = vertices = np.array([[(200, 680), (470, 550), (850, 550), (1100, 680)]], dtype=np.int32)\n",
    "    masked_edges = region_of_interest(edges_image, vertices)\n",
    "\n",
    "    # Applying Hough transform to masked image\n",
    "    rho = 2\n",
    "    theta = np.pi/180\n",
    "    threshold = 50\n",
    "    min_line_length = 10\n",
    "    max_line_gap = 20\n",
    "    hough_lines_image = hough_lines(masked_edges, rho, theta, threshold, min_line_len=min_line_length,\n",
    "                                    max_line_gap=max_line_gap)\n",
    "    result = weighted_img(hough_lines_image, image)\n",
    "\n",
    "    return result"
   ]
  },
  {
   "cell_type": "code",
   "execution_count": 32,
   "metadata": {
    "collapsed": false
   },
   "outputs": [
    {
     "ename": "ValueError",
     "evalue": "cannot convert float NaN to integer",
     "output_type": "error",
     "traceback": [
      "\u001b[0;31m---------------------------------------------------------------------------\u001b[0m",
      "\u001b[0;31mValueError\u001b[0m                                Traceback (most recent call last)",
      "\u001b[0;32m<ipython-input-32-5edd373c3a88>\u001b[0m in \u001b[0;36m<module>\u001b[0;34m()\u001b[0m\n\u001b[1;32m      5\u001b[0m     \u001b[0msys\u001b[0m\u001b[1;33m.\u001b[0m\u001b[0mexit\u001b[0m\u001b[1;33m(\u001b[0m\u001b[1;36m1\u001b[0m\u001b[1;33m)\u001b[0m\u001b[1;33m\u001b[0m\u001b[0m\n\u001b[1;32m      6\u001b[0m \u001b[1;33m\u001b[0m\u001b[0m\n\u001b[0;32m----> 7\u001b[0;31m \u001b[0mresult\u001b[0m \u001b[1;33m=\u001b[0m \u001b[0mprocess_image_challenge\u001b[0m\u001b[1;33m(\u001b[0m\u001b[0mimage\u001b[0m\u001b[1;33m)\u001b[0m\u001b[1;33m\u001b[0m\u001b[0m\n\u001b[0m\u001b[1;32m      8\u001b[0m \u001b[0mplt\u001b[0m\u001b[1;33m.\u001b[0m\u001b[0mimshow\u001b[0m\u001b[1;33m(\u001b[0m\u001b[0mresult\u001b[0m\u001b[1;33m)\u001b[0m\u001b[1;33m\u001b[0m\u001b[0m\n",
      "\u001b[0;32m<ipython-input-31-9af0d6bf6775>\u001b[0m in \u001b[0;36mprocess_image_challenge\u001b[0;34m(image)\u001b[0m\n\u001b[1;32m     51\u001b[0m     \u001b[0mmax_line_gap\u001b[0m \u001b[1;33m=\u001b[0m \u001b[1;36m20\u001b[0m\u001b[1;33m\u001b[0m\u001b[0m\n\u001b[1;32m     52\u001b[0m     hough_lines_image = hough_lines(masked_edges, rho, theta, threshold, min_line_len=min_line_length,\n\u001b[0;32m---> 53\u001b[0;31m                                     max_line_gap=max_line_gap)\n\u001b[0m\u001b[1;32m     54\u001b[0m     \u001b[0mresult\u001b[0m \u001b[1;33m=\u001b[0m \u001b[0mweighted_img\u001b[0m\u001b[1;33m(\u001b[0m\u001b[0mhough_lines_image\u001b[0m\u001b[1;33m,\u001b[0m \u001b[0mimage\u001b[0m\u001b[1;33m)\u001b[0m\u001b[1;33m\u001b[0m\u001b[0m\n\u001b[1;32m     55\u001b[0m \u001b[1;33m\u001b[0m\u001b[0m\n",
      "\u001b[0;32m<ipython-input-2-9c4835d50c81>\u001b[0m in \u001b[0;36mhough_lines\u001b[0;34m(img, rho, theta, threshold, min_line_len, max_line_gap)\u001b[0m\n\u001b[1;32m     71\u001b[0m     \u001b[0mlines\u001b[0m \u001b[1;33m=\u001b[0m \u001b[0mcv2\u001b[0m\u001b[1;33m.\u001b[0m\u001b[0mHoughLinesP\u001b[0m\u001b[1;33m(\u001b[0m\u001b[0mimg\u001b[0m\u001b[1;33m,\u001b[0m \u001b[0mrho\u001b[0m\u001b[1;33m,\u001b[0m \u001b[0mtheta\u001b[0m\u001b[1;33m,\u001b[0m \u001b[0mthreshold\u001b[0m\u001b[1;33m,\u001b[0m \u001b[0mnp\u001b[0m\u001b[1;33m.\u001b[0m\u001b[0marray\u001b[0m\u001b[1;33m(\u001b[0m\u001b[1;33m[\u001b[0m\u001b[1;33m]\u001b[0m\u001b[1;33m)\u001b[0m\u001b[1;33m,\u001b[0m \u001b[0mminLineLength\u001b[0m\u001b[1;33m=\u001b[0m\u001b[0mmin_line_len\u001b[0m\u001b[1;33m,\u001b[0m \u001b[0mmaxLineGap\u001b[0m\u001b[1;33m=\u001b[0m\u001b[0mmax_line_gap\u001b[0m\u001b[1;33m)\u001b[0m\u001b[1;33m\u001b[0m\u001b[0m\n\u001b[1;32m     72\u001b[0m     \u001b[0mline_img\u001b[0m \u001b[1;33m=\u001b[0m \u001b[0mnp\u001b[0m\u001b[1;33m.\u001b[0m\u001b[0mzeros\u001b[0m\u001b[1;33m(\u001b[0m\u001b[1;33m(\u001b[0m\u001b[0mimg\u001b[0m\u001b[1;33m.\u001b[0m\u001b[0mshape\u001b[0m\u001b[1;33m[\u001b[0m\u001b[1;36m0\u001b[0m\u001b[1;33m]\u001b[0m\u001b[1;33m,\u001b[0m \u001b[0mimg\u001b[0m\u001b[1;33m.\u001b[0m\u001b[0mshape\u001b[0m\u001b[1;33m[\u001b[0m\u001b[1;36m1\u001b[0m\u001b[1;33m]\u001b[0m\u001b[1;33m,\u001b[0m \u001b[1;36m3\u001b[0m\u001b[1;33m)\u001b[0m\u001b[1;33m,\u001b[0m \u001b[0mdtype\u001b[0m\u001b[1;33m=\u001b[0m\u001b[0mnp\u001b[0m\u001b[1;33m.\u001b[0m\u001b[0muint8\u001b[0m\u001b[1;33m)\u001b[0m\u001b[1;33m\u001b[0m\u001b[0m\n\u001b[0;32m---> 73\u001b[0;31m     \u001b[0mdraw_lines_custom\u001b[0m\u001b[1;33m(\u001b[0m\u001b[0mline_img\u001b[0m\u001b[1;33m,\u001b[0m \u001b[0mlines\u001b[0m\u001b[1;33m)\u001b[0m\u001b[1;33m\u001b[0m\u001b[0m\n\u001b[0m\u001b[1;32m     74\u001b[0m     \u001b[1;32mreturn\u001b[0m \u001b[0mline_img\u001b[0m\u001b[1;33m\u001b[0m\u001b[0m\n\u001b[1;32m     75\u001b[0m \u001b[1;33m\u001b[0m\u001b[0m\n",
      "\u001b[0;32m<ipython-input-3-b008864a9294>\u001b[0m in \u001b[0;36mdraw_lines_custom\u001b[0;34m(img, lines, color, thickness)\u001b[0m\n\u001b[1;32m     48\u001b[0m \u001b[1;33m\u001b[0m\u001b[0m\n\u001b[1;32m     49\u001b[0m     \u001b[1;31m# Plot lines\u001b[0m\u001b[1;33m\u001b[0m\u001b[1;33m\u001b[0m\u001b[0m\n\u001b[0;32m---> 50\u001b[0;31m     \u001b[0mdraw_sep_lines\u001b[0m\u001b[1;33m(\u001b[0m\u001b[0mpos_coef\u001b[0m\u001b[1;33m,\u001b[0m \u001b[0mpos_intercept\u001b[0m\u001b[1;33m,\u001b[0m \u001b[0mintersection_x_coord\u001b[0m\u001b[1;33m,\u001b[0m \u001b[0mimg\u001b[0m\u001b[1;33m,\u001b[0m \u001b[0mcolor\u001b[0m\u001b[1;33m,\u001b[0m \u001b[0mthickness\u001b[0m\u001b[1;33m)\u001b[0m\u001b[1;33m\u001b[0m\u001b[0m\n\u001b[0m\u001b[1;32m     51\u001b[0m     \u001b[0mdraw_sep_lines\u001b[0m\u001b[1;33m(\u001b[0m\u001b[0mneg_coef\u001b[0m\u001b[1;33m,\u001b[0m \u001b[0mneg_intercept\u001b[0m\u001b[1;33m,\u001b[0m \u001b[0mintersection_x_coord\u001b[0m\u001b[1;33m,\u001b[0m \u001b[0mimg\u001b[0m\u001b[1;33m,\u001b[0m \u001b[0mcolor\u001b[0m\u001b[1;33m,\u001b[0m \u001b[0mthickness\u001b[0m\u001b[1;33m)\u001b[0m\u001b[1;33m\u001b[0m\u001b[0m\n\u001b[1;32m     52\u001b[0m \u001b[1;33m\u001b[0m\u001b[0m\n",
      "\u001b[0;32m<ipython-input-3-b008864a9294>\u001b[0m in \u001b[0;36mdraw_sep_lines\u001b[0;34m(coef, intercept, intersection_x, img, color, thickness)\u001b[0m\n\u001b[1;32m     64\u001b[0m \u001b[1;33m\u001b[0m\u001b[0m\n\u001b[1;32m     65\u001b[0m     \u001b[0mimshape\u001b[0m \u001b[1;33m=\u001b[0m \u001b[0mimg\u001b[0m\u001b[1;33m.\u001b[0m\u001b[0mshape\u001b[0m\u001b[1;33m\u001b[0m\u001b[0m\n\u001b[0;32m---> 66\u001b[0;31m     \u001b[0mpoint_one\u001b[0m \u001b[1;33m=\u001b[0m \u001b[1;33m(\u001b[0m\u001b[0mint\u001b[0m\u001b[1;33m(\u001b[0m\u001b[0mintersection_x\u001b[0m\u001b[1;33m)\u001b[0m\u001b[1;33m,\u001b[0m \u001b[0mint\u001b[0m\u001b[1;33m(\u001b[0m\u001b[0mintersection_x\u001b[0m \u001b[1;33m*\u001b[0m \u001b[0mcoef\u001b[0m \u001b[1;33m+\u001b[0m \u001b[0mintercept\u001b[0m\u001b[1;33m)\u001b[0m\u001b[1;33m)\u001b[0m\u001b[1;33m\u001b[0m\u001b[0m\n\u001b[0m\u001b[1;32m     67\u001b[0m     \u001b[0mpoint_two\u001b[0m \u001b[1;33m=\u001b[0m \u001b[1;36m0\u001b[0m\u001b[1;33m\u001b[0m\u001b[0m\n\u001b[1;32m     68\u001b[0m     \u001b[1;32mif\u001b[0m \u001b[0mcoef\u001b[0m \u001b[1;33m>\u001b[0m \u001b[1;36m0\u001b[0m\u001b[1;33m:\u001b[0m\u001b[1;33m\u001b[0m\u001b[0m\n",
      "\u001b[0;31mValueError\u001b[0m: cannot convert float NaN to integer"
     ]
    }
   ],
   "source": [
    "try:\n",
    "    image = mpimg.imread('challenge.jpg')\n",
    "except FileNotFoundError as e:\n",
    "    print(e)\n",
    "    sys.exit(1)\n",
    "\n",
    "result = process_image_challenge(image)\n",
    "plt.imshow(result)"
   ]
  },
  {
   "cell_type": "markdown",
   "metadata": {
    "collapsed": false
   },
   "source": [
    "## Reflection\n",
    "\n",
    "After separating the two lanes, I get into intercept and slope of each of the lanes/lines. From slope and intercept, I find the coefficient, then using the coefficients and intercepts, I then get the intersection of `x`. With the `x` intersection coordinate and the intercept (positive and negative), I draw the line.\n",
    "\n",
    "Initially, the two lines are joined at the centre due to `x` intersection, but to make them separate I used `Intercept Law` and remove the `x` intersection.\n",
    "\n",
    "### Improvements\n",
    "\n",
    "1. For the white lines video:\n",
    "    \n",
    "    I would rather use a linear regression to fit the line, maybe by using [scikit-learn](http://scikit-learn.org/stable/auto_examples/linear_model/plot_ols.html) or to make it more special for the curves I would use non-linear regression to add a smooth curve.  \n",
    "\n",
    "2. For the yellow and white lines video:\n",
    "\n",
    "    In my opinion, I wanted to apply two masking layers, one for yellow line and the other for the white line. Extracting the yellow feature using `cv2.inRange()` would be a better choice. Again I am not sure on how to use this."
   ]
  },
  {
   "cell_type": "code",
   "execution_count": null,
   "metadata": {
    "collapsed": true
   },
   "outputs": [],
   "source": []
  }
 ],
 "metadata": {
  "anaconda-cloud": {},
  "kernelspec": {
   "display_name": "Python [conda root]",
   "language": "python",
   "name": "conda-root-py"
  },
  "language_info": {
   "codemirror_mode": {
    "name": "ipython",
    "version": 3
   },
   "file_extension": ".py",
   "mimetype": "text/x-python",
   "name": "python",
   "nbconvert_exporter": "python",
   "pygments_lexer": "ipython3",
   "version": "3.5.2"
  }
 },
 "nbformat": 4,
 "nbformat_minor": 1
}
